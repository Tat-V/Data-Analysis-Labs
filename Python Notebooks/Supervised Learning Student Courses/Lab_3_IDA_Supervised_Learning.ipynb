{
 "cells": [
  {
   "cell_type": "markdown",
   "metadata": {},
   "source": [
    "# <center>Лабораторная работа №3. Supervised Learning</center>"
   ]
  },
  {
   "cell_type": "markdown",
   "metadata": {},
   "source": [
    "## Данные"
   ]
  },
  {
   "cell_type": "markdown",
   "metadata": {},
   "source": [
    "В рамках данной лабораторной работы предлагается проанализировать набор данных о студентах двух школ в Португалии.  \n",
    "В файле `students_data.csv` представлена информация о студентах, посещающих два курса - математику (`Math`) и поргутальский язык (`Por`). Некоторые студенты представлены в обоих курсах, некоторые - только в одном. Для каждого студента известны три оценки по курсу: оценка за первое полугодие (`G1`), оценка за второе полугодие (`G2`) и итоговая оценка за год (`G3`)."
   ]
  },
  {
   "cell_type": "code",
   "execution_count": 1,
   "metadata": {},
   "outputs": [],
   "source": [
    "from __future__ import division, print_function\n",
    "import warnings\n",
    "warnings.filterwarnings('ignore')\n",
    "\n",
    "import pandas as pd"
   ]
  },
  {
   "cell_type": "code",
   "execution_count": 2,
   "metadata": {},
   "outputs": [],
   "source": [
    "pd.set_option('display.max_columns', 40)\n",
    "\n",
    "pd.set_option('display.max_colwidth', 1000)"
   ]
  },
  {
   "cell_type": "code",
   "execution_count": 3,
   "metadata": {},
   "outputs": [
    {
     "data": {
      "text/plain": [
       "(1044, 36)"
      ]
     },
     "execution_count": 3,
     "metadata": {},
     "output_type": "execute_result"
    }
   ],
   "source": [
    "data = pd.read_csv(\"students_data.csv\")\n",
    "\n",
    "data.shape"
   ]
  },
  {
   "cell_type": "code",
   "execution_count": 4,
   "metadata": {},
   "outputs": [
    {
     "data": {
      "text/html": [
       "<div>\n",
       "<style scoped>\n",
       "    .dataframe tbody tr th:only-of-type {\n",
       "        vertical-align: middle;\n",
       "    }\n",
       "\n",
       "    .dataframe tbody tr th {\n",
       "        vertical-align: top;\n",
       "    }\n",
       "\n",
       "    .dataframe thead th {\n",
       "        text-align: right;\n",
       "    }\n",
       "</style>\n",
       "<table border=\"1\" class=\"dataframe\">\n",
       "  <thead>\n",
       "    <tr style=\"text-align: right;\">\n",
       "      <th></th>\n",
       "      <th>ID</th>\n",
       "      <th>Subject</th>\n",
       "      <th>school</th>\n",
       "      <th>sex</th>\n",
       "      <th>age</th>\n",
       "      <th>address</th>\n",
       "      <th>famsize</th>\n",
       "      <th>Pstatus</th>\n",
       "      <th>Medu</th>\n",
       "      <th>Fedu</th>\n",
       "      <th>Mjob</th>\n",
       "      <th>Fjob</th>\n",
       "      <th>reason</th>\n",
       "      <th>guardian</th>\n",
       "      <th>traveltime</th>\n",
       "      <th>studytime</th>\n",
       "      <th>failures</th>\n",
       "      <th>schoolsup</th>\n",
       "      <th>famsup</th>\n",
       "      <th>paid</th>\n",
       "      <th>activities</th>\n",
       "      <th>nursery</th>\n",
       "      <th>higher</th>\n",
       "      <th>internet</th>\n",
       "      <th>romantic</th>\n",
       "      <th>famrel</th>\n",
       "      <th>freetime</th>\n",
       "      <th>goout</th>\n",
       "      <th>Dalc</th>\n",
       "      <th>Walc</th>\n",
       "      <th>health</th>\n",
       "      <th>absences</th>\n",
       "      <th>cheating</th>\n",
       "      <th>G1</th>\n",
       "      <th>G2</th>\n",
       "      <th>G3</th>\n",
       "    </tr>\n",
       "  </thead>\n",
       "  <tbody>\n",
       "    <tr>\n",
       "      <td>0</td>\n",
       "      <td>100097</td>\n",
       "      <td>Por</td>\n",
       "      <td>GP</td>\n",
       "      <td>F</td>\n",
       "      <td>16</td>\n",
       "      <td>U</td>\n",
       "      <td>GT3</td>\n",
       "      <td>A</td>\n",
       "      <td>3</td>\n",
       "      <td>4</td>\n",
       "      <td>services</td>\n",
       "      <td>other</td>\n",
       "      <td>course</td>\n",
       "      <td>father</td>\n",
       "      <td>1</td>\n",
       "      <td>1</td>\n",
       "      <td>0</td>\n",
       "      <td>no</td>\n",
       "      <td>no</td>\n",
       "      <td>no</td>\n",
       "      <td>no</td>\n",
       "      <td>yes</td>\n",
       "      <td>yes</td>\n",
       "      <td>yes</td>\n",
       "      <td>no</td>\n",
       "      <td>3.0</td>\n",
       "      <td>2</td>\n",
       "      <td>1</td>\n",
       "      <td>1.0</td>\n",
       "      <td>4.0</td>\n",
       "      <td>5</td>\n",
       "      <td>12</td>\n",
       "      <td>NaN</td>\n",
       "      <td>15</td>\n",
       "      <td>13</td>\n",
       "      <td>14</td>\n",
       "    </tr>\n",
       "    <tr>\n",
       "      <td>1</td>\n",
       "      <td>101021</td>\n",
       "      <td>Por</td>\n",
       "      <td>GP</td>\n",
       "      <td>F</td>\n",
       "      <td>17</td>\n",
       "      <td>U</td>\n",
       "      <td>GT3</td>\n",
       "      <td>T</td>\n",
       "      <td>3</td>\n",
       "      <td>2</td>\n",
       "      <td>other</td>\n",
       "      <td>other</td>\n",
       "      <td>course</td>\n",
       "      <td>mother</td>\n",
       "      <td>1</td>\n",
       "      <td>2</td>\n",
       "      <td>0</td>\n",
       "      <td>no</td>\n",
       "      <td>no</td>\n",
       "      <td>no</td>\n",
       "      <td>yes</td>\n",
       "      <td>no</td>\n",
       "      <td>yes</td>\n",
       "      <td>yes</td>\n",
       "      <td>no</td>\n",
       "      <td>5.0</td>\n",
       "      <td>3</td>\n",
       "      <td>4</td>\n",
       "      <td>1.0</td>\n",
       "      <td>3.0</td>\n",
       "      <td>3</td>\n",
       "      <td>2</td>\n",
       "      <td>NaN</td>\n",
       "      <td>17</td>\n",
       "      <td>18</td>\n",
       "      <td>17</td>\n",
       "    </tr>\n",
       "    <tr>\n",
       "      <td>2</td>\n",
       "      <td>102965</td>\n",
       "      <td>Por</td>\n",
       "      <td>GP</td>\n",
       "      <td>M</td>\n",
       "      <td>16</td>\n",
       "      <td>U</td>\n",
       "      <td>LE3</td>\n",
       "      <td>T</td>\n",
       "      <td>1</td>\n",
       "      <td>2</td>\n",
       "      <td>health</td>\n",
       "      <td>services</td>\n",
       "      <td>course</td>\n",
       "      <td>mother</td>\n",
       "      <td>2</td>\n",
       "      <td>1</td>\n",
       "      <td>2</td>\n",
       "      <td>no</td>\n",
       "      <td>no</td>\n",
       "      <td>no</td>\n",
       "      <td>no</td>\n",
       "      <td>no</td>\n",
       "      <td>yes</td>\n",
       "      <td>yes</td>\n",
       "      <td>no</td>\n",
       "      <td>4.0</td>\n",
       "      <td>4</td>\n",
       "      <td>5</td>\n",
       "      <td>3.0</td>\n",
       "      <td>5.0</td>\n",
       "      <td>5</td>\n",
       "      <td>0</td>\n",
       "      <td>yes</td>\n",
       "      <td>9</td>\n",
       "      <td>8</td>\n",
       "      <td>10</td>\n",
       "    </tr>\n",
       "    <tr>\n",
       "      <td>3</td>\n",
       "      <td>102989</td>\n",
       "      <td>Por</td>\n",
       "      <td>MS</td>\n",
       "      <td>M</td>\n",
       "      <td>17</td>\n",
       "      <td>U</td>\n",
       "      <td>GT3</td>\n",
       "      <td>T</td>\n",
       "      <td>2</td>\n",
       "      <td>3</td>\n",
       "      <td>other</td>\n",
       "      <td>services</td>\n",
       "      <td>home</td>\n",
       "      <td>father</td>\n",
       "      <td>2</td>\n",
       "      <td>2</td>\n",
       "      <td>0</td>\n",
       "      <td>no</td>\n",
       "      <td>no</td>\n",
       "      <td>no</td>\n",
       "      <td>yes</td>\n",
       "      <td>yes</td>\n",
       "      <td>yes</td>\n",
       "      <td>yes</td>\n",
       "      <td>no</td>\n",
       "      <td>4.0</td>\n",
       "      <td>4</td>\n",
       "      <td>3</td>\n",
       "      <td>1.0</td>\n",
       "      <td>1.0</td>\n",
       "      <td>3</td>\n",
       "      <td>4</td>\n",
       "      <td>no</td>\n",
       "      <td>14</td>\n",
       "      <td>15</td>\n",
       "      <td>16</td>\n",
       "    </tr>\n",
       "    <tr>\n",
       "      <td>4</td>\n",
       "      <td>103131</td>\n",
       "      <td>Por</td>\n",
       "      <td>GP</td>\n",
       "      <td>F</td>\n",
       "      <td>16</td>\n",
       "      <td>U</td>\n",
       "      <td>GT3</td>\n",
       "      <td>T</td>\n",
       "      <td>1</td>\n",
       "      <td>1</td>\n",
       "      <td>at_home</td>\n",
       "      <td>other</td>\n",
       "      <td>home</td>\n",
       "      <td>mother</td>\n",
       "      <td>2</td>\n",
       "      <td>1</td>\n",
       "      <td>0</td>\n",
       "      <td>no</td>\n",
       "      <td>yes</td>\n",
       "      <td>no</td>\n",
       "      <td>no</td>\n",
       "      <td>yes</td>\n",
       "      <td>yes</td>\n",
       "      <td>no</td>\n",
       "      <td>NaN</td>\n",
       "      <td>4.0</td>\n",
       "      <td>3</td>\n",
       "      <td>2</td>\n",
       "      <td>1.0</td>\n",
       "      <td>4.0</td>\n",
       "      <td>5</td>\n",
       "      <td>2</td>\n",
       "      <td>yes</td>\n",
       "      <td>12</td>\n",
       "      <td>13</td>\n",
       "      <td>13</td>\n",
       "    </tr>\n",
       "    <tr>\n",
       "      <td>5</td>\n",
       "      <td>103144</td>\n",
       "      <td>Por</td>\n",
       "      <td>GP</td>\n",
       "      <td>M</td>\n",
       "      <td>18</td>\n",
       "      <td>U</td>\n",
       "      <td>LE3</td>\n",
       "      <td>T</td>\n",
       "      <td>3</td>\n",
       "      <td>1</td>\n",
       "      <td>services</td>\n",
       "      <td>services</td>\n",
       "      <td>course</td>\n",
       "      <td>mother</td>\n",
       "      <td>2</td>\n",
       "      <td>1</td>\n",
       "      <td>0</td>\n",
       "      <td>no</td>\n",
       "      <td>no</td>\n",
       "      <td>no</td>\n",
       "      <td>yes</td>\n",
       "      <td>yes</td>\n",
       "      <td>yes</td>\n",
       "      <td>yes</td>\n",
       "      <td>yes</td>\n",
       "      <td>3.0</td>\n",
       "      <td>3</td>\n",
       "      <td>4</td>\n",
       "      <td>4.0</td>\n",
       "      <td>5.0</td>\n",
       "      <td>4</td>\n",
       "      <td>2</td>\n",
       "      <td>NaN</td>\n",
       "      <td>11</td>\n",
       "      <td>11</td>\n",
       "      <td>12</td>\n",
       "    </tr>\n",
       "    <tr>\n",
       "      <td>6</td>\n",
       "      <td>105257</td>\n",
       "      <td>Por</td>\n",
       "      <td>MS</td>\n",
       "      <td>F</td>\n",
       "      <td>18</td>\n",
       "      <td>U</td>\n",
       "      <td>GT3</td>\n",
       "      <td>T</td>\n",
       "      <td>1</td>\n",
       "      <td>1</td>\n",
       "      <td>other</td>\n",
       "      <td>other</td>\n",
       "      <td>course</td>\n",
       "      <td>mother</td>\n",
       "      <td>2</td>\n",
       "      <td>2</td>\n",
       "      <td>0</td>\n",
       "      <td>no</td>\n",
       "      <td>no</td>\n",
       "      <td>no</td>\n",
       "      <td>yes</td>\n",
       "      <td>yes</td>\n",
       "      <td>yes</td>\n",
       "      <td>no</td>\n",
       "      <td>no</td>\n",
       "      <td>1.0</td>\n",
       "      <td>1</td>\n",
       "      <td>1</td>\n",
       "      <td>1.0</td>\n",
       "      <td>1.0</td>\n",
       "      <td>5</td>\n",
       "      <td>6</td>\n",
       "      <td>NaN</td>\n",
       "      <td>11</td>\n",
       "      <td>12</td>\n",
       "      <td>9</td>\n",
       "    </tr>\n",
       "    <tr>\n",
       "      <td>7</td>\n",
       "      <td>107639</td>\n",
       "      <td>Por</td>\n",
       "      <td>MS</td>\n",
       "      <td>F</td>\n",
       "      <td>15</td>\n",
       "      <td>R</td>\n",
       "      <td>GT3</td>\n",
       "      <td>T</td>\n",
       "      <td>4</td>\n",
       "      <td>4</td>\n",
       "      <td>teacher</td>\n",
       "      <td>other</td>\n",
       "      <td>course</td>\n",
       "      <td>mother</td>\n",
       "      <td>2</td>\n",
       "      <td>1</td>\n",
       "      <td>0</td>\n",
       "      <td>no</td>\n",
       "      <td>no</td>\n",
       "      <td>no</td>\n",
       "      <td>no</td>\n",
       "      <td>yes</td>\n",
       "      <td>yes</td>\n",
       "      <td>yes</td>\n",
       "      <td>yes</td>\n",
       "      <td>1.0</td>\n",
       "      <td>5</td>\n",
       "      <td>1</td>\n",
       "      <td>3.0</td>\n",
       "      <td>5.0</td>\n",
       "      <td>5</td>\n",
       "      <td>0</td>\n",
       "      <td>NaN</td>\n",
       "      <td>13</td>\n",
       "      <td>14</td>\n",
       "      <td>14</td>\n",
       "    </tr>\n",
       "    <tr>\n",
       "      <td>8</td>\n",
       "      <td>107914</td>\n",
       "      <td>Math</td>\n",
       "      <td>GP</td>\n",
       "      <td>F</td>\n",
       "      <td>15</td>\n",
       "      <td>U</td>\n",
       "      <td>LE3</td>\n",
       "      <td>T</td>\n",
       "      <td>3</td>\n",
       "      <td>2</td>\n",
       "      <td>services</td>\n",
       "      <td>other</td>\n",
       "      <td>reputation</td>\n",
       "      <td>mother</td>\n",
       "      <td>1</td>\n",
       "      <td>2</td>\n",
       "      <td>0</td>\n",
       "      <td>no</td>\n",
       "      <td>yes</td>\n",
       "      <td>yes</td>\n",
       "      <td>no</td>\n",
       "      <td>yes</td>\n",
       "      <td>yes</td>\n",
       "      <td>yes</td>\n",
       "      <td>no</td>\n",
       "      <td>4.0</td>\n",
       "      <td>4</td>\n",
       "      <td>4</td>\n",
       "      <td>1.0</td>\n",
       "      <td>1.0</td>\n",
       "      <td>5</td>\n",
       "      <td>10</td>\n",
       "      <td>no</td>\n",
       "      <td>7</td>\n",
       "      <td>6</td>\n",
       "      <td>6</td>\n",
       "    </tr>\n",
       "    <tr>\n",
       "      <td>9</td>\n",
       "      <td>108089</td>\n",
       "      <td>Por</td>\n",
       "      <td>MS</td>\n",
       "      <td>M</td>\n",
       "      <td>16</td>\n",
       "      <td>R</td>\n",
       "      <td>GT3</td>\n",
       "      <td>T</td>\n",
       "      <td>3</td>\n",
       "      <td>4</td>\n",
       "      <td>other</td>\n",
       "      <td>health</td>\n",
       "      <td>other</td>\n",
       "      <td>mother</td>\n",
       "      <td>3</td>\n",
       "      <td>2</td>\n",
       "      <td>0</td>\n",
       "      <td>no</td>\n",
       "      <td>no</td>\n",
       "      <td>no</td>\n",
       "      <td>no</td>\n",
       "      <td>no</td>\n",
       "      <td>yes</td>\n",
       "      <td>no</td>\n",
       "      <td>no</td>\n",
       "      <td>3.0</td>\n",
       "      <td>4</td>\n",
       "      <td>5</td>\n",
       "      <td>1.0</td>\n",
       "      <td>2.0</td>\n",
       "      <td>5</td>\n",
       "      <td>4</td>\n",
       "      <td>NaN</td>\n",
       "      <td>9</td>\n",
       "      <td>10</td>\n",
       "      <td>11</td>\n",
       "    </tr>\n",
       "    <tr>\n",
       "      <td>10</td>\n",
       "      <td>108254</td>\n",
       "      <td>Por</td>\n",
       "      <td>GP</td>\n",
       "      <td>M</td>\n",
       "      <td>15</td>\n",
       "      <td>U</td>\n",
       "      <td>LE3</td>\n",
       "      <td>T</td>\n",
       "      <td>4</td>\n",
       "      <td>4</td>\n",
       "      <td>health</td>\n",
       "      <td>services</td>\n",
       "      <td>course</td>\n",
       "      <td>father</td>\n",
       "      <td>1</td>\n",
       "      <td>1</td>\n",
       "      <td>0</td>\n",
       "      <td>no</td>\n",
       "      <td>yes</td>\n",
       "      <td>no</td>\n",
       "      <td>yes</td>\n",
       "      <td>yes</td>\n",
       "      <td>yes</td>\n",
       "      <td>yes</td>\n",
       "      <td>no</td>\n",
       "      <td>4.0</td>\n",
       "      <td>3</td>\n",
       "      <td>3</td>\n",
       "      <td>1.0</td>\n",
       "      <td>3.0</td>\n",
       "      <td>5</td>\n",
       "      <td>0</td>\n",
       "      <td>NaN</td>\n",
       "      <td>12</td>\n",
       "      <td>13</td>\n",
       "      <td>12</td>\n",
       "    </tr>\n",
       "    <tr>\n",
       "      <td>11</td>\n",
       "      <td>108296</td>\n",
       "      <td>Por</td>\n",
       "      <td>GP</td>\n",
       "      <td>M</td>\n",
       "      <td>18</td>\n",
       "      <td>U</td>\n",
       "      <td>LE3</td>\n",
       "      <td>T</td>\n",
       "      <td>3</td>\n",
       "      <td>4</td>\n",
       "      <td>services</td>\n",
       "      <td>other</td>\n",
       "      <td>home</td>\n",
       "      <td>mother</td>\n",
       "      <td>1</td>\n",
       "      <td>2</td>\n",
       "      <td>0</td>\n",
       "      <td>no</td>\n",
       "      <td>no</td>\n",
       "      <td>no</td>\n",
       "      <td>yes</td>\n",
       "      <td>yes</td>\n",
       "      <td>yes</td>\n",
       "      <td>yes</td>\n",
       "      <td>yes</td>\n",
       "      <td>4.0</td>\n",
       "      <td>3</td>\n",
       "      <td>3</td>\n",
       "      <td>1.0</td>\n",
       "      <td>3.0</td>\n",
       "      <td>5</td>\n",
       "      <td>6</td>\n",
       "      <td>no</td>\n",
       "      <td>16</td>\n",
       "      <td>16</td>\n",
       "      <td>17</td>\n",
       "    </tr>\n",
       "    <tr>\n",
       "      <td>12</td>\n",
       "      <td>108753</td>\n",
       "      <td>Math</td>\n",
       "      <td>MS</td>\n",
       "      <td>F</td>\n",
       "      <td>18</td>\n",
       "      <td>R</td>\n",
       "      <td>GT3</td>\n",
       "      <td>T</td>\n",
       "      <td>4</td>\n",
       "      <td>4</td>\n",
       "      <td>teacher</td>\n",
       "      <td>at-home</td>\n",
       "      <td>reputation</td>\n",
       "      <td>mother</td>\n",
       "      <td>3</td>\n",
       "      <td>1</td>\n",
       "      <td>0</td>\n",
       "      <td>no</td>\n",
       "      <td>yes</td>\n",
       "      <td>yes</td>\n",
       "      <td>yes</td>\n",
       "      <td>yes</td>\n",
       "      <td>yes</td>\n",
       "      <td>yes</td>\n",
       "      <td>yes</td>\n",
       "      <td>4.0</td>\n",
       "      <td>4</td>\n",
       "      <td>3</td>\n",
       "      <td>2.0</td>\n",
       "      <td>2.0</td>\n",
       "      <td>5</td>\n",
       "      <td>7</td>\n",
       "      <td>NaN</td>\n",
       "      <td>6</td>\n",
       "      <td>5</td>\n",
       "      <td>6</td>\n",
       "    </tr>\n",
       "    <tr>\n",
       "      <td>13</td>\n",
       "      <td>108825</td>\n",
       "      <td>Por</td>\n",
       "      <td>GP</td>\n",
       "      <td>M</td>\n",
       "      <td>15</td>\n",
       "      <td>U</td>\n",
       "      <td>GT3</td>\n",
       "      <td>T</td>\n",
       "      <td>4</td>\n",
       "      <td>3</td>\n",
       "      <td>teacher</td>\n",
       "      <td>other</td>\n",
       "      <td>home</td>\n",
       "      <td>mother</td>\n",
       "      <td>1</td>\n",
       "      <td>2</td>\n",
       "      <td>0</td>\n",
       "      <td>no</td>\n",
       "      <td>yes</td>\n",
       "      <td>no</td>\n",
       "      <td>yes</td>\n",
       "      <td>yes</td>\n",
       "      <td>yes</td>\n",
       "      <td>yes</td>\n",
       "      <td>no</td>\n",
       "      <td>4.0</td>\n",
       "      <td>3</td>\n",
       "      <td>3</td>\n",
       "      <td>2.0</td>\n",
       "      <td>3.0</td>\n",
       "      <td>5</td>\n",
       "      <td>0</td>\n",
       "      <td>yes</td>\n",
       "      <td>11</td>\n",
       "      <td>11</td>\n",
       "      <td>11</td>\n",
       "    </tr>\n",
       "    <tr>\n",
       "      <td>14</td>\n",
       "      <td>114462</td>\n",
       "      <td>Math</td>\n",
       "      <td>GP</td>\n",
       "      <td>F</td>\n",
       "      <td>16</td>\n",
       "      <td>U</td>\n",
       "      <td>LE3</td>\n",
       "      <td>T</td>\n",
       "      <td>2</td>\n",
       "      <td>2</td>\n",
       "      <td>at_home</td>\n",
       "      <td>other</td>\n",
       "      <td>course</td>\n",
       "      <td>mother</td>\n",
       "      <td>1</td>\n",
       "      <td>2</td>\n",
       "      <td>0</td>\n",
       "      <td>no</td>\n",
       "      <td>yes</td>\n",
       "      <td>no</td>\n",
       "      <td>no</td>\n",
       "      <td>yes</td>\n",
       "      <td>yes</td>\n",
       "      <td>no</td>\n",
       "      <td>no</td>\n",
       "      <td>4.0</td>\n",
       "      <td>3</td>\n",
       "      <td>4</td>\n",
       "      <td>1.0</td>\n",
       "      <td>2.0</td>\n",
       "      <td>2</td>\n",
       "      <td>4</td>\n",
       "      <td>yes</td>\n",
       "      <td>8</td>\n",
       "      <td>7</td>\n",
       "      <td>6</td>\n",
       "    </tr>\n",
       "  </tbody>\n",
       "</table>\n",
       "</div>"
      ],
      "text/plain": [
       "        ID Subject school sex  age address famsize Pstatus Medu Fedu  \\\n",
       "0   100097     Por     GP   F   16       U     GT3       A    3    4   \n",
       "1   101021     Por     GP   F   17       U     GT3       T    3    2   \n",
       "2   102965     Por     GP   M   16       U     LE3       T    1    2   \n",
       "3   102989     Por     MS   M   17       U     GT3       T    2    3   \n",
       "4   103131     Por     GP   F   16       U     GT3       T    1    1   \n",
       "5   103144     Por     GP   M   18       U     LE3       T    3    1   \n",
       "6   105257     Por     MS   F   18       U     GT3       T    1    1   \n",
       "7   107639     Por     MS   F   15       R     GT3       T    4    4   \n",
       "8   107914    Math     GP   F   15       U     LE3       T    3    2   \n",
       "9   108089     Por     MS   M   16       R     GT3       T    3    4   \n",
       "10  108254     Por     GP   M   15       U     LE3       T    4    4   \n",
       "11  108296     Por     GP   M   18       U     LE3       T    3    4   \n",
       "12  108753    Math     MS   F   18       R     GT3       T    4    4   \n",
       "13  108825     Por     GP   M   15       U     GT3       T    4    3   \n",
       "14  114462    Math     GP   F   16       U     LE3       T    2    2   \n",
       "\n",
       "        Mjob      Fjob      reason guardian  traveltime  studytime  failures  \\\n",
       "0   services     other      course   father           1          1         0   \n",
       "1      other     other      course   mother           1          2         0   \n",
       "2     health  services      course   mother           2          1         2   \n",
       "3      other  services        home   father           2          2         0   \n",
       "4    at_home     other        home   mother           2          1         0   \n",
       "5   services  services      course   mother           2          1         0   \n",
       "6      other     other      course   mother           2          2         0   \n",
       "7    teacher     other      course   mother           2          1         0   \n",
       "8   services     other  reputation   mother           1          2         0   \n",
       "9      other    health       other   mother           3          2         0   \n",
       "10    health  services      course   father           1          1         0   \n",
       "11  services     other        home   mother           1          2         0   \n",
       "12   teacher   at-home  reputation   mother           3          1         0   \n",
       "13   teacher     other        home   mother           1          2         0   \n",
       "14   at_home     other      course   mother           1          2         0   \n",
       "\n",
       "   schoolsup famsup paid activities nursery higher internet romantic  famrel  \\\n",
       "0         no     no   no         no     yes    yes      yes       no     3.0   \n",
       "1         no     no   no        yes      no    yes      yes       no     5.0   \n",
       "2         no     no   no         no      no    yes      yes       no     4.0   \n",
       "3         no     no   no        yes     yes    yes      yes       no     4.0   \n",
       "4         no    yes   no         no     yes    yes       no      NaN     4.0   \n",
       "5         no     no   no        yes     yes    yes      yes      yes     3.0   \n",
       "6         no     no   no        yes     yes    yes       no       no     1.0   \n",
       "7         no     no   no         no     yes    yes      yes      yes     1.0   \n",
       "8         no    yes  yes         no     yes    yes      yes       no     4.0   \n",
       "9         no     no   no         no      no    yes       no       no     3.0   \n",
       "10        no    yes   no        yes     yes    yes      yes       no     4.0   \n",
       "11        no     no   no        yes     yes    yes      yes      yes     4.0   \n",
       "12        no    yes  yes        yes     yes    yes      yes      yes     4.0   \n",
       "13        no    yes   no        yes     yes    yes      yes       no     4.0   \n",
       "14        no    yes   no         no     yes    yes       no       no     4.0   \n",
       "\n",
       "    freetime  goout  Dalc  Walc  health  absences cheating  G1  G2  G3  \n",
       "0          2      1   1.0   4.0       5        12      NaN  15  13  14  \n",
       "1          3      4   1.0   3.0       3         2      NaN  17  18  17  \n",
       "2          4      5   3.0   5.0       5         0      yes   9   8  10  \n",
       "3          4      3   1.0   1.0       3         4       no  14  15  16  \n",
       "4          3      2   1.0   4.0       5         2      yes  12  13  13  \n",
       "5          3      4   4.0   5.0       4         2      NaN  11  11  12  \n",
       "6          1      1   1.0   1.0       5         6      NaN  11  12   9  \n",
       "7          5      1   3.0   5.0       5         0      NaN  13  14  14  \n",
       "8          4      4   1.0   1.0       5        10       no   7   6   6  \n",
       "9          4      5   1.0   2.0       5         4      NaN   9  10  11  \n",
       "10         3      3   1.0   3.0       5         0      NaN  12  13  12  \n",
       "11         3      3   1.0   3.0       5         6       no  16  16  17  \n",
       "12         4      3   2.0   2.0       5         7      NaN   6   5   6  \n",
       "13         3      3   2.0   3.0       5         0      yes  11  11  11  \n",
       "14         3      4   1.0   2.0       2         4      yes   8   7   6  "
      ]
     },
     "execution_count": 4,
     "metadata": {},
     "output_type": "execute_result"
    }
   ],
   "source": [
    "data.head(15)"
   ]
  },
  {
   "cell_type": "markdown",
   "metadata": {},
   "source": [
    "### Признаки"
   ]
  },
  {
   "cell_type": "markdown",
   "metadata": {},
   "source": [
    "Данные представлены признаками различных типов: числовыми, категориальными, упорядоченными категориальными."
   ]
  },
  {
   "cell_type": "markdown",
   "metadata": {},
   "source": [
    "**Описание признаков:**"
   ]
  },
  {
   "cell_type": "code",
   "execution_count": 5,
   "metadata": {},
   "outputs": [
    {
     "data": {
      "text/html": [
       "<div>\n",
       "<style scoped>\n",
       "    .dataframe tbody tr th:only-of-type {\n",
       "        vertical-align: middle;\n",
       "    }\n",
       "\n",
       "    .dataframe tbody tr th {\n",
       "        vertical-align: top;\n",
       "    }\n",
       "\n",
       "    .dataframe thead th {\n",
       "        text-align: right;\n",
       "    }\n",
       "</style>\n",
       "<table border=\"1\" class=\"dataframe\">\n",
       "  <thead>\n",
       "    <tr style=\"text-align: right;\">\n",
       "      <th></th>\n",
       "      <th>Признак</th>\n",
       "      <th>Описание</th>\n",
       "    </tr>\n",
       "  </thead>\n",
       "  <tbody>\n",
       "    <tr>\n",
       "      <td>0</td>\n",
       "      <td>ID</td>\n",
       "      <td>Уникальный номер наблюдения</td>\n",
       "    </tr>\n",
       "    <tr>\n",
       "      <td>1</td>\n",
       "      <td>Subject</td>\n",
       "      <td>Предмет: 'Math' - математика, 'Por' - португальский язык</td>\n",
       "    </tr>\n",
       "    <tr>\n",
       "      <td>2</td>\n",
       "      <td>school</td>\n",
       "      <td>Школа: 'GP' - Gabriel Pereira, 'MS' - Mousinho da Silveira</td>\n",
       "    </tr>\n",
       "    <tr>\n",
       "      <td>3</td>\n",
       "      <td>sex</td>\n",
       "      <td>Пол студента: 'F' - женский, 'M' - мужской</td>\n",
       "    </tr>\n",
       "    <tr>\n",
       "      <td>4</td>\n",
       "      <td>age</td>\n",
       "      <td>Возраст студента</td>\n",
       "    </tr>\n",
       "    <tr>\n",
       "      <td>5</td>\n",
       "      <td>address</td>\n",
       "      <td>Место проживания студента: 'U' - в городе, 'R' - за городом</td>\n",
       "    </tr>\n",
       "    <tr>\n",
       "      <td>6</td>\n",
       "      <td>famsize</td>\n",
       "      <td>Число членов семьи: 'LE3' - если &lt;= 3, 'GT3' - если &gt; 3</td>\n",
       "    </tr>\n",
       "    <tr>\n",
       "      <td>7</td>\n",
       "      <td>Pstatus</td>\n",
       "      <td>Отношения родителей: 'T' - живут вместе, 'A' - живут раздельно</td>\n",
       "    </tr>\n",
       "    <tr>\n",
       "      <td>8</td>\n",
       "      <td>Medu</td>\n",
       "      <td>Образование матери: 0 - без образования, 1 - начальная школа, 2 – от 5 до 9 классов, 3 – среднее образование, 4 – высшее образование</td>\n",
       "    </tr>\n",
       "    <tr>\n",
       "      <td>9</td>\n",
       "      <td>Fedu</td>\n",
       "      <td>Образование отца: 0 - без образования, 1 - начальная школа, 2 – от 5 до 9 классов, 3 – среднее образование, 4 – высшее образование</td>\n",
       "    </tr>\n",
       "    <tr>\n",
       "      <td>10</td>\n",
       "      <td>Mjob</td>\n",
       "      <td>Работа матери: 'teacher' - связана с преподаванием, 'health'  - связана с здравоохранением, 'services' - администрация и полиция, 'at_home' - домашняя занятость, 'other' - другое</td>\n",
       "    </tr>\n",
       "    <tr>\n",
       "      <td>11</td>\n",
       "      <td>Fjob</td>\n",
       "      <td>Работа отца: 'teacher' - связана с преподаванием, 'health'  - связана с здравоохранением, 'services' - администрация и полиция, 'at_home' - домашняя занятость, 'other' - другое</td>\n",
       "    </tr>\n",
       "    <tr>\n",
       "      <td>12</td>\n",
       "      <td>reason</td>\n",
       "      <td>Причина, по которой студент выбрал данную школу: 'home' - рядом с домом, 'reputation' - репутация школы, 'course' - читаемые курсы, 'other' - другое</td>\n",
       "    </tr>\n",
       "    <tr>\n",
       "      <td>13</td>\n",
       "      <td>guardian</td>\n",
       "      <td>Опекун студента (student's guardian): 'mother', 'father' или 'other'</td>\n",
       "    </tr>\n",
       "    <tr>\n",
       "      <td>14</td>\n",
       "      <td>traveltime</td>\n",
       "      <td>Время в пути от дома до школы: 1 - &lt; 15 мин, 2 - от 15 до 30 мин, 3 - от 30 мин до 1 часа, 4 - &gt; 1 часа</td>\n",
       "    </tr>\n",
       "    <tr>\n",
       "      <td>15</td>\n",
       "      <td>studytime</td>\n",
       "      <td>Количество часов на учебу в неделю: 1 - &lt; 2 часов, 2 - от 2 до 5 часов, 3 - от 5 до 10 часов, 4 - &gt; 10 часов</td>\n",
       "    </tr>\n",
       "    <tr>\n",
       "      <td>16</td>\n",
       "      <td>failures</td>\n",
       "      <td>Число завалов студента по предыдущим курсам:  n если 1&lt;=n&lt;3, иначе 4</td>\n",
       "    </tr>\n",
       "    <tr>\n",
       "      <td>17</td>\n",
       "      <td>schoolsup</td>\n",
       "      <td>Дополнительная помощь в учебе: yes или no</td>\n",
       "    </tr>\n",
       "    <tr>\n",
       "      <td>18</td>\n",
       "      <td>famsup</td>\n",
       "      <td>Дополнительная помощь в учебе от членов семьи: yes или no</td>\n",
       "    </tr>\n",
       "    <tr>\n",
       "      <td>19</td>\n",
       "      <td>paid</td>\n",
       "      <td>Платные дополнительные занятия по соответствущему курсу ('Math' или 'Por'): yes или no</td>\n",
       "    </tr>\n",
       "    <tr>\n",
       "      <td>20</td>\n",
       "      <td>activities</td>\n",
       "      <td>Внеучебные активности: yes или no</td>\n",
       "    </tr>\n",
       "    <tr>\n",
       "      <td>21</td>\n",
       "      <td>nursery</td>\n",
       "      <td>Ходил в детстве в детский сад: yes или no</td>\n",
       "    </tr>\n",
       "    <tr>\n",
       "      <td>22</td>\n",
       "      <td>higher</td>\n",
       "      <td>Собирается получать высшее образование: yes или no</td>\n",
       "    </tr>\n",
       "    <tr>\n",
       "      <td>23</td>\n",
       "      <td>internet</td>\n",
       "      <td>Есть доступ к всемирной сети из дома: yes или no</td>\n",
       "    </tr>\n",
       "    <tr>\n",
       "      <td>24</td>\n",
       "      <td>romantic</td>\n",
       "      <td>Состоит в романтических отношениях: yes или no</td>\n",
       "    </tr>\n",
       "    <tr>\n",
       "      <td>25</td>\n",
       "      <td>famrel</td>\n",
       "      <td>Отношения в семье: от 1 - очень плохие, до 5 - прекрасные</td>\n",
       "    </tr>\n",
       "    <tr>\n",
       "      <td>26</td>\n",
       "      <td>freetime</td>\n",
       "      <td>Свободное время после занятий: от 1 - очень мало, до 5 - очень много</td>\n",
       "    </tr>\n",
       "    <tr>\n",
       "      <td>27</td>\n",
       "      <td>goout</td>\n",
       "      <td>Проводит время с друзьями: от 1 - очень редко/мало, до 5 - очень часто/много</td>\n",
       "    </tr>\n",
       "    <tr>\n",
       "      <td>28</td>\n",
       "      <td>Dalc</td>\n",
       "      <td>Потребление алкоголя в будни: от 1 - очень мало, до 5 - очень много</td>\n",
       "    </tr>\n",
       "    <tr>\n",
       "      <td>29</td>\n",
       "      <td>Walc</td>\n",
       "      <td>Потребление алкоголя в выходные: от 1 - очень мало, до 5 - очень много</td>\n",
       "    </tr>\n",
       "    <tr>\n",
       "      <td>30</td>\n",
       "      <td>health</td>\n",
       "      <td>Состояние здоровья: от 1 - очень плохое, до 5  - очень хорошее</td>\n",
       "    </tr>\n",
       "    <tr>\n",
       "      <td>31</td>\n",
       "      <td>absences</td>\n",
       "      <td>Число пропусков: сколько раз пропустил занятия в школе</td>\n",
       "    </tr>\n",
       "    <tr>\n",
       "      <td>32</td>\n",
       "      <td>cheating</td>\n",
       "      <td>Списывает ли на тестах: yes или no</td>\n",
       "    </tr>\n",
       "    <tr>\n",
       "      <td>33</td>\n",
       "      <td>G1</td>\n",
       "      <td>Оценка за первое полугодние: от 0 до 20</td>\n",
       "    </tr>\n",
       "    <tr>\n",
       "      <td>34</td>\n",
       "      <td>G2</td>\n",
       "      <td>Оценка за второе полугодие: от 0 до 20</td>\n",
       "    </tr>\n",
       "    <tr>\n",
       "      <td>35</td>\n",
       "      <td>G3</td>\n",
       "      <td>Итоговая оценка: от 0 до 20</td>\n",
       "    </tr>\n",
       "  </tbody>\n",
       "</table>\n",
       "</div>"
      ],
      "text/plain": [
       "       Признак  \\\n",
       "0           ID   \n",
       "1      Subject   \n",
       "2       school   \n",
       "3          sex   \n",
       "4          age   \n",
       "5      address   \n",
       "6      famsize   \n",
       "7      Pstatus   \n",
       "8         Medu   \n",
       "9         Fedu   \n",
       "10        Mjob   \n",
       "11        Fjob   \n",
       "12      reason   \n",
       "13    guardian   \n",
       "14  traveltime   \n",
       "15   studytime   \n",
       "16    failures   \n",
       "17   schoolsup   \n",
       "18      famsup   \n",
       "19        paid   \n",
       "20  activities   \n",
       "21     nursery   \n",
       "22      higher   \n",
       "23    internet   \n",
       "24    romantic   \n",
       "25      famrel   \n",
       "26    freetime   \n",
       "27       goout   \n",
       "28        Dalc   \n",
       "29        Walc   \n",
       "30      health   \n",
       "31    absences   \n",
       "32    cheating   \n",
       "33          G1   \n",
       "34          G2   \n",
       "35          G3   \n",
       "\n",
       "                                                                                                                                                                              Описание  \n",
       "0                                                                                                                                                          Уникальный номер наблюдения  \n",
       "1                                                                                                                             Предмет: 'Math' - математика, 'Por' - португальский язык  \n",
       "2                                                                                                                           Школа: 'GP' - Gabriel Pereira, 'MS' - Mousinho da Silveira  \n",
       "3                                                                                                                                           Пол студента: 'F' - женский, 'M' - мужской  \n",
       "4                                                                                                                                                                     Возраст студента  \n",
       "5                                                                                                                          Место проживания студента: 'U' - в городе, 'R' - за городом  \n",
       "6                                                                                                                              Число членов семьи: 'LE3' - если <= 3, 'GT3' - если > 3  \n",
       "7                                                                                                                       Отношения родителей: 'T' - живут вместе, 'A' - живут раздельно  \n",
       "8                                                 Образование матери: 0 - без образования, 1 - начальная школа, 2 – от 5 до 9 классов, 3 – среднее образование, 4 – высшее образование  \n",
       "9                                                   Образование отца: 0 - без образования, 1 - начальная школа, 2 – от 5 до 9 классов, 3 – среднее образование, 4 – высшее образование  \n",
       "10  Работа матери: 'teacher' - связана с преподаванием, 'health'  - связана с здравоохранением, 'services' - администрация и полиция, 'at_home' - домашняя занятость, 'other' - другое  \n",
       "11    Работа отца: 'teacher' - связана с преподаванием, 'health'  - связана с здравоохранением, 'services' - администрация и полиция, 'at_home' - домашняя занятость, 'other' - другое  \n",
       "12                                Причина, по которой студент выбрал данную школу: 'home' - рядом с домом, 'reputation' - репутация школы, 'course' - читаемые курсы, 'other' - другое  \n",
       "13                                                                                                                Опекун студента (student's guardian): 'mother', 'father' или 'other'  \n",
       "14                                                                             Время в пути от дома до школы: 1 - < 15 мин, 2 - от 15 до 30 мин, 3 - от 30 мин до 1 часа, 4 - > 1 часа  \n",
       "15                                                                        Количество часов на учебу в неделю: 1 - < 2 часов, 2 - от 2 до 5 часов, 3 - от 5 до 10 часов, 4 - > 10 часов  \n",
       "16                                                                                                                Число завалов студента по предыдущим курсам:  n если 1<=n<3, иначе 4  \n",
       "17                                                                                                                                           Дополнительная помощь в учебе: yes или no  \n",
       "18                                                                                                                           Дополнительная помощь в учебе от членов семьи: yes или no  \n",
       "19                                                                                              Платные дополнительные занятия по соответствущему курсу ('Math' или 'Por'): yes или no  \n",
       "20                                                                                                                                                   Внеучебные активности: yes или no  \n",
       "21                                                                                                                                           Ходил в детстве в детский сад: yes или no  \n",
       "22                                                                                                                                  Собирается получать высшее образование: yes или no  \n",
       "23                                                                                                                                    Есть доступ к всемирной сети из дома: yes или no  \n",
       "24                                                                                                                                      Состоит в романтических отношениях: yes или no  \n",
       "25                                                                                                                           Отношения в семье: от 1 - очень плохие, до 5 - прекрасные  \n",
       "26                                                                                                                Свободное время после занятий: от 1 - очень мало, до 5 - очень много  \n",
       "27                                                                                                        Проводит время с друзьями: от 1 - очень редко/мало, до 5 - очень часто/много  \n",
       "28                                                                                                                 Потребление алкоголя в будни: от 1 - очень мало, до 5 - очень много  \n",
       "29                                                                                                              Потребление алкоголя в выходные: от 1 - очень мало, до 5 - очень много  \n",
       "30                                                                                                                      Состояние здоровья: от 1 - очень плохое, до 5  - очень хорошее  \n",
       "31                                                                                                                              Число пропусков: сколько раз пропустил занятия в школе  \n",
       "32                                                                                                                                                  Списывает ли на тестах: yes или no  \n",
       "33                                                                                                                                             Оценка за первое полугодние: от 0 до 20  \n",
       "34                                                                                                                                              Оценка за второе полугодие: от 0 до 20  \n",
       "35                                                                                                                                                         Итоговая оценка: от 0 до 20  "
      ]
     },
     "execution_count": 5,
     "metadata": {},
     "output_type": "execute_result"
    }
   ],
   "source": [
    "pd.read_csv('students_data_features.csv',\n",
    "            delimiter=';',\n",
    "            encoding='windows-1251')"
   ]
  },
  {
   "cell_type": "markdown",
   "metadata": {},
   "source": [
    "## Часть 1. Предобработка данных"
   ]
  },
  {
   "cell_type": "code",
   "execution_count": 6,
   "metadata": {},
   "outputs": [],
   "source": [
    "import seaborn as sns\n",
    "import matplotlib.pyplot as plt\n",
    "import numpy as np\n",
    "%matplotlib inline"
   ]
  },
  {
   "cell_type": "markdown",
   "metadata": {},
   "source": [
    "**ПРЕОБРАЗОВАНИЕ ДАННЫХ**"
   ]
  },
  {
   "cell_type": "markdown",
   "metadata": {},
   "source": [
    "**Dummy-variables:**\n",
    "\n",
    "* sex = male? - 1\n",
    "* famsize = Greater than 3? - 1\n",
    "* parents status = together? - 1\n",
    "* address = urban? - 1\n",
    "* school = MS? - 1\n",
    "* Subject = Math? - 1\n",
    "* {\"schoolsup\", \"famsup\", \"paid\", \"activities\", \"nursery\", \"higher\", \"internet\", \"romantic\"} = yes? - {1}"
   ]
  },
  {
   "cell_type": "code",
   "execution_count": 7,
   "metadata": {},
   "outputs": [
    {
     "data": {
      "text/html": [
       "<div>\n",
       "<style scoped>\n",
       "    .dataframe tbody tr th:only-of-type {\n",
       "        vertical-align: middle;\n",
       "    }\n",
       "\n",
       "    .dataframe tbody tr th {\n",
       "        vertical-align: top;\n",
       "    }\n",
       "\n",
       "    .dataframe thead th {\n",
       "        text-align: right;\n",
       "    }\n",
       "</style>\n",
       "<table border=\"1\" class=\"dataframe\">\n",
       "  <thead>\n",
       "    <tr style=\"text-align: right;\">\n",
       "      <th></th>\n",
       "      <th>Subject</th>\n",
       "      <th>school</th>\n",
       "      <th>sex</th>\n",
       "      <th>age</th>\n",
       "      <th>address</th>\n",
       "      <th>famsize</th>\n",
       "      <th>Pstatus</th>\n",
       "      <th>Medu</th>\n",
       "      <th>Fedu</th>\n",
       "      <th>Mjob</th>\n",
       "      <th>Fjob</th>\n",
       "      <th>reason</th>\n",
       "      <th>guardian</th>\n",
       "      <th>traveltime</th>\n",
       "      <th>studytime</th>\n",
       "      <th>failures</th>\n",
       "      <th>schoolsup</th>\n",
       "      <th>famsup</th>\n",
       "      <th>paid</th>\n",
       "      <th>activities</th>\n",
       "      <th>nursery</th>\n",
       "      <th>higher</th>\n",
       "      <th>internet</th>\n",
       "      <th>romantic</th>\n",
       "      <th>famrel</th>\n",
       "      <th>freetime</th>\n",
       "      <th>goout</th>\n",
       "      <th>Dalc</th>\n",
       "      <th>Walc</th>\n",
       "      <th>health</th>\n",
       "      <th>absences</th>\n",
       "      <th>G1</th>\n",
       "      <th>G2</th>\n",
       "      <th>G3</th>\n",
       "    </tr>\n",
       "  </thead>\n",
       "  <tbody>\n",
       "    <tr>\n",
       "      <td>0</td>\n",
       "      <td>0</td>\n",
       "      <td>0</td>\n",
       "      <td>0</td>\n",
       "      <td>16</td>\n",
       "      <td>1</td>\n",
       "      <td>1</td>\n",
       "      <td>0</td>\n",
       "      <td>3</td>\n",
       "      <td>4</td>\n",
       "      <td>services</td>\n",
       "      <td>other</td>\n",
       "      <td>course</td>\n",
       "      <td>father</td>\n",
       "      <td>1</td>\n",
       "      <td>1</td>\n",
       "      <td>0</td>\n",
       "      <td>0</td>\n",
       "      <td>0</td>\n",
       "      <td>0</td>\n",
       "      <td>0</td>\n",
       "      <td>1</td>\n",
       "      <td>1</td>\n",
       "      <td>1</td>\n",
       "      <td>0</td>\n",
       "      <td>3</td>\n",
       "      <td>2</td>\n",
       "      <td>1</td>\n",
       "      <td>1</td>\n",
       "      <td>4</td>\n",
       "      <td>5</td>\n",
       "      <td>12</td>\n",
       "      <td>15</td>\n",
       "      <td>13</td>\n",
       "      <td>14</td>\n",
       "    </tr>\n",
       "    <tr>\n",
       "      <td>1</td>\n",
       "      <td>0</td>\n",
       "      <td>0</td>\n",
       "      <td>0</td>\n",
       "      <td>17</td>\n",
       "      <td>1</td>\n",
       "      <td>1</td>\n",
       "      <td>1</td>\n",
       "      <td>3</td>\n",
       "      <td>2</td>\n",
       "      <td>other</td>\n",
       "      <td>other</td>\n",
       "      <td>course</td>\n",
       "      <td>mother</td>\n",
       "      <td>1</td>\n",
       "      <td>2</td>\n",
       "      <td>0</td>\n",
       "      <td>0</td>\n",
       "      <td>0</td>\n",
       "      <td>0</td>\n",
       "      <td>1</td>\n",
       "      <td>0</td>\n",
       "      <td>1</td>\n",
       "      <td>1</td>\n",
       "      <td>0</td>\n",
       "      <td>5</td>\n",
       "      <td>3</td>\n",
       "      <td>4</td>\n",
       "      <td>1</td>\n",
       "      <td>3</td>\n",
       "      <td>3</td>\n",
       "      <td>2</td>\n",
       "      <td>17</td>\n",
       "      <td>18</td>\n",
       "      <td>17</td>\n",
       "    </tr>\n",
       "    <tr>\n",
       "      <td>2</td>\n",
       "      <td>0</td>\n",
       "      <td>0</td>\n",
       "      <td>1</td>\n",
       "      <td>16</td>\n",
       "      <td>1</td>\n",
       "      <td>0</td>\n",
       "      <td>1</td>\n",
       "      <td>1</td>\n",
       "      <td>2</td>\n",
       "      <td>health</td>\n",
       "      <td>services</td>\n",
       "      <td>course</td>\n",
       "      <td>mother</td>\n",
       "      <td>2</td>\n",
       "      <td>1</td>\n",
       "      <td>2</td>\n",
       "      <td>0</td>\n",
       "      <td>0</td>\n",
       "      <td>0</td>\n",
       "      <td>0</td>\n",
       "      <td>0</td>\n",
       "      <td>1</td>\n",
       "      <td>1</td>\n",
       "      <td>0</td>\n",
       "      <td>4</td>\n",
       "      <td>4</td>\n",
       "      <td>5</td>\n",
       "      <td>3</td>\n",
       "      <td>5</td>\n",
       "      <td>5</td>\n",
       "      <td>0</td>\n",
       "      <td>9</td>\n",
       "      <td>8</td>\n",
       "      <td>10</td>\n",
       "    </tr>\n",
       "    <tr>\n",
       "      <td>3</td>\n",
       "      <td>0</td>\n",
       "      <td>1</td>\n",
       "      <td>1</td>\n",
       "      <td>17</td>\n",
       "      <td>1</td>\n",
       "      <td>1</td>\n",
       "      <td>1</td>\n",
       "      <td>2</td>\n",
       "      <td>3</td>\n",
       "      <td>other</td>\n",
       "      <td>services</td>\n",
       "      <td>home</td>\n",
       "      <td>father</td>\n",
       "      <td>2</td>\n",
       "      <td>2</td>\n",
       "      <td>0</td>\n",
       "      <td>0</td>\n",
       "      <td>0</td>\n",
       "      <td>0</td>\n",
       "      <td>1</td>\n",
       "      <td>1</td>\n",
       "      <td>1</td>\n",
       "      <td>1</td>\n",
       "      <td>0</td>\n",
       "      <td>4</td>\n",
       "      <td>4</td>\n",
       "      <td>3</td>\n",
       "      <td>1</td>\n",
       "      <td>1</td>\n",
       "      <td>3</td>\n",
       "      <td>4</td>\n",
       "      <td>14</td>\n",
       "      <td>15</td>\n",
       "      <td>16</td>\n",
       "    </tr>\n",
       "    <tr>\n",
       "      <td>5</td>\n",
       "      <td>0</td>\n",
       "      <td>0</td>\n",
       "      <td>1</td>\n",
       "      <td>18</td>\n",
       "      <td>1</td>\n",
       "      <td>0</td>\n",
       "      <td>1</td>\n",
       "      <td>3</td>\n",
       "      <td>1</td>\n",
       "      <td>services</td>\n",
       "      <td>services</td>\n",
       "      <td>course</td>\n",
       "      <td>mother</td>\n",
       "      <td>2</td>\n",
       "      <td>1</td>\n",
       "      <td>0</td>\n",
       "      <td>0</td>\n",
       "      <td>0</td>\n",
       "      <td>0</td>\n",
       "      <td>1</td>\n",
       "      <td>1</td>\n",
       "      <td>1</td>\n",
       "      <td>1</td>\n",
       "      <td>1</td>\n",
       "      <td>3</td>\n",
       "      <td>3</td>\n",
       "      <td>4</td>\n",
       "      <td>4</td>\n",
       "      <td>5</td>\n",
       "      <td>4</td>\n",
       "      <td>2</td>\n",
       "      <td>11</td>\n",
       "      <td>11</td>\n",
       "      <td>12</td>\n",
       "    </tr>\n",
       "    <tr>\n",
       "      <td>...</td>\n",
       "      <td>...</td>\n",
       "      <td>...</td>\n",
       "      <td>...</td>\n",
       "      <td>...</td>\n",
       "      <td>...</td>\n",
       "      <td>...</td>\n",
       "      <td>...</td>\n",
       "      <td>...</td>\n",
       "      <td>...</td>\n",
       "      <td>...</td>\n",
       "      <td>...</td>\n",
       "      <td>...</td>\n",
       "      <td>...</td>\n",
       "      <td>...</td>\n",
       "      <td>...</td>\n",
       "      <td>...</td>\n",
       "      <td>...</td>\n",
       "      <td>...</td>\n",
       "      <td>...</td>\n",
       "      <td>...</td>\n",
       "      <td>...</td>\n",
       "      <td>...</td>\n",
       "      <td>...</td>\n",
       "      <td>...</td>\n",
       "      <td>...</td>\n",
       "      <td>...</td>\n",
       "      <td>...</td>\n",
       "      <td>...</td>\n",
       "      <td>...</td>\n",
       "      <td>...</td>\n",
       "      <td>...</td>\n",
       "      <td>...</td>\n",
       "      <td>...</td>\n",
       "      <td>...</td>\n",
       "    </tr>\n",
       "    <tr>\n",
       "      <td>1039</td>\n",
       "      <td>1</td>\n",
       "      <td>0</td>\n",
       "      <td>0</td>\n",
       "      <td>15</td>\n",
       "      <td>0</td>\n",
       "      <td>1</td>\n",
       "      <td>1</td>\n",
       "      <td>3</td>\n",
       "      <td>3</td>\n",
       "      <td>services</td>\n",
       "      <td>services</td>\n",
       "      <td>reputation</td>\n",
       "      <td>other</td>\n",
       "      <td>2</td>\n",
       "      <td>3</td>\n",
       "      <td>2</td>\n",
       "      <td>0</td>\n",
       "      <td>1</td>\n",
       "      <td>1</td>\n",
       "      <td>1</td>\n",
       "      <td>1</td>\n",
       "      <td>1</td>\n",
       "      <td>1</td>\n",
       "      <td>1</td>\n",
       "      <td>4</td>\n",
       "      <td>2</td>\n",
       "      <td>1</td>\n",
       "      <td>2</td>\n",
       "      <td>3</td>\n",
       "      <td>3</td>\n",
       "      <td>8</td>\n",
       "      <td>10</td>\n",
       "      <td>10</td>\n",
       "      <td>10</td>\n",
       "    </tr>\n",
       "    <tr>\n",
       "      <td>1040</td>\n",
       "      <td>0</td>\n",
       "      <td>0</td>\n",
       "      <td>1</td>\n",
       "      <td>15</td>\n",
       "      <td>0</td>\n",
       "      <td>1</td>\n",
       "      <td>1</td>\n",
       "      <td>2</td>\n",
       "      <td>1</td>\n",
       "      <td>health</td>\n",
       "      <td>services</td>\n",
       "      <td>reputation</td>\n",
       "      <td>mother</td>\n",
       "      <td>1</td>\n",
       "      <td>2</td>\n",
       "      <td>0</td>\n",
       "      <td>0</td>\n",
       "      <td>0</td>\n",
       "      <td>0</td>\n",
       "      <td>1</td>\n",
       "      <td>1</td>\n",
       "      <td>1</td>\n",
       "      <td>1</td>\n",
       "      <td>1</td>\n",
       "      <td>5</td>\n",
       "      <td>4</td>\n",
       "      <td>2</td>\n",
       "      <td>1</td>\n",
       "      <td>1</td>\n",
       "      <td>5</td>\n",
       "      <td>4</td>\n",
       "      <td>10</td>\n",
       "      <td>9</td>\n",
       "      <td>10</td>\n",
       "    </tr>\n",
       "    <tr>\n",
       "      <td>1041</td>\n",
       "      <td>0</td>\n",
       "      <td>1</td>\n",
       "      <td>0</td>\n",
       "      <td>16</td>\n",
       "      <td>0</td>\n",
       "      <td>0</td>\n",
       "      <td>1</td>\n",
       "      <td>1</td>\n",
       "      <td>1</td>\n",
       "      <td>at_home</td>\n",
       "      <td>other</td>\n",
       "      <td>course</td>\n",
       "      <td>father</td>\n",
       "      <td>3</td>\n",
       "      <td>2</td>\n",
       "      <td>0</td>\n",
       "      <td>0</td>\n",
       "      <td>1</td>\n",
       "      <td>0</td>\n",
       "      <td>0</td>\n",
       "      <td>1</td>\n",
       "      <td>1</td>\n",
       "      <td>0</td>\n",
       "      <td>0</td>\n",
       "      <td>5</td>\n",
       "      <td>3</td>\n",
       "      <td>2</td>\n",
       "      <td>1</td>\n",
       "      <td>1</td>\n",
       "      <td>1</td>\n",
       "      <td>0</td>\n",
       "      <td>16</td>\n",
       "      <td>17</td>\n",
       "      <td>18</td>\n",
       "    </tr>\n",
       "    <tr>\n",
       "      <td>1042</td>\n",
       "      <td>0</td>\n",
       "      <td>0</td>\n",
       "      <td>1</td>\n",
       "      <td>16</td>\n",
       "      <td>1</td>\n",
       "      <td>1</td>\n",
       "      <td>1</td>\n",
       "      <td>2</td>\n",
       "      <td>1</td>\n",
       "      <td>at_home</td>\n",
       "      <td>other</td>\n",
       "      <td>course</td>\n",
       "      <td>mother</td>\n",
       "      <td>4</td>\n",
       "      <td>1</td>\n",
       "      <td>0</td>\n",
       "      <td>0</td>\n",
       "      <td>0</td>\n",
       "      <td>0</td>\n",
       "      <td>0</td>\n",
       "      <td>1</td>\n",
       "      <td>1</td>\n",
       "      <td>0</td>\n",
       "      <td>0</td>\n",
       "      <td>3</td>\n",
       "      <td>2</td>\n",
       "      <td>1</td>\n",
       "      <td>1</td>\n",
       "      <td>1</td>\n",
       "      <td>2</td>\n",
       "      <td>4</td>\n",
       "      <td>9</td>\n",
       "      <td>9</td>\n",
       "      <td>11</td>\n",
       "    </tr>\n",
       "    <tr>\n",
       "      <td>1043</td>\n",
       "      <td>0</td>\n",
       "      <td>0</td>\n",
       "      <td>1</td>\n",
       "      <td>17</td>\n",
       "      <td>0</td>\n",
       "      <td>1</td>\n",
       "      <td>1</td>\n",
       "      <td>1</td>\n",
       "      <td>3</td>\n",
       "      <td>other</td>\n",
       "      <td>other</td>\n",
       "      <td>course</td>\n",
       "      <td>father</td>\n",
       "      <td>3</td>\n",
       "      <td>2</td>\n",
       "      <td>1</td>\n",
       "      <td>0</td>\n",
       "      <td>1</td>\n",
       "      <td>0</td>\n",
       "      <td>1</td>\n",
       "      <td>1</td>\n",
       "      <td>1</td>\n",
       "      <td>1</td>\n",
       "      <td>0</td>\n",
       "      <td>5</td>\n",
       "      <td>2</td>\n",
       "      <td>4</td>\n",
       "      <td>1</td>\n",
       "      <td>4</td>\n",
       "      <td>5</td>\n",
       "      <td>14</td>\n",
       "      <td>12</td>\n",
       "      <td>11</td>\n",
       "      <td>11</td>\n",
       "    </tr>\n",
       "  </tbody>\n",
       "</table>\n",
       "<p>1024 rows × 34 columns</p>\n",
       "</div>"
      ],
      "text/plain": [
       "      Subject  school  sex  age  address  famsize  Pstatus  Medu  Fedu  \\\n",
       "0           0       0    0   16        1        1        0     3     4   \n",
       "1           0       0    0   17        1        1        1     3     2   \n",
       "2           0       0    1   16        1        0        1     1     2   \n",
       "3           0       1    1   17        1        1        1     2     3   \n",
       "5           0       0    1   18        1        0        1     3     1   \n",
       "...       ...     ...  ...  ...      ...      ...      ...   ...   ...   \n",
       "1039        1       0    0   15        0        1        1     3     3   \n",
       "1040        0       0    1   15        0        1        1     2     1   \n",
       "1041        0       1    0   16        0        0        1     1     1   \n",
       "1042        0       0    1   16        1        1        1     2     1   \n",
       "1043        0       0    1   17        0        1        1     1     3   \n",
       "\n",
       "          Mjob      Fjob      reason guardian  traveltime  studytime  \\\n",
       "0     services     other      course   father           1          1   \n",
       "1        other     other      course   mother           1          2   \n",
       "2       health  services      course   mother           2          1   \n",
       "3        other  services        home   father           2          2   \n",
       "5     services  services      course   mother           2          1   \n",
       "...        ...       ...         ...      ...         ...        ...   \n",
       "1039  services  services  reputation    other           2          3   \n",
       "1040    health  services  reputation   mother           1          2   \n",
       "1041   at_home     other      course   father           3          2   \n",
       "1042   at_home     other      course   mother           4          1   \n",
       "1043     other     other      course   father           3          2   \n",
       "\n",
       "      failures  schoolsup  famsup  paid  activities  nursery  higher  \\\n",
       "0            0          0       0     0           0        1       1   \n",
       "1            0          0       0     0           1        0       1   \n",
       "2            2          0       0     0           0        0       1   \n",
       "3            0          0       0     0           1        1       1   \n",
       "5            0          0       0     0           1        1       1   \n",
       "...        ...        ...     ...   ...         ...      ...     ...   \n",
       "1039         2          0       1     1           1        1       1   \n",
       "1040         0          0       0     0           1        1       1   \n",
       "1041         0          0       1     0           0        1       1   \n",
       "1042         0          0       0     0           0        1       1   \n",
       "1043         1          0       1     0           1        1       1   \n",
       "\n",
       "      internet  romantic  famrel  freetime  goout  Dalc  Walc  health  \\\n",
       "0            1         0       3         2      1     1     4       5   \n",
       "1            1         0       5         3      4     1     3       3   \n",
       "2            1         0       4         4      5     3     5       5   \n",
       "3            1         0       4         4      3     1     1       3   \n",
       "5            1         1       3         3      4     4     5       4   \n",
       "...        ...       ...     ...       ...    ...   ...   ...     ...   \n",
       "1039         1         1       4         2      1     2     3       3   \n",
       "1040         1         1       5         4      2     1     1       5   \n",
       "1041         0         0       5         3      2     1     1       1   \n",
       "1042         0         0       3         2      1     1     1       2   \n",
       "1043         1         0       5         2      4     1     4       5   \n",
       "\n",
       "      absences  G1  G2  G3  \n",
       "0           12  15  13  14  \n",
       "1            2  17  18  17  \n",
       "2            0   9   8  10  \n",
       "3            4  14  15  16  \n",
       "5            2  11  11  12  \n",
       "...        ...  ..  ..  ..  \n",
       "1039         8  10  10  10  \n",
       "1040         4  10   9  10  \n",
       "1041         0  16  17  18  \n",
       "1042         4   9   9  11  \n",
       "1043        14  12  11  11  \n",
       "\n",
       "[1024 rows x 34 columns]"
      ]
     },
     "execution_count": 7,
     "metadata": {},
     "output_type": "execute_result"
    }
   ],
   "source": [
    "# Исправление опечаток\n",
    "bin_edu = {\"Medu\": {\"o\": \"0\"}, \"Fedu\": {\"o\": \"0\"}}\n",
    "data.replace(bin_edu, inplace=True)\n",
    "\n",
    "bin_job = {\"Mjob\": {\"at-home\": \"at_home\"}, \"Fjob\": {\"at-home\": \"at_home\"}}\n",
    "data.replace(bin_job, inplace=True)\n",
    "\n",
    "bin_g = {\"guardian\": {\"futher\": \"father\"}}\n",
    "data.replace(bin_g, inplace=True)\n",
    "\n",
    "\n",
    "\n",
    "# Приведение типов\n",
    "bin_sex = {\"sex\": {\"M\": 1, \"m\": 1, \"F\": 0}}\n",
    "data.replace(bin_sex, inplace=True)\n",
    "\n",
    "lg_3 = {\"famsize\": {\"LE3\": 0, \"GT3\": 1}}\n",
    "data.replace(lg_3, inplace=True)\n",
    "\n",
    "bin_pstat = {\"Pstatus\": {\"A\": 0, \"T\": 1, \"t\": 1}}\n",
    "data.replace(bin_pstat, inplace=True)\n",
    "\n",
    "bin_addr = {\"address\": {\"R\": 0, \"U\": 1}}\n",
    "data.replace(bin_addr, inplace=True)\n",
    "\n",
    "bin_sch = {\"school\": {\"GP\": 0, \"MS\": 1}}\n",
    "data.replace(bin_sch, inplace=True)\n",
    "\n",
    "bin_sub = {\"Subject\": {\"Por\": 0, \"Math\": 1}}\n",
    "data.replace(bin_sub, inplace=True)\n",
    "\n",
    "boolean = {\"schoolsup\", \"famsup\", \"paid\", \"activities\", \"nursery\", \"higher\", \"internet\", \"romantic\"}\n",
    "for b in boolean:\n",
    "    bin_bool = {b: {\"no\": 0, \"yes\": 1}}\n",
    "    data.replace(bin_bool, inplace=True)\n",
    "\n",
    "data[\"Medu\"] = data[\"Medu\"].astype(int)\n",
    "data[\"Fedu\"] = data[\"Fedu\"].astype(int)\n",
    "\n",
    "\n",
    "\n",
    "data = data.drop(\"cheating\", axis=1) #больше трети пропусков - удаление столбца (\"про списывание\")\n",
    "data = data.drop(\"ID\", axis=1) # ID - не несет информации для построения моделей\n",
    "data = data.dropna(subset=[\"romantic\", \"famrel\"]) #удаление пропущенных наблюдений\n",
    "dam = int(data[\"Dalc\"].mean()) #численные, поэтому легко заменить пропуски на средние значения\n",
    "wam = int(data[\"Walc\"].mean())\n",
    "data = data.fillna({\"Dalc\": dam})\n",
    "data = data.fillna({\"Walc\": wam})\n",
    "\n",
    "\n",
    "data[\"famrel\"] = data[\"famrel\"].astype(int)\n",
    "data[\"romantic\"] = data[\"romantic\"].astype(int)\n",
    "data[\"Walc\"] = data[\"Walc\"].astype(int)\n",
    "data[\"Dalc\"] = data[\"Dalc\"].astype(int)\n",
    "\n",
    "data"
   ]
  },
  {
   "cell_type": "code",
   "execution_count": 8,
   "metadata": {},
   "outputs": [
    {
     "data": {
      "text/html": [
       "<div>\n",
       "<style scoped>\n",
       "    .dataframe tbody tr th:only-of-type {\n",
       "        vertical-align: middle;\n",
       "    }\n",
       "\n",
       "    .dataframe tbody tr th {\n",
       "        vertical-align: top;\n",
       "    }\n",
       "\n",
       "    .dataframe thead th {\n",
       "        text-align: right;\n",
       "    }\n",
       "</style>\n",
       "<table border=\"1\" class=\"dataframe\">\n",
       "  <thead>\n",
       "    <tr style=\"text-align: right;\">\n",
       "      <th></th>\n",
       "      <th>Mjob</th>\n",
       "      <th>Fjob</th>\n",
       "      <th>reason</th>\n",
       "      <th>guardian</th>\n",
       "    </tr>\n",
       "  </thead>\n",
       "  <tbody>\n",
       "    <tr>\n",
       "      <td>count</td>\n",
       "      <td>1024</td>\n",
       "      <td>1024</td>\n",
       "      <td>1024</td>\n",
       "      <td>1024</td>\n",
       "    </tr>\n",
       "    <tr>\n",
       "      <td>unique</td>\n",
       "      <td>5</td>\n",
       "      <td>5</td>\n",
       "      <td>4</td>\n",
       "      <td>3</td>\n",
       "    </tr>\n",
       "    <tr>\n",
       "      <td>top</td>\n",
       "      <td>other</td>\n",
       "      <td>other</td>\n",
       "      <td>course</td>\n",
       "      <td>mother</td>\n",
       "    </tr>\n",
       "    <tr>\n",
       "      <td>freq</td>\n",
       "      <td>395</td>\n",
       "      <td>570</td>\n",
       "      <td>426</td>\n",
       "      <td>715</td>\n",
       "    </tr>\n",
       "  </tbody>\n",
       "</table>\n",
       "</div>"
      ],
      "text/plain": [
       "         Mjob   Fjob  reason guardian\n",
       "count    1024   1024    1024     1024\n",
       "unique      5      5       4        3\n",
       "top     other  other  course   mother\n",
       "freq      395    570     426      715"
      ]
     },
     "execution_count": 8,
     "metadata": {},
     "output_type": "execute_result"
    }
   ],
   "source": [
    "data.describe(include=\"object\")"
   ]
  },
  {
   "cell_type": "code",
   "execution_count": 9,
   "metadata": {},
   "outputs": [
    {
     "data": {
      "text/html": [
       "<div>\n",
       "<style scoped>\n",
       "    .dataframe tbody tr th:only-of-type {\n",
       "        vertical-align: middle;\n",
       "    }\n",
       "\n",
       "    .dataframe tbody tr th {\n",
       "        vertical-align: top;\n",
       "    }\n",
       "\n",
       "    .dataframe thead th {\n",
       "        text-align: right;\n",
       "    }\n",
       "</style>\n",
       "<table border=\"1\" class=\"dataframe\">\n",
       "  <thead>\n",
       "    <tr style=\"text-align: right;\">\n",
       "      <th></th>\n",
       "      <th>Subject</th>\n",
       "      <th>school</th>\n",
       "      <th>sex</th>\n",
       "      <th>age</th>\n",
       "      <th>address</th>\n",
       "      <th>famsize</th>\n",
       "      <th>Pstatus</th>\n",
       "      <th>Medu</th>\n",
       "      <th>Fedu</th>\n",
       "      <th>traveltime</th>\n",
       "      <th>studytime</th>\n",
       "      <th>failures</th>\n",
       "      <th>schoolsup</th>\n",
       "      <th>famsup</th>\n",
       "      <th>paid</th>\n",
       "      <th>activities</th>\n",
       "      <th>nursery</th>\n",
       "      <th>higher</th>\n",
       "      <th>internet</th>\n",
       "      <th>romantic</th>\n",
       "      <th>famrel</th>\n",
       "      <th>freetime</th>\n",
       "      <th>goout</th>\n",
       "      <th>Dalc</th>\n",
       "      <th>Walc</th>\n",
       "      <th>health</th>\n",
       "      <th>absences</th>\n",
       "      <th>G1</th>\n",
       "      <th>G2</th>\n",
       "      <th>G3</th>\n",
       "    </tr>\n",
       "  </thead>\n",
       "  <tbody>\n",
       "    <tr>\n",
       "      <td>count</td>\n",
       "      <td>1024.000000</td>\n",
       "      <td>1024.000000</td>\n",
       "      <td>1024.000000</td>\n",
       "      <td>1024.000000</td>\n",
       "      <td>1024.000000</td>\n",
       "      <td>1024.000000</td>\n",
       "      <td>1024.000000</td>\n",
       "      <td>1024.000000</td>\n",
       "      <td>1024.000000</td>\n",
       "      <td>1024.000000</td>\n",
       "      <td>1024.000000</td>\n",
       "      <td>1024.000000</td>\n",
       "      <td>1024.000000</td>\n",
       "      <td>1024.000000</td>\n",
       "      <td>1024.000000</td>\n",
       "      <td>1024.000000</td>\n",
       "      <td>1024.000000</td>\n",
       "      <td>1024.000000</td>\n",
       "      <td>1024.000000</td>\n",
       "      <td>1024.000000</td>\n",
       "      <td>1024.000000</td>\n",
       "      <td>1024.000000</td>\n",
       "      <td>1024.000000</td>\n",
       "      <td>1024.000000</td>\n",
       "      <td>1024.000000</td>\n",
       "      <td>1024.000000</td>\n",
       "      <td>1024.000000</td>\n",
       "      <td>1024.000000</td>\n",
       "      <td>1024.000000</td>\n",
       "      <td>1024.000000</td>\n",
       "    </tr>\n",
       "    <tr>\n",
       "      <td>mean</td>\n",
       "      <td>0.379883</td>\n",
       "      <td>0.260742</td>\n",
       "      <td>0.432617</td>\n",
       "      <td>16.724609</td>\n",
       "      <td>0.726562</td>\n",
       "      <td>0.708984</td>\n",
       "      <td>0.886719</td>\n",
       "      <td>2.605469</td>\n",
       "      <td>2.389648</td>\n",
       "      <td>1.524414</td>\n",
       "      <td>1.974609</td>\n",
       "      <td>0.261719</td>\n",
       "      <td>0.110352</td>\n",
       "      <td>0.611328</td>\n",
       "      <td>0.214844</td>\n",
       "      <td>0.493164</td>\n",
       "      <td>0.800781</td>\n",
       "      <td>0.915039</td>\n",
       "      <td>0.791016</td>\n",
       "      <td>0.361328</td>\n",
       "      <td>3.936523</td>\n",
       "      <td>3.195312</td>\n",
       "      <td>3.157227</td>\n",
       "      <td>1.490234</td>\n",
       "      <td>2.282227</td>\n",
       "      <td>3.540039</td>\n",
       "      <td>4.440430</td>\n",
       "      <td>11.223633</td>\n",
       "      <td>11.255859</td>\n",
       "      <td>11.354492</td>\n",
       "    </tr>\n",
       "    <tr>\n",
       "      <td>std</td>\n",
       "      <td>0.485595</td>\n",
       "      <td>0.439254</td>\n",
       "      <td>0.495681</td>\n",
       "      <td>1.239754</td>\n",
       "      <td>0.445941</td>\n",
       "      <td>0.454453</td>\n",
       "      <td>0.317091</td>\n",
       "      <td>1.123206</td>\n",
       "      <td>1.099867</td>\n",
       "      <td>0.734161</td>\n",
       "      <td>0.837384</td>\n",
       "      <td>0.654229</td>\n",
       "      <td>0.313481</td>\n",
       "      <td>0.487687</td>\n",
       "      <td>0.410915</td>\n",
       "      <td>0.500198</td>\n",
       "      <td>0.399608</td>\n",
       "      <td>0.278960</td>\n",
       "      <td>0.406782</td>\n",
       "      <td>0.480620</td>\n",
       "      <td>0.933191</td>\n",
       "      <td>1.031724</td>\n",
       "      <td>1.152873</td>\n",
       "      <td>0.908256</td>\n",
       "      <td>1.281280</td>\n",
       "      <td>1.424667</td>\n",
       "      <td>6.214508</td>\n",
       "      <td>2.990338</td>\n",
       "      <td>3.284337</td>\n",
       "      <td>3.857977</td>\n",
       "    </tr>\n",
       "    <tr>\n",
       "      <td>min</td>\n",
       "      <td>0.000000</td>\n",
       "      <td>0.000000</td>\n",
       "      <td>0.000000</td>\n",
       "      <td>15.000000</td>\n",
       "      <td>0.000000</td>\n",
       "      <td>0.000000</td>\n",
       "      <td>0.000000</td>\n",
       "      <td>0.000000</td>\n",
       "      <td>0.000000</td>\n",
       "      <td>1.000000</td>\n",
       "      <td>1.000000</td>\n",
       "      <td>0.000000</td>\n",
       "      <td>0.000000</td>\n",
       "      <td>0.000000</td>\n",
       "      <td>0.000000</td>\n",
       "      <td>0.000000</td>\n",
       "      <td>0.000000</td>\n",
       "      <td>0.000000</td>\n",
       "      <td>0.000000</td>\n",
       "      <td>0.000000</td>\n",
       "      <td>1.000000</td>\n",
       "      <td>1.000000</td>\n",
       "      <td>1.000000</td>\n",
       "      <td>1.000000</td>\n",
       "      <td>1.000000</td>\n",
       "      <td>1.000000</td>\n",
       "      <td>0.000000</td>\n",
       "      <td>0.000000</td>\n",
       "      <td>0.000000</td>\n",
       "      <td>0.000000</td>\n",
       "    </tr>\n",
       "    <tr>\n",
       "      <td>25%</td>\n",
       "      <td>0.000000</td>\n",
       "      <td>0.000000</td>\n",
       "      <td>0.000000</td>\n",
       "      <td>16.000000</td>\n",
       "      <td>0.000000</td>\n",
       "      <td>0.000000</td>\n",
       "      <td>1.000000</td>\n",
       "      <td>2.000000</td>\n",
       "      <td>1.000000</td>\n",
       "      <td>1.000000</td>\n",
       "      <td>1.000000</td>\n",
       "      <td>0.000000</td>\n",
       "      <td>0.000000</td>\n",
       "      <td>0.000000</td>\n",
       "      <td>0.000000</td>\n",
       "      <td>0.000000</td>\n",
       "      <td>1.000000</td>\n",
       "      <td>1.000000</td>\n",
       "      <td>1.000000</td>\n",
       "      <td>0.000000</td>\n",
       "      <td>4.000000</td>\n",
       "      <td>3.000000</td>\n",
       "      <td>2.000000</td>\n",
       "      <td>1.000000</td>\n",
       "      <td>1.000000</td>\n",
       "      <td>2.000000</td>\n",
       "      <td>0.000000</td>\n",
       "      <td>9.000000</td>\n",
       "      <td>9.000000</td>\n",
       "      <td>10.000000</td>\n",
       "    </tr>\n",
       "    <tr>\n",
       "      <td>50%</td>\n",
       "      <td>0.000000</td>\n",
       "      <td>0.000000</td>\n",
       "      <td>0.000000</td>\n",
       "      <td>17.000000</td>\n",
       "      <td>1.000000</td>\n",
       "      <td>1.000000</td>\n",
       "      <td>1.000000</td>\n",
       "      <td>3.000000</td>\n",
       "      <td>2.000000</td>\n",
       "      <td>1.000000</td>\n",
       "      <td>2.000000</td>\n",
       "      <td>0.000000</td>\n",
       "      <td>0.000000</td>\n",
       "      <td>1.000000</td>\n",
       "      <td>0.000000</td>\n",
       "      <td>0.000000</td>\n",
       "      <td>1.000000</td>\n",
       "      <td>1.000000</td>\n",
       "      <td>1.000000</td>\n",
       "      <td>0.000000</td>\n",
       "      <td>4.000000</td>\n",
       "      <td>3.000000</td>\n",
       "      <td>3.000000</td>\n",
       "      <td>1.000000</td>\n",
       "      <td>2.000000</td>\n",
       "      <td>4.000000</td>\n",
       "      <td>2.000000</td>\n",
       "      <td>11.000000</td>\n",
       "      <td>11.000000</td>\n",
       "      <td>11.000000</td>\n",
       "    </tr>\n",
       "    <tr>\n",
       "      <td>75%</td>\n",
       "      <td>1.000000</td>\n",
       "      <td>1.000000</td>\n",
       "      <td>1.000000</td>\n",
       "      <td>18.000000</td>\n",
       "      <td>1.000000</td>\n",
       "      <td>1.000000</td>\n",
       "      <td>1.000000</td>\n",
       "      <td>4.000000</td>\n",
       "      <td>3.000000</td>\n",
       "      <td>2.000000</td>\n",
       "      <td>2.000000</td>\n",
       "      <td>0.000000</td>\n",
       "      <td>0.000000</td>\n",
       "      <td>1.000000</td>\n",
       "      <td>0.000000</td>\n",
       "      <td>1.000000</td>\n",
       "      <td>1.000000</td>\n",
       "      <td>1.000000</td>\n",
       "      <td>1.000000</td>\n",
       "      <td>1.000000</td>\n",
       "      <td>5.000000</td>\n",
       "      <td>4.000000</td>\n",
       "      <td>4.000000</td>\n",
       "      <td>2.000000</td>\n",
       "      <td>3.000000</td>\n",
       "      <td>5.000000</td>\n",
       "      <td>6.000000</td>\n",
       "      <td>13.000000</td>\n",
       "      <td>13.000000</td>\n",
       "      <td>14.000000</td>\n",
       "    </tr>\n",
       "    <tr>\n",
       "      <td>max</td>\n",
       "      <td>1.000000</td>\n",
       "      <td>1.000000</td>\n",
       "      <td>1.000000</td>\n",
       "      <td>22.000000</td>\n",
       "      <td>1.000000</td>\n",
       "      <td>1.000000</td>\n",
       "      <td>1.000000</td>\n",
       "      <td>4.000000</td>\n",
       "      <td>4.000000</td>\n",
       "      <td>4.000000</td>\n",
       "      <td>4.000000</td>\n",
       "      <td>3.000000</td>\n",
       "      <td>1.000000</td>\n",
       "      <td>1.000000</td>\n",
       "      <td>1.000000</td>\n",
       "      <td>1.000000</td>\n",
       "      <td>1.000000</td>\n",
       "      <td>1.000000</td>\n",
       "      <td>1.000000</td>\n",
       "      <td>1.000000</td>\n",
       "      <td>5.000000</td>\n",
       "      <td>5.000000</td>\n",
       "      <td>5.000000</td>\n",
       "      <td>5.000000</td>\n",
       "      <td>5.000000</td>\n",
       "      <td>5.000000</td>\n",
       "      <td>75.000000</td>\n",
       "      <td>19.000000</td>\n",
       "      <td>19.000000</td>\n",
       "      <td>20.000000</td>\n",
       "    </tr>\n",
       "  </tbody>\n",
       "</table>\n",
       "</div>"
      ],
      "text/plain": [
       "           Subject       school          sex          age      address  \\\n",
       "count  1024.000000  1024.000000  1024.000000  1024.000000  1024.000000   \n",
       "mean      0.379883     0.260742     0.432617    16.724609     0.726562   \n",
       "std       0.485595     0.439254     0.495681     1.239754     0.445941   \n",
       "min       0.000000     0.000000     0.000000    15.000000     0.000000   \n",
       "25%       0.000000     0.000000     0.000000    16.000000     0.000000   \n",
       "50%       0.000000     0.000000     0.000000    17.000000     1.000000   \n",
       "75%       1.000000     1.000000     1.000000    18.000000     1.000000   \n",
       "max       1.000000     1.000000     1.000000    22.000000     1.000000   \n",
       "\n",
       "           famsize      Pstatus         Medu         Fedu   traveltime  \\\n",
       "count  1024.000000  1024.000000  1024.000000  1024.000000  1024.000000   \n",
       "mean      0.708984     0.886719     2.605469     2.389648     1.524414   \n",
       "std       0.454453     0.317091     1.123206     1.099867     0.734161   \n",
       "min       0.000000     0.000000     0.000000     0.000000     1.000000   \n",
       "25%       0.000000     1.000000     2.000000     1.000000     1.000000   \n",
       "50%       1.000000     1.000000     3.000000     2.000000     1.000000   \n",
       "75%       1.000000     1.000000     4.000000     3.000000     2.000000   \n",
       "max       1.000000     1.000000     4.000000     4.000000     4.000000   \n",
       "\n",
       "         studytime     failures    schoolsup       famsup         paid  \\\n",
       "count  1024.000000  1024.000000  1024.000000  1024.000000  1024.000000   \n",
       "mean      1.974609     0.261719     0.110352     0.611328     0.214844   \n",
       "std       0.837384     0.654229     0.313481     0.487687     0.410915   \n",
       "min       1.000000     0.000000     0.000000     0.000000     0.000000   \n",
       "25%       1.000000     0.000000     0.000000     0.000000     0.000000   \n",
       "50%       2.000000     0.000000     0.000000     1.000000     0.000000   \n",
       "75%       2.000000     0.000000     0.000000     1.000000     0.000000   \n",
       "max       4.000000     3.000000     1.000000     1.000000     1.000000   \n",
       "\n",
       "        activities      nursery       higher     internet     romantic  \\\n",
       "count  1024.000000  1024.000000  1024.000000  1024.000000  1024.000000   \n",
       "mean      0.493164     0.800781     0.915039     0.791016     0.361328   \n",
       "std       0.500198     0.399608     0.278960     0.406782     0.480620   \n",
       "min       0.000000     0.000000     0.000000     0.000000     0.000000   \n",
       "25%       0.000000     1.000000     1.000000     1.000000     0.000000   \n",
       "50%       0.000000     1.000000     1.000000     1.000000     0.000000   \n",
       "75%       1.000000     1.000000     1.000000     1.000000     1.000000   \n",
       "max       1.000000     1.000000     1.000000     1.000000     1.000000   \n",
       "\n",
       "            famrel     freetime        goout         Dalc         Walc  \\\n",
       "count  1024.000000  1024.000000  1024.000000  1024.000000  1024.000000   \n",
       "mean      3.936523     3.195312     3.157227     1.490234     2.282227   \n",
       "std       0.933191     1.031724     1.152873     0.908256     1.281280   \n",
       "min       1.000000     1.000000     1.000000     1.000000     1.000000   \n",
       "25%       4.000000     3.000000     2.000000     1.000000     1.000000   \n",
       "50%       4.000000     3.000000     3.000000     1.000000     2.000000   \n",
       "75%       5.000000     4.000000     4.000000     2.000000     3.000000   \n",
       "max       5.000000     5.000000     5.000000     5.000000     5.000000   \n",
       "\n",
       "            health     absences           G1           G2           G3  \n",
       "count  1024.000000  1024.000000  1024.000000  1024.000000  1024.000000  \n",
       "mean      3.540039     4.440430    11.223633    11.255859    11.354492  \n",
       "std       1.424667     6.214508     2.990338     3.284337     3.857977  \n",
       "min       1.000000     0.000000     0.000000     0.000000     0.000000  \n",
       "25%       2.000000     0.000000     9.000000     9.000000    10.000000  \n",
       "50%       4.000000     2.000000    11.000000    11.000000    11.000000  \n",
       "75%       5.000000     6.000000    13.000000    13.000000    14.000000  \n",
       "max       5.000000    75.000000    19.000000    19.000000    20.000000  "
      ]
     },
     "execution_count": 9,
     "metadata": {},
     "output_type": "execute_result"
    }
   ],
   "source": [
    "data.describe()"
   ]
  },
  {
   "cell_type": "code",
   "execution_count": 10,
   "metadata": {},
   "outputs": [
    {
     "data": {
      "text/html": [
       "<div>\n",
       "<style scoped>\n",
       "    .dataframe tbody tr th:only-of-type {\n",
       "        vertical-align: middle;\n",
       "    }\n",
       "\n",
       "    .dataframe tbody tr th {\n",
       "        vertical-align: top;\n",
       "    }\n",
       "\n",
       "    .dataframe thead th {\n",
       "        text-align: right;\n",
       "    }\n",
       "</style>\n",
       "<table border=\"1\" class=\"dataframe\">\n",
       "  <thead>\n",
       "    <tr style=\"text-align: right;\">\n",
       "      <th></th>\n",
       "      <th>G3</th>\n",
       "    </tr>\n",
       "  </thead>\n",
       "  <tbody>\n",
       "    <tr>\n",
       "      <td>G3</td>\n",
       "      <td>1.000000</td>\n",
       "    </tr>\n",
       "    <tr>\n",
       "      <td>G2</td>\n",
       "      <td>0.911111</td>\n",
       "    </tr>\n",
       "    <tr>\n",
       "      <td>G1</td>\n",
       "      <td>0.808492</td>\n",
       "    </tr>\n",
       "    <tr>\n",
       "      <td>failures</td>\n",
       "      <td>0.383030</td>\n",
       "    </tr>\n",
       "    <tr>\n",
       "      <td>higher</td>\n",
       "      <td>0.232377</td>\n",
       "    </tr>\n",
       "    <tr>\n",
       "      <td>Medu</td>\n",
       "      <td>0.205554</td>\n",
       "    </tr>\n",
       "    <tr>\n",
       "      <td>Subject</td>\n",
       "      <td>0.191441</td>\n",
       "    </tr>\n",
       "    <tr>\n",
       "      <td>Fedu</td>\n",
       "      <td>0.158623</td>\n",
       "    </tr>\n",
       "    <tr>\n",
       "      <td>studytime</td>\n",
       "      <td>0.158012</td>\n",
       "    </tr>\n",
       "    <tr>\n",
       "      <td>Dalc</td>\n",
       "      <td>0.128313</td>\n",
       "    </tr>\n",
       "    <tr>\n",
       "      <td>age</td>\n",
       "      <td>0.121610</td>\n",
       "    </tr>\n",
       "    <tr>\n",
       "      <td>school</td>\n",
       "      <td>0.114587</td>\n",
       "    </tr>\n",
       "    <tr>\n",
       "      <td>Walc</td>\n",
       "      <td>0.114389</td>\n",
       "    </tr>\n",
       "    <tr>\n",
       "      <td>address</td>\n",
       "      <td>0.113783</td>\n",
       "    </tr>\n",
       "    <tr>\n",
       "      <td>internet</td>\n",
       "      <td>0.110786</td>\n",
       "    </tr>\n",
       "    <tr>\n",
       "      <td>traveltime</td>\n",
       "      <td>0.108148</td>\n",
       "    </tr>\n",
       "    <tr>\n",
       "      <td>romantic</td>\n",
       "      <td>0.104995</td>\n",
       "    </tr>\n",
       "    <tr>\n",
       "      <td>goout</td>\n",
       "      <td>0.097817</td>\n",
       "    </tr>\n",
       "    <tr>\n",
       "      <td>health</td>\n",
       "      <td>0.075948</td>\n",
       "    </tr>\n",
       "    <tr>\n",
       "      <td>schoolsup</td>\n",
       "      <td>0.071982</td>\n",
       "    </tr>\n",
       "    <tr>\n",
       "      <td>freetime</td>\n",
       "      <td>0.060389</td>\n",
       "    </tr>\n",
       "    <tr>\n",
       "      <td>famsize</td>\n",
       "      <td>0.059858</td>\n",
       "    </tr>\n",
       "    <tr>\n",
       "      <td>famrel</td>\n",
       "      <td>0.052957</td>\n",
       "    </tr>\n",
       "    <tr>\n",
       "      <td>paid</td>\n",
       "      <td>0.051788</td>\n",
       "    </tr>\n",
       "    <tr>\n",
       "      <td>absences</td>\n",
       "      <td>0.046923</td>\n",
       "    </tr>\n",
       "    <tr>\n",
       "      <td>nursery</td>\n",
       "      <td>0.042683</td>\n",
       "    </tr>\n",
       "    <tr>\n",
       "      <td>sex</td>\n",
       "      <td>0.031713</td>\n",
       "    </tr>\n",
       "    <tr>\n",
       "      <td>activities</td>\n",
       "      <td>0.031397</td>\n",
       "    </tr>\n",
       "    <tr>\n",
       "      <td>Pstatus</td>\n",
       "      <td>0.027071</td>\n",
       "    </tr>\n",
       "    <tr>\n",
       "      <td>famsup</td>\n",
       "      <td>0.015112</td>\n",
       "    </tr>\n",
       "  </tbody>\n",
       "</table>\n",
       "</div>"
      ],
      "text/plain": [
       "                  G3\n",
       "G3          1.000000\n",
       "G2          0.911111\n",
       "G1          0.808492\n",
       "failures    0.383030\n",
       "higher      0.232377\n",
       "Medu        0.205554\n",
       "Subject     0.191441\n",
       "Fedu        0.158623\n",
       "studytime   0.158012\n",
       "Dalc        0.128313\n",
       "age         0.121610\n",
       "school      0.114587\n",
       "Walc        0.114389\n",
       "address     0.113783\n",
       "internet    0.110786\n",
       "traveltime  0.108148\n",
       "romantic    0.104995\n",
       "goout       0.097817\n",
       "health      0.075948\n",
       "schoolsup   0.071982\n",
       "freetime    0.060389\n",
       "famsize     0.059858\n",
       "famrel      0.052957\n",
       "paid        0.051788\n",
       "absences    0.046923\n",
       "nursery     0.042683\n",
       "sex         0.031713\n",
       "activities  0.031397\n",
       "Pstatus     0.027071\n",
       "famsup      0.015112"
      ]
     },
     "execution_count": 10,
     "metadata": {},
     "output_type": "execute_result"
    }
   ],
   "source": [
    "pd.DataFrame(abs(data.corr()['G3'])).sort_values(by=\"G3\", ascending=False) # зависимость итоговой оценки от признаков"
   ]
  },
  {
   "cell_type": "markdown",
   "metadata": {},
   "source": [
    "#### Можно заметить, G3 очень слабо зависит от признаков: sex, Pstatus, famsup, activities, nursery - по модулю < 0.05\n",
    "#### Скорее всего, они не оказывают значительного влияния на итоговую оценку, можно не вкючать их в модели\n",
    "\n",
    "#### Также очень слабо ан G3 влияют: goout, health, schoolsup, freetime, famsize, famrel, paid"
   ]
  },
  {
   "cell_type": "code",
   "execution_count": 11,
   "metadata": {},
   "outputs": [],
   "source": [
    "data = data.drop([\"Pstatus\", \"famsup\", \"sex\", \"activities\", \"nursery\"], axis=1)"
   ]
  },
  {
   "cell_type": "code",
   "execution_count": 12,
   "metadata": {},
   "outputs": [],
   "source": [
    "data = data.drop([\"goout\", \"health\", \"schoolsup\", \"freetime\", \"famsize\", \"famrel\", \"paid\"], axis=1)"
   ]
  },
  {
   "cell_type": "code",
   "execution_count": 109,
   "metadata": {},
   "outputs": [],
   "source": [
    "# data[['G3', 'Mjob']].groupby('Mjob').mean()"
   ]
  },
  {
   "cell_type": "code",
   "execution_count": 13,
   "metadata": {},
   "outputs": [
    {
     "data": {
      "image/png": "[encoded data removed]",
      "text/plain": [
       "<Figure size 864x936 with 3 Axes>"
      ]
     },
     "metadata": {
      "needs_background": "light"
     },
     "output_type": "display_data"
    }
   ],
   "source": [
    "fig, axes = plt.subplots(3, 1, figsize=(12, 13))\n",
    "\n",
    "sns.countplot(x=\"Fjob\", data=data, ax = axes[0], palette=sns.color_palette(\"pastel\"))\n",
    "sns.countplot(x=\"Mjob\", data=data, ax = axes[1], palette=sns.color_palette(\"pastel\"))\n",
    "sns.countplot(x=\"reason\", data=data, ax = axes[2], palette=sns.color_palette(\"pastel\"))\n",
    "\n",
    "plt.show()"
   ]
  },
  {
   "cell_type": "markdown",
   "metadata": {},
   "source": [
    "### Так как в работе отца и матери преобладает значение other - признак ни о чем не говорит, к тому же спектр значений среди предложенных слишком мал, поэтому, скорее не следует включать эти переменные в модель. Причина выбора школы тоже, скорее, не влияет на оценки.\n",
    "\n",
    "#### Данные параметры можно из модели убрать"
   ]
  },
  {
   "cell_type": "code",
   "execution_count": 100,
   "metadata": {},
   "outputs": [],
   "source": [
    "# data[['G3', 'reason']].groupby('reason').mean()"
   ]
  },
  {
   "cell_type": "code",
   "execution_count": 14,
   "metadata": {},
   "outputs": [],
   "source": [
    "data = data.drop([\"Fjob\", \"Mjob\", \"reason\"], axis=1)"
   ]
  },
  {
   "cell_type": "code",
   "execution_count": 111,
   "metadata": {},
   "outputs": [],
   "source": [
    "# data[['G3', 'guardian']].groupby('guardian').max() # .mean();"
   ]
  },
  {
   "cell_type": "markdown",
   "metadata": {},
   "source": [
    "### можно сделать 'guardian' бинарным, т.к. при father/mother 'G3' почти одинаковый, а при other - меньше"
   ]
  },
  {
   "cell_type": "code",
   "execution_count": 15,
   "metadata": {},
   "outputs": [
    {
     "data": {
      "text/html": [
       "<div>\n",
       "<style scoped>\n",
       "    .dataframe tbody tr th:only-of-type {\n",
       "        vertical-align: middle;\n",
       "    }\n",
       "\n",
       "    .dataframe tbody tr th {\n",
       "        vertical-align: top;\n",
       "    }\n",
       "\n",
       "    .dataframe thead th {\n",
       "        text-align: right;\n",
       "    }\n",
       "</style>\n",
       "<table border=\"1\" class=\"dataframe\">\n",
       "  <thead>\n",
       "    <tr style=\"text-align: right;\">\n",
       "      <th></th>\n",
       "      <th>G3</th>\n",
       "    </tr>\n",
       "    <tr>\n",
       "      <th>guardian</th>\n",
       "      <th></th>\n",
       "    </tr>\n",
       "  </thead>\n",
       "  <tbody>\n",
       "    <tr>\n",
       "      <td>0</td>\n",
       "      <td>18</td>\n",
       "    </tr>\n",
       "    <tr>\n",
       "      <td>1</td>\n",
       "      <td>20</td>\n",
       "    </tr>\n",
       "  </tbody>\n",
       "</table>\n",
       "</div>"
      ],
      "text/plain": [
       "          G3\n",
       "guardian    \n",
       "0         18\n",
       "1         20"
      ]
     },
     "execution_count": 15,
     "metadata": {},
     "output_type": "execute_result"
    }
   ],
   "source": [
    "bin_guard = {\"guardian\": {\"other\": 0, \"father\": 1, \"mother\": 1}}\n",
    "data.replace(bin_guard, inplace=True)\n",
    "\n",
    "data[['G3', 'guardian']].groupby('guardian').max() # .mean();"
   ]
  },
  {
   "cell_type": "code",
   "execution_count": 16,
   "metadata": {},
   "outputs": [
    {
     "data": {
      "text/html": [
       "<div>\n",
       "<style scoped>\n",
       "    .dataframe tbody tr th:only-of-type {\n",
       "        vertical-align: middle;\n",
       "    }\n",
       "\n",
       "    .dataframe tbody tr th {\n",
       "        vertical-align: top;\n",
       "    }\n",
       "\n",
       "    .dataframe thead th {\n",
       "        text-align: right;\n",
       "    }\n",
       "</style>\n",
       "<table border=\"1\" class=\"dataframe\">\n",
       "  <thead>\n",
       "    <tr style=\"text-align: right;\">\n",
       "      <th></th>\n",
       "      <th>traveltime</th>\n",
       "      <th>address</th>\n",
       "    </tr>\n",
       "  </thead>\n",
       "  <tbody>\n",
       "    <tr>\n",
       "      <td>traveltime</td>\n",
       "      <td>1.000000</td>\n",
       "      <td>-0.343852</td>\n",
       "    </tr>\n",
       "    <tr>\n",
       "      <td>address</td>\n",
       "      <td>-0.343852</td>\n",
       "      <td>1.000000</td>\n",
       "    </tr>\n",
       "  </tbody>\n",
       "</table>\n",
       "</div>"
      ],
      "text/plain": [
       "            traveltime   address\n",
       "traveltime    1.000000 -0.343852\n",
       "address      -0.343852  1.000000"
      ]
     },
     "execution_count": 16,
     "metadata": {},
     "output_type": "execute_result"
    }
   ],
   "source": [
    "data[[\"traveltime\", \"address\"]].corr()"
   ]
  },
  {
   "cell_type": "markdown",
   "metadata": {},
   "source": [
    "## Часть 2. Регрессия"
   ]
  },
  {
   "cell_type": "markdown",
   "metadata": {},
   "source": [
    "* Решите задачу регрессии: постройте модель, предсказывающую итоговую оценку, которую получит студент по предмету (`G3`). При решении задачи **нельзя** использовать признак `G2`.  \n",
    "<br>  \n",
    "* При решении задачи используйте различные методы, которые рассматривались на занятиях:  \n",
    "  * Линейная регрессия + регуляризации;  \n",
    "  * Полиномиальная регрессия;  \n",
    "  * KNN и  Radius Neighbors;  \n",
    "  * Деревья решений.  \n",
    "  \n",
    "  На кросс-валидации подберите оптимальные значения гиперпараметров алгоритмов.  \n",
    "<br>    \n",
    "* Оцените качество каждой модели, используйте различные метрики. Сравните модели и сделайте вывод о качестве решения задачи.  \n",
    "<br>    \n",
    "* Задачу необходимо решить в двух вариантах: с использованием признака `G1`  и без него. Сравните качество решений в двух случаях.  \n",
    "<br>    \n",
    "* В регрессионных моделях попробуйте дать интерпретацию весам признаков. "
   ]
  },
  {
   "cell_type": "code",
   "execution_count": 17,
   "metadata": {},
   "outputs": [],
   "source": [
    "X = data.drop([\"G2\", \"G3\"], axis=1) # с использованием G1\n",
    "y = data[\"G3\"]"
   ]
  },
  {
   "cell_type": "code",
   "execution_count": 18,
   "metadata": {},
   "outputs": [
    {
     "name": "stdout",
     "output_type": "stream",
     "text": [
      "Populating the interactive namespace from numpy and matplotlib\n"
     ]
    }
   ],
   "source": [
    "from sklearn.linear_model import LogisticRegression, LinearRegression\n",
    "from sklearn.neighbors import RadiusNeighborsRegressor, KNeighborsRegressor, RadiusNeighborsClassifier, KNeighborsClassifier\n",
    "from sklearn.preprocessing import PolynomialFeatures\n",
    "from sklearn.model_selection import train_test_split, GridSearchCV\n",
    "from sklearn.metrics import accuracy_score, mean_squared_error, mean_absolute_error, median_absolute_error, r2_score\n",
    "\n",
    "from sklearn.model_selection import cross_val_score, StratifiedKFold\n",
    "from sklearn.linear_model import LassoCV, RidgeCV, Lasso, Ridge\n",
    "from sklearn.tree import DecisionTreeClassifier, DecisionTreeRegressor\n",
    "\n",
    "%pylab inline"
   ]
  },
  {
   "cell_type": "code",
   "execution_count": 19,
   "metadata": {},
   "outputs": [],
   "source": [
    "skf = StratifiedKFold(n_splits=10, shuffle=True, random_state=17)\n",
    "\n",
    "x_train, x_test, y_train, y_test = train_test_split(X, y, test_size=0.3, shuffle=True,  random_state=17)"
   ]
  },
  {
   "cell_type": "markdown",
   "metadata": {},
   "source": [
    "#### Модели сравниваются в основном по коэффициенту детерминации (explained_variance), т.к. он кажется одним из наиболее информативных для оценки качества регрессии"
   ]
  },
  {
   "cell_type": "markdown",
   "metadata": {},
   "source": [
    "### Решение с признаком G1"
   ]
  },
  {
   "cell_type": "markdown",
   "metadata": {},
   "source": [
    "***Модели Линейной, Гребневой и Лассо - регрессий с дефолтными параметрами***\n",
    "<br><br><br>\n",
    "***Linear Regression***"
   ]
  },
  {
   "cell_type": "code",
   "execution_count": 20,
   "metadata": {},
   "outputs": [],
   "source": [
    "def give_scores():\n",
    "\n",
    "    mse = mean_squared_error(y_pred, y_test)\n",
    "\n",
    "    rmse = np.sqrt(mse)\n",
    "\n",
    "    mae = mean_absolute_error(y_pred, y_test)\n",
    "\n",
    "    medae = median_absolute_error(y_pred, y_test)\n",
    "\n",
    "    R2 = r2_score(y_pred, y_test)\n",
    "\n",
    "    print(\"MSE:   {}\\nRMSE:  {}\\nR2:    {}\\nMAE:   {}\\nMedAE: {}\".format(mse, rmse, R2, mae, medae))"
   ]
  },
  {
   "cell_type": "code",
   "execution_count": 21,
   "metadata": {},
   "outputs": [
    {
     "name": "stdout",
     "output_type": "stream",
     "text": [
      "[0.7212634  0.72980152 0.67886604 0.75522519 0.70279481 0.67726597\n",
      " 0.56480495 0.58470005 0.71631916 0.64050065]\n",
      "\n",
      "\n",
      " 0.6771541735676616\n"
     ]
    }
   ],
   "source": [
    "lr = LinearRegression()\n",
    "\n",
    "cvs = cross_val_score(lr, X, y, scoring = 'explained_variance', cv=skf)\n",
    "print(cvs)\n",
    "print(\"\\n\\n\", mean(cvs))"
   ]
  },
  {
   "cell_type": "code",
   "execution_count": 22,
   "metadata": {},
   "outputs": [
    {
     "data": {
      "text/plain": [
       "Subject      -1.266222\n",
       "school        0.972257\n",
       "age          -0.481540\n",
       "address      -0.449569\n",
       "Medu          0.253810\n",
       "Fedu          0.248699\n",
       "guardian      0.189826\n",
       "traveltime    0.183061\n",
       "studytime     0.105731\n",
       "failures      0.100267\n",
       "higher       -0.075374\n",
       "internet     -0.069884\n",
       "romantic      0.069746\n",
       "Dalc         -0.049121\n",
       "Walc          0.041431\n",
       "absences      0.035538\n",
       "G1           -0.031491\n",
       "dtype: float64"
      ]
     },
     "execution_count": 22,
     "metadata": {},
     "output_type": "execute_result"
    }
   ],
   "source": [
    "model = lr.fit(x_train, y_train)\n",
    "y_pred = model.predict(x_test).astype(int)\n",
    "\n",
    "pd.Series(sorted(model.coef_, key=abs, reverse=True), index=x_train.columns)"
   ]
  },
  {
   "cell_type": "code",
   "execution_count": 23,
   "metadata": {},
   "outputs": [
    {
     "name": "stdout",
     "output_type": "stream",
     "text": [
      "MSE:   4.103896103896104\n",
      "RMSE:  2.0258075189652405\n",
      "R2:    0.6103778607771786\n",
      "MAE:   1.474025974025974\n",
      "MedAE: 1.0\n"
     ]
    }
   ],
   "source": [
    "give_scores()"
   ]
  },
  {
   "cell_type": "markdown",
   "metadata": {},
   "source": [
    "***Ridge Regression***"
   ]
  },
  {
   "cell_type": "code",
   "execution_count": 24,
   "metadata": {},
   "outputs": [
    {
     "name": "stdout",
     "output_type": "stream",
     "text": [
      "[0.72117669 0.72985793 0.67883451 0.75518778 0.70272571 0.67734998\n",
      " 0.5648542  0.58512675 0.71640461 0.64050267]\n",
      "\n",
      "\n",
      " 0.6772020822624112\n"
     ]
    }
   ],
   "source": [
    "ridge_reg = Ridge(random_state=17)\n",
    "\n",
    "cvs = cross_val_score(ridge_reg, X, y, scoring = 'explained_variance', cv=skf)\n",
    "print(cvs)\n",
    "print(\"\\n\\n\", mean(cvs))"
   ]
  },
  {
   "cell_type": "code",
   "execution_count": 25,
   "metadata": {},
   "outputs": [
    {
     "data": {
      "text/plain": [
       "Subject      -1.258037\n",
       "school        0.972447\n",
       "age          -0.478716\n",
       "address      -0.449202\n",
       "Medu          0.251548\n",
       "Fedu          0.243609\n",
       "guardian      0.187976\n",
       "traveltime    0.178738\n",
       "studytime     0.105563\n",
       "failures      0.100294\n",
       "higher       -0.075201\n",
       "internet     -0.069596\n",
       "romantic      0.068938\n",
       "Dalc         -0.049369\n",
       "Walc          0.041306\n",
       "absences      0.035419\n",
       "G1           -0.031760\n",
       "dtype: float64"
      ]
     },
     "execution_count": 25,
     "metadata": {},
     "output_type": "execute_result"
    }
   ],
   "source": [
    "model = ridge_reg.fit(x_train, y_train)\n",
    "y_pred = model.predict(x_test).astype(int)\n",
    "\n",
    "pd.Series(sorted(model.coef_, key=abs, reverse=True), index=x_train.columns)"
   ]
  },
  {
   "cell_type": "code",
   "execution_count": 26,
   "metadata": {},
   "outputs": [
    {
     "name": "stdout",
     "output_type": "stream",
     "text": [
      "MSE:   4.103896103896104\n",
      "RMSE:  2.0258075189652405\n",
      "R2:    0.6103778607771786\n",
      "MAE:   1.474025974025974\n",
      "MedAE: 1.0\n"
     ]
    }
   ],
   "source": [
    "give_scores()"
   ]
  },
  {
   "cell_type": "markdown",
   "metadata": {},
   "source": [
    "***Lasso Regression***"
   ]
  },
  {
   "cell_type": "code",
   "execution_count": 27,
   "metadata": {},
   "outputs": [
    {
     "name": "stdout",
     "output_type": "stream",
     "text": [
      "[0.672367   0.69657932 0.65004785 0.71087766 0.655973   0.64819449\n",
      " 0.53879712 0.63342041 0.6594578  0.60412886]\n",
      "\n",
      "\n",
      " 0.6469843490006167\n"
     ]
    }
   ],
   "source": [
    "lasso_reg = Lasso(random_state=17)\n",
    "\n",
    "cvs = cross_val_score(lasso_reg, X, y, scoring = 'explained_variance', cv=skf)\n",
    "print(cvs)\n",
    "print(\"\\n\\n\", mean(cvs))"
   ]
  },
  {
   "cell_type": "code",
   "execution_count": 28,
   "metadata": {},
   "outputs": [
    {
     "data": {
      "text/plain": [
       "Subject       0.92419\n",
       "school       -0.00000\n",
       "age           0.00000\n",
       "address      -0.00000\n",
       "Medu          0.00000\n",
       "Fedu          0.00000\n",
       "guardian      0.00000\n",
       "traveltime    0.00000\n",
       "studytime    -0.00000\n",
       "failures     -0.00000\n",
       "higher       -0.00000\n",
       "internet      0.00000\n",
       "romantic      0.00000\n",
       "Dalc         -0.00000\n",
       "Walc         -0.00000\n",
       "absences     -0.00000\n",
       "G1            0.00000\n",
       "dtype: float64"
      ]
     },
     "execution_count": 28,
     "metadata": {},
     "output_type": "execute_result"
    }
   ],
   "source": [
    "model = lasso_reg.fit(x_train, y_train)\n",
    "y_pred = model.predict(x_test).astype(int)\n",
    "\n",
    "pd.Series(sorted(model.coef_, key=abs, reverse=True), index=x_train.columns)"
   ]
  },
  {
   "cell_type": "code",
   "execution_count": 29,
   "metadata": {},
   "outputs": [
    {
     "name": "stdout",
     "output_type": "stream",
     "text": [
      "MSE:   4.402597402597403\n",
      "RMSE:  2.098236736547476\n",
      "R2:    0.4053986332574032\n",
      "MAE:   1.5\n",
      "MedAE: 1.0\n"
     ]
    }
   ],
   "source": [
    "give_scores()"
   ]
  },
  {
   "cell_type": "markdown",
   "metadata": {},
   "source": [
    "***Подбор параметров для регрессий по GridSearch***"
   ]
  },
  {
   "cell_type": "code",
   "execution_count": 30,
   "metadata": {},
   "outputs": [
    {
     "name": "stdout",
     "output_type": "stream",
     "text": [
      "0.021038076152304613\n",
      "[0.72155199 0.73247815 0.67832391 0.75138457 0.70041991 0.6802924\n",
      " 0.5687431  0.59841253 0.71825969 0.64490255]\n",
      "0.6794768792805596\n"
     ]
    },
    {
     "data": {
      "text/plain": [
       "<bound method RegressorMixin.score of LassoCV(alphas=array([1.00000000e-03, 2.10380762e-02, 4.10761523e-02, 6.11142285e-02,\n",
       "       8.11523046e-02, 1.01190381e-01, 1.21228457e-01, 1.41266533e-01,\n",
       "       1.61304609e-01, 1.81342685e-01, 2.01380762e-01, 2.21418838e-01,\n",
       "       2.41456914e-01, 2.61494990e-01, 2.81533066e-01, 3.01571142e-01,\n",
       "       3.21609218e-01, 3.41647295e-01, 3.61685371e-01, 3.81723447e-01,\n",
       "       4.01761523e-01, 4.21799599e-0...\n",
       "       9.77958116e+00, 9.79961924e+00, 9.81965731e+00, 9.83969539e+00,\n",
       "       9.85973347e+00, 9.87977154e+00, 9.89980962e+00, 9.91984770e+00,\n",
       "       9.93988577e+00, 9.95992385e+00, 9.97996192e+00, 1.00000000e+01]),\n",
       "        copy_X=True, cv=5, eps=0.001, fit_intercept=True, max_iter=1000,\n",
       "        n_alphas=100, n_jobs=None, normalize=False, positive=False,\n",
       "        precompute='auto', random_state=17, selection='cyclic', tol=0.0001,\n",
       "        verbose=False)>"
      ]
     },
     "execution_count": 30,
     "metadata": {},
     "output_type": "execute_result"
    }
   ],
   "source": [
    "n_alphas = 500\n",
    "alphas = np.linspace(0.001, 10, n_alphas)\n",
    "lasso_cv = LassoCV(cv=5, alphas=alphas, random_state=17).fit(X, y)\n",
    "alpha = lasso_cv.alpha_\n",
    "print(alpha)\n",
    "\n",
    "print(cross_val_score(Lasso(lasso_cv.alpha_), X, y, cv=skf, scoring='explained_variance'))\n",
    "\n",
    "print(abs(cross_val_score(Lasso(lasso_cv.alpha_), X, y, cv=skf, scoring='explained_variance').mean()))\n",
    "\n",
    "lasso_cv.score"
   ]
  },
  {
   "cell_type": "code",
   "execution_count": 31,
   "metadata": {},
   "outputs": [
    {
     "data": {
      "image/png": "[encoded data removed]",
      "text/plain": [
       "<Figure size 432x288 with 1 Axes>"
      ]
     },
     "metadata": {
      "needs_background": "light"
     },
     "output_type": "display_data"
    }
   ],
   "source": [
    "plt.plot(lasso_cv.alphas_, lasso_cv.mse_path_.mean(1))\n",
    "plt.axvline(lasso_cv.alpha_, c='g');"
   ]
  },
  {
   "cell_type": "code",
   "execution_count": 32,
   "metadata": {},
   "outputs": [
    {
     "name": "stdout",
     "output_type": "stream",
     "text": [
      "31.03006012024048\n",
      "[0.71859406 0.73083871 0.6776571  0.7536453  0.70053755 0.67915499\n",
      " 0.56547478 0.59492637 0.71726219 0.63981072]\n",
      "0.677790177391085\n"
     ]
    },
    {
     "name": "stderr",
     "output_type": "stream",
     "text": [
      "C:\\Anaconda\\lib\\site-packages\\sklearn\\model_selection\\_search.py:814: DeprecationWarning: The default of the `iid` parameter will change from True to False in version 0.22 and will be removed in 0.24. This will change numeric results when test-set sizes are unequal.\n",
      "  DeprecationWarning)\n"
     ]
    },
    {
     "data": {
      "text/plain": [
       "RidgeCV(alphas=array([   1.        ,    3.00200401,    5.00400802,    7.00601202,\n",
       "          9.00801603,   11.01002004,   13.01202405,   15.01402806,\n",
       "         17.01603206,   19.01803607,   21.02004008,   23.02204409,\n",
       "         25.0240481 ,   27.0260521 ,   29.02805611,   31.03006012,\n",
       "         33.03206413,   35.03406814,   37.03607214,   39.03807615,\n",
       "         41.04008016,   43.04208417,   45.04408818,   47.04609218,\n",
       "         49.04809619,   51.0501002 ,   53.05210421,   55.05410822,\n",
       "         57.05611...\n",
       "        969.96993988,  971.97194389,  973.9739479 ,  975.9759519 ,\n",
       "        977.97795591,  979.97995992,  981.98196393,  983.98396794,\n",
       "        985.98597194,  987.98797595,  989.98997996,  991.99198397,\n",
       "        993.99398798,  995.99599198,  997.99799599, 1000.        ]),\n",
       "        cv=StratifiedKFold(n_splits=10, random_state=17, shuffle=True),\n",
       "        fit_intercept=True, gcv_mode=None, normalize=False,\n",
       "        scoring='explained_variance', store_cv_values=False)"
      ]
     },
     "execution_count": 32,
     "metadata": {},
     "output_type": "execute_result"
    }
   ],
   "source": [
    "n_alphas = 500\n",
    "alphas = np.linspace(1, 1000, n_alphas)\n",
    "\n",
    "ridge_cv = RidgeCV(alphas=alphas, cv=skf, scoring='explained_variance').fit(X, y)\n",
    "\n",
    "print(ridge_cv.alpha_)\n",
    "\n",
    "print(cross_val_score(Ridge(ridge_cv.alpha_), X, y, cv=skf, scoring='explained_variance'))\n",
    "\n",
    "print(abs(cross_val_score(Ridge(ridge_cv.alpha_), X, y, cv=skf, scoring='explained_variance').mean()))\n",
    "\n",
    "ridge_cv"
   ]
  },
  {
   "cell_type": "markdown",
   "metadata": {},
   "source": [
    "***Polynomial Regression***"
   ]
  },
  {
   "cell_type": "code",
   "execution_count": 33,
   "metadata": {},
   "outputs": [],
   "source": [
    "poly_features = PolynomialFeatures(degree=2)\n",
    "\n",
    "X_train_poly = poly_features.fit_transform(x_train)\n",
    "\n",
    "# fit the transformed features to Linear Regression\n",
    "poly_model = Lasso(alpha = 0.01, random_state=17)\n",
    "poly_model.fit(X_train_poly, y_train)\n",
    "\n",
    "# predicting on training data-set\n",
    "y_train_predicted = poly_model.predict(X_train_poly)\n",
    "\n",
    "# predicting on test data-set\n",
    "y_pred = poly_model.predict(poly_features.fit_transform(x_test))"
   ]
  },
  {
   "cell_type": "code",
   "execution_count": 34,
   "metadata": {},
   "outputs": [
    {
     "name": "stdout",
     "output_type": "stream",
     "text": [
      "MSE:   4.186991155708433\n",
      "RMSE:  2.0462138587421483\n",
      "R2:    0.6754383635708123\n",
      "MAE:   1.5304394958189047\n",
      "MedAE: 1.0919852351428299\n"
     ]
    }
   ],
   "source": [
    "give_scores()"
   ]
  },
  {
   "cell_type": "code",
   "execution_count": 35,
   "metadata": {},
   "outputs": [],
   "source": [
    "poly_features = PolynomialFeatures(degree=3)\n",
    "\n",
    "X_train_poly = poly_features.fit_transform(x_train)\n",
    "\n",
    "# fit the transformed features to Linear Regression\n",
    "poly_model = Lasso(alpha = 0.01)\n",
    "poly_model.fit(X_train_poly, y_train)\n",
    "\n",
    "# predicting on training data-set\n",
    "y_train_predicted = poly_model.predict(X_train_poly)\n",
    "\n",
    "# predicting on test data-set\n",
    "y_pred = poly_model.predict(poly_features.fit_transform(x_test))"
   ]
  },
  {
   "cell_type": "code",
   "execution_count": 36,
   "metadata": {},
   "outputs": [
    {
     "name": "stdout",
     "output_type": "stream",
     "text": [
      "MSE:   9.759686164102003\n",
      "RMSE:  3.124049641747391\n",
      "R2:    0.5314144051712043\n",
      "MAE:   2.0054707281491613\n",
      "MedAE: 1.4036951372063022\n"
     ]
    }
   ],
   "source": [
    "give_scores()"
   ]
  },
  {
   "cell_type": "markdown",
   "metadata": {},
   "source": [
    "***KNN Regression***"
   ]
  },
  {
   "cell_type": "code",
   "execution_count": 37,
   "metadata": {},
   "outputs": [
    {
     "name": "stdout",
     "output_type": "stream",
     "text": [
      "MSE:   3.8655844155844155\n",
      "RMSE:  1.9661089531316456\n",
      "R2:    0.6590268733889533\n",
      "MAE:   1.4435064935064936\n",
      "MedAE: 1.1999999999999993\n"
     ]
    }
   ],
   "source": [
    "knn = KNeighborsRegressor()\n",
    "knn.fit(x_train, y_train)\n",
    "y_pred = knn.predict(x_test)\n",
    "\n",
    "give_scores()"
   ]
  },
  {
   "cell_type": "code",
   "execution_count": 38,
   "metadata": {},
   "outputs": [
    {
     "name": "stdout",
     "output_type": "stream",
     "text": [
      "[0.73535409 0.75961347 0.61596366 0.72240534 0.74501674 0.55215618\n",
      " 0.49590496 0.6338153  0.71780412 0.74125834]\n",
      "\n",
      "\n",
      " 0.6719292189310718\n"
     ]
    }
   ],
   "source": [
    "cvs = cross_val_score(knn, X, y, cv=skf, scoring='explained_variance')\n",
    "print(cvs)\n",
    "print(\"\\n\\n\", mean(cvs))"
   ]
  },
  {
   "cell_type": "code",
   "execution_count": 39,
   "metadata": {},
   "outputs": [
    {
     "name": "stdout",
     "output_type": "stream",
     "text": [
      "KNeighborsRegressor(algorithm='brute', leaf_size=30, metric='minkowski',\n",
      "                    metric_params=None, n_jobs=None, n_neighbors=5, p=2,\n",
      "                    weights='uniform')\n"
     ]
    },
    {
     "name": "stderr",
     "output_type": "stream",
     "text": [
      "C:\\Anaconda\\lib\\site-packages\\sklearn\\model_selection\\_search.py:814: DeprecationWarning: The default of the `iid` parameter will change from True to False in version 0.22 and will be removed in 0.24. This will change numeric results when test-set sizes are unequal.\n",
      "  DeprecationWarning)\n"
     ]
    },
    {
     "data": {
      "text/plain": [
       "0.6794519154597648"
      ]
     },
     "execution_count": 39,
     "metadata": {},
     "output_type": "execute_result"
    }
   ],
   "source": [
    "parameters = {'algorithm': ['auto', 'ball_tree', 'kd_tree', 'brute'], 'metric': ['manhattan', 'minkowski', 'euclidean']}\n",
    "estimator = KNeighborsRegressor()\n",
    "model = GridSearchCV(estimator, parameters, cv=skf, scoring='explained_variance', n_jobs = -1)\n",
    "model.fit(X, y)\n",
    "print(model.best_estimator_)\n",
    "model.best_score_"
   ]
  },
  {
   "cell_type": "code",
   "execution_count": 40,
   "metadata": {},
   "outputs": [
    {
     "data": {
      "text/plain": [
       "0.6592360851404424"
      ]
     },
     "execution_count": 40,
     "metadata": {},
     "output_type": "execute_result"
    }
   ],
   "source": [
    "from sklearn.metrics import explained_variance_score\n",
    "explained_variance_score(y_pred, y_test)"
   ]
  },
  {
   "cell_type": "markdown",
   "metadata": {},
   "source": [
    "***DecisionTreeRegressor***"
   ]
  },
  {
   "cell_type": "code",
   "execution_count": 41,
   "metadata": {},
   "outputs": [
    {
     "name": "stdout",
     "output_type": "stream",
     "text": [
      "[0.50422033 0.4837647  0.42984749 0.37729685 0.52146825 0.41057938\n",
      " 0.48034907 0.47287324 0.57754153 0.60817595]\n",
      "\n",
      "\n",
      " 0.4866116785485512\n"
     ]
    }
   ],
   "source": [
    "tree = DecisionTreeRegressor(random_state=17)\n",
    "cvs = cross_val_score(tree, X, y, cv=skf, scoring='explained_variance')\n",
    "print(cvs)\n",
    "print(\"\\n\\n\", mean(cvs))"
   ]
  },
  {
   "cell_type": "code",
   "execution_count": 42,
   "metadata": {},
   "outputs": [
    {
     "name": "stdout",
     "output_type": "stream",
     "text": [
      "MSE:   7.308441558441558\n",
      "RMSE:  2.7034129463405248\n",
      "R2:    0.6071844806515234\n",
      "MAE:   1.8344155844155845\n",
      "MedAE: 1.0\n"
     ]
    }
   ],
   "source": [
    "model = tree.fit(x_train, y_train)\n",
    "\n",
    "y_pred = model.predict(x_test)\n",
    "\n",
    "give_scores()"
   ]
  },
  {
   "cell_type": "code",
   "execution_count": 43,
   "metadata": {},
   "outputs": [
    {
     "name": "stdout",
     "output_type": "stream",
     "text": [
      "DecisionTreeRegressor(criterion='mse', max_depth=5, max_features=None,\n",
      "                      max_leaf_nodes=None, min_impurity_decrease=0.0,\n",
      "                      min_impurity_split=None, min_samples_leaf=1,\n",
      "                      min_samples_split=2, min_weight_fraction_leaf=0.0,\n",
      "                      presort=False, random_state=17, splitter='best')\n"
     ]
    },
    {
     "name": "stderr",
     "output_type": "stream",
     "text": [
      "C:\\Anaconda\\lib\\site-packages\\sklearn\\model_selection\\_search.py:814: DeprecationWarning: The default of the `iid` parameter will change from True to False in version 0.22 and will be removed in 0.24. This will change numeric results when test-set sizes are unequal.\n",
      "  DeprecationWarning)\n"
     ]
    },
    {
     "data": {
      "text/plain": [
       "0.6661858919894654"
      ]
     },
     "execution_count": 43,
     "metadata": {},
     "output_type": "execute_result"
    }
   ],
   "source": [
    "parameters = {'max_depth': range(2, 6)}\n",
    "model = GridSearchCV(tree, parameters, cv=skf, scoring='explained_variance', n_jobs = -1)\n",
    "model.fit(X, y)\n",
    "print(model.best_estimator_)\n",
    "model.best_score_"
   ]
  },
  {
   "cell_type": "markdown",
   "metadata": {},
   "source": [
    "#### При подборе параметров модели лучший результат для метрики 'explained_variance' = 0.6794519154597648 достигается в моделях Lasso и KNN, но такой результат всё равно является недостаточно хорошим, возможно, такая низкая точность связана с целочисленностью данных"
   ]
  },
  {
   "cell_type": "markdown",
   "metadata": {},
   "source": [
    "### Решение задачи регрессии без включения признака G1<br>\n",
    "\n",
    "***Здесь рассматриваются отдельно оценка по математике и по португальскому***\n",
    "<br><br>\n",
    "***С дефолтными параметрами***"
   ]
  },
  {
   "cell_type": "code",
   "execution_count": 44,
   "metadata": {},
   "outputs": [],
   "source": [
    "def give_scores(x_train, y_train, x_test, y_test, estimator):\n",
    "    model = estimator.fit(x_train, y_train)\n",
    "    y_pred = model.predict(x_test).astype(int)\n",
    "\n",
    "    mse = mean_squared_error(y_pred, y_test)\n",
    "\n",
    "    rmse = np.sqrt(mse)\n",
    "\n",
    "    mae = mean_absolute_error(y_pred, y_test)\n",
    "\n",
    "    medae = median_absolute_error(y_pred, y_test)\n",
    "\n",
    "    R2 = r2_score(y_pred, y_test)\n",
    "\n",
    "    print(\"MSE:   {}\\nRMSE:  {}\\nR2:    {}\\nMAE:   {}\\nMedAE: {}\".format(mse, rmse, R2, mae, medae))"
   ]
  },
  {
   "cell_type": "code",
   "execution_count": 45,
   "metadata": {},
   "outputs": [],
   "source": [
    "X2 = data.drop([\"G2\", \"G1\"], axis=1) # без G1\n",
    "\n",
    "X_m = X2[X2[\"Subject\"] == 1].drop(\"G3\", axis=1)\n",
    "X_p = X2[X2[\"Subject\"] == 0].drop(\"G3\", axis=1)\n",
    "y_m = X2[X2[\"Subject\"] == 1][\"G3\"]\n",
    "y_p = X2[X2[\"Subject\"] == 0][\"G3\"]\n",
    "\n",
    "x_train_m, x_test_m, y_train_m, y_test_m = train_test_split(X_m, y_m, test_size=0.3, random_state=17)\n",
    "x_train_p, x_test_p, y_train_p, y_test_p = train_test_split(X_p, y_p, test_size=0.3, random_state=17)"
   ]
  },
  {
   "cell_type": "markdown",
   "metadata": {},
   "source": [
    "***Linear Regression***"
   ]
  },
  {
   "cell_type": "code",
   "execution_count": 46,
   "metadata": {},
   "outputs": [
    {
     "name": "stdout",
     "output_type": "stream",
     "text": [
      "[ 0.15565451  0.1104832  -0.12424603  0.27672301 -0.20623917  0.15211438\n",
      "  0.09459474  0.13019107  0.22638914  0.06911207]\n",
      "\n",
      "\n",
      " 0.08847769169180557\n"
     ]
    }
   ],
   "source": [
    "lr = LinearRegression()\n",
    "\n",
    "cvs = cross_val_score(lr, X_m, y_m, scoring = 'explained_variance', cv=skf)\n",
    "print(cvs)\n",
    "print(\"\\n\\n\", mean(cvs))"
   ]
  },
  {
   "cell_type": "code",
   "execution_count": 47,
   "metadata": {},
   "outputs": [
    {
     "name": "stdout",
     "output_type": "stream",
     "text": [
      "[0.15886922 0.39727324 0.2975152  0.28854912 0.20873037 0.30297367\n",
      " 0.36928157 0.26709811 0.14166222 0.39558964]\n",
      "\n",
      "\n",
      " 0.28275423646776876\n"
     ]
    }
   ],
   "source": [
    "cvs = cross_val_score(lr, X_p, y_p, scoring = 'explained_variance', cv=skf)\n",
    "print(cvs)\n",
    "print(\"\\n\\n\", mean(cvs))"
   ]
  },
  {
   "cell_type": "code",
   "execution_count": 48,
   "metadata": {},
   "outputs": [
    {
     "name": "stdout",
     "output_type": "stream",
     "text": [
      "MSE:   17.5982905982906\n",
      "RMSE:  4.195031656411022\n",
      "R2:    -3.8659408580431442\n",
      "MAE:   3.2735042735042734\n",
      "MedAE: 2.0\n"
     ]
    }
   ],
   "source": [
    "give_scores(x_train_m, y_train_m, x_test_m, y_test_m, lr)"
   ]
  },
  {
   "cell_type": "code",
   "execution_count": 49,
   "metadata": {},
   "outputs": [
    {
     "name": "stdout",
     "output_type": "stream",
     "text": [
      "MSE:   7.602094240837697\n",
      "RMSE:  2.757189554752755\n",
      "R2:    -0.7266987933804023\n",
      "MAE:   2.1465968586387434\n",
      "MedAE: 2.0\n"
     ]
    }
   ],
   "source": [
    "give_scores(x_train_p, y_train_p, x_test_p, y_test_p, lr)"
   ]
  },
  {
   "cell_type": "markdown",
   "metadata": {},
   "source": [
    "***Ridge Regression***"
   ]
  },
  {
   "cell_type": "code",
   "execution_count": 50,
   "metadata": {},
   "outputs": [
    {
     "name": "stdout",
     "output_type": "stream",
     "text": [
      "[ 0.15694942  0.11587071 -0.11174754  0.27739325 -0.20288392  0.15305441\n",
      "  0.09781117  0.12979353  0.22474628  0.06900388]\n",
      "\n",
      "\n",
      " 0.09099911745467018\n"
     ]
    }
   ],
   "source": [
    "ridge_reg = Ridge()\n",
    "\n",
    "cvs = cross_val_score(ridge_reg, X_m, y_m, scoring = 'explained_variance', cv=skf)\n",
    "print(cvs)\n",
    "print(\"\\n\\n\", mean(cvs))"
   ]
  },
  {
   "cell_type": "code",
   "execution_count": 55,
   "metadata": {},
   "outputs": [
    {
     "name": "stdout",
     "output_type": "stream",
     "text": [
      "[0.15992141 0.39671587 0.29802233 0.28926157 0.20897008 0.30248897\n",
      " 0.36992011 0.265964   0.14392849 0.39634469]\n",
      "\n",
      "\n",
      " 0.28315375231708284\n"
     ]
    }
   ],
   "source": [
    "ridge_reg = Ridge()\n",
    "\n",
    "cvs = cross_val_score(ridge_reg, X_p, y_p, scoring = 'explained_variance', cv=skf)\n",
    "print(cvs)\n",
    "print(\"\\n\\n\", mean(cvs))"
   ]
  },
  {
   "cell_type": "code",
   "execution_count": 56,
   "metadata": {},
   "outputs": [
    {
     "name": "stdout",
     "output_type": "stream",
     "text": [
      "MSE:   17.581196581196583\n",
      "RMSE:  4.192993749243681\n",
      "R2:    -3.9040060314614067\n",
      "MAE:   3.2564102564102564\n",
      "MedAE: 2.0\n"
     ]
    }
   ],
   "source": [
    "give_scores(x_train_m, y_train_m, x_test_m, y_test_m, ridge_reg)"
   ]
  },
  {
   "cell_type": "code",
   "execution_count": 57,
   "metadata": {},
   "outputs": [
    {
     "name": "stdout",
     "output_type": "stream",
     "text": [
      "MSE:   7.5863874345549736\n",
      "RMSE:  2.754339745665914\n",
      "R2:    -0.7345354040536982\n",
      "MAE:   2.141361256544503\n",
      "MedAE: 2.0\n"
     ]
    }
   ],
   "source": [
    "give_scores(x_train_p, y_train_p, x_test_p, y_test_p, ridge_reg)"
   ]
  },
  {
   "cell_type": "markdown",
   "metadata": {},
   "source": [
    "***Lasso Regression***"
   ]
  },
  {
   "cell_type": "code",
   "execution_count": 61,
   "metadata": {},
   "outputs": [
    {
     "name": "stdout",
     "output_type": "stream",
     "text": [
      "[0.05298956 0.02966716 0.03542887 0.05180825 0.01002168 0.03919076\n",
      " 0.04039434 0.0457026  0.04837942 0.01962195]\n",
      "\n",
      "\n",
      " 0.03732045954296383\n"
     ]
    }
   ],
   "source": [
    "lasso_reg = Lasso()\n",
    "\n",
    "cvs = cross_val_score(lasso_reg, X_m, y_m, scoring = 'explained_variance', cv=skf)\n",
    "print(cvs)\n",
    "print(\"\\n\\n\", mean(cvs))"
   ]
  },
  {
   "cell_type": "code",
   "execution_count": 62,
   "metadata": {},
   "outputs": [
    {
     "name": "stdout",
     "output_type": "stream",
     "text": [
      "[-0.00862661  0.00587196  0.0024103   0.0060796   0.00560302  0.00932197\n",
      "  0.0070341   0.00060217 -0.00072397  0.00775516]\n",
      "\n",
      "\n",
      " 0.003532770146423181\n"
     ]
    }
   ],
   "source": [
    "cvs = cross_val_score(lasso_reg, X_p, y_p, scoring = 'explained_variance', cv=skf)\n",
    "print(cvs)\n",
    "print(\"\\n\\n\", mean(cvs))"
   ]
  },
  {
   "cell_type": "code",
   "execution_count": 63,
   "metadata": {},
   "outputs": [
    {
     "name": "stdout",
     "output_type": "stream",
     "text": [
      "MSE:   20.54700854700855\n",
      "RMSE:  4.532880822061015\n",
      "R2:    -364.2831168831168\n",
      "MAE:   3.3846153846153846\n",
      "MedAE: 3.0\n"
     ]
    }
   ],
   "source": [
    "give_scores(x_train_m, y_train_m, x_test_m, y_test_m, lasso_reg)"
   ]
  },
  {
   "cell_type": "code",
   "execution_count": 64,
   "metadata": {},
   "outputs": [
    {
     "name": "stdout",
     "output_type": "stream",
     "text": [
      "MSE:   10.534031413612565\n",
      "RMSE:  3.2456172623420287\n",
      "R2:    0.0\n",
      "MAE:   2.5026178010471205\n",
      "MedAE: 2.0\n"
     ]
    }
   ],
   "source": [
    "give_scores(x_train_p, y_train_p, x_test_p, y_test_p, lasso_reg)"
   ]
  },
  {
   "cell_type": "markdown",
   "metadata": {},
   "source": [
    "***Подбор параметров на кросс-валидации для Ridge и Lasso***"
   ]
  },
  {
   "cell_type": "code",
   "execution_count": 65,
   "metadata": {},
   "outputs": [
    {
     "name": "stdout",
     "output_type": "stream",
     "text": [
      "[ 0.15690153  0.12694682 -0.09510927  0.27751684 -0.19503991  0.14610562\n",
      "  0.09787952  0.12959757  0.21578926  0.06135657]\n",
      "0.15022429133050955\n"
     ]
    },
    {
     "data": {
      "text/plain": [
       "0.01"
      ]
     },
     "execution_count": 65,
     "metadata": {},
     "output_type": "execute_result"
    }
   ],
   "source": [
    "n_alphas = 200\n",
    "alphas = np.linspace(0.01, 10, n_alphas)\n",
    "lasso_cv = LassoCV(cv=skf, alphas=alphas, random_state=17).fit(X, y)\n",
    "\n",
    "cvs = cross_val_score(Lasso(lasso_cv.alpha_), X_m, y_m, cv=skf, scoring='explained_variance')\n",
    "print(cvs)\n",
    "\n",
    "print(abs(cvs).mean())\n",
    "\n",
    "lasso_cv.alpha_"
   ]
  },
  {
   "cell_type": "code",
   "execution_count": 66,
   "metadata": {},
   "outputs": [
    {
     "name": "stdout",
     "output_type": "stream",
     "text": [
      "[0.15920707 0.39656184 0.30061616 0.28592214 0.21155754 0.302853\n",
      " 0.3685835  0.26373631 0.15010079 0.4020125 ]\n",
      "0.28411508555807935\n"
     ]
    },
    {
     "data": {
      "text/plain": [
       "0.01"
      ]
     },
     "execution_count": 66,
     "metadata": {},
     "output_type": "execute_result"
    }
   ],
   "source": [
    "n_alphas = 200\n",
    "alphas = np.linspace(0.01, 10, n_alphas)\n",
    "lasso_cv = LassoCV(cv=skf, alphas=alphas, random_state=17).fit(X, y)\n",
    "\n",
    "cvs = cross_val_score(Lasso(lasso_cv.alpha_), X_p, y_p, cv=skf, scoring='explained_variance')\n",
    "print(cvs)\n",
    "\n",
    "print(abs(cvs).mean())\n",
    "\n",
    "lasso_cv.alpha_"
   ]
  },
  {
   "cell_type": "code",
   "execution_count": 67,
   "metadata": {},
   "outputs": [
    {
     "name": "stdout",
     "output_type": "stream",
     "text": [
      "0.14763607338865778\n"
     ]
    },
    {
     "name": "stderr",
     "output_type": "stream",
     "text": [
      "C:\\Anaconda\\lib\\site-packages\\sklearn\\model_selection\\_search.py:814: DeprecationWarning: The default of the `iid` parameter will change from True to False in version 0.22 and will be removed in 0.24. This will change numeric results when test-set sizes are unequal.\n",
      "  DeprecationWarning)\n"
     ]
    },
    {
     "data": {
      "text/plain": [
       "35.27236180904523"
      ]
     },
     "execution_count": 67,
     "metadata": {},
     "output_type": "execute_result"
    }
   ],
   "source": [
    "n_alphas = 200\n",
    "alphas = np.linspace(0.1, 1000, n_alphas)\n",
    "ridge_cv = RidgeCV(cv=skf, alphas=alphas).fit(X, y)\n",
    "\n",
    "cvs = cross_val_score(Ridge(ridge_cv.alpha_), X_m, y_m, cv=skf, scoring='explained_variance')\n",
    "\n",
    "print(abs(cvs).mean())\n",
    "\n",
    "ridge_cv.alpha_"
   ]
  },
  {
   "cell_type": "code",
   "execution_count": 68,
   "metadata": {},
   "outputs": [
    {
     "name": "stdout",
     "output_type": "stream",
     "text": [
      "0.2844011088320939\n"
     ]
    },
    {
     "name": "stderr",
     "output_type": "stream",
     "text": [
      "C:\\Anaconda\\lib\\site-packages\\sklearn\\model_selection\\_search.py:814: DeprecationWarning: The default of the `iid` parameter will change from True to False in version 0.22 and will be removed in 0.24. This will change numeric results when test-set sizes are unequal.\n",
      "  DeprecationWarning)\n"
     ]
    },
    {
     "data": {
      "text/plain": [
       "35.27236180904523"
      ]
     },
     "execution_count": 68,
     "metadata": {},
     "output_type": "execute_result"
    }
   ],
   "source": [
    "n_alphas = 200\n",
    "alphas = np.linspace(0.1, 1000, n_alphas)\n",
    "ridge_cv = RidgeCV(cv=skf, alphas=alphas).fit(X, y)\n",
    "\n",
    "cvs = cross_val_score(Ridge(ridge_cv.alpha_), X_p, y_p, cv=skf, scoring='explained_variance')\n",
    "\n",
    "print(abs(cvs).mean())\n",
    "\n",
    "ridge_cv.alpha_"
   ]
  },
  {
   "cell_type": "markdown",
   "metadata": {},
   "source": [
    "***KNN Regression***"
   ]
  },
  {
   "cell_type": "code",
   "execution_count": 69,
   "metadata": {},
   "outputs": [
    {
     "name": "stdout",
     "output_type": "stream",
     "text": [
      "[ 0.21761667  0.45947881  0.29658825  0.19510538 -0.16348618  0.08352104\n",
      "  0.33264224  0.00704855  0.28189037  0.21465784]\n",
      "\n",
      "\n",
      " 0.1925062976880781\n"
     ]
    }
   ],
   "source": [
    "knn = KNeighborsRegressor()\n",
    "\n",
    "cvs = cross_val_score(knn, X_m, y_m, scoring = 'explained_variance', cv=skf)\n",
    "print(cvs)\n",
    "print(\"\\n\\n\", mean(cvs))"
   ]
  },
  {
   "cell_type": "code",
   "execution_count": 70,
   "metadata": {},
   "outputs": [
    {
     "name": "stdout",
     "output_type": "stream",
     "text": [
      "[0.06266201 0.35807345 0.21424512 0.1276872  0.21009345 0.2459635\n",
      " 0.08217959 0.23692235 0.15082318 0.21340397]\n",
      "\n",
      "\n",
      " 0.19020538164452078\n"
     ]
    }
   ],
   "source": [
    "cvs = cross_val_score(knn, X_p, y_p, scoring = 'explained_variance', cv=skf)\n",
    "print(cvs)\n",
    "print(\"\\n\\n\", mean(cvs))"
   ]
  },
  {
   "cell_type": "code",
   "execution_count": 76,
   "metadata": {},
   "outputs": [
    {
     "name": "stdout",
     "output_type": "stream",
     "text": [
      "MSE:   19.5982905982906\n",
      "RMSE:  4.426995662781995\n",
      "R2:    -1.7057548007100207\n",
      "MAE:   3.4444444444444446\n",
      "MedAE: 3.0\n"
     ]
    }
   ],
   "source": [
    "give_scores(x_train_m, y_train_m, x_test_m, y_test_m, knn)"
   ]
  },
  {
   "cell_type": "code",
   "execution_count": 77,
   "metadata": {},
   "outputs": [
    {
     "name": "stdout",
     "output_type": "stream",
     "text": [
      "MSE:   7.68586387434555\n",
      "RMSE:  2.7723390619376898\n",
      "R2:    -1.0416205510572607\n",
      "MAE:   2.073298429319372\n",
      "MedAE: 2.0\n"
     ]
    }
   ],
   "source": [
    "give_scores(x_train_p, y_train_p, x_test_p, y_test_p, knn)"
   ]
  },
  {
   "cell_type": "code",
   "execution_count": 78,
   "metadata": {},
   "outputs": [
    {
     "name": "stdout",
     "output_type": "stream",
     "text": [
      "KNeighborsRegressor(algorithm='ball_tree', leaf_size=30, metric='minkowski',\n",
      "                    metric_params=None, n_jobs=None, n_neighbors=7, p=2,\n",
      "                    weights='uniform')\n"
     ]
    },
    {
     "name": "stderr",
     "output_type": "stream",
     "text": [
      "C:\\Anaconda\\lib\\site-packages\\sklearn\\model_selection\\_search.py:814: DeprecationWarning: The default of the `iid` parameter will change from True to False in version 0.22 and will be removed in 0.24. This will change numeric results when test-set sizes are unequal.\n",
      "  DeprecationWarning)\n"
     ]
    },
    {
     "data": {
      "text/plain": [
       "0.2032067622482552"
      ]
     },
     "execution_count": 78,
     "metadata": {},
     "output_type": "execute_result"
    }
   ],
   "source": [
    "parameters = {'algorithm': ['auto', 'ball_tree', 'kd_tree', 'brute'],\n",
    "              'metric': ['manhattan', 'minkowski', 'euclidean'], 'n_neighbors': range(3, 9)}\n",
    "estimator = KNeighborsRegressor()\n",
    "model = GridSearchCV(estimator, parameters, cv=skf, scoring='explained_variance', n_jobs = -1)\n",
    "model.fit(X_m, y_m)\n",
    "print(model.best_estimator_)\n",
    "model.best_score_"
   ]
  },
  {
   "cell_type": "code",
   "execution_count": 79,
   "metadata": {},
   "outputs": [
    {
     "name": "stdout",
     "output_type": "stream",
     "text": [
      "KNeighborsRegressor(algorithm='brute', leaf_size=30, metric='manhattan',\n",
      "                    metric_params=None, n_jobs=None, n_neighbors=7, p=2,\n",
      "                    weights='uniform')\n"
     ]
    },
    {
     "name": "stderr",
     "output_type": "stream",
     "text": [
      "C:\\Anaconda\\lib\\site-packages\\sklearn\\model_selection\\_search.py:814: DeprecationWarning: The default of the `iid` parameter will change from True to False in version 0.22 and will be removed in 0.24. This will change numeric results when test-set sizes are unequal.\n",
      "  DeprecationWarning)\n"
     ]
    },
    {
     "data": {
      "text/plain": [
       "0.2190484213643389"
      ]
     },
     "execution_count": 79,
     "metadata": {},
     "output_type": "execute_result"
    }
   ],
   "source": [
    "parameters = {'algorithm': ['auto', 'ball_tree', 'kd_tree', 'brute'],\n",
    "              'metric': ['manhattan', 'minkowski', 'euclidean'], 'n_neighbors': range(3, 9)}\n",
    "estimator = KNeighborsRegressor()\n",
    "model = GridSearchCV(estimator, parameters, cv=skf, scoring='explained_variance', n_jobs = -1)\n",
    "model.fit(X_p, y_p)\n",
    "print(model.best_estimator_)\n",
    "model.best_score_"
   ]
  },
  {
   "cell_type": "markdown",
   "metadata": {},
   "source": [
    "***Decision Tree Regressor***"
   ]
  },
  {
   "cell_type": "code",
   "execution_count": 80,
   "metadata": {},
   "outputs": [
    {
     "name": "stdout",
     "output_type": "stream",
     "text": [
      "[-0.05185521 -0.71240667 -0.79543515  0.12951846 -0.95014357 -0.91893564\n",
      " -0.74410214 -0.44316722 -0.28265776 -0.76212211]\n",
      "\n",
      "\n",
      " -0.5531307007866844\n"
     ]
    }
   ],
   "source": [
    "tree = DecisionTreeRegressor(random_state=17)\n",
    "cvs = cross_val_score(tree, X_m, y_m, cv=skf, scoring='explained_variance')\n",
    "print(cvs)\n",
    "print(\"\\n\\n\", mean(cvs))"
   ]
  },
  {
   "cell_type": "code",
   "execution_count": 81,
   "metadata": {},
   "outputs": [
    {
     "name": "stdout",
     "output_type": "stream",
     "text": [
      "[-0.43474414 -0.09863266 -0.82330504 -0.72344387 -0.35663799 -0.2169502\n",
      " -0.21468011 -0.52322895 -0.34638247 -0.68916887]\n",
      "\n",
      "\n",
      " -0.442717430098096\n"
     ]
    }
   ],
   "source": [
    "tree = DecisionTreeRegressor(random_state=17)\n",
    "cvs = cross_val_score(tree, X_p, y_p, cv=skf, scoring='explained_variance')\n",
    "print(cvs)\n",
    "print(\"\\n\\n\", mean(cvs))"
   ]
  },
  {
   "cell_type": "code",
   "execution_count": 82,
   "metadata": {},
   "outputs": [
    {
     "name": "stdout",
     "output_type": "stream",
     "text": [
      "MSE:   26.52991452991453\n",
      "RMSE:  5.150719806970142\n",
      "R2:    -0.2387962969279782\n",
      "MAE:   3.8461538461538463\n",
      "MedAE: 3.0\n"
     ]
    }
   ],
   "source": [
    "give_scores(x_train_m, y_train_m, x_test_m, y_test_m, tree)"
   ]
  },
  {
   "cell_type": "code",
   "execution_count": 83,
   "metadata": {},
   "outputs": [
    {
     "name": "stdout",
     "output_type": "stream",
     "text": [
      "MSE:   16.76439790575916\n",
      "RMSE:  4.094434992249744\n",
      "R2:    -0.28005475346290565\n",
      "MAE:   3.0366492146596857\n",
      "MedAE: 2.0\n"
     ]
    }
   ],
   "source": [
    "give_scores(x_train_p, y_train_p, x_test_p, y_test_p, tree)"
   ]
  },
  {
   "cell_type": "code",
   "execution_count": 85,
   "metadata": {},
   "outputs": [
    {
     "name": "stdout",
     "output_type": "stream",
     "text": [
      "DecisionTreeRegressor(criterion='mse', max_depth=2, max_features=None,\n",
      "                      max_leaf_nodes=None, min_impurity_decrease=0.0,\n",
      "                      min_impurity_split=None, min_samples_leaf=1,\n",
      "                      min_samples_split=2, min_weight_fraction_leaf=0.0,\n",
      "                      presort=False, random_state=17, splitter='best')\n"
     ]
    },
    {
     "name": "stderr",
     "output_type": "stream",
     "text": [
      "C:\\Anaconda\\lib\\site-packages\\sklearn\\model_selection\\_search.py:814: DeprecationWarning: The default of the `iid` parameter will change from True to False in version 0.22 and will be removed in 0.24. This will change numeric results when test-set sizes are unequal.\n",
      "  DeprecationWarning)\n"
     ]
    },
    {
     "data": {
      "text/plain": [
       "0.19780316814128607"
      ]
     },
     "execution_count": 85,
     "metadata": {},
     "output_type": "execute_result"
    }
   ],
   "source": [
    "parameters = {'max_depth': range(2, 6)}\n",
    "model = GridSearchCV(tree, parameters, cv=skf, scoring='explained_variance', n_jobs = -1)\n",
    "model.fit(X_m, y_m)\n",
    "print(model.best_estimator_)\n",
    "model.best_score_"
   ]
  },
  {
   "cell_type": "code",
   "execution_count": 86,
   "metadata": {},
   "outputs": [
    {
     "name": "stdout",
     "output_type": "stream",
     "text": [
      "DecisionTreeRegressor(criterion='mse', max_depth=2, max_features=None,\n",
      "                      max_leaf_nodes=None, min_impurity_decrease=0.0,\n",
      "                      min_impurity_split=None, min_samples_leaf=1,\n",
      "                      min_samples_split=2, min_weight_fraction_leaf=0.0,\n",
      "                      presort=False, random_state=17, splitter='best')\n"
     ]
    },
    {
     "name": "stderr",
     "output_type": "stream",
     "text": [
      "C:\\Anaconda\\lib\\site-packages\\sklearn\\model_selection\\_search.py:814: DeprecationWarning: The default of the `iid` parameter will change from True to False in version 0.22 and will be removed in 0.24. This will change numeric results when test-set sizes are unequal.\n",
      "  DeprecationWarning)\n"
     ]
    },
    {
     "data": {
      "text/plain": [
       "0.22372310047291283"
      ]
     },
     "execution_count": 86,
     "metadata": {},
     "output_type": "execute_result"
    }
   ],
   "source": [
    "parameters = {'max_depth': range(2, 6)}\n",
    "model = GridSearchCV(tree, parameters, cv=skf, scoring='explained_variance', n_jobs = -1)\n",
    "model.fit(X_p, y_p)\n",
    "print(model.best_estimator_)\n",
    "model.best_score_"
   ]
  },
  {
   "cell_type": "markdown",
   "metadata": {},
   "source": [
    "***Без признака G1 результаты получаются очень плохими, точность очень низкая, в некоторых моделях предсказание получается хуже константного - коэффициент детерминации отрицательный, лучшая модель по нему - Ridge Regression = 0.2844011088320939***"
   ]
  },
  {
   "cell_type": "markdown",
   "metadata": {},
   "source": [
    "## Часть 3. Классификация"
   ]
  },
  {
   "cell_type": "markdown",
   "metadata": {},
   "source": [
    "### Бинарная классификация\n",
    "  \n",
    "* Решите задачу бинарной классификации: постройте модель, предсказывающую, сдаст студент предмет (`G3` >= 8) или не сдаст (`G3` < 8). <br>При решении задачи **нельзя** использовать признаки `G1` и `G2`.  \n",
    "  \n",
    "\n",
    "* При решении задачи рассмотрите различные модели:  \n",
    "  * KNN и  Radius Neighbors;  \n",
    "  * Логистическая регрессия;  \n",
    "  * Деревья решений.  \n",
    "  \n",
    "  На кросс-валидации подберите оптимальные значения гиперпараметров алгоритмов.  \n",
    "\n",
    "\n",
    "* Оцените качество моделей, используйте различные подходы: confusion matrix и производные метрики, roc-кривая и roc auc. <br>Сделайте вывод о качестве решения задачи.  \n",
    "  \n",
    "  \n",
    "* Постройте дерево решений глубины 5 (остальные параметры по умолчанию), оцените качество на 5-fold валидации.\n",
    "  * Для одного из деревьев (т.е. обученного на одной из итераций кросс-валидации) выведите само дерево - постройте график или выведите в текстовом виде. По структуре дерева сформулируйте правила, по которым принимается решение.\n",
    "  * Сравните между собой деревья решений, полученные на различных итерациях 5-fold валидации. Сделайте вывод, насколько сильно они похожи или различаются между собой. \n"
   ]
  },
  {
   "cell_type": "code",
   "execution_count": 89,
   "metadata": {},
   "outputs": [],
   "source": [
    "from sklearn.metrics import roc_auc_score, accuracy_score"
   ]
  },
  {
   "cell_type": "code",
   "execution_count": 90,
   "metadata": {},
   "outputs": [],
   "source": [
    "g1 = data[data[\"G3\"] >= 8]\n",
    "g1[\"G3\"] = 1\n",
    "g0 = data[data[\"G3\"] < 8]\n",
    "g0[\"G3\"] = 0\n",
    "binary_d = pd.concat([g0, g1], ignore_index=True)"
   ]
  },
  {
   "cell_type": "code",
   "execution_count": 91,
   "metadata": {},
   "outputs": [
    {
     "data": {
      "text/html": [
       "<div>\n",
       "<style scoped>\n",
       "    .dataframe tbody tr th:only-of-type {\n",
       "        vertical-align: middle;\n",
       "    }\n",
       "\n",
       "    .dataframe tbody tr th {\n",
       "        vertical-align: top;\n",
       "    }\n",
       "\n",
       "    .dataframe thead th {\n",
       "        text-align: right;\n",
       "    }\n",
       "</style>\n",
       "<table border=\"1\" class=\"dataframe\">\n",
       "  <thead>\n",
       "    <tr style=\"text-align: right;\">\n",
       "      <th></th>\n",
       "      <th>Subject</th>\n",
       "      <th>school</th>\n",
       "      <th>age</th>\n",
       "      <th>address</th>\n",
       "      <th>Medu</th>\n",
       "      <th>Fedu</th>\n",
       "      <th>guardian</th>\n",
       "      <th>traveltime</th>\n",
       "      <th>studytime</th>\n",
       "      <th>failures</th>\n",
       "      <th>higher</th>\n",
       "      <th>internet</th>\n",
       "      <th>romantic</th>\n",
       "      <th>Dalc</th>\n",
       "      <th>Walc</th>\n",
       "      <th>absences</th>\n",
       "      <th>G1</th>\n",
       "      <th>G2</th>\n",
       "      <th>G3</th>\n",
       "    </tr>\n",
       "  </thead>\n",
       "  <tbody>\n",
       "    <tr>\n",
       "      <td>0</td>\n",
       "      <td>0</td>\n",
       "      <td>0</td>\n",
       "      <td>15</td>\n",
       "      <td>1</td>\n",
       "      <td>2</td>\n",
       "      <td>2</td>\n",
       "      <td>0</td>\n",
       "      <td>1</td>\n",
       "      <td>3</td>\n",
       "      <td>0</td>\n",
       "      <td>1</td>\n",
       "      <td>1</td>\n",
       "      <td>1</td>\n",
       "      <td>1</td>\n",
       "      <td>1</td>\n",
       "      <td>0</td>\n",
       "      <td>14</td>\n",
       "      <td>14</td>\n",
       "      <td>1</td>\n",
       "    </tr>\n",
       "    <tr>\n",
       "      <td>1</td>\n",
       "      <td>1</td>\n",
       "      <td>1</td>\n",
       "      <td>18</td>\n",
       "      <td>1</td>\n",
       "      <td>1</td>\n",
       "      <td>3</td>\n",
       "      <td>1</td>\n",
       "      <td>1</td>\n",
       "      <td>1</td>\n",
       "      <td>1</td>\n",
       "      <td>0</td>\n",
       "      <td>1</td>\n",
       "      <td>1</td>\n",
       "      <td>2</td>\n",
       "      <td>3</td>\n",
       "      <td>7</td>\n",
       "      <td>8</td>\n",
       "      <td>7</td>\n",
       "      <td>1</td>\n",
       "    </tr>\n",
       "    <tr>\n",
       "      <td>2</td>\n",
       "      <td>0</td>\n",
       "      <td>0</td>\n",
       "      <td>17</td>\n",
       "      <td>0</td>\n",
       "      <td>4</td>\n",
       "      <td>4</td>\n",
       "      <td>1</td>\n",
       "      <td>1</td>\n",
       "      <td>1</td>\n",
       "      <td>0</td>\n",
       "      <td>1</td>\n",
       "      <td>0</td>\n",
       "      <td>0</td>\n",
       "      <td>1</td>\n",
       "      <td>2</td>\n",
       "      <td>6</td>\n",
       "      <td>12</td>\n",
       "      <td>11</td>\n",
       "      <td>1</td>\n",
       "    </tr>\n",
       "    <tr>\n",
       "      <td>3</td>\n",
       "      <td>0</td>\n",
       "      <td>0</td>\n",
       "      <td>16</td>\n",
       "      <td>1</td>\n",
       "      <td>3</td>\n",
       "      <td>3</td>\n",
       "      <td>1</td>\n",
       "      <td>1</td>\n",
       "      <td>2</td>\n",
       "      <td>0</td>\n",
       "      <td>1</td>\n",
       "      <td>1</td>\n",
       "      <td>0</td>\n",
       "      <td>2</td>\n",
       "      <td>4</td>\n",
       "      <td>4</td>\n",
       "      <td>11</td>\n",
       "      <td>11</td>\n",
       "      <td>1</td>\n",
       "    </tr>\n",
       "    <tr>\n",
       "      <td>4</td>\n",
       "      <td>1</td>\n",
       "      <td>0</td>\n",
       "      <td>15</td>\n",
       "      <td>1</td>\n",
       "      <td>2</td>\n",
       "      <td>3</td>\n",
       "      <td>1</td>\n",
       "      <td>1</td>\n",
       "      <td>3</td>\n",
       "      <td>0</td>\n",
       "      <td>1</td>\n",
       "      <td>1</td>\n",
       "      <td>0</td>\n",
       "      <td>1</td>\n",
       "      <td>2</td>\n",
       "      <td>4</td>\n",
       "      <td>11</td>\n",
       "      <td>10</td>\n",
       "      <td>1</td>\n",
       "    </tr>\n",
       "    <tr>\n",
       "      <td>...</td>\n",
       "      <td>...</td>\n",
       "      <td>...</td>\n",
       "      <td>...</td>\n",
       "      <td>...</td>\n",
       "      <td>...</td>\n",
       "      <td>...</td>\n",
       "      <td>...</td>\n",
       "      <td>...</td>\n",
       "      <td>...</td>\n",
       "      <td>...</td>\n",
       "      <td>...</td>\n",
       "      <td>...</td>\n",
       "      <td>...</td>\n",
       "      <td>...</td>\n",
       "      <td>...</td>\n",
       "      <td>...</td>\n",
       "      <td>...</td>\n",
       "      <td>...</td>\n",
       "      <td>...</td>\n",
       "    </tr>\n",
       "    <tr>\n",
       "      <td>1019</td>\n",
       "      <td>0</td>\n",
       "      <td>0</td>\n",
       "      <td>17</td>\n",
       "      <td>1</td>\n",
       "      <td>2</td>\n",
       "      <td>2</td>\n",
       "      <td>1</td>\n",
       "      <td>1</td>\n",
       "      <td>1</td>\n",
       "      <td>0</td>\n",
       "      <td>1</td>\n",
       "      <td>1</td>\n",
       "      <td>1</td>\n",
       "      <td>1</td>\n",
       "      <td>3</td>\n",
       "      <td>2</td>\n",
       "      <td>13</td>\n",
       "      <td>12</td>\n",
       "      <td>1</td>\n",
       "    </tr>\n",
       "    <tr>\n",
       "      <td>1020</td>\n",
       "      <td>1</td>\n",
       "      <td>0</td>\n",
       "      <td>17</td>\n",
       "      <td>1</td>\n",
       "      <td>0</td>\n",
       "      <td>2</td>\n",
       "      <td>1</td>\n",
       "      <td>2</td>\n",
       "      <td>3</td>\n",
       "      <td>0</td>\n",
       "      <td>1</td>\n",
       "      <td>1</td>\n",
       "      <td>0</td>\n",
       "      <td>2</td>\n",
       "      <td>3</td>\n",
       "      <td>0</td>\n",
       "      <td>16</td>\n",
       "      <td>15</td>\n",
       "      <td>1</td>\n",
       "    </tr>\n",
       "    <tr>\n",
       "      <td>1021</td>\n",
       "      <td>1</td>\n",
       "      <td>0</td>\n",
       "      <td>15</td>\n",
       "      <td>1</td>\n",
       "      <td>4</td>\n",
       "      <td>4</td>\n",
       "      <td>1</td>\n",
       "      <td>1</td>\n",
       "      <td>2</td>\n",
       "      <td>0</td>\n",
       "      <td>1</td>\n",
       "      <td>1</td>\n",
       "      <td>0</td>\n",
       "      <td>1</td>\n",
       "      <td>2</td>\n",
       "      <td>0</td>\n",
       "      <td>10</td>\n",
       "      <td>8</td>\n",
       "      <td>1</td>\n",
       "    </tr>\n",
       "    <tr>\n",
       "      <td>1022</td>\n",
       "      <td>1</td>\n",
       "      <td>1</td>\n",
       "      <td>18</td>\n",
       "      <td>1</td>\n",
       "      <td>1</td>\n",
       "      <td>1</td>\n",
       "      <td>1</td>\n",
       "      <td>2</td>\n",
       "      <td>3</td>\n",
       "      <td>0</td>\n",
       "      <td>1</td>\n",
       "      <td>1</td>\n",
       "      <td>0</td>\n",
       "      <td>1</td>\n",
       "      <td>1</td>\n",
       "      <td>0</td>\n",
       "      <td>18</td>\n",
       "      <td>16</td>\n",
       "      <td>1</td>\n",
       "    </tr>\n",
       "    <tr>\n",
       "      <td>1023</td>\n",
       "      <td>0</td>\n",
       "      <td>0</td>\n",
       "      <td>19</td>\n",
       "      <td>1</td>\n",
       "      <td>1</td>\n",
       "      <td>1</td>\n",
       "      <td>0</td>\n",
       "      <td>3</td>\n",
       "      <td>2</td>\n",
       "      <td>2</td>\n",
       "      <td>1</td>\n",
       "      <td>1</td>\n",
       "      <td>1</td>\n",
       "      <td>1</td>\n",
       "      <td>1</td>\n",
       "      <td>2</td>\n",
       "      <td>8</td>\n",
       "      <td>8</td>\n",
       "      <td>1</td>\n",
       "    </tr>\n",
       "  </tbody>\n",
       "</table>\n",
       "<p>1024 rows × 19 columns</p>\n",
       "</div>"
      ],
      "text/plain": [
       "      Subject  school  age  address  Medu  Fedu  guardian  traveltime  \\\n",
       "0           0       0   15        1     2     2         0           1   \n",
       "1           1       1   18        1     1     3         1           1   \n",
       "2           0       0   17        0     4     4         1           1   \n",
       "3           0       0   16        1     3     3         1           1   \n",
       "4           1       0   15        1     2     3         1           1   \n",
       "...       ...     ...  ...      ...   ...   ...       ...         ...   \n",
       "1019        0       0   17        1     2     2         1           1   \n",
       "1020        1       0   17        1     0     2         1           2   \n",
       "1021        1       0   15        1     4     4         1           1   \n",
       "1022        1       1   18        1     1     1         1           2   \n",
       "1023        0       0   19        1     1     1         0           3   \n",
       "\n",
       "      studytime  failures  higher  internet  romantic  Dalc  Walc  absences  \\\n",
       "0             3         0       1         1         1     1     1         0   \n",
       "1             1         1       0         1         1     2     3         7   \n",
       "2             1         0       1         0         0     1     2         6   \n",
       "3             2         0       1         1         0     2     4         4   \n",
       "4             3         0       1         1         0     1     2         4   \n",
       "...         ...       ...     ...       ...       ...   ...   ...       ...   \n",
       "1019          1         0       1         1         1     1     3         2   \n",
       "1020          3         0       1         1         0     2     3         0   \n",
       "1021          2         0       1         1         0     1     2         0   \n",
       "1022          3         0       1         1         0     1     1         0   \n",
       "1023          2         2       1         1         1     1     1         2   \n",
       "\n",
       "      G1  G2  G3  \n",
       "0     14  14   1  \n",
       "1      8   7   1  \n",
       "2     12  11   1  \n",
       "3     11  11   1  \n",
       "4     11  10   1  \n",
       "...   ..  ..  ..  \n",
       "1019  13  12   1  \n",
       "1020  16  15   1  \n",
       "1021  10   8   1  \n",
       "1022  18  16   1  \n",
       "1023   8   8   1  \n",
       "\n",
       "[1024 rows x 19 columns]"
      ]
     },
     "execution_count": 91,
     "metadata": {},
     "output_type": "execute_result"
    }
   ],
   "source": [
    "binary_d = binary_d.sample(frac=1).reset_index(drop=True)\n",
    "binary_d"
   ]
  },
  {
   "cell_type": "code",
   "execution_count": 92,
   "metadata": {},
   "outputs": [],
   "source": [
    "X = binary_d.drop([\"G1\", \"G2\", \"G3\"], axis = 1)\n",
    "y = binary_d[\"G3\"]\n",
    "\n",
    "X_train, X_test, y_train, y_test = train_test_split(X, y, test_size = 0.3, shuffle=True, random_state = 17, stratify=y)"
   ]
  },
  {
   "cell_type": "code",
   "execution_count": 93,
   "metadata": {},
   "outputs": [
    {
     "data": {
      "image/png": "[encoded data removed]",
      "text/plain": [
       "<Figure size 1440x1440 with 25 Axes>"
      ]
     },
     "metadata": {
      "needs_background": "light"
     },
     "output_type": "display_data"
    }
   ],
   "source": [
    "from itertools import combinations\n",
    "\n",
    "fig = plt.figure(figsize=(20,20))\n",
    "j = 1\n",
    "for i in combinations(X.columns, 2):\n",
    "    if j > 25:\n",
    "        break\n",
    "    plt.subplot(5, 5, j)\n",
    "    plt.scatter(X_test[i[0]], X_test[i[1]], c=y_test, cmap='brg', lw=0, s=30)\n",
    "    plt.xlabel(*[i[1]])\n",
    "    plt.ylabel(*[i[0]])\n",
    "    plt.legend(y_test)\n",
    "    j += 1\n",
    "plt.show()"
   ]
  },
  {
   "cell_type": "markdown",
   "metadata": {},
   "source": [
    "***Logistic Regression***"
   ]
  },
  {
   "cell_type": "code",
   "execution_count": 94,
   "metadata": {},
   "outputs": [
    {
     "name": "stdout",
     "output_type": "stream",
     "text": [
      "0.7077922077922078\n",
      "0.5772707705553164\n"
     ]
    }
   ],
   "source": [
    "lr = LogisticRegression(random_state=17, class_weight = \"balanced\")\n",
    "\n",
    "model = lr.fit(X_train, y_train)\n",
    "y_pred = model.predict(X_test)\n",
    "\n",
    "print(accuracy_score(y_test, y_pred))\n",
    "print(roc_auc_score(y_pred, y_test))"
   ]
  },
  {
   "cell_type": "code",
   "execution_count": 95,
   "metadata": {},
   "outputs": [
    {
     "name": "stdout",
     "output_type": "stream",
     "text": [
      "[0.7184466  0.66990291 0.78640777 0.76699029 0.73786408 0.69902913\n",
      " 0.68627451 0.69607843 0.68316832 0.74257426]\n",
      "\n",
      "\n",
      " 0.7186736292132925\n"
     ]
    }
   ],
   "source": [
    "cvs = cross_val_score(lr, X, y, cv=skf)\n",
    "print(cvs)\n",
    "print(\"\\n\\n\", mean(cvs))"
   ]
  },
  {
   "cell_type": "code",
   "execution_count": 96,
   "metadata": {},
   "outputs": [
    {
     "name": "stderr",
     "output_type": "stream",
     "text": [
      "C:\\Anaconda\\lib\\site-packages\\sklearn\\model_selection\\_search.py:814: DeprecationWarning: The default of the `iid` parameter will change from True to False in version 0.22 and will be removed in 0.24. This will change numeric results when test-set sizes are unequal.\n",
      "  DeprecationWarning)\n"
     ]
    },
    {
     "data": {
      "text/plain": [
       "LogisticRegression(C=0.3945454545454546, class_weight='balanced', dual=False,\n",
       "                   fit_intercept=True, intercept_scaling=1, l1_ratio=None,\n",
       "                   max_iter=100, multi_class='warn', n_jobs=None, penalty='l2',\n",
       "                   random_state=17, solver='warn', tol=0.8571571428571427,\n",
       "                   verbose=0, warm_start=False)"
      ]
     },
     "execution_count": 96,
     "metadata": {},
     "output_type": "execute_result"
    }
   ],
   "source": [
    "c_values = np.linspace(1e-3, 1, 100)\n",
    "penal = ['l1', 'l2']\n",
    "tol = np.linspace(1e-4, 1, 8)\n",
    "parameters = {'C': c_values, 'penalty': penal, 'tol': tol}\n",
    "estimator = LogisticRegression(random_state=17, class_weight = 'balanced')\n",
    "model = GridSearchCV(estimator, parameters, cv=skf, scoring='roc_auc', n_jobs = -1)\n",
    "model.fit(X, y)\n",
    "model.best_estimator_"
   ]
  },
  {
   "cell_type": "code",
   "execution_count": 97,
   "metadata": {},
   "outputs": [
    {
     "data": {
      "text/plain": [
       "0.814767688610332"
      ]
     },
     "execution_count": 97,
     "metadata": {},
     "output_type": "execute_result"
    }
   ],
   "source": [
    "C = model.best_params_['C']\n",
    "model.best_score_"
   ]
  },
  {
   "cell_type": "code",
   "execution_count": 98,
   "metadata": {},
   "outputs": [
    {
     "name": "stdout",
     "output_type": "stream",
     "text": [
      "Maximal accuracy score: 0.7824675324675324\n",
      "Maximal ROC-AUC score: 0.5989583333333334\n"
     ]
    },
    {
     "data": {
      "image/png": "[encoded data removed]",
      "text/plain": [
       "<Figure size 936x360 with 2 Axes>"
      ]
     },
     "metadata": {
      "needs_background": "light"
     },
     "output_type": "display_data"
    }
   ],
   "source": [
    "accur = []\n",
    "roc_auc = []\n",
    "\n",
    "for c in c_values:\n",
    "    lr = LogisticRegression(random_state=17, C=c, class_weight=\"balanced\")\n",
    "    accur.append(accuracy_score(lr.fit(X_train, y_train).predict(X_test), y_test))\n",
    "    roc_auc.append(roc_auc_score(lr.fit(X_train, y_train).predict(X_test), y_test))\n",
    "\n",
    "\n",
    "fig = plt.figure(figsize=(13, 5))\n",
    "\n",
    "plt.subplot(1, 2, 1)    \n",
    "plt.plot(c_values, accur)\n",
    "plt.xlabel('Neighbours number')\n",
    "plt.ylabel('Accuracy score')\n",
    "\n",
    "plt.subplot(1, 2, 2)\n",
    "plt.plot(c_values, roc_auc)\n",
    "plt.xlabel('Neighbours number')\n",
    "plt.ylabel('ROC-AUC score')\n",
    "\n",
    "print(f'Maximal accuracy score: {max(accur)}')\n",
    "print(f'Maximal ROC-AUC score: {max(roc_auc)}')"
   ]
  },
  {
   "cell_type": "markdown",
   "metadata": {},
   "source": [
    "***KNN Classifier***"
   ]
  },
  {
   "cell_type": "code",
   "execution_count": 99,
   "metadata": {},
   "outputs": [
    {
     "name": "stdout",
     "output_type": "stream",
     "text": [
      "0.9058441558441559\n"
     ]
    }
   ],
   "source": [
    "knn = KNeighborsClassifier()\n",
    "knn.fit(X_train, y_train)\n",
    "y_pred = knn.predict(X_test)\n",
    "\n",
    "print(accuracy_score(y_pred, y_test))\n",
    "# roc_auc_score(y_pred, y_test)"
   ]
  },
  {
   "cell_type": "code",
   "execution_count": 86,
   "metadata": {},
   "outputs": [
    {
     "name": "stdout",
     "output_type": "stream",
     "text": [
      "[0.90291262 0.91262136 0.9223301  0.89320388 0.91262136 0.89320388\n",
      " 0.88235294 0.90196078 0.92079208 0.92079208]\n",
      "\n",
      "\n",
      " 0.9062791087789532\n"
     ]
    }
   ],
   "source": [
    "cvs = cross_val_score(knn, X, y, cv=skf, scoring = \"accuracy\")\n",
    "print(cvs)\n",
    "print(\"\\n\\n\", mean(cvs))"
   ]
  },
  {
   "cell_type": "code",
   "execution_count": 87,
   "metadata": {},
   "outputs": [],
   "source": [
    "def metric_viz(metric):\n",
    "    acc = []\n",
    "#   roc_auc = []\n",
    "\n",
    "    for i in range(3, 11):\n",
    "        neigh = KNeighborsClassifier(n_neighbors=i, metric = metric)\n",
    "        neigh.fit(X_train, y_train)\n",
    "        acc.append(accuracy_score(neigh.predict(X_test), y_test))\n",
    "#       roc_auc.append(roc_auc_score(neigh.predict(X_test), y_test))\n",
    "\n",
    "    fig = plt.figure(figsize=(13, 5))\n",
    "\n",
    "#     plt.subplot(1, 2, 1)    \n",
    "    plt.plot(range(3, 11), acc, \"*\")\n",
    "    plt.xlabel('Neighbours number')\n",
    "    plt.ylabel('Accuracy score')\n",
    "\n",
    "#     plt.subplot(1, 2, 2)\n",
    "#     plt.plot(range(3, 11), roc_auc, \"*\")\n",
    "#     plt.xlabel('Neighbours number')\n",
    "#     plt.ylabel('ROC-AUC score')\n",
    "\n",
    "    print(f'Maximal accuracy score: {max(acc)}')\n",
    "#   print(f'Maximal ROC-AUC score: {max(roc_auc)}')"
   ]
  },
  {
   "cell_type": "code",
   "execution_count": 88,
   "metadata": {},
   "outputs": [
    {
     "name": "stdout",
     "output_type": "stream",
     "text": [
      "[0.90291262 0.9223301  0.91262136 0.90291262 0.91262136 0.90291262\n",
      " 0.89215686 0.90196078 0.91089109 0.91089109]\n",
      "\n",
      "\n",
      " 0.9072210504888298\n"
     ]
    }
   ],
   "source": [
    "neigh = KNeighborsClassifier(n_neighbors=7, metric = 'manhattan')\n",
    "cvs = cross_val_score(neigh, X, y, cv=skf, scoring = \"accuracy\")\n",
    "print(cvs)\n",
    "print(\"\\n\\n\", mean(cvs))"
   ]
  },
  {
   "cell_type": "code",
   "execution_count": 78,
   "metadata": {},
   "outputs": [
    {
     "name": "stdout",
     "output_type": "stream",
     "text": [
      "Maximal accuracy score: 0.9058441558441559\n"
     ]
    },
    {
     "data": {
      "image/png": "[encoded data removed]",
      "text/plain": [
       "<Figure size 936x360 with 1 Axes>"
      ]
     },
     "metadata": {
      "needs_background": "light"
     },
     "output_type": "display_data"
    }
   ],
   "source": [
    " metric_viz('manhattan')"
   ]
  },
  {
   "cell_type": "code",
   "execution_count": 89,
   "metadata": {},
   "outputs": [
    {
     "name": "stdout",
     "output_type": "stream",
     "text": [
      "[0.91262136 0.91262136 0.93203883 0.90291262 0.9223301  0.89320388\n",
      " 0.88235294 0.91176471 0.92079208 0.92079208]\n",
      "\n",
      "\n",
      " 0.9111429960814471\n"
     ]
    }
   ],
   "source": [
    "neigh = KNeighborsClassifier(n_neighbors=8, metric = 'minkowski')\n",
    "cvs = cross_val_score(neigh, X, y, cv=skf, scoring = \"accuracy\")\n",
    "print(cvs)\n",
    "print(\"\\n\\n\", mean(cvs))"
   ]
  },
  {
   "cell_type": "code",
   "execution_count": 81,
   "metadata": {},
   "outputs": [
    {
     "name": "stdout",
     "output_type": "stream",
     "text": [
      "Maximal accuracy score: 0.9058441558441559\n"
     ]
    },
    {
     "data": {
      "image/png": "[encoded data removed]",
      "text/plain": [
       "<Figure size 936x360 with 1 Axes>"
      ]
     },
     "metadata": {
      "needs_background": "light"
     },
     "output_type": "display_data"
    }
   ],
   "source": [
    "metric_viz('minkowski')"
   ]
  },
  {
   "cell_type": "code",
   "execution_count": 90,
   "metadata": {},
   "outputs": [
    {
     "name": "stdout",
     "output_type": "stream",
     "text": [
      "[0.91262136 0.91262136 0.93203883 0.90291262 0.9223301  0.89320388\n",
      " 0.88235294 0.91176471 0.92079208 0.92079208]\n",
      "\n",
      "\n",
      " 0.9111429960814471\n"
     ]
    }
   ],
   "source": [
    "neigh = KNeighborsClassifier(n_neighbors=8, metric = 'euclidean')\n",
    "cvs = cross_val_score(neigh, X, y, cv=skf, scoring = \"accuracy\")\n",
    "print(cvs)\n",
    "print(\"\\n\\n\", mean(cvs))"
   ]
  },
  {
   "cell_type": "code",
   "execution_count": 82,
   "metadata": {},
   "outputs": [
    {
     "name": "stdout",
     "output_type": "stream",
     "text": [
      "Maximal accuracy score: 0.9058441558441559\n"
     ]
    },
    {
     "data": {
      "image/png": "[encoded data removed]",
      "text/plain": [
       "<Figure size 936x360 with 1 Axes>"
      ]
     },
     "metadata": {
      "needs_background": "light"
     },
     "output_type": "display_data"
    }
   ],
   "source": [
    "metric_viz('euclidean')"
   ]
  },
  {
   "cell_type": "code",
   "execution_count": 84,
   "metadata": {},
   "outputs": [
    {
     "name": "stdout",
     "output_type": "stream",
     "text": [
      "KNeighborsClassifier(algorithm='brute', leaf_size=30, metric='manhattan',\n",
      "                     metric_params=None, n_jobs=None, n_neighbors=7, p=2,\n",
      "                     weights='uniform')\n"
     ]
    },
    {
     "data": {
      "text/plain": [
       "0.912109375"
      ]
     },
     "execution_count": 84,
     "metadata": {},
     "output_type": "execute_result"
    }
   ],
   "source": [
    "parameters = {'algorithm': ['auto', 'ball_tree', 'kd_tree', 'brute'], 'metric': ['euclidean', 'minkowski', 'manhattan'],\n",
    "             'n_neighbors': range(3, 9)}\n",
    "estimator = KNeighborsClassifier()\n",
    "model = GridSearchCV(estimator, parameters, cv=skf, scoring='accuracy', n_jobs = -1)\n",
    "model.fit(X, y)\n",
    "print(model.best_estimator_)\n",
    "model.best_score_"
   ]
  },
  {
   "cell_type": "markdown",
   "metadata": {},
   "source": [
    "***Decision Tree***"
   ]
  },
  {
   "cell_type": "code",
   "execution_count": 17,
   "metadata": {},
   "outputs": [],
   "source": [
    "# !conda install python-graphviz"
   ]
  },
  {
   "cell_type": "code",
   "execution_count": 91,
   "metadata": {},
   "outputs": [],
   "source": [
    "from sklearn.tree import plot_tree\n",
    "from IPython.display import Image\n",
    "from graphviz import Source\n",
    "from sklearn import tree\n",
    "from sklearn.model_selection import KFold"
   ]
  },
  {
   "cell_type": "code",
   "execution_count": 92,
   "metadata": {},
   "outputs": [
    {
     "name": "stdout",
     "output_type": "stream",
     "text": [
      "[0.84951456 0.84878049 0.83414634 0.86764706 0.87254902]\n",
      "\n",
      "\n",
      " 0.8545274941612924\n"
     ]
    }
   ],
   "source": [
    "cvs = cross_val_score(DecisionTreeClassifier(random_state=17), X, y, cv=5)\n",
    "print(cvs)\n",
    "print(\"\\n\\n\", mean(cvs))"
   ]
  },
  {
   "cell_type": "code",
   "execution_count": 93,
   "metadata": {},
   "outputs": [
    {
     "name": "stdout",
     "output_type": "stream",
     "text": [
      "0.7111486486486487\n",
      "0.9058441558441559\n"
     ]
    },
    {
     "data": {
      "text/plain": [
       "DecisionTreeClassifier(class_weight=None, criterion='gini', max_depth=5,\n",
       "                       max_features=None, max_leaf_nodes=None,\n",
       "                       min_impurity_decrease=0.0, min_impurity_split=None,\n",
       "                       min_samples_leaf=1, min_samples_split=2,\n",
       "                       min_weight_fraction_leaf=0.0, presort=False,\n",
       "                       random_state=17, splitter='best')"
      ]
     },
     "execution_count": 93,
     "metadata": {},
     "output_type": "execute_result"
    }
   ],
   "source": [
    "model = DecisionTreeClassifier(max_depth = 5, random_state=17).fit(X_train, y_train)\n",
    "\n",
    "y_pred = model.predict(X_test)\n",
    "print(roc_auc_score(y_pred, y_test))\n",
    "print(accuracy_score(y_pred, y_test))\n",
    "model"
   ]
  },
  {
   "cell_type": "code",
   "execution_count": 137,
   "metadata": {},
   "outputs": [
    {
     "data": {
      "image/png": "[encoded data removed]",
      "text/plain": [
       "<IPython.core.display.Image object>"
      ]
     },
     "execution_count": 137,
     "metadata": {},
     "output_type": "execute_result"
    }
   ],
   "source": [
    "model = DecisionTreeClassifier(max_depth = 5, random_state=17).fit(X, y)\n",
    "graph = Source(tree.export_graphviz(model, out_file=None, feature_names=X.columns))\n",
    "png = graph.pipe(format='png')\n",
    "with open('dtree_pipe', 'wb') as f:\n",
    "    f.write(png)\n",
    "\n",
    "Image(png)"
   ]
  },
  {
   "cell_type": "code",
   "execution_count": 136,
   "metadata": {},
   "outputs": [
    {
     "data": {
      "image/png": "[encoded data removed]",
      "text/plain": [
       "<IPython.core.display.Image object>"
      ]
     },
     "execution_count": 136,
     "metadata": {},
     "output_type": "execute_result"
    }
   ],
   "source": [
    "graph = Source(tree.export_graphviz(DecisionTreeClassifier(max_depth = 3, random_state=17).fit(X, y),\n",
    "                                    out_file=None, feature_names=X.columns))\n",
    "png = graph.pipe(format='png')\n",
    "with open('dtree_pipe', 'wb') as f:\n",
    "    f.write(png)\n",
    "\n",
    "Image(png)"
   ]
  },
  {
   "cell_type": "markdown",
   "metadata": {},
   "source": [
    "#### Описание работы алгоритма дерева:<br>\n",
    "***Правило1 - деление по наличию предыдущих провалов экзаменов (<1 True)***\n",
    "***Правило2 - у тех, кто проваливал - по образованию матери (<4); для не проваливавших - по опекуну (0 - не отец и не мать)***\n",
    "***Правило3:***\n",
    "* ***Провалы <1 - образование матери <4 - по предмету (Порт - True)***\n",
    "* ***Провалы <1 - образование матери >3 - по дневной дозе алкоголя (<1 - True)***\n",
    "* ***Провалов >0 - опекун = родитель - по провалам (<3 - True)***\n",
    "* ***Провалов >0 - образование матери <4 - по предмету (Порт - True)***"
   ]
  },
  {
   "cell_type": "markdown",
   "metadata": {},
   "source": [
    "***Лучшая модель по accuracy получается в модели KNN ~ 0.9***"
   ]
  },
  {
   "cell_type": "markdown",
   "metadata": {},
   "source": [
    "### Многоклассовая классификация\n",
    "  \n",
    "* Решите задачу многоклассовой классификации: постройте модель, пресдказывающую оценку студента по предмету по 4 балльной шкале\n",
    "    - Отлично: 18 <= `G3` <= 20\n",
    "    - Хорошо: 14 <= `G3` <= 17\n",
    "    - Удовлетворительно: 8 <= `G3` <= 13\n",
    "    - Неудовлетворительно: `G3` < 8  \n",
    "  \n",
    "  При решении задачи **нельзя** использовать признаки `G1` и `G2`.  \n",
    "  \n",
    "  \n",
    "* При решении задачи рассмотрите различные модели:  \n",
    "  * KNN и  Radius Neighbors;  \n",
    "  * Логистическая регрессия;  \n",
    "  * Деревья решений.  \n",
    "  \n",
    "  На кросс-валидации подберите оптимальные значения гиперпараметров алгоритмов.  \n",
    "  \n",
    "  \n",
    "* Оцените качество моделей, сделайте вывод.  \n",
    "  \n",
    "\n",
    "* На кросс-валидации оцените, как зависит качество прогноза Дерева решений от максимальной глубины дерева. Результаты провизуализируйте, дайте содержательный комментарий.  "
   ]
  },
  {
   "cell_type": "code",
   "execution_count": 96,
   "metadata": {},
   "outputs": [],
   "source": [
    "grades = []\n",
    "g4 = data[data[\"G3\"] > 17]\n",
    "g4[\"G3\"] = 3\n",
    "g3 = data.loc[(data[\"G3\"] < 18) & (data[\"G3\"] >13)]\n",
    "g3[\"G3\"] = 2\n",
    "g2 = data.loc[(data[\"G3\"] < 14) & (data[\"G3\"] > 8)]\n",
    "g2[\"G3\"] = 1\n",
    "g1 = data[data[\"G3\"] < 9]\n",
    "g1[\"G3\"] = 0\n",
    "d_cl_4 = pd.concat([g1, g2, g3, g4], ignore_index=True)"
   ]
  },
  {
   "cell_type": "code",
   "execution_count": 97,
   "metadata": {},
   "outputs": [
    {
     "data": {
      "text/html": [
       "<div>\n",
       "<style scoped>\n",
       "    .dataframe tbody tr th:only-of-type {\n",
       "        vertical-align: middle;\n",
       "    }\n",
       "\n",
       "    .dataframe tbody tr th {\n",
       "        vertical-align: top;\n",
       "    }\n",
       "\n",
       "    .dataframe thead th {\n",
       "        text-align: right;\n",
       "    }\n",
       "</style>\n",
       "<table border=\"1\" class=\"dataframe\">\n",
       "  <thead>\n",
       "    <tr style=\"text-align: right;\">\n",
       "      <th></th>\n",
       "      <th>Subject</th>\n",
       "      <th>school</th>\n",
       "      <th>age</th>\n",
       "      <th>address</th>\n",
       "      <th>Medu</th>\n",
       "      <th>Fedu</th>\n",
       "      <th>guardian</th>\n",
       "      <th>traveltime</th>\n",
       "      <th>studytime</th>\n",
       "      <th>failures</th>\n",
       "      <th>higher</th>\n",
       "      <th>internet</th>\n",
       "      <th>romantic</th>\n",
       "      <th>Dalc</th>\n",
       "      <th>Walc</th>\n",
       "      <th>absences</th>\n",
       "      <th>G1</th>\n",
       "      <th>G2</th>\n",
       "      <th>G3</th>\n",
       "    </tr>\n",
       "  </thead>\n",
       "  <tbody>\n",
       "    <tr>\n",
       "      <td>0</td>\n",
       "      <td>0</td>\n",
       "      <td>1</td>\n",
       "      <td>16</td>\n",
       "      <td>1</td>\n",
       "      <td>2</td>\n",
       "      <td>2</td>\n",
       "      <td>1</td>\n",
       "      <td>1</td>\n",
       "      <td>1</td>\n",
       "      <td>1</td>\n",
       "      <td>1</td>\n",
       "      <td>1</td>\n",
       "      <td>0</td>\n",
       "      <td>1</td>\n",
       "      <td>4</td>\n",
       "      <td>1</td>\n",
       "      <td>9</td>\n",
       "      <td>10</td>\n",
       "      <td>1</td>\n",
       "    </tr>\n",
       "    <tr>\n",
       "      <td>1</td>\n",
       "      <td>0</td>\n",
       "      <td>1</td>\n",
       "      <td>17</td>\n",
       "      <td>1</td>\n",
       "      <td>4</td>\n",
       "      <td>2</td>\n",
       "      <td>1</td>\n",
       "      <td>2</td>\n",
       "      <td>4</td>\n",
       "      <td>0</td>\n",
       "      <td>1</td>\n",
       "      <td>1</td>\n",
       "      <td>1</td>\n",
       "      <td>3</td>\n",
       "      <td>1</td>\n",
       "      <td>0</td>\n",
       "      <td>18</td>\n",
       "      <td>18</td>\n",
       "      <td>3</td>\n",
       "    </tr>\n",
       "    <tr>\n",
       "      <td>2</td>\n",
       "      <td>0</td>\n",
       "      <td>0</td>\n",
       "      <td>18</td>\n",
       "      <td>1</td>\n",
       "      <td>2</td>\n",
       "      <td>2</td>\n",
       "      <td>1</td>\n",
       "      <td>1</td>\n",
       "      <td>4</td>\n",
       "      <td>0</td>\n",
       "      <td>1</td>\n",
       "      <td>1</td>\n",
       "      <td>0</td>\n",
       "      <td>2</td>\n",
       "      <td>4</td>\n",
       "      <td>0</td>\n",
       "      <td>11</td>\n",
       "      <td>11</td>\n",
       "      <td>1</td>\n",
       "    </tr>\n",
       "    <tr>\n",
       "      <td>3</td>\n",
       "      <td>0</td>\n",
       "      <td>1</td>\n",
       "      <td>16</td>\n",
       "      <td>1</td>\n",
       "      <td>1</td>\n",
       "      <td>3</td>\n",
       "      <td>1</td>\n",
       "      <td>2</td>\n",
       "      <td>1</td>\n",
       "      <td>0</td>\n",
       "      <td>0</td>\n",
       "      <td>1</td>\n",
       "      <td>1</td>\n",
       "      <td>1</td>\n",
       "      <td>3</td>\n",
       "      <td>11</td>\n",
       "      <td>10</td>\n",
       "      <td>11</td>\n",
       "      <td>1</td>\n",
       "    </tr>\n",
       "    <tr>\n",
       "      <td>4</td>\n",
       "      <td>0</td>\n",
       "      <td>0</td>\n",
       "      <td>17</td>\n",
       "      <td>0</td>\n",
       "      <td>2</td>\n",
       "      <td>2</td>\n",
       "      <td>1</td>\n",
       "      <td>4</td>\n",
       "      <td>1</td>\n",
       "      <td>0</td>\n",
       "      <td>1</td>\n",
       "      <td>1</td>\n",
       "      <td>0</td>\n",
       "      <td>5</td>\n",
       "      <td>5</td>\n",
       "      <td>2</td>\n",
       "      <td>11</td>\n",
       "      <td>10</td>\n",
       "      <td>1</td>\n",
       "    </tr>\n",
       "    <tr>\n",
       "      <td>...</td>\n",
       "      <td>...</td>\n",
       "      <td>...</td>\n",
       "      <td>...</td>\n",
       "      <td>...</td>\n",
       "      <td>...</td>\n",
       "      <td>...</td>\n",
       "      <td>...</td>\n",
       "      <td>...</td>\n",
       "      <td>...</td>\n",
       "      <td>...</td>\n",
       "      <td>...</td>\n",
       "      <td>...</td>\n",
       "      <td>...</td>\n",
       "      <td>...</td>\n",
       "      <td>...</td>\n",
       "      <td>...</td>\n",
       "      <td>...</td>\n",
       "      <td>...</td>\n",
       "      <td>...</td>\n",
       "    </tr>\n",
       "    <tr>\n",
       "      <td>1019</td>\n",
       "      <td>0</td>\n",
       "      <td>0</td>\n",
       "      <td>16</td>\n",
       "      <td>1</td>\n",
       "      <td>4</td>\n",
       "      <td>4</td>\n",
       "      <td>1</td>\n",
       "      <td>1</td>\n",
       "      <td>2</td>\n",
       "      <td>0</td>\n",
       "      <td>1</td>\n",
       "      <td>1</td>\n",
       "      <td>0</td>\n",
       "      <td>2</td>\n",
       "      <td>4</td>\n",
       "      <td>0</td>\n",
       "      <td>13</td>\n",
       "      <td>13</td>\n",
       "      <td>2</td>\n",
       "    </tr>\n",
       "    <tr>\n",
       "      <td>1020</td>\n",
       "      <td>1</td>\n",
       "      <td>0</td>\n",
       "      <td>16</td>\n",
       "      <td>1</td>\n",
       "      <td>2</td>\n",
       "      <td>3</td>\n",
       "      <td>1</td>\n",
       "      <td>2</td>\n",
       "      <td>1</td>\n",
       "      <td>0</td>\n",
       "      <td>1</td>\n",
       "      <td>1</td>\n",
       "      <td>0</td>\n",
       "      <td>1</td>\n",
       "      <td>1</td>\n",
       "      <td>0</td>\n",
       "      <td>13</td>\n",
       "      <td>14</td>\n",
       "      <td>2</td>\n",
       "    </tr>\n",
       "    <tr>\n",
       "      <td>1021</td>\n",
       "      <td>0</td>\n",
       "      <td>0</td>\n",
       "      <td>20</td>\n",
       "      <td>0</td>\n",
       "      <td>1</td>\n",
       "      <td>1</td>\n",
       "      <td>0</td>\n",
       "      <td>2</td>\n",
       "      <td>3</td>\n",
       "      <td>0</td>\n",
       "      <td>1</td>\n",
       "      <td>1</td>\n",
       "      <td>1</td>\n",
       "      <td>1</td>\n",
       "      <td>3</td>\n",
       "      <td>8</td>\n",
       "      <td>11</td>\n",
       "      <td>15</td>\n",
       "      <td>2</td>\n",
       "    </tr>\n",
       "    <tr>\n",
       "      <td>1022</td>\n",
       "      <td>0</td>\n",
       "      <td>1</td>\n",
       "      <td>16</td>\n",
       "      <td>1</td>\n",
       "      <td>1</td>\n",
       "      <td>1</td>\n",
       "      <td>1</td>\n",
       "      <td>3</td>\n",
       "      <td>2</td>\n",
       "      <td>0</td>\n",
       "      <td>1</td>\n",
       "      <td>1</td>\n",
       "      <td>0</td>\n",
       "      <td>1</td>\n",
       "      <td>3</td>\n",
       "      <td>6</td>\n",
       "      <td>6</td>\n",
       "      <td>8</td>\n",
       "      <td>0</td>\n",
       "    </tr>\n",
       "    <tr>\n",
       "      <td>1023</td>\n",
       "      <td>0</td>\n",
       "      <td>0</td>\n",
       "      <td>17</td>\n",
       "      <td>1</td>\n",
       "      <td>4</td>\n",
       "      <td>4</td>\n",
       "      <td>1</td>\n",
       "      <td>1</td>\n",
       "      <td>2</td>\n",
       "      <td>0</td>\n",
       "      <td>1</td>\n",
       "      <td>1</td>\n",
       "      <td>1</td>\n",
       "      <td>1</td>\n",
       "      <td>3</td>\n",
       "      <td>0</td>\n",
       "      <td>13</td>\n",
       "      <td>13</td>\n",
       "      <td>1</td>\n",
       "    </tr>\n",
       "  </tbody>\n",
       "</table>\n",
       "<p>1024 rows × 19 columns</p>\n",
       "</div>"
      ],
      "text/plain": [
       "      Subject  school  age  address  Medu  Fedu  guardian  traveltime  \\\n",
       "0           0       1   16        1     2     2         1           1   \n",
       "1           0       1   17        1     4     2         1           2   \n",
       "2           0       0   18        1     2     2         1           1   \n",
       "3           0       1   16        1     1     3         1           2   \n",
       "4           0       0   17        0     2     2         1           4   \n",
       "...       ...     ...  ...      ...   ...   ...       ...         ...   \n",
       "1019        0       0   16        1     4     4         1           1   \n",
       "1020        1       0   16        1     2     3         1           2   \n",
       "1021        0       0   20        0     1     1         0           2   \n",
       "1022        0       1   16        1     1     1         1           3   \n",
       "1023        0       0   17        1     4     4         1           1   \n",
       "\n",
       "      studytime  failures  higher  internet  romantic  Dalc  Walc  absences  \\\n",
       "0             1         1       1         1         0     1     4         1   \n",
       "1             4         0       1         1         1     3     1         0   \n",
       "2             4         0       1         1         0     2     4         0   \n",
       "3             1         0       0         1         1     1     3        11   \n",
       "4             1         0       1         1         0     5     5         2   \n",
       "...         ...       ...     ...       ...       ...   ...   ...       ...   \n",
       "1019          2         0       1         1         0     2     4         0   \n",
       "1020          1         0       1         1         0     1     1         0   \n",
       "1021          3         0       1         1         1     1     3         8   \n",
       "1022          2         0       1         1         0     1     3         6   \n",
       "1023          2         0       1         1         1     1     3         0   \n",
       "\n",
       "      G1  G2  G3  \n",
       "0      9  10   1  \n",
       "1     18  18   3  \n",
       "2     11  11   1  \n",
       "3     10  11   1  \n",
       "4     11  10   1  \n",
       "...   ..  ..  ..  \n",
       "1019  13  13   2  \n",
       "1020  13  14   2  \n",
       "1021  11  15   2  \n",
       "1022   6   8   0  \n",
       "1023  13  13   1  \n",
       "\n",
       "[1024 rows x 19 columns]"
      ]
     },
     "execution_count": 97,
     "metadata": {},
     "output_type": "execute_result"
    }
   ],
   "source": [
    "d_cl_4 =  d_cl_4.sample(frac=1).reset_index(drop=True)\n",
    "d_cl_4"
   ]
  },
  {
   "cell_type": "code",
   "execution_count": 110,
   "metadata": {},
   "outputs": [],
   "source": [
    "X = d_cl_4.drop([\"G1\", \"G2\", \"G3\"], axis = 1)\n",
    "y = d_cl_4[\"G3\"]\n",
    "\n",
    "X_train, X_test, y_train, y_test = train_test_split(X, y, test_size = 0.3, shuffle=True, random_state = 17, stratify=y)"
   ]
  },
  {
   "cell_type": "markdown",
   "metadata": {},
   "source": [
    "***Logistic Regression***"
   ]
  },
  {
   "cell_type": "code",
   "execution_count": 111,
   "metadata": {},
   "outputs": [
    {
     "name": "stdout",
     "output_type": "stream",
     "text": [
      "0.5194805194805194\n"
     ]
    }
   ],
   "source": [
    "lr = LogisticRegression(random_state=17, class_weight = \"balanced\")\n",
    "\n",
    "model = lr.fit(X_train, y_train)\n",
    "y_pred = model.predict(X_test)\n",
    "\n",
    "print(accuracy_score(y_test, y_pred))"
   ]
  },
  {
   "cell_type": "code",
   "execution_count": 112,
   "metadata": {},
   "outputs": [
    {
     "name": "stdout",
     "output_type": "stream",
     "text": [
      "[0.55238095 0.45192308 0.49038462 0.51456311 0.45631068 0.54455446\n",
      " 0.5049505  0.4950495  0.4950495  0.48514851]\n",
      "\n",
      "\n",
      " 0.49903149063439367\n"
     ]
    }
   ],
   "source": [
    "cvs = cross_val_score(lr, X, y, cv=skf)\n",
    "print(cvs)\n",
    "print(\"\\n\\n\", mean(cvs))"
   ]
  },
  {
   "cell_type": "code",
   "execution_count": 113,
   "metadata": {},
   "outputs": [
    {
     "name": "stderr",
     "output_type": "stream",
     "text": [
      "C:\\Anaconda\\lib\\site-packages\\sklearn\\model_selection\\_search.py:814: DeprecationWarning: The default of the `iid` parameter will change from True to False in version 0.22 and will be removed in 0.24. This will change numeric results when test-set sizes are unequal.\n",
      "  DeprecationWarning)\n"
     ]
    },
    {
     "data": {
      "text/plain": [
       "LogisticRegression(C=0.021181818181818184, class_weight='balanced', dual=False,\n",
       "                   fit_intercept=True, intercept_scaling=1, l1_ratio=None,\n",
       "                   max_iter=100, multi_class='warn', n_jobs=None, penalty='l1',\n",
       "                   random_state=17, solver='warn', tol=0.14294285714285712,\n",
       "                   verbose=0, warm_start=False)"
      ]
     },
     "execution_count": 113,
     "metadata": {},
     "output_type": "execute_result"
    }
   ],
   "source": [
    "c_values = np.linspace(1e-3, 1, 100)\n",
    "penal = ['l1', 'l2']\n",
    "tol = np.linspace(1e-4, 1, 8)\n",
    "parameters = {'C': c_values, 'penalty': penal, 'tol': tol}\n",
    "estimator = LogisticRegression(random_state=17, class_weight = 'balanced')\n",
    "model = GridSearchCV(estimator, parameters, cv=skf, scoring='accuracy', n_jobs = -1)\n",
    "model.fit(X, y)\n",
    "model.best_estimator_"
   ]
  },
  {
   "cell_type": "code",
   "execution_count": 114,
   "metadata": {},
   "outputs": [
    {
     "data": {
      "text/plain": [
       "0.572265625"
      ]
     },
     "execution_count": 114,
     "metadata": {},
     "output_type": "execute_result"
    }
   ],
   "source": [
    "C = model.best_params_['C']\n",
    "model.best_score_"
   ]
  },
  {
   "cell_type": "markdown",
   "metadata": {},
   "source": [
    "***KNN***"
   ]
  },
  {
   "cell_type": "code",
   "execution_count": 115,
   "metadata": {},
   "outputs": [
    {
     "name": "stdout",
     "output_type": "stream",
     "text": [
      "0.551948051948052\n"
     ]
    }
   ],
   "source": [
    "knn = KNeighborsClassifier()\n",
    "knn.fit(X_train, y_train)\n",
    "y_pred = knn.predict(X_test)\n",
    "\n",
    "print(accuracy_score(y_pred, y_test))"
   ]
  },
  {
   "cell_type": "code",
   "execution_count": 116,
   "metadata": {},
   "outputs": [
    {
     "name": "stdout",
     "output_type": "stream",
     "text": [
      "[0.4952381  0.5        0.625      0.5631068  0.57281553 0.56435644\n",
      " 0.59405941 0.57425743 0.45544554 0.52475248]\n",
      "\n",
      "\n",
      " 0.5469031712463895\n"
     ]
    }
   ],
   "source": [
    "cvs = cross_val_score(knn, X, y, cv=skf, scoring = \"accuracy\")\n",
    "print(cvs)\n",
    "print(\"\\n\\n\", mean(cvs))"
   ]
  },
  {
   "cell_type": "code",
   "execution_count": 119,
   "metadata": {},
   "outputs": [
    {
     "name": "stdout",
     "output_type": "stream",
     "text": [
      "Maximal accuracy score: 0.5844155844155844\n",
      "Maximal accuracy score: 0.5681818181818182\n",
      "Maximal accuracy score: 0.5681818181818182\n",
      "Maximal accuracy score: 0.5941558441558441\n"
     ]
    },
    {
     "data": {
      "image/png": "[encoded data removed]",
      "text/plain": [
       "<Figure size 936x360 with 1 Axes>"
      ]
     },
     "metadata": {
      "needs_background": "light"
     },
     "output_type": "display_data"
    },
    {
     "data": {
      "image/png": "[encoded data removed]",
      "text/plain": [
       "<Figure size 936x360 with 1 Axes>"
      ]
     },
     "metadata": {
      "needs_background": "light"
     },
     "output_type": "display_data"
    },
    {
     "data": {
      "image/png": "[encoded data removed]",
      "text/plain": [
       "<Figure size 936x360 with 1 Axes>"
      ]
     },
     "metadata": {
      "needs_background": "light"
     },
     "output_type": "display_data"
    },
    {
     "data": {
      "image/png": "[encoded data removed]",
      "text/plain": [
       "<Figure size 936x360 with 1 Axes>"
      ]
     },
     "metadata": {
      "needs_background": "light"
     },
     "output_type": "display_data"
    }
   ],
   "source": [
    "metric_viz('manhattan')\n",
    "metric_viz('euclidean')\n",
    "metric_viz('minkowski')\n",
    "metric_viz('correlation')"
   ]
  },
  {
   "cell_type": "code",
   "execution_count": 123,
   "metadata": {},
   "outputs": [
    {
     "name": "stdout",
     "output_type": "stream",
     "text": [
      "KNeighborsClassifier(algorithm='ball_tree', leaf_size=30, metric='manhattan',\n",
      "                     metric_params=None, n_jobs=None, n_neighbors=8, p=2,\n",
      "                     weights='uniform')\n"
     ]
    },
    {
     "name": "stderr",
     "output_type": "stream",
     "text": [
      "C:\\Anaconda\\lib\\site-packages\\sklearn\\model_selection\\_search.py:814: DeprecationWarning: The default of the `iid` parameter will change from True to False in version 0.22 and will be removed in 0.24. This will change numeric results when test-set sizes are unequal.\n",
      "  DeprecationWarning)\n"
     ]
    },
    {
     "data": {
      "text/plain": [
       "0.5869140625"
      ]
     },
     "execution_count": 123,
     "metadata": {},
     "output_type": "execute_result"
    }
   ],
   "source": [
    "parameters = {'algorithm': ['auto', 'ball_tree', 'kd_tree', 'brute'], 'metric': ['euclidean', 'minkowski', 'manhattan'],\n",
    "             'n_neighbors': range(3, 9)}\n",
    "estimator = KNeighborsClassifier()\n",
    "model = GridSearchCV(estimator, parameters, cv=skf, scoring='accuracy', n_jobs = -1)\n",
    "model.fit(X, y)\n",
    "print(model.best_estimator_)\n",
    "model.best_score_"
   ]
  },
  {
   "cell_type": "markdown",
   "metadata": {},
   "source": [
    "***Dicision Tree***"
   ]
  },
  {
   "cell_type": "code",
   "execution_count": 124,
   "metadata": {},
   "outputs": [
    {
     "name": "stdout",
     "output_type": "stream",
     "text": [
      "[0.51941748 0.50731707 0.44390244 0.50490196 0.46078431]\n",
      "\n",
      "\n",
      " 0.48726465248661627\n"
     ]
    }
   ],
   "source": [
    "cvs = cross_val_score(DecisionTreeClassifier(random_state=17), X, y, cv=5)\n",
    "print(cvs)\n",
    "print(\"\\n\\n\", mean(cvs))"
   ]
  },
  {
   "cell_type": "code",
   "execution_count": 127,
   "metadata": {},
   "outputs": [
    {
     "name": "stdout",
     "output_type": "stream",
     "text": [
      "0.5974025974025974\n"
     ]
    },
    {
     "data": {
      "text/plain": [
       "DecisionTreeClassifier(class_weight=None, criterion='gini', max_depth=5,\n",
       "                       max_features=None, max_leaf_nodes=None,\n",
       "                       min_impurity_decrease=0.0, min_impurity_split=None,\n",
       "                       min_samples_leaf=1, min_samples_split=2,\n",
       "                       min_weight_fraction_leaf=0.0, presort=False,\n",
       "                       random_state=17, splitter='best')"
      ]
     },
     "execution_count": 127,
     "metadata": {},
     "output_type": "execute_result"
    }
   ],
   "source": [
    "model = DecisionTreeClassifier(max_depth = 5, random_state=17).fit(X_train, y_train)\n",
    "\n",
    "y_pred = model.predict(X_test)\n",
    "print(accuracy_score(y_pred, y_test))\n",
    "model"
   ]
  },
  {
   "cell_type": "code",
   "execution_count": 152,
   "metadata": {},
   "outputs": [
    {
     "name": "stderr",
     "output_type": "stream",
     "text": [
      "C:\\Anaconda\\lib\\site-packages\\sklearn\\model_selection\\_search.py:814: DeprecationWarning: The default of the `iid` parameter will change from True to False in version 0.22 and will be removed in 0.24. This will change numeric results when test-set sizes are unequal.\n",
      "  DeprecationWarning)\n"
     ]
    },
    {
     "data": {
      "text/plain": [
       "DecisionTreeClassifier(class_weight=None, criterion='gini', max_depth=4,\n",
       "                       max_features=None, max_leaf_nodes=None,\n",
       "                       min_impurity_decrease=0.0, min_impurity_split=None,\n",
       "                       min_samples_leaf=1, min_samples_split=2,\n",
       "                       min_weight_fraction_leaf=0.0, presort=False,\n",
       "                       random_state=17, splitter='best')"
      ]
     },
     "execution_count": 152,
     "metadata": {},
     "output_type": "execute_result"
    }
   ],
   "source": [
    "md = range(3, 8)\n",
    "parameters = {'max_depth': md}\n",
    "estimator = DecisionTreeClassifier(random_state=17)\n",
    "clf = GridSearchCV(estimator, parameters, scoring='accuracy', cv=skf, n_jobs = -1)\n",
    "clf.fit(X, y)\n",
    "clf.best_estimator_"
   ]
  },
  {
   "cell_type": "code",
   "execution_count": 153,
   "metadata": {},
   "outputs": [
    {
     "data": {
      "text/plain": [
       "0.5830078125"
      ]
     },
     "execution_count": 153,
     "metadata": {},
     "output_type": "execute_result"
    }
   ],
   "source": [
    "clf.best_score_"
   ]
  },
  {
   "cell_type": "code",
   "execution_count": 148,
   "metadata": {},
   "outputs": [
    {
     "name": "stdout",
     "output_type": "stream",
     "text": [
      "Maximal accuracy score: 0.5974025974025974\n"
     ]
    },
    {
     "data": {
      "image/png": "[encoded data removed]",
      "text/plain": [
       "<Figure size 936x360 with 1 Axes>"
      ]
     },
     "metadata": {
      "needs_background": "light"
     },
     "output_type": "display_data"
    }
   ],
   "source": [
    "acc = []\n",
    "\n",
    "for i in range(3, 8):\n",
    "    estimator = DecisionTreeClassifier(random_state=17, max_depth = i).fit(X_train, y_train)\n",
    "    acc.append(accuracy_score(estimator.predict(X_test), y_test))\n",
    "\n",
    "fig = plt.figure(figsize=(13, 5))\n",
    "\n",
    "plt.plot(range(3, 8), acc, \"*\")\n",
    "plt.xlabel('Max depth')\n",
    "plt.ylabel('Accuracy score')\n",
    "\n",
    "print(f'Maximal accuracy score: {max(acc)}')"
   ]
  },
  {
   "cell_type": "markdown",
   "metadata": {},
   "source": [
    "***Random Forest***"
   ]
  },
  {
   "cell_type": "code",
   "execution_count": 155,
   "metadata": {},
   "outputs": [],
   "source": [
    "from sklearn.ensemble import RandomForestClassifier"
   ]
  },
  {
   "cell_type": "code",
   "execution_count": 156,
   "metadata": {},
   "outputs": [
    {
     "data": {
      "text/plain": [
       "0.5087890625"
      ]
     },
     "execution_count": 156,
     "metadata": {},
     "output_type": "execute_result"
    }
   ],
   "source": [
    "rf = RandomForestClassifier(random_state=17, oob_score = True).fit(X, y)\n",
    "rf.oob_score_"
   ]
  },
  {
   "cell_type": "code",
   "execution_count": 158,
   "metadata": {},
   "outputs": [
    {
     "data": {
      "image/png": "[encoded data removed]",
      "text/plain": [
       "<Figure size 720x432 with 1 Axes>"
      ]
     },
     "metadata": {
      "needs_background": "light"
     },
     "output_type": "display_data"
    }
   ],
   "source": [
    "fig, ax = plt.subplots(figsize=(10, 6))\n",
    "ax.barh(X.columns, rf.feature_importances_)\n",
    "ax.set_yticklabels(X.columns)\n",
    "ax.set_yticks(X.columns)\n",
    "ax.set_title(\"Random Forest Feature Importances\")\n",
    "fig.tight_layout()\n",
    "plt.show()"
   ]
  },
  {
   "cell_type": "code",
   "execution_count": 160,
   "metadata": {},
   "outputs": [
    {
     "name": "stderr",
     "output_type": "stream",
     "text": [
      "C:\\Anaconda\\lib\\site-packages\\sklearn\\model_selection\\_search.py:814: DeprecationWarning: The default of the `iid` parameter will change from True to False in version 0.22 and will be removed in 0.24. This will change numeric results when test-set sizes are unequal.\n",
      "  DeprecationWarning)\n"
     ]
    },
    {
     "data": {
      "text/plain": [
       "RandomForestClassifier(bootstrap=True, class_weight=None, criterion='gini',\n",
       "                       max_depth=7, max_features='auto', max_leaf_nodes=None,\n",
       "                       min_impurity_decrease=0.0, min_impurity_split=None,\n",
       "                       min_samples_leaf=1, min_samples_split=2,\n",
       "                       min_weight_fraction_leaf=0.0, n_estimators=100,\n",
       "                       n_jobs=None, oob_score=True, random_state=17, verbose=0,\n",
       "                       warm_start=False)"
      ]
     },
     "execution_count": 160,
     "metadata": {},
     "output_type": "execute_result"
    }
   ],
   "source": [
    "n_estimators = [50, 100, 200, 300, 400, 500, 600, 700, 800, 900, 1000]\n",
    "md = range(3, 8)\n",
    "parameters = {'n_estimators': n_estimators, 'max_depth': md}\n",
    "estimator = RandomForestClassifier(random_state=17, oob_score = True)\n",
    "clf = GridSearchCV(estimator, parameters, scoring='accuracy', cv=skf, n_jobs = -1)\n",
    "clf.fit(X, y)\n",
    "clf.best_estimator_"
   ]
  },
  {
   "cell_type": "code",
   "execution_count": 161,
   "metadata": {},
   "outputs": [
    {
     "name": "stdout",
     "output_type": "stream",
     "text": [
      "Maximal score: 0.6044921875\n"
     ]
    },
    {
     "data": {
      "image/png": "[encoded data removed]",
      "text/plain": [
       "<Figure size 432x288 with 1 Axes>"
      ]
     },
     "metadata": {
      "needs_background": "light"
     },
     "output_type": "display_data"
    }
   ],
   "source": [
    "score = []\n",
    "\n",
    "for n in n_estimators:\n",
    "    rf = RandomForestClassifier(random_state=17, n_estimators=n, oob_score = True, max_depth=5).fit(X, y)\n",
    "    score.append(rf.oob_score_)\n",
    "\n",
    "plt.plot(n_estimators, score, \"*\")\n",
    "plt.xlabel('n_estimators')\n",
    "plt.ylabel('Score')\n",
    "\n",
    "print(f'Maximal score: {max(score)}')"
   ]
  },
  {
   "cell_type": "markdown",
   "metadata": {},
   "source": [
    "***Лучшая модель для многокласовой классификации -  Random Forest и Dicision Tree accuracy ~ 0.6*** <br>\n",
    "***Но качество классификации на данном датасете всё равно низкое***"
   ]
  }
 ],
 "metadata": {
  "kernelspec": {
   "display_name": "Python 3",
   "language": "python",
   "name": "python3"
  },
  "language_info": {
   "codemirror_mode": {
    "name": "ipython",
    "version": 3
   },
   "file_extension": ".py",
   "mimetype": "text/x-python",
   "name": "python",
   "nbconvert_exporter": "python",
   "pygments_lexer": "ipython3",
   "version": "3.7.4"
  }
 },
 "nbformat": 4,
 "nbformat_minor": 1
}
