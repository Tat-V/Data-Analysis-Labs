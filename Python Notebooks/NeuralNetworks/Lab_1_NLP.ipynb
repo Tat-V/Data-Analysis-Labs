{
 "cells": [
  {
   "cell_type": "markdown",
   "metadata": {
    "id": "9t75zdooZe8j"
   },
   "source": [
    "# Large scale text analysis with deep learning (3 points)\n",
    "\n",
    "Today we're gonna apply the newly learned tools for the task of predicting job salary.\n",
    "\n",
    "<img src=\"https://storage.googleapis.com/kaggle-competitions/kaggle/3342/media/salary%20prediction%20engine%20v2.png\" width=400px>\n",
    "\n",
    "_Special thanks to [Oleg Vasilev](https://github.com/Omrigan/) for the core assignment idea._"
   ]
  },
  {
   "cell_type": "code",
   "execution_count": 84,
   "metadata": {},
   "outputs": [
    {
     "name": "stderr",
     "output_type": "stream",
     "text": [
      "[TerminalIPythonApp] WARNING | Subcommand `ipython nbconvert` is deprecated and will be removed in future versions.\n",
      "[TerminalIPythonApp] WARNING | You likely want to use `jupyter nbconvert` in the future\n",
      "[NbConvertApp] Converting notebook Lab_1_NLP.ipynb to html\n",
      "[NbConvertApp] Writing 1124769 bytes to Lab_1_NLP.html\n"
     ]
    }
   ],
   "source": [
    "!ipython nbconvert --to html Lab_1_NLP.ipynb"
   ]
  },
  {
   "cell_type": "markdown",
   "metadata": {},
   "source": [
    "## *Резюме: что было сделано в ноутбуке.*\n",
    "\n",
    "*Доработки вне основных заданий*\n",
    "* Обновлена функция tokenizer(), повышено качество обработки токенов засчет удаления шумовых символов\n",
    "* Обучение нейросети преобразовано в функцию (train)\n",
    "* Добавлена функция для выведения графиков по метрикам обучения\n",
    "\n",
    "*Реализации в рамках основных заданий*\n",
    "#### `Выполнено задание 1`:\n",
    "* В модель нейронной сети добавлены параллельные сверочные слои для текстовых тензоров\n",
    "* Добавлена Batch Norm (nn.BatchNorm) нормализация\n",
    "* Добавлены дополнительные слои для категориальных признаков и общего вывода\n",
    "\n",
    "`Результат`:\n",
    "* Исходя из графиков и значений метрик ошибок, улучшенная модель достигает лучших значений метрик после прохода 2320 мини-батча, когда исходная модель - на 3280-м, значения средне-квадратичной и абсолютной ошибок практически не различаются\n",
    "* Графики обучения, их форма, при добавлении новых слоев и нормализаций отличаются не сильно, но заметно, что при нормализации и параллельных сверточных слоях первичные значения ошибок достаточно высоки, относительно простой модели, без этих элементов\n",
    "\n",
    "\n",
    "#### `Выполнено задание 2`:\n",
    "    - Описана работа Pooling слоя\n",
    "    - Используется максимум по временной компоненте\n",
    "\n",
    "\n",
    "#### `Выполнено задание 3`:\n",
    "* С помощью gensim.downloader.load загружена предобученная модель 'glove-twitter-25'\n",
    "* Выполнен метод from_pretrained слоя torch.nn.Embedding для инициализации эмбеддингов с помощью предобученных весов\n",
    "* Исследованы 2 возможных реализации - с обучаемыми весами и \"замороженными\"\n",
    "* Предпринята попытка загрузки разных предобученных моделей, но для работы с векторами больших размерностей (300) не хватает памяти\n",
    "\n",
    "`Выводы`:\n",
    "   * быстрее обучается предобученная  модель с обучаемыми весами, но её абсолютные лучшие значения ошибок на ~0.1 больше предобученной модели с \"замороженными весами\"\n",
    "   * Графики ошибок моделей с предобученными весами сильно отличаются от моделей с рандомной инициализацией. Ошибки предобученных моделей изначально (с первых итераций обучения) очень низкие, но в процессе колеблются, в то время как на графиках ошибок моделей с рандомной инициализацией весов функция может сначала принимать достаточно высокие значения, затем на ближайших итерациях резко падать и далее уменьшаться очень незначительно без колебаний значений\n",
    "\n",
    "#### `Выполнено задание 4`:\n",
    "* Для построения моделей использованы рекуррентные слои GRU и LSTM, заменой сверточный и в комбинации с ними\n",
    "* Использовалась как однонаправленная, так и двунаправленная нейросети\n",
    "\n",
    "`Вывод`: наилучшие (наименьшие) значения ошибок среди всех моделей достигаются для сети с двунаправленными рекуррентными слоями, кроме того, они достигаются бытрее\n",
    "\n",
    "\n",
    "#### `Выполнено задание 5`:\n",
    "* Исследована замена последнего слоя нейронной сети с двунаправленными рекуррентными слоями на модель регрессии с ансамблями деревьев (RandomForestRegressor и AdaBoostRegressor(DecisionTreeRegressor))\n",
    "\n",
    "`Вывод`: Полученная модель не улучшает значения ошибок на тренировочной и тестовой выборках\n",
    "      \n",
    "\n",
    "### `Глобальные выводы`:\n",
    "* Лучшая модель - модель с комбинацией свёрточных слоёв с активацией ReLU и двунаправленных рекуррентных слоёв LSTM для всех текстовых признаков датасета"
   ]
  },
  {
   "cell_type": "code",
   "execution_count": 1,
   "metadata": {
    "executionInfo": {
     "elapsed": 1124,
     "status": "ok",
     "timestamp": 1615965762377,
     "user": {
      "displayName": "Aleksey Shimko",
      "photoUrl": "",
      "userId": "06639583344500545085"
     },
     "user_tz": -180
    },
    "id": "YWS0E8OHZe8s"
   },
   "outputs": [],
   "source": [
    "import numpy as np\n",
    "import pandas as pd\n",
    "import matplotlib.pyplot as plt\n",
    "%matplotlib inline"
   ]
  },
  {
   "cell_type": "markdown",
   "metadata": {
    "id": "JbjrfFspZe8s"
   },
   "source": [
    "### About the challenge\n",
    "For starters, let's download and unpack the data from [here]. \n",
    "\n",
    "You can also get it from [yadisk url](https://yadi.sk/d/vVEOWPFY3NruT7) the competition [page](https://www.kaggle.com/c/job-salary-prediction/data) (pick `Train_rev1.*`)."
   ]
  },
  {
   "cell_type": "code",
   "execution_count": 2,
   "metadata": {
    "colab": {
     "base_uri": "https://localhost:8080/"
    },
    "executionInfo": {
     "elapsed": 8367,
     "status": "ok",
     "timestamp": 1615965816497,
     "user": {
      "displayName": "Aleksey Shimko",
      "photoUrl": "",
      "userId": "06639583344500545085"
     },
     "user_tz": -180
    },
    "id": "qsBw4DmiZe8t",
    "outputId": "2d29c10e-308d-4b91-da6a-6ab6d0ef8550"
   },
   "outputs": [
    {
     "data": {
      "text/plain": [
       "(244768, 11)"
      ]
     },
     "execution_count": 2,
     "metadata": {},
     "output_type": "execute_result"
    }
   ],
   "source": [
    "# !wget https://ysda-seminars.s3.eu-central-1.amazonaws.com/Train_rev1.zip\n",
    "# !unzip Train_rev1.zip\n",
    "data = pd.read_csv(\"./Train_rev1.csv\", index_col='Id')\n",
    "#TODO : check id field\n",
    "data.shape"
   ]
  },
  {
   "cell_type": "code",
   "execution_count": 3,
   "metadata": {
    "colab": {
     "base_uri": "https://localhost:8080/",
     "height": 496
    },
    "executionInfo": {
     "elapsed": 7262,
     "status": "ok",
     "timestamp": 1615965816498,
     "user": {
      "displayName": "Aleksey Shimko",
      "photoUrl": "",
      "userId": "06639583344500545085"
     },
     "user_tz": -180
    },
    "id": "NaYFLUUsZe8u",
    "outputId": "6a27353e-7314-4ed1-a20b-dd7740c263b7"
   },
   "outputs": [
    {
     "data": {
      "text/html": [
       "<div>\n",
       "<style scoped>\n",
       "    .dataframe tbody tr th:only-of-type {\n",
       "        vertical-align: middle;\n",
       "    }\n",
       "\n",
       "    .dataframe tbody tr th {\n",
       "        vertical-align: top;\n",
       "    }\n",
       "\n",
       "    .dataframe thead th {\n",
       "        text-align: right;\n",
       "    }\n",
       "</style>\n",
       "<table border=\"1\" class=\"dataframe\">\n",
       "  <thead>\n",
       "    <tr style=\"text-align: right;\">\n",
       "      <th></th>\n",
       "      <th>Title</th>\n",
       "      <th>FullDescription</th>\n",
       "      <th>LocationRaw</th>\n",
       "      <th>LocationNormalized</th>\n",
       "      <th>ContractType</th>\n",
       "      <th>ContractTime</th>\n",
       "      <th>Company</th>\n",
       "      <th>Category</th>\n",
       "      <th>SalaryRaw</th>\n",
       "      <th>SalaryNormalized</th>\n",
       "      <th>SourceName</th>\n",
       "    </tr>\n",
       "    <tr>\n",
       "      <th>Id</th>\n",
       "      <th></th>\n",
       "      <th></th>\n",
       "      <th></th>\n",
       "      <th></th>\n",
       "      <th></th>\n",
       "      <th></th>\n",
       "      <th></th>\n",
       "      <th></th>\n",
       "      <th></th>\n",
       "      <th></th>\n",
       "      <th></th>\n",
       "    </tr>\n",
       "  </thead>\n",
       "  <tbody>\n",
       "    <tr>\n",
       "      <td>12612628</td>\n",
       "      <td>Engineering Systems Analyst</td>\n",
       "      <td>Engineering Systems Analyst Dorking Surrey Sal...</td>\n",
       "      <td>Dorking, Surrey, Surrey</td>\n",
       "      <td>Dorking</td>\n",
       "      <td>NaN</td>\n",
       "      <td>permanent</td>\n",
       "      <td>Gregory Martin International</td>\n",
       "      <td>Engineering Jobs</td>\n",
       "      <td>20000 - 30000/annum 20-30K</td>\n",
       "      <td>25000</td>\n",
       "      <td>cv-library.co.uk</td>\n",
       "    </tr>\n",
       "    <tr>\n",
       "      <td>12612830</td>\n",
       "      <td>Stress Engineer Glasgow</td>\n",
       "      <td>Stress Engineer Glasgow Salary **** to **** We...</td>\n",
       "      <td>Glasgow, Scotland, Scotland</td>\n",
       "      <td>Glasgow</td>\n",
       "      <td>NaN</td>\n",
       "      <td>permanent</td>\n",
       "      <td>Gregory Martin International</td>\n",
       "      <td>Engineering Jobs</td>\n",
       "      <td>25000 - 35000/annum 25-35K</td>\n",
       "      <td>30000</td>\n",
       "      <td>cv-library.co.uk</td>\n",
       "    </tr>\n",
       "    <tr>\n",
       "      <td>12612844</td>\n",
       "      <td>Modelling and simulation analyst</td>\n",
       "      <td>Mathematical Modeller / Simulation Analyst / O...</td>\n",
       "      <td>Hampshire, South East, South East</td>\n",
       "      <td>Hampshire</td>\n",
       "      <td>NaN</td>\n",
       "      <td>permanent</td>\n",
       "      <td>Gregory Martin International</td>\n",
       "      <td>Engineering Jobs</td>\n",
       "      <td>20000 - 40000/annum 20-40K</td>\n",
       "      <td>30000</td>\n",
       "      <td>cv-library.co.uk</td>\n",
       "    </tr>\n",
       "    <tr>\n",
       "      <td>12613049</td>\n",
       "      <td>Engineering Systems Analyst / Mathematical Mod...</td>\n",
       "      <td>Engineering Systems Analyst / Mathematical Mod...</td>\n",
       "      <td>Surrey, South East, South East</td>\n",
       "      <td>Surrey</td>\n",
       "      <td>NaN</td>\n",
       "      <td>permanent</td>\n",
       "      <td>Gregory Martin International</td>\n",
       "      <td>Engineering Jobs</td>\n",
       "      <td>25000 - 30000/annum 25K-30K negotiable</td>\n",
       "      <td>27500</td>\n",
       "      <td>cv-library.co.uk</td>\n",
       "    </tr>\n",
       "    <tr>\n",
       "      <td>12613647</td>\n",
       "      <td>Pioneer, Miser Engineering Systems Analyst</td>\n",
       "      <td>Pioneer, Miser  Engineering Systems Analyst Do...</td>\n",
       "      <td>Surrey, South East, South East</td>\n",
       "      <td>Surrey</td>\n",
       "      <td>NaN</td>\n",
       "      <td>permanent</td>\n",
       "      <td>Gregory Martin International</td>\n",
       "      <td>Engineering Jobs</td>\n",
       "      <td>20000 - 30000/annum 20-30K</td>\n",
       "      <td>25000</td>\n",
       "      <td>cv-library.co.uk</td>\n",
       "    </tr>\n",
       "  </tbody>\n",
       "</table>\n",
       "</div>"
      ],
      "text/plain": [
       "                                                      Title  \\\n",
       "Id                                                            \n",
       "12612628                        Engineering Systems Analyst   \n",
       "12612830                            Stress Engineer Glasgow   \n",
       "12612844                   Modelling and simulation analyst   \n",
       "12613049  Engineering Systems Analyst / Mathematical Mod...   \n",
       "12613647         Pioneer, Miser Engineering Systems Analyst   \n",
       "\n",
       "                                            FullDescription  \\\n",
       "Id                                                            \n",
       "12612628  Engineering Systems Analyst Dorking Surrey Sal...   \n",
       "12612830  Stress Engineer Glasgow Salary **** to **** We...   \n",
       "12612844  Mathematical Modeller / Simulation Analyst / O...   \n",
       "12613049  Engineering Systems Analyst / Mathematical Mod...   \n",
       "12613647  Pioneer, Miser  Engineering Systems Analyst Do...   \n",
       "\n",
       "                                LocationRaw LocationNormalized ContractType  \\\n",
       "Id                                                                            \n",
       "12612628            Dorking, Surrey, Surrey            Dorking          NaN   \n",
       "12612830        Glasgow, Scotland, Scotland            Glasgow          NaN   \n",
       "12612844  Hampshire, South East, South East          Hampshire          NaN   \n",
       "12613049     Surrey, South East, South East             Surrey          NaN   \n",
       "12613647     Surrey, South East, South East             Surrey          NaN   \n",
       "\n",
       "         ContractTime                       Company          Category  \\\n",
       "Id                                                                      \n",
       "12612628    permanent  Gregory Martin International  Engineering Jobs   \n",
       "12612830    permanent  Gregory Martin International  Engineering Jobs   \n",
       "12612844    permanent  Gregory Martin International  Engineering Jobs   \n",
       "12613049    permanent  Gregory Martin International  Engineering Jobs   \n",
       "12613647    permanent  Gregory Martin International  Engineering Jobs   \n",
       "\n",
       "                                       SalaryRaw  SalaryNormalized  \\\n",
       "Id                                                                   \n",
       "12612628              20000 - 30000/annum 20-30K             25000   \n",
       "12612830              25000 - 35000/annum 25-35K             30000   \n",
       "12612844              20000 - 40000/annum 20-40K             30000   \n",
       "12613049  25000 - 30000/annum 25K-30K negotiable             27500   \n",
       "12613647              20000 - 30000/annum 20-30K             25000   \n",
       "\n",
       "                SourceName  \n",
       "Id                          \n",
       "12612628  cv-library.co.uk  \n",
       "12612830  cv-library.co.uk  \n",
       "12612844  cv-library.co.uk  \n",
       "12613049  cv-library.co.uk  \n",
       "12613647  cv-library.co.uk  "
      ]
     },
     "execution_count": 3,
     "metadata": {},
     "output_type": "execute_result"
    }
   ],
   "source": [
    "data.head()"
   ]
  },
  {
   "attachments": {
    "image.png": {
     "image/png": "[encoded data removed]"
    }
   },
   "cell_type": "markdown",
   "metadata": {},
   "source": [
    "![image.png](attachment:image.png)"
   ]
  },
  {
   "cell_type": "code",
   "execution_count": 3,
   "metadata": {},
   "outputs": [],
   "source": [
    "data = data.drop(['SalaryRaw', 'LocationRaw'], 1)"
   ]
  },
  {
   "cell_type": "code",
   "execution_count": 4,
   "metadata": {},
   "outputs": [
    {
     "data": {
      "text/plain": [
       "'Mathematical Modeller / Simulation Analyst / Operational Analyst Basingstoke, Hampshire Up to ****K AAE pension contribution, private medical and dental The opportunity Our client is an independent consultancy firm which has an opportunity for a Data Analyst with 35 years experience. The role will require the successful candidate to demonstrate their ability to analyse a problem and arrive at a solution, with varying levels of data being available. Essential skills Thorough knowledge of Excel and proven ability to utilise this to create powerful decision support models Experience in Modelling and Simulation Techniques, Experience of techniques such as Discrete Event Simulation and/or SD modelling Mathematical/scientific background  minimum degree qualified Proven analytical and problem solving skills Self Starter Ability to develop solid working relationships In addition to formal qualifications and experience, the successful candidate will require excellent written and verbal communication skills, be energetic, enterprising and have a determination to succeed. They will be required to build solid working relationships, both internally with colleagues and, most importantly, externally with our clients. They must be comfortable working independently to deliver against challenging client demands. The offices are located in Basingstoke, Hampshire, but our client work for clients worldwide. The successful candidate must therefore be prepared to undertake work at client sites for short periods of time. Physics, Mathematics, Modelling, Simulation, Analytical, Operational Research, Mathematical Modelling Mathematical Modeller / Simulation Analyst / Operational Analyst Basingstoke, Hampshire ****K AAE pension contribution, private medical and dental'"
      ]
     },
     "execution_count": 4,
     "metadata": {},
     "output_type": "execute_result"
    }
   ],
   "source": [
    "data['FullDescription'].values[2]"
   ]
  },
  {
   "cell_type": "markdown",
   "metadata": {
    "id": "GzN578PlZe8v"
   },
   "source": [
    "One problem with salary prediction is that it's oddly distributed: there are many people who are paid standard salaries and a few that get tons o money. The distribution is fat-tailed on the right side, which is inconvenient for MSE minimization.\n",
    "\n",
    "There are several techniques to combat this: using a different loss function, predicting log-target instead of raw target or even replacing targets with their percentiles among all salaries in the training set. We gonna use logarithm for now.\n",
    "\n",
    "_You can read more [in the official description](https://www.kaggle.com/c/job-salary-prediction#description)._"
   ]
  },
  {
   "cell_type": "code",
   "execution_count": 4,
   "metadata": {},
   "outputs": [],
   "source": [
    "data['Log1pSalary'] = np.log1p(data['SalaryNormalized']).astype('float32')"
   ]
  },
  {
   "cell_type": "code",
   "execution_count": 7,
   "metadata": {
    "colab": {
     "base_uri": "https://localhost:8080/",
     "height": 265
    },
    "executionInfo": {
     "elapsed": 5290,
     "status": "ok",
     "timestamp": 1615965816770,
     "user": {
      "displayName": "Aleksey Shimko",
      "photoUrl": "",
      "userId": "06639583344500545085"
     },
     "user_tz": -180
    },
    "id": "7m4_nPD5Ze8v",
    "outputId": "69fc0a25-6adf-407e-f8d8-87e1a4b80efe"
   },
   "outputs": [
    {
     "data": {
      "image/png": "[encoded data removed]",
      "text/plain": [
       "<Figure size 576x288 with 2 Axes>"
      ]
     },
     "metadata": {
      "needs_background": "light"
     },
     "output_type": "display_data"
    }
   ],
   "source": [
    "plt.figure(figsize=[8, 4])\n",
    "plt.subplot(1, 2, 1)\n",
    "plt.hist(data[\"SalaryNormalized\"], bins=20);\n",
    "\n",
    "plt.subplot(1, 2, 2)\n",
    "plt.hist(data['Log1pSalary'], bins=20);"
   ]
  },
  {
   "cell_type": "markdown",
   "metadata": {
    "id": "FQ4sxIXDZe8w"
   },
   "source": [
    "Our task is to predict one number, __Log1pSalary__.\n",
    "\n",
    "To do so, our model can access a number of features:\n",
    "* Free text: __`Title`__ and  __`FullDescription`__\n",
    "* Categorical: __`Category`__, __`Company`__, __`LocationNormalized`__, __`ContractType`__, and __`ContractTime`__."
   ]
  },
  {
   "cell_type": "code",
   "execution_count": 5,
   "metadata": {
    "colab": {
     "base_uri": "https://localhost:8080/",
     "height": 298
    },
    "executionInfo": {
     "elapsed": 2964,
     "status": "ok",
     "timestamp": 1615965816770,
     "user": {
      "displayName": "Aleksey Shimko",
      "photoUrl": "",
      "userId": "06639583344500545085"
     },
     "user_tz": -180
    },
    "id": "6dYdc8PIZe8w",
    "outputId": "dac06b68-c2c7-4ac3-a521-0821542f5ec4"
   },
   "outputs": [
    {
     "data": {
      "text/html": [
       "<div>\n",
       "<style scoped>\n",
       "    .dataframe tbody tr th:only-of-type {\n",
       "        vertical-align: middle;\n",
       "    }\n",
       "\n",
       "    .dataframe tbody tr th {\n",
       "        vertical-align: top;\n",
       "    }\n",
       "\n",
       "    .dataframe thead th {\n",
       "        text-align: right;\n",
       "    }\n",
       "</style>\n",
       "<table border=\"1\" class=\"dataframe\">\n",
       "  <thead>\n",
       "    <tr style=\"text-align: right;\">\n",
       "      <th></th>\n",
       "      <th>Title</th>\n",
       "      <th>FullDescription</th>\n",
       "      <th>LocationNormalized</th>\n",
       "      <th>ContractType</th>\n",
       "      <th>ContractTime</th>\n",
       "      <th>Company</th>\n",
       "      <th>Category</th>\n",
       "      <th>SalaryNormalized</th>\n",
       "      <th>SourceName</th>\n",
       "      <th>Log1pSalary</th>\n",
       "    </tr>\n",
       "    <tr>\n",
       "      <th>Id</th>\n",
       "      <th></th>\n",
       "      <th></th>\n",
       "      <th></th>\n",
       "      <th></th>\n",
       "      <th></th>\n",
       "      <th></th>\n",
       "      <th></th>\n",
       "      <th></th>\n",
       "      <th></th>\n",
       "      <th></th>\n",
       "    </tr>\n",
       "  </thead>\n",
       "  <tbody>\n",
       "    <tr>\n",
       "      <td>69932150</td>\n",
       "      <td>HGV **** Tipper driver</td>\n",
       "      <td>Axiom Personnel are recuiting for experienced ...</td>\n",
       "      <td>Brentwood</td>\n",
       "      <td>NaN</td>\n",
       "      <td>contract</td>\n",
       "      <td>Axiom Personnel Ltd</td>\n",
       "      <td>Logistics &amp; Warehouse Jobs</td>\n",
       "      <td>18240</td>\n",
       "      <td>cv-library.co.uk</td>\n",
       "      <td>9.811427</td>\n",
       "    </tr>\n",
       "    <tr>\n",
       "      <td>70141392</td>\n",
       "      <td>SAP Senior Security &amp; Authorisations Consultant</td>\n",
       "      <td>SAP Security and Authorisations Consultant req...</td>\n",
       "      <td>Lincoln</td>\n",
       "      <td>NaN</td>\n",
       "      <td>permanent</td>\n",
       "      <td>NaN</td>\n",
       "      <td>IT Jobs</td>\n",
       "      <td>40000</td>\n",
       "      <td>technojobs.co.uk</td>\n",
       "      <td>10.596660</td>\n",
       "    </tr>\n",
       "    <tr>\n",
       "      <td>69549054</td>\n",
       "      <td>Sliding Head CNC Machine Operator</td>\n",
       "      <td>Sliding Head CNC Machine Operator Area: Sheffi...</td>\n",
       "      <td>Sheffield</td>\n",
       "      <td>full_time</td>\n",
       "      <td>NaN</td>\n",
       "      <td>Travail Employment Group</td>\n",
       "      <td>Manufacturing Jobs</td>\n",
       "      <td>16320</td>\n",
       "      <td>Jobcentre Plus</td>\n",
       "      <td>9.700208</td>\n",
       "    </tr>\n",
       "  </tbody>\n",
       "</table>\n",
       "</div>"
      ],
      "text/plain": [
       "                                                    Title  \\\n",
       "Id                                                          \n",
       "69932150                           HGV **** Tipper driver   \n",
       "70141392  SAP Senior Security & Authorisations Consultant   \n",
       "69549054                Sliding Head CNC Machine Operator   \n",
       "\n",
       "                                            FullDescription  \\\n",
       "Id                                                            \n",
       "69932150  Axiom Personnel are recuiting for experienced ...   \n",
       "70141392  SAP Security and Authorisations Consultant req...   \n",
       "69549054  Sliding Head CNC Machine Operator Area: Sheffi...   \n",
       "\n",
       "         LocationNormalized ContractType ContractTime  \\\n",
       "Id                                                      \n",
       "69932150          Brentwood          NaN     contract   \n",
       "70141392            Lincoln          NaN    permanent   \n",
       "69549054          Sheffield    full_time          NaN   \n",
       "\n",
       "                           Company                    Category  \\\n",
       "Id                                                               \n",
       "69932150       Axiom Personnel Ltd  Logistics & Warehouse Jobs   \n",
       "70141392                       NaN                     IT Jobs   \n",
       "69549054  Travail Employment Group          Manufacturing Jobs   \n",
       "\n",
       "          SalaryNormalized        SourceName  Log1pSalary  \n",
       "Id                                                         \n",
       "69932150             18240  cv-library.co.uk     9.811427  \n",
       "70141392             40000  technojobs.co.uk    10.596660  \n",
       "69549054             16320    Jobcentre Plus     9.700208  "
      ]
     },
     "execution_count": 5,
     "metadata": {},
     "output_type": "execute_result"
    }
   ],
   "source": [
    "text_columns = [\"Title\", \"FullDescription\"]\n",
    "categorical_columns = [\"Category\", \"Company\", \"LocationNormalized\", \"ContractType\", \"ContractTime\"]\n",
    "TARGET_COLUMN = \"Log1pSalary\"\n",
    "\n",
    "data[categorical_columns] = data[categorical_columns].fillna('NaN') # cast missing values to string \"NaN\"\n",
    "data[text_columns] = data[text_columns].fillna('NaN')\n",
    "\n",
    "data.sample(3)"
   ]
  },
  {
   "cell_type": "markdown",
   "metadata": {
    "id": "sJGyz6vgZe8w"
   },
   "source": [
    "### Preprocessing text data\n",
    "\n",
    "Just like last week, applying NLP to a problem begins from tokenization: splitting raw text into sequences of tokens (words, punctuation, etc).\n",
    "\n",
    "__Your task__ is to lowercase and tokenize all texts under `Title` and `FullDescription` columns. Store the tokenized data as a __space-separated__ string of tokens for performance reasons.\n",
    "\n",
    "It's okay to use nltk tokenizers. Assertions were designed for WordPunctTokenizer, slight deviations are okay."
   ]
  },
  {
   "cell_type": "code",
   "execution_count": 6,
   "metadata": {
    "colab": {
     "base_uri": "https://localhost:8080/"
    },
    "executionInfo": {
     "elapsed": 572,
     "status": "ok",
     "timestamp": 1615965817923,
     "user": {
      "displayName": "Aleksey Shimko",
      "photoUrl": "",
      "userId": "06639583344500545085"
     },
     "user_tz": -180
    },
    "id": "djOwAHFHZe8w",
    "outputId": "87e7893d-bf37-4446-bb39-8d64455f2a03",
    "scrolled": true
   },
   "outputs": [
    {
     "name": "stdout",
     "output_type": "stream",
     "text": [
      "Raw text:\n",
      "Id\n",
      "12612844    Mathematical Modeller / Simulation Analyst / O...\n",
      "69538547    A successful and high achieving specialist sch...\n",
      "71852369    Web Designer  HTML, CSS, JavaScript, Photoshop...\n",
      "Name: FullDescription, dtype: object\n"
     ]
    }
   ],
   "source": [
    "print(\"Raw text:\")\n",
    "print(data[\"FullDescription\"][2::100000])"
   ]
  },
  {
   "cell_type": "code",
   "execution_count": 22,
   "metadata": {},
   "outputs": [],
   "source": [
    "# !pip install https://github.com/explosion/spacy-models/releases/download/en_core_web_sm-2.0.0/en_core_web_sm-2.0.0.tar.gz"
   ]
  },
  {
   "cell_type": "code",
   "execution_count": 6,
   "metadata": {},
   "outputs": [
    {
     "name": "stderr",
     "output_type": "stream",
     "text": [
      "C:\\Users\\Tania\\Anaconda3\\lib\\site-packages\\spacy\\util.py:275: UserWarning: [W031] Model 'en_core_web_sm' (2.2.0) requires spaCy v2.2 and is incompatible with the current spaCy version (2.3.3). This may lead to unexpected results or runtime errors. To resolve this, download a newer compatible model or retrain your custom model with the current spaCy version. For more details and available updates, run: python -m spacy validate\n",
      "  warnings.warn(warn_msg)\n"
     ]
    }
   ],
   "source": [
    "import en_core_web_sm\n",
    "\n",
    "nlp = en_core_web_sm.load(disable=['tok2vec'])"
   ]
  },
  {
   "cell_type": "code",
   "execution_count": 6,
   "metadata": {},
   "outputs": [],
   "source": [
    "# import nltk\n",
    "# #TODO YOUR CODE HERE\n",
    "\n",
    "# tokenizer = nltk.tokenize.WordPunctTokenizer()\n",
    "# # YOUR CODE HERE\n",
    "\n",
    "# data[text_columns] = data[text_columns].applymap(lambda x: \" \".join(tokenizer.tokenize(x.lower())))"
   ]
  },
  {
   "cell_type": "code",
   "execution_count": 7,
   "metadata": {},
   "outputs": [
    {
     "data": {
      "text/plain": [
       "['tagger', 'parser', 'ner', 'attribute_ruler', 'lemmatizer']"
      ]
     },
     "execution_count": 7,
     "metadata": {},
     "output_type": "execute_result"
    }
   ],
   "source": [
    "nlp.pipe_names"
   ]
  },
  {
   "cell_type": "code",
   "execution_count": 7,
   "metadata": {},
   "outputs": [],
   "source": [
    "import string"
   ]
  },
  {
   "cell_type": "code",
   "execution_count": 8,
   "metadata": {},
   "outputs": [
    {
     "data": {
      "text/plain": [
       "'[!@#$;:%-&?<>*)(=_+}{|.,]'"
      ]
     },
     "execution_count": 8,
     "metadata": {},
     "output_type": "execute_result"
    }
   ],
   "source": [
    "punc = ''.join([sim for sim in string.punctuation if sim not in \"/\"])\n",
    "p = '[!@#$;:%-&?<>*)(=_+}{|.,]'\n",
    "# [x for x in p if x not in punc]\n",
    "# set(p).issubset(punc)\n",
    "p"
   ]
  },
  {
   "cell_type": "code",
   "execution_count": 9,
   "metadata": {},
   "outputs": [],
   "source": [
    "# !pip install spacy\n",
    "# !python -m spacy download en_core_web_sm"
   ]
  },
  {
   "cell_type": "code",
   "execution_count": 10,
   "metadata": {},
   "outputs": [],
   "source": [
    "import spacy\n",
    "import re\n",
    "nlp = spacy.load('en_core_web_sm')        \n",
    "spacy_stopwords = spacy.lang.en.stop_words.STOP_WORDS\n",
    "# spacy_stopwords"
   ]
  },
  {
   "cell_type": "code",
   "execution_count": 11,
   "metadata": {},
   "outputs": [],
   "source": [
    "def tokenizer(Series):\n",
    "    all_tokens = Series.apply(lambda x: re.sub(p,'',x)).str.lower(\n",
    "    ).map(lambda x: ' '.join([str(i) for i in x.split(' ') if i not in spacy_stopwords]))\n",
    "#     all_tokens = Series.str.lower()\\\n",
    "#             .map(lambda x: ' '.join([str(i) for i in x.split(' ') if i not in punc and i not in spacy_stopwords]))\n",
    "#     all_tokens = Series.str.lower().map(lambda x: ' '.join([str(i) for i in x.split(' ') if i not in spacy_stopwords]))\n",
    "    return pd.Series(all_tokens)"
   ]
  },
  {
   "cell_type": "code",
   "execution_count": 11,
   "metadata": {},
   "outputs": [
    {
     "name": "stdout",
     "output_type": "stream",
     "text": [
      "Wall time: 52.9 ms\n"
     ]
    },
    {
     "data": {
      "text/html": [
       "<div>\n",
       "<style scoped>\n",
       "    .dataframe tbody tr th:only-of-type {\n",
       "        vertical-align: middle;\n",
       "    }\n",
       "\n",
       "    .dataframe tbody tr th {\n",
       "        vertical-align: top;\n",
       "    }\n",
       "\n",
       "    .dataframe thead th {\n",
       "        text-align: right;\n",
       "    }\n",
       "</style>\n",
       "<table border=\"1\" class=\"dataframe\">\n",
       "  <thead>\n",
       "    <tr style=\"text-align: right;\">\n",
       "      <th></th>\n",
       "      <th>FullDescription</th>\n",
       "    </tr>\n",
       "    <tr>\n",
       "      <th>Id</th>\n",
       "      <th></th>\n",
       "    </tr>\n",
       "  </thead>\n",
       "  <tbody>\n",
       "    <tr>\n",
       "      <td>12612628</td>\n",
       "      <td>engineering systems analyst dorking surrey sal...</td>\n",
       "    </tr>\n",
       "    <tr>\n",
       "      <td>12612830</td>\n",
       "      <td>stress engineer glasgow salary   currently loo...</td>\n",
       "    </tr>\n",
       "    <tr>\n",
       "      <td>12612844</td>\n",
       "      <td>mathematical modeller / simulation analyst / o...</td>\n",
       "    </tr>\n",
       "    <tr>\n",
       "      <td>12613049</td>\n",
       "      <td>engineering systems analyst / mathematical mod...</td>\n",
       "    </tr>\n",
       "    <tr>\n",
       "      <td>12613647</td>\n",
       "      <td>pioneer miser  engineering systems analyst dor...</td>\n",
       "    </tr>\n",
       "    <tr>\n",
       "      <td>13179816</td>\n",
       "      <td>engineering systems analyst water industry loc...</td>\n",
       "    </tr>\n",
       "    <tr>\n",
       "      <td>14131336</td>\n",
       "      <td>globally renowned engineering training company...</td>\n",
       "    </tr>\n",
       "    <tr>\n",
       "      <td>14663196</td>\n",
       "      <td>live vacancy generic advertisement  want earn ...</td>\n",
       "    </tr>\n",
       "    <tr>\n",
       "      <td>14663197</td>\n",
       "      <td>exceptional opportunity join construction / te...</td>\n",
       "    </tr>\n",
       "    <tr>\n",
       "      <td>15395797</td>\n",
       "      <td>subsea engineering company looking experienced...</td>\n",
       "    </tr>\n",
       "  </tbody>\n",
       "</table>\n",
       "</div>"
      ],
      "text/plain": [
       "                                            FullDescription\n",
       "Id                                                         \n",
       "12612628  engineering systems analyst dorking surrey sal...\n",
       "12612830  stress engineer glasgow salary   currently loo...\n",
       "12612844  mathematical modeller / simulation analyst / o...\n",
       "12613049  engineering systems analyst / mathematical mod...\n",
       "12613647  pioneer miser  engineering systems analyst dor...\n",
       "13179816  engineering systems analyst water industry loc...\n",
       "14131336  globally renowned engineering training company...\n",
       "14663196  live vacancy generic advertisement  want earn ...\n",
       "14663197  exceptional opportunity join construction / te...\n",
       "15395797  subsea engineering company looking experienced..."
      ]
     },
     "execution_count": 11,
     "metadata": {},
     "output_type": "execute_result"
    }
   ],
   "source": [
    "%%time\n",
    "# print(data[\"FullDescription\"].iloc[2][:54])\n",
    "data[['FullDescription']].head(10).apply(tokenizer)"
   ]
  },
  {
   "cell_type": "code",
   "execution_count": 12,
   "metadata": {},
   "outputs": [
    {
     "name": "stdout",
     "output_type": "stream",
     "text": [
      "Wall time: 22.6 s\n"
     ]
    }
   ],
   "source": [
    "%%time\n",
    "data[text_columns] = data[text_columns].apply(tokenizer)"
   ]
  },
  {
   "cell_type": "markdown",
   "metadata": {
    "id": "HSSSLCO1Ze8x"
   },
   "source": [
    "Now we can assume that our text is a space-separated list of tokens:"
   ]
  },
  {
   "cell_type": "code",
   "execution_count": 13,
   "metadata": {},
   "outputs": [
    {
     "data": {
      "text/plain": [
       "'mathematical modeller / simulation analyst / operation'"
      ]
     },
     "execution_count": 13,
     "metadata": {},
     "output_type": "execute_result"
    }
   ],
   "source": [
    "data[\"FullDescription\"].iloc[2][:54]"
   ]
  },
  {
   "cell_type": "code",
   "execution_count": 14,
   "metadata": {},
   "outputs": [
    {
     "data": {
      "text/plain": [
       "'international digital account manager german'"
      ]
     },
     "execution_count": 14,
     "metadata": {},
     "output_type": "execute_result"
    }
   ],
   "source": [
    "data[\"Title\"].iloc[54321]"
   ]
  },
  {
   "cell_type": "code",
   "execution_count": 15,
   "metadata": {
    "colab": {
     "base_uri": "https://localhost:8080/"
    },
    "executionInfo": {
     "elapsed": 17581,
     "status": "ok",
     "timestamp": 1615965838083,
     "user": {
      "displayName": "Aleksey Shimko",
      "photoUrl": "",
      "userId": "06639583344500545085"
     },
     "user_tz": -180
    },
    "id": "iWpQuVt7Ze8x",
    "outputId": "a9808b51-ef25-4f7f-baa8-5380d9c3f5e9"
   },
   "outputs": [
    {
     "name": "stdout",
     "output_type": "stream",
     "text": [
      "Tokenized:\n",
      "Id\n",
      "12612844    mathematical modeller / simulation analyst / o...\n",
      "69538547    successful high achieving specialist school lo...\n",
      "71852369    web designer  html css javascript photoshop il...\n",
      "Name: FullDescription, dtype: object\n"
     ]
    }
   ],
   "source": [
    "print(\"Tokenized:\")\n",
    "print(data[\"FullDescription\"][2::100000])\n",
    "assert data[\"FullDescription\"].iloc[2][:54] == 'mathematical modeller / simulation analyst / operation'\n",
    "assert data[\"Title\"].iloc[54321] == 'international digital account manager german'"
   ]
  },
  {
   "cell_type": "markdown",
   "metadata": {
    "id": "2OeLTODAZe8x"
   },
   "source": [
    "Not all words are equally useful. Some of them are typos or rare words that are only present a few times. \n",
    "\n",
    "Let's count how many times is each word present in the data so that we can build a \"white list\" of known words."
   ]
  },
  {
   "cell_type": "code",
   "execution_count": 13,
   "metadata": {},
   "outputs": [],
   "source": [
    "from collections import Counter\n",
    "token_counts = Counter()"
   ]
  },
  {
   "cell_type": "code",
   "execution_count": 14,
   "metadata": {
    "executionInfo": {
     "elapsed": 26953,
     "status": "ok",
     "timestamp": 1615965849179,
     "user": {
      "displayName": "Aleksey Shimko",
      "photoUrl": "",
      "userId": "06639583344500545085"
     },
     "user_tz": -180
    },
    "id": "bVN-jztCZe8x"
   },
   "outputs": [
    {
     "name": "stdout",
     "output_type": "stream",
     "text": [
      "Wall time: 9.96 s\n"
     ]
    }
   ],
   "source": [
    "%%time\n",
    "\n",
    "# Count how many times does each token occur in both \"Title\" and \"FullDescription\" in total\n",
    "\n",
    "for col in text_columns:\n",
    "    for line in data[col].values:\n",
    "        token_counts.update(line.split(\" \"))"
   ]
  },
  {
   "cell_type": "code",
   "execution_count": 15,
   "metadata": {
    "colab": {
     "base_uri": "https://localhost:8080/"
    },
    "executionInfo": {
     "elapsed": 24857,
     "status": "ok",
     "timestamp": 1615965849181,
     "user": {
      "displayName": "Aleksey Shimko",
      "photoUrl": "",
      "userId": "06639583344500545085"
     },
     "user_tz": -180
    },
    "id": "b-40HetcZe8y",
    "outputId": "8f26e3d9-4e32-41bb-85c2-f0a5e98cfe97"
   },
   "outputs": [
    {
     "name": "stdout",
     "output_type": "stream",
     "text": [
      "Total unique tokens : 308114\n",
      "('', 1517443)\n",
      "('experience', 422171)\n",
      "('role', 290737)\n",
      "('work', 278391)\n",
      "('business', 271915)\n",
      "('team', 268736)\n",
      "('skills', 230290)\n",
      "...\n",
      "('ruabon', 1)\n",
      "('andylowehayscom', 1)\n",
      "('enthusiasmif', 1)\n",
      "('temporary/supply/permanent', 1)\n",
      "('studies/law', 1)\n",
      "('gcse/ks', 1)\n",
      "('teacher/nqt', 1)\n"
     ]
    }
   ],
   "source": [
    "print(\"Total unique tokens :\", len(token_counts))\n",
    "print('\\n'.join(map(str, token_counts.most_common(n=7))))\n",
    "print('...')\n",
    "print('\\n'.join(map(str, token_counts.most_common()[-7:])))"
   ]
  },
  {
   "cell_type": "code",
   "execution_count": 20,
   "metadata": {
    "colab": {
     "base_uri": "https://localhost:8080/",
     "height": 279
    },
    "executionInfo": {
     "elapsed": 23497,
     "status": "ok",
     "timestamp": 1615965849871,
     "user": {
      "displayName": "Aleksey Shimko",
      "photoUrl": "",
      "userId": "06639583344500545085"
     },
     "user_tz": -180
    },
    "id": "GNCP31cKZe8y",
    "outputId": "f0323c37-e774-452a-917b-afb8e3609146"
   },
   "outputs": [
    {
     "data": {
      "image/png": "[encoded data removed]",
      "text/plain": [
       "<Figure size 432x288 with 1 Axes>"
      ]
     },
     "metadata": {
      "needs_background": "light"
     },
     "output_type": "display_data"
    }
   ],
   "source": [
    "# Let's see how many words are there for each count\n",
    "plt.hist(list(token_counts.values()), range=[0, 10**4], bins=50, log=True)\n",
    "plt.xlabel(\"Word counts\");"
   ]
  },
  {
   "cell_type": "markdown",
   "metadata": {
    "id": "cIWo0dm5Ze8y"
   },
   "source": [
    "__Task 1.1__ Get a list of all tokens that occur at least 10 times."
   ]
  },
  {
   "cell_type": "code",
   "execution_count": 15,
   "metadata": {
    "executionInfo": {
     "elapsed": 21919,
     "status": "ok",
     "timestamp": 1615965849871,
     "user": {
      "displayName": "Aleksey Shimko",
      "photoUrl": "",
      "userId": "06639583344500545085"
     },
     "user_tz": -180
    },
    "id": "iUB3KExsZe8y"
   },
   "outputs": [],
   "source": [
    "min_count = 10\n",
    "\n",
    "# tokens from token_counts keys that had at least min_count occurrences throughout the dataset\n",
    "#TODO <YOUR CODE>\n",
    "tokens = [t for t, c in token_counts.items() if c >= min_count and not (t  in ' /' or '/' in t\n",
    "                                                                       or any(map(str.isdigit, t)))]\n",
    "\n",
    "# Add a special tokens for unknown and empty words\n",
    "UNK, PAD = \"UNK\", \"PAD\"\n",
    "tokens = [UNK, PAD] + tokens"
   ]
  },
  {
   "cell_type": "code",
   "execution_count": 22,
   "metadata": {},
   "outputs": [
    {
     "data": {
      "text/plain": [
       "['schemededicated',\n",
       " 'zak',\n",
       " 'marklew',\n",
       " 'differentbarchester',\n",
       " 'barchestera',\n",
       " 'engingeer',\n",
       " 'elastopolymers',\n",
       " 'polymere',\n",
       " 'styrenic',\n",
       " 'galmorgan',\n",
       " 'rhonda',\n",
       " 'keyring',\n",
       " 'rostrvm',\n",
       " 'ofx',\n",
       " 'yaf',\n",
       " '\\uf06c',\n",
       " 'iguanas',\n",
       " '\\uf0be',\n",
       " 'spba',\n",
       " 'atf',\n",
       " '“support',\n",
       " 'pud',\n",
       " 'smax',\n",
       " \"'asbestos\",\n",
       " '„h',\n",
       " 'tothem',\n",
       " '\\uf06e',\n",
       " 'porthouse',\n",
       " 'mpo',\n",
       " 'motivationhrcom',\n",
       " 'havex',\n",
       " 'personnelx',\n",
       " 'fromx',\n",
       " 'xfa',\n",
       " 'wwwmotivationhrcom',\n",
       " 'onbsp',\n",
       " 'backgroundx',\n",
       " 'sixteenyearolds',\n",
       " 'ƒx',\n",
       " 'dixonscouk',\n",
       " 'jobsnbsp',\n",
       " 'serc',\n",
       " 'urm',\n",
       " '„�',\n",
       " 'aaronsmithhclpermanentcom',\n",
       " 'janavojtekovahclpermanentcom',\n",
       " 'qaranc',\n",
       " 'xffc',\n",
       " 'raquo',\n",
       " 'claas']"
      ]
     },
     "execution_count": 22,
     "metadata": {},
     "output_type": "execute_result"
    }
   ],
   "source": [
    "tokens[-50:]\n",
    "# tokens[:50]"
   ]
  },
  {
   "cell_type": "code",
   "execution_count": 14,
   "metadata": {
    "colab": {
     "base_uri": "https://localhost:8080/"
    },
    "executionInfo": {
     "elapsed": 20180,
     "status": "ok",
     "timestamp": 1615965849872,
     "user": {
      "displayName": "Aleksey Shimko",
      "photoUrl": "",
      "userId": "06639583344500545085"
     },
     "user_tz": -180
    },
    "id": "kqDMQVGyZe8y",
    "outputId": "a05a3f42-a7d7-4c3a-9f24-892a239fb728"
   },
   "outputs": [
    {
     "name": "stdout",
     "output_type": "stream",
     "text": [
      "Vocabulary size: 34207\n",
      "Correct!\n"
     ]
    }
   ],
   "source": [
    "print(\"Vocabulary size:\", len(tokens))\n",
    "assert type(tokens) == list\n",
    "#assert len(tokens) in range(32000, 35000)\n",
    "# assert 'me' in tokens\n",
    "assert UNK in tokens\n",
    "print(\"Correct!\")"
   ]
  },
  {
   "cell_type": "markdown",
   "metadata": {
    "id": "Z8JGwF9VZe8z"
   },
   "source": [
    "__Task 1.2__ Build an inverse token index: a dictionary from token(string) to it's index in `tokens` (int)"
   ]
  },
  {
   "cell_type": "code",
   "execution_count": 16,
   "metadata": {
    "executionInfo": {
     "elapsed": 18145,
     "status": "ok",
     "timestamp": 1615965849873,
     "user": {
      "displayName": "Aleksey Shimko",
      "photoUrl": "",
      "userId": "06639583344500545085"
     },
     "user_tz": -180
    },
    "id": "XcrdkC_RZe8z"
   },
   "outputs": [],
   "source": [
    "# TODO <YOUR CODE>\n",
    "token_to_id = {t: i for i, t in enumerate(tokens)}"
   ]
  },
  {
   "cell_type": "code",
   "execution_count": 17,
   "metadata": {
    "scrolled": true
   },
   "outputs": [
    {
     "data": {
      "text/plain": [
       "{'UNK': 0,\n",
       " 'PAD': 1,\n",
       " 'engineering': 2,\n",
       " 'systems': 3,\n",
       " 'analyst': 4,\n",
       " 'stress': 5,\n",
       " 'engineer': 6,\n",
       " 'glasgow': 7,\n",
       " 'modelling': 8,\n",
       " 'simulation': 9,\n",
       " 'mathematical': 10,\n",
       " 'modeller': 11,\n",
       " 'pioneer': 12,\n",
       " 'water': 13,\n",
       " 'industry': 14,\n",
       " 'senior': 15,\n",
       " 'subsea': 16,\n",
       " 'pipeline': 17,\n",
       " 'integrity': 18,\n",
       " 'recruitment': 19,\n",
       " 'consultant': 20,\n",
       " 'industrial': 21,\n",
       " 'commercial': 22,\n",
       " 'construction': 23,\n",
       " 'technical': 24,\n",
       " 'trades': 25,\n",
       " 'labour': 26,\n",
       " 'cables': 27,\n",
       " 'trainee': 28,\n",
       " 'mortgage': 29,\n",
       " 'advisor': 30,\n",
       " 'east': 31,\n",
       " 'midlands': 32,\n",
       " 'project': 33,\n",
       " 'pharmaceutical': 34,\n",
       " 'principal': 35,\n",
       " 'composite': 36,\n",
       " 'fatigue': 37,\n",
       " 'damage': 38,\n",
       " 'tolerance': 39,\n",
       " 'chef': 40,\n",
       " 'de': 41,\n",
       " 'partie': 42,\n",
       " 'award': 43,\n",
       " 'winning': 44,\n",
       " 'restaurant': 45,\n",
       " 'excellent': 46,\n",
       " 'tips': 47,\n",
       " 'quality': 48,\n",
       " 'controls': 49,\n",
       " 'dining': 50,\n",
       " 'live': 51,\n",
       " 'share': 52,\n",
       " 'c': 53,\n",
       " 'design': 54,\n",
       " 'lead': 55,\n",
       " 'engineers': 56,\n",
       " 'relief': 57,\n",
       " 'croydon': 58,\n",
       " 'surrey': 59,\n",
       " 'control': 60,\n",
       " 'instrumentation': 61,\n",
       " 'electrical': 62,\n",
       " 'ica': 63,\n",
       " 'pastry': 64,\n",
       " 'red': 65,\n",
       " 'star': 66,\n",
       " 'rosette': 67,\n",
       " 'hotel': 68,\n",
       " 'process': 69,\n",
       " 'position': 70,\n",
       " 'k': 71,\n",
       " 'sous': 72,\n",
       " 'kitchen': 73,\n",
       " 'general': 74,\n",
       " 'manager': 75,\n",
       " 'funky': 76,\n",
       " 'cool': 77,\n",
       " 'concept': 78,\n",
       " 'london': 79,\n",
       " 'mice': 80,\n",
       " 'sales': 81,\n",
       " 'marketing': 82,\n",
       " 'developer': 83,\n",
       " 'php': 84,\n",
       " 'website': 85,\n",
       " 'designer': 86,\n",
       " 'business': 87,\n",
       " 'development': 88,\n",
       " 'welwyn': 89,\n",
       " 'better': 90,\n",
       " 'sauce': 91,\n",
       " 'hertford': 92,\n",
       " 'al': 93,\n",
       " 'aa': 94,\n",
       " 'qa': 95,\n",
       " 'documentation': 96,\n",
       " 'bilingual': 97,\n",
       " 'customer': 98,\n",
       " 'service': 99,\n",
       " 'operator': 100,\n",
       " 'event': 101,\n",
       " 'coordinator': 102,\n",
       " 'german': 103,\n",
       " 'speaking': 104,\n",
       " 'planner': 105,\n",
       " 'reservationist': 106,\n",
       " 'coach': 107,\n",
       " 'bushey': 108,\n",
       " 'grove': 109,\n",
       " 'leisure': 110,\n",
       " 'centre': 111,\n",
       " 'self': 112,\n",
       " 'employed': 113,\n",
       " 'swimming': 114,\n",
       " 'instructors': 115,\n",
       " 'sport': 116,\n",
       " 'coaches': 117,\n",
       " 'staff': 118,\n",
       " 'deputy': 119,\n",
       " 'crest': 120,\n",
       " 'gun': 121,\n",
       " 'green': 122,\n",
       " 'refectory': 123,\n",
       " 'godalming': 124,\n",
       " 'fine': 125,\n",
       " 'chefs': 126,\n",
       " 'restaurants': 127,\n",
       " 'web': 128,\n",
       " 'software': 129,\n",
       " 'algorithm': 130,\n",
       " 'mechanical': 131,\n",
       " 'substantiation': 132,\n",
       " 'user': 133,\n",
       " 'experience': 134,\n",
       " 'field': 135,\n",
       " 'executive': 136,\n",
       " 'wide': 137,\n",
       " 'format': 138,\n",
       " 'printing': 139,\n",
       " 'telesales': 140,\n",
       " 'account': 141,\n",
       " 'plastics': 142,\n",
       " 'negotiator': 143,\n",
       " 'birmingham': 144,\n",
       " 'sutton': 145,\n",
       " 'hall': 146,\n",
       " 'macclesfield': 147,\n",
       " 'manufacturing': 148,\n",
       " 'levels': 149,\n",
       " 'principle': 150,\n",
       " 'assistant': 151,\n",
       " 'new': 152,\n",
       " 'opening': 153,\n",
       " '–': 154,\n",
       " 'november': 155,\n",
       " 'finch': 156,\n",
       " 'didsbury': 157,\n",
       " 'straights': 158,\n",
       " 'key': 159,\n",
       " 'ipswich': 160,\n",
       " 'outskirts': 161,\n",
       " 'fb': 162,\n",
       " 'amazing': 163,\n",
       " 'unique': 164,\n",
       " 'benefits': 165,\n",
       " 'demi': 166,\n",
       " 'luxury': 167,\n",
       " 'free': 168,\n",
       " 'structural': 169,\n",
       " 'defence': 170,\n",
       " 'banqueting': 171,\n",
       " 'hertfordshire': 172,\n",
       " 'junior': 173,\n",
       " 'near': 174,\n",
       " 'essex': 175,\n",
       " 'fresh': 176,\n",
       " 'food': 177,\n",
       " 'pub': 178,\n",
       " 'responsible': 179,\n",
       " 'mechancial': 180,\n",
       " 'credit': 181,\n",
       " 'controller': 182,\n",
       " 'norfolk': 183,\n",
       " 'burton': 184,\n",
       " 'trent': 185,\n",
       " 'parties': 186,\n",
       " 'required': 187,\n",
       " 'nationwide': 188,\n",
       " 'artisan': 189,\n",
       " 'bakery': 190,\n",
       " 'suffolk': 191,\n",
       " 'coast': 192,\n",
       " 'crown': 193,\n",
       " 'fitter': 194,\n",
       " 'machine': 195,\n",
       " 'tool': 196,\n",
       " 'java': 197,\n",
       " 'strong': 198,\n",
       " 'plastic': 199,\n",
       " 'extrusion': 200,\n",
       " 'setter': 201,\n",
       " 'nights': 202,\n",
       " 'coastal': 203,\n",
       " 'cluster': 204,\n",
       " 'revenue': 205,\n",
       " 'graduate': 206,\n",
       " 'uml': 207,\n",
       " 'ood': 208,\n",
       " 'resort': 209,\n",
       " 'spa': 210,\n",
       " 'livein': 211,\n",
       " 'available': 212,\n",
       " 'primary': 213,\n",
       " 'teachers': 214,\n",
       " 'small': 215,\n",
       " 'focused': 216,\n",
       " 'relaxed': 217,\n",
       " 'country': 218,\n",
       " 'quirky': 219,\n",
       " 'gastro': 220,\n",
       " 'needed': 221,\n",
       " 'fabulous': 222,\n",
       " 'private': 223,\n",
       " 'commis': 224,\n",
       " 'milton': 225,\n",
       " 'keynes': 226,\n",
       " 'package': 227,\n",
       " 'transaction': 228,\n",
       " 'services': 229,\n",
       " 'audit': 230,\n",
       " 'open': 231,\n",
       " 'plan': 232,\n",
       " 'brasserie': 233,\n",
       " 'person': 234,\n",
       " 'milford': 235,\n",
       " 'stunning': 236,\n",
       " 'venue': 237,\n",
       " 'good': 238,\n",
       " 'electronics': 239,\n",
       " 'switch': 240,\n",
       " 'mode': 241,\n",
       " 'power': 242,\n",
       " 'supplies': 243,\n",
       " 'house': 244,\n",
       " 'opportunities': 245,\n",
       " 'charming': 246,\n",
       " 'company': 247,\n",
       " 'deluxe': 248,\n",
       " 'compliance': 249,\n",
       " 'support': 250,\n",
       " 'technician': 251,\n",
       " 'high': 252,\n",
       " 'volume': 253,\n",
       " 'department': 254,\n",
       " 'future': 255,\n",
       " 'leaders': 256,\n",
       " 'programme': 257,\n",
       " 'technology': 258,\n",
       " 'international': 259,\n",
       " 'cuisine': 260,\n",
       " 'west': 261,\n",
       " 'end': 262,\n",
       " 'exhibition': 263,\n",
       " 'durham': 264,\n",
       " 'ts': 265,\n",
       " 'conference': 266,\n",
       " 'large': 267,\n",
       " 'options': 268,\n",
       " 'led': 269,\n",
       " 'north': 270,\n",
       " 'cambridgeshire': 271,\n",
       " 'northants': 272,\n",
       " 'yorkshire': 273,\n",
       " 'property': 274,\n",
       " 'buyer': 275,\n",
       " 'round': 276,\n",
       " 'skills': 277,\n",
       " 'ambitious': 278,\n",
       " 'maintenance': 279,\n",
       " 'electrician': 280,\n",
       " 'financial': 281,\n",
       " 'markets': 282,\n",
       " 'data': 283,\n",
       " 'hospital': 284,\n",
       " 'contracts': 285,\n",
       " 'straight': 286,\n",
       " 'shifts': 287,\n",
       " 'bury': 288,\n",
       " 'st': 289,\n",
       " 'edmunds': 290,\n",
       " 'great': 291,\n",
       " 'group': 292,\n",
       " 'civil': 293,\n",
       " 'city': 294,\n",
       " 'retailer': 295,\n",
       " 'reservations': 296,\n",
       " 'porter': 297,\n",
       " 'x': 298,\n",
       " 'oxford': 299,\n",
       " 'newly': 300,\n",
       " 'qualified': 301,\n",
       " 'rotation': 302,\n",
       " 'scheme': 303,\n",
       " 'borer': 304,\n",
       " 'cnc': 305,\n",
       " 'turner': 306,\n",
       " 'programmer': 307,\n",
       " 'uk': 308,\n",
       " 'national': 309,\n",
       " 'personal': 310,\n",
       " 'tax': 311,\n",
       " 'accredited': 312,\n",
       " 'boutique': 313,\n",
       " 'worker': 314,\n",
       " 'job': 315,\n",
       " 'chepstow': 316,\n",
       " 'abergavenny': 317,\n",
       " 'nurse': 318,\n",
       " 'berkshire': 319,\n",
       " 'pharmacy': 320,\n",
       " 'norwich': 321,\n",
       " 'cardiff': 322,\n",
       " 'rgn': 323,\n",
       " 'registered': 324,\n",
       " 'southampton': 325,\n",
       " 'scrub': 326,\n",
       " 'braintree': 327,\n",
       " 'healthcare': 328,\n",
       " 'nottingham': 329,\n",
       " 'clinical': 330,\n",
       " 'psychologist': 331,\n",
       " 'operating': 332,\n",
       " 'practitioner': 333,\n",
       " 'odp': 334,\n",
       " 'jobs': 335,\n",
       " 'prison': 336,\n",
       " 'staffordshire': 337,\n",
       " 'driffield': 338,\n",
       " 'research': 339,\n",
       " 'nottinghamshire': 340,\n",
       " 'care': 341,\n",
       " 'assistants': 342,\n",
       " 'workers': 343,\n",
       " 'edinburgh': 344,\n",
       " 'rmn': 345,\n",
       " 'mental': 346,\n",
       " 'blyth': 347,\n",
       " 'saturday': 348,\n",
       " 'night': 349,\n",
       " 'winchester': 350,\n",
       " 'nursing': 351,\n",
       " 'home': 352,\n",
       " 'substance': 353,\n",
       " 'misuse': 354,\n",
       " 'kent': 355,\n",
       " 'health': 356,\n",
       " 'sunderland': 357,\n",
       " 'tyneside': 358,\n",
       " 'buckinghamshire': 359,\n",
       " 'pembrokeshire': 360,\n",
       " 'stockport': 361,\n",
       " 'hampshire': 362,\n",
       " 'south': 363,\n",
       " 'bournemouth': 364,\n",
       " 'manchester': 365,\n",
       " 'middlesex': 366,\n",
       " 'boston': 367,\n",
       " 'leicester': 368,\n",
       " 'idts': 369,\n",
       " 'hull': 370,\n",
       " 'secure': 371,\n",
       " 'unit': 372,\n",
       " 'shrewsbury': 373,\n",
       " 'rugby': 374,\n",
       " 'ooh': 375,\n",
       " 'gp': 376,\n",
       " 'clevedon': 377,\n",
       " 'surgical': 378,\n",
       " 'medical': 379,\n",
       " 'elderly': 380,\n",
       " 'nurses': 381,\n",
       " 'urgently': 382,\n",
       " 'social': 383,\n",
       " 'gainsborough': 384,\n",
       " 'aberystwyth': 385,\n",
       " 'hadleigh': 386,\n",
       " 'totnes': 387,\n",
       " 'devon': 388,\n",
       " 'stockton': 389,\n",
       " 'tees': 390,\n",
       " 'aberdeen': 391,\n",
       " 'family': 392,\n",
       " 'oxfordshire': 393,\n",
       " 'residential': 394,\n",
       " 'maths': 395,\n",
       " 'teacher': 396,\n",
       " 'harlow': 397,\n",
       " 'work': 398,\n",
       " 'woking': 399,\n",
       " 'community': 400,\n",
       " 'dundee': 401,\n",
       " 'deeside': 402,\n",
       " 'fife': 403,\n",
       " 'inverness': 404,\n",
       " 'dartmoor': 405,\n",
       " 'hatherleigh': 406,\n",
       " 'frome': 407,\n",
       " 'rnmh': 408,\n",
       " 'exeter': 409,\n",
       " 'rnld': 410,\n",
       " 'learning': 411,\n",
       " 'disability': 412,\n",
       " 'bristol': 413,\n",
       " 'liaison': 414,\n",
       " 'dev': 415,\n",
       " 'aylesbury': 416,\n",
       " 'emergency': 417,\n",
       " 'domiciliary': 418,\n",
       " 'bradford': 419,\n",
       " 'leeds': 420,\n",
       " 'whitby': 421,\n",
       " 'paediatric': 422,\n",
       " 'clinic': 423,\n",
       " 'preston': 424,\n",
       " 'southport': 425,\n",
       " 'solihull': 426,\n",
       " 'chorley': 427,\n",
       " 'bank': 428,\n",
       " 'bramhope': 429,\n",
       " 'time': 430,\n",
       " 'band': 431,\n",
       " 'lancashire': 432,\n",
       " 'poole': 433,\n",
       " 'nursery': 434,\n",
       " 'slough': 435,\n",
       " 'outpatients': 436,\n",
       " 'brighton': 437,\n",
       " 'orthopaedics': 438,\n",
       " 'ilkley': 439,\n",
       " 'harrowgate': 440,\n",
       " 'skipton': 441,\n",
       " 'ward': 442,\n",
       " 'sussex': 443,\n",
       " 'daventry': 444,\n",
       " 'plymouth': 445,\n",
       " 'newton': 446,\n",
       " 'abbot': 447,\n",
       " 'head': 448,\n",
       " 'locum': 449,\n",
       " 'podiatrist': 450,\n",
       " 'liverpool': 451,\n",
       " 'cheshire': 452,\n",
       " 'childrens': 453,\n",
       " 'children': 454,\n",
       " 'disabilites': 455,\n",
       " 'paeds': 456,\n",
       " 'burnley': 457,\n",
       " 'cleveland': 458,\n",
       " 'molton': 459,\n",
       " 'chelmsford': 460,\n",
       " 'maldon': 461,\n",
       " 'southend': 462,\n",
       " 'sea': 463,\n",
       " 'brentwood': 464,\n",
       " 'colchester': 465,\n",
       " 'clacton': 466,\n",
       " 'woodbridge': 467,\n",
       " 'ivybridge': 468,\n",
       " 'edgware': 469,\n",
       " 'paignton': 470,\n",
       " 'brixham': 471,\n",
       " 'agency': 472,\n",
       " 'ormskirk': 473,\n",
       " 'skelmersdale': 474,\n",
       " 'gateshead': 475,\n",
       " 'dorset': 476,\n",
       " 'watford': 477,\n",
       " 'potters': 478,\n",
       " 'bar': 479,\n",
       " 'borehamwood': 480,\n",
       " 'harrow': 481,\n",
       " 'brent': 482,\n",
       " 'supervisor': 483,\n",
       " 'bexley': 484,\n",
       " 'saxmundham': 485,\n",
       " 'day': 486,\n",
       " 'occupational': 487,\n",
       " 'therapist': 488,\n",
       " 'ashtonunderlyne': 489,\n",
       " 'hereford': 490,\n",
       " 'dumfries': 491,\n",
       " 'newcastle': 492,\n",
       " 'middlesbrough': 493,\n",
       " 'northampton': 494,\n",
       " 'ilfracombe': 495,\n",
       " 'sidmouth': 496,\n",
       " 'psychological': 497,\n",
       " 'wellbeing': 498,\n",
       " 'horsham': 499,\n",
       " 'homes': 500,\n",
       " 'eastbourne': 501,\n",
       " 'acute': 502,\n",
       " 'redhill': 503,\n",
       " 'hospitals': 504,\n",
       " 'haywards': 505,\n",
       " 'heath': 506,\n",
       " 'pulse': 507,\n",
       " 'staffing': 508,\n",
       " 'currently': 509,\n",
       " 'seeking': 510,\n",
       " 'setting': 511,\n",
       " 'perth': 512,\n",
       " 'area': 513,\n",
       " 'intensity': 514,\n",
       " 'cbt': 515,\n",
       " 'female': 516,\n",
       " 'torquay': 517,\n",
       " 'wycombe': 518,\n",
       " 'reading': 519,\n",
       " 'coleshill': 520,\n",
       " 'epsom': 521,\n",
       " 'crawley': 522,\n",
       " 'wembley': 523,\n",
       " 'areas': 524,\n",
       " 'northamptonshire': 525,\n",
       " 'dentist': 526,\n",
       " 'cumbria': 527,\n",
       " 'scotland': 528,\n",
       " 'thetford': 529,\n",
       " 'lowestoft': 530,\n",
       " 'mold': 531,\n",
       " 'callington': 532,\n",
       " 'marlow': 533,\n",
       " 'uxbridge': 534,\n",
       " 'practitioners': 535,\n",
       " 'lincolnshire': 536,\n",
       " 'therapists': 537,\n",
       " 'gloucester': 538,\n",
       " 'arbroath': 539,\n",
       " 'carehome': 540,\n",
       " 'guildford': 541,\n",
       " 'worthing': 542,\n",
       " 'witham': 543,\n",
       " 'billericay': 544,\n",
       " 'basildon': 545,\n",
       " 'dunmow': 546,\n",
       " 'rivers': 547,\n",
       " 'bolton': 548,\n",
       " 'walsall': 549,\n",
       " 'uttoxeter': 550,\n",
       " 'york': 551,\n",
       " 'weekend': 552,\n",
       " 'weymouth': 553,\n",
       " 'bridport': 554,\n",
       " 'lyme': 555,\n",
       " 'regis': 556,\n",
       " 'dorchester': 557,\n",
       " 'carers': 558,\n",
       " 'swanage': 559,\n",
       " 'beaminster': 560,\n",
       " 'wool': 561,\n",
       " 'tavistock': 562,\n",
       " 'advanced': 563,\n",
       " 'aboyne': 564,\n",
       " 'hemel': 565,\n",
       " 'hempstead': 566,\n",
       " 'team': 567,\n",
       " 'luton': 568,\n",
       " 'youth': 569,\n",
       " 'justice': 570,\n",
       " 'officer': 571,\n",
       " 'adult': 572,\n",
       " 'fostering': 573,\n",
       " 'adoption': 574,\n",
       " 'doncaster': 575,\n",
       " 'wheatley': 576,\n",
       " 'whitehaven': 577,\n",
       " 'specialist': 578,\n",
       " 'dementia': 579,\n",
       " 'irvine': 580,\n",
       " 'telford': 581,\n",
       " 'fraserburgh': 582,\n",
       " 'aberdeenshire': 583,\n",
       " 'wigan': 584,\n",
       " 'branch': 585,\n",
       " 'dom': 586,\n",
       " 'peterhead': 587,\n",
       " 'chipping': 588,\n",
       " 'norton': 589,\n",
       " 'positions': 590,\n",
       " 'ayrshire': 591,\n",
       " 'gravesend': 592,\n",
       " 'bedfordshire': 593,\n",
       " 'swindon': 594,\n",
       " 'dungannon': 595,\n",
       " 'barnard': 596,\n",
       " 'castle': 597,\n",
       " 'theatre': 598,\n",
       " 'anaesthetics': 599,\n",
       " 'recovery': 600,\n",
       " 'shropshire': 601,\n",
       " 'catering': 602,\n",
       " 'bromsgrove': 603,\n",
       " 'sheffield': 604,\n",
       " 'blackpool': 605,\n",
       " 'hour': 606,\n",
       " 'officers': 607,\n",
       " 'stourport': 608,\n",
       " 'severn': 609,\n",
       " 'droylsden': 610,\n",
       " 'mottram': 611,\n",
       " 'sawston': 612,\n",
       " 'melbourn': 613,\n",
       " 'ely': 614,\n",
       " 'hospitality': 615,\n",
       " 'yarnton': 616,\n",
       " 'temporary': 617,\n",
       " 'months': 618,\n",
       " 'leonards': 619,\n",
       " 'operations': 620,\n",
       " 'pharmacist': 621,\n",
       " 'borders': 622,\n",
       " 'stirling': 623,\n",
       " 'domestic': 624,\n",
       " 'brixton': 625,\n",
       " 'ph': 626,\n",
       " 'ruislip': 627,\n",
       " 'upton': 628,\n",
       " 'eckington': 629,\n",
       " 'tunbridge': 630,\n",
       " 'wells': 631,\n",
       " 'dartford': 632,\n",
       " 'gerrards': 633,\n",
       " 'cross': 634,\n",
       " 'hayes': 635,\n",
       " 'sandwich': 636,\n",
       " 's': 637,\n",
       " 'oxted': 638,\n",
       " 'cheltenham': 639,\n",
       " 'scunthorpe': 640,\n",
       " 'newport': 641,\n",
       " 'bideford': 642,\n",
       " 'hay': 643,\n",
       " 'wye': 644,\n",
       " 'dunstable': 645,\n",
       " 'houghton': 646,\n",
       " 'ampthill': 647,\n",
       " 'sandy': 648,\n",
       " 'bedford': 649,\n",
       " 'stroud': 650,\n",
       " 'based': 651,\n",
       " 'lambeth': 652,\n",
       " 'adults': 653,\n",
       " 'nelson': 654,\n",
       " 'disabilities': 655,\n",
       " 'proffesional': 656,\n",
       " 'margate': 657,\n",
       " 'assisted': 658,\n",
       " 'living': 659,\n",
       " 'canterbury': 660,\n",
       " 'ld': 661,\n",
       " 'workington': 662,\n",
       " 'shildon': 663,\n",
       " 'bagshot': 664,\n",
       " 'tring': 665,\n",
       " 'berkhamsted': 666,\n",
       " 'barnsley': 667,\n",
       " 'nantwich': 668,\n",
       " 'rgns': 669,\n",
       " 'warwick': 670,\n",
       " 'hrs': 671,\n",
       " 'sat': 672,\n",
       " 'wed': 673,\n",
       " 'hours': 674,\n",
       " 'martock': 675,\n",
       " 'somerset': 676,\n",
       " 'darlington': 677,\n",
       " 'brecon': 678,\n",
       " 'cwmbran': 679,\n",
       " 'barry': 680,\n",
       " 'caerphilly': 681,\n",
       " 'bromley': 682,\n",
       " 'taunton': 683,\n",
       " 'mobile': 684,\n",
       " 'theatres': 685,\n",
       " 'surgery': 686,\n",
       " 'ashtead': 687,\n",
       " 'dual': 688,\n",
       " 'chester': 689,\n",
       " 'chronic': 690,\n",
       " 'heart': 691,\n",
       " 'failure': 692,\n",
       " 'diabetes': 693,\n",
       " 'angus': 694,\n",
       " 'associate': 695,\n",
       " 'sexual': 696,\n",
       " 'ealing': 697,\n",
       " 'kentish': 698,\n",
       " 'town': 699,\n",
       " 'sister': 700,\n",
       " 'charge': 701,\n",
       " 'coagulation': 702,\n",
       " 'prevention': 703,\n",
       " 'hartlepool': 704,\n",
       " 'derbyshire': 705,\n",
       " 'teesside': 706,\n",
       " 'oswestry': 707,\n",
       " 'rotherham': 708,\n",
       " 'chichester': 709,\n",
       " 'hca': 710,\n",
       " 'cardiology': 711,\n",
       " 'fertility': 712,\n",
       " 'ivf': 713,\n",
       " 'telephone': 714,\n",
       " 'triage': 715,\n",
       " 'widnes': 716,\n",
       " 'surrounding': 717,\n",
       " 'supported': 718,\n",
       " 'ilford': 719,\n",
       " 'administrator': 720,\n",
       " 'staffnurse': 721,\n",
       " 'emi': 722,\n",
       " 'bordon': 723,\n",
       " 'sevenoaks': 724,\n",
       " 'northumberland': 725,\n",
       " 'llanybydder': 726,\n",
       " 'campbeltown': 727,\n",
       " 'bute': 728,\n",
       " 'homecare': 729,\n",
       " 'oldham': 730,\n",
       " 'sherborne': 731,\n",
       " 'blairgowrie': 732,\n",
       " 'uckfield': 733,\n",
       " 'orthopaedic': 734,\n",
       " 'cambridge': 735,\n",
       " 'stowmarket': 736,\n",
       " 'honiton': 737,\n",
       " 'mary': 738,\n",
       " 'cranleigh': 739,\n",
       " 'henley': 740,\n",
       " 'thames': 741,\n",
       " 'perthshire': 742,\n",
       " 'renfrewshire': 743,\n",
       " 'ebbw': 744,\n",
       " 'vale': 745,\n",
       " 'regional': 746,\n",
       " 'peterborough': 747,\n",
       " 'christchurch': 748,\n",
       " 'halifax': 749,\n",
       " 'stoke': 750,\n",
       " 'experienced': 751,\n",
       " 'gosport': 752,\n",
       " 'bonus': 753,\n",
       " 'amersham': 754,\n",
       " 'clydebank': 755,\n",
       " 'exmouth': 756,\n",
       " 'devizes': 757,\n",
       " 'days': 758,\n",
       " 'crewe': 759,\n",
       " 'critical': 760,\n",
       " 'background': 761,\n",
       " 'fareham': 762,\n",
       " 'leyland': 763,\n",
       " 'cornwall': 764,\n",
       " 'iv': 765,\n",
       " 'therapy': 766,\n",
       " 'portsmouth': 767,\n",
       " 'washington': 768,\n",
       " 'wednesbury': 769,\n",
       " 'admin': 770,\n",
       " 'complex': 771,\n",
       " 'managers': 772,\n",
       " 'commissioning': 773,\n",
       " 'stafford': 774,\n",
       " 'county': 775,\n",
       " 'supervising': 776,\n",
       " 'autism': 777,\n",
       " 'holmfirth': 778,\n",
       " 'helens': 779,\n",
       " 'standish': 780,\n",
       " 'shields': 781,\n",
       " 'mobility': 782,\n",
       " 'maidstone': 783,\n",
       " 'plus': 784,\n",
       " 'generous': 785,\n",
       " 'mileage': 786,\n",
       " 'farnborough': 787,\n",
       " 'tadley': 788,\n",
       " 'woodley': 789,\n",
       " 'edge': 790,\n",
       " 'peripatetic': 791,\n",
       " 'folkestone': 792,\n",
       " 'leader': 793,\n",
       " 'salisbury': 794,\n",
       " 'older': 795,\n",
       " 'persons': 796,\n",
       " 'disabled': 797,\n",
       " 'outreach': 798,\n",
       " 'bed': 799,\n",
       " 'prescot': 800,\n",
       " 'merseyside': 801,\n",
       " 'fixed': 802,\n",
       " 'term': 803,\n",
       " 'interim': 804,\n",
       " 'carer': 805,\n",
       " 'missenden': 806,\n",
       " 'hdu': 807,\n",
       " 'corporate': 808,\n",
       " 'parenting': 809,\n",
       " 'roles': 810,\n",
       " 'description': 811,\n",
       " 'locations': 812,\n",
       " 'adhoc': 813,\n",
       " 'central': 814,\n",
       " 'rickmansworth': 815,\n",
       " 'cwd': 816,\n",
       " 'practice': 817,\n",
       " 'transitions': 818,\n",
       " 'flintshire': 819,\n",
       " 'wales': 820,\n",
       " 'garden': 821,\n",
       " 'court': 822,\n",
       " 'belper': 823,\n",
       " 'wirral': 824,\n",
       " 'vq': 825,\n",
       " 'assessor': 826,\n",
       " 'chesterfield': 827,\n",
       " 'northallerton': 828,\n",
       " 'bingley': 829,\n",
       " 'angiography': 830,\n",
       " 'suite': 831,\n",
       " 'set': 832,\n",
       " 'annum': 833,\n",
       " 'policy': 834,\n",
       " 'dewsbury': 835,\n",
       " 'altrincham': 836,\n",
       " 'strategic': 837,\n",
       " 'bridgwater': 838,\n",
       " 'stalybridge': 839,\n",
       " 'reigate': 840,\n",
       " 'permanency': 841,\n",
       " 'virginia': 842,\n",
       " 'ashford': 843,\n",
       " 'speech': 844,\n",
       " 'language': 845,\n",
       " 'referral': 846,\n",
       " 'assessment': 847,\n",
       " 'offending': 848,\n",
       " 'lac': 849,\n",
       " 'dawlish': 850,\n",
       " 'duties': 851,\n",
       " 'maidenhead': 852,\n",
       " 'worcester': 853,\n",
       " 'amhp': 854,\n",
       " 'droitwich': 855,\n",
       " 'car': 856,\n",
       " 'dental': 857,\n",
       " 'redcar': 858,\n",
       " 'westbourne': 859,\n",
       " 'whitley': 860,\n",
       " 'bay': 861,\n",
       " 'middlesborough': 862,\n",
       " 'stocktonontees': 863,\n",
       " 'harrogate': 864,\n",
       " 'itu': 865,\n",
       " 'bakewell': 866,\n",
       " 'placement': 867,\n",
       " 'palliative': 868,\n",
       " 'prescriber': 869,\n",
       " 'southall': 870,\n",
       " 'independent': 871,\n",
       " 'reviewing': 872,\n",
       " 'counties': 873,\n",
       " 'endoscopy': 874,\n",
       " 'looking': 875,\n",
       " 'relocate': 876,\n",
       " 'huyton': 877,\n",
       " 'director': 878,\n",
       " 'anaesthetic': 879,\n",
       " 'sterile': 880,\n",
       " 'dep': 881,\n",
       " 't': 882,\n",
       " 'thirsk': 883,\n",
       " 'copd': 884,\n",
       " 'derby': 885,\n",
       " 'chingford': 886,\n",
       " 'edmonton': 887,\n",
       " 'malvern': 888,\n",
       " 'hygienist': 889,\n",
       " 'clayton': 890,\n",
       " 'spalding': 891,\n",
       " 'bath': 892,\n",
       " 'ashton': 893,\n",
       " 'stratford': 894,\n",
       " 'loughborough': 895,\n",
       " 'lowsecure': 896,\n",
       " 'henfield': 897,\n",
       " 'coventry': 898,\n",
       " 'aseptic': 899,\n",
       " 'rota': 900,\n",
       " 'corby': 901,\n",
       " 'role': 902,\n",
       " 'iro': 903,\n",
       " 'chairing': 904,\n",
       " 'cp': 905,\n",
       " 'conferences': 906,\n",
       " 'shetland': 907,\n",
       " 'islands': 908,\n",
       " 'mri': 909,\n",
       " 'radiographer': 910,\n",
       " 'volumes': 911,\n",
       " 'physically': 912,\n",
       " 'male': 913,\n",
       " 'aesthetic': 914,\n",
       " 'patient': 915,\n",
       " 'treatment': 916,\n",
       " 'ebd': 917,\n",
       " 'neath': 918,\n",
       " 'bangor': 919,\n",
       " 'net': 920,\n",
       " 'real': 921,\n",
       " 'estate': 922,\n",
       " 'bourne': 923,\n",
       " 'lincoln': 924,\n",
       " 'oncology': 925,\n",
       " 'hr': 926,\n",
       " 'l': 927,\n",
       " 'm': 928,\n",
       " 'e': 929,\n",
       " 'malden': 930,\n",
       " 'huntingdon': 931,\n",
       " 'caterham': 932,\n",
       " 'rushden': 933,\n",
       " 'accommodation': 934,\n",
       " 'supervised': 935,\n",
       " 'contact': 936,\n",
       " 'poplar': 937,\n",
       " 'warrington': 938,\n",
       " 'bookkeeper': 939,\n",
       " 'oracle': 940,\n",
       " 'paisley': 941,\n",
       " 'andover': 942,\n",
       " 'tester': 943,\n",
       " 'uc': 944,\n",
       " 'solutions': 945,\n",
       " 'michelin': 946,\n",
       " 'multioutlet': 947,\n",
       " 'child': 948,\n",
       " 'protection': 949,\n",
       " 'rscn': 950,\n",
       " 'ct': 951,\n",
       " 'cases': 952,\n",
       " 'inpatient': 953,\n",
       " 'renal': 954,\n",
       " 'dialysis': 955,\n",
       " 'maternity': 956,\n",
       " 'cover': 957,\n",
       " 'morecambe': 958,\n",
       " 'beverage': 959,\n",
       " 'retention': 960,\n",
       " 'operation': 961,\n",
       " 'grand': 962,\n",
       " 'chobham': 963,\n",
       " 'qsw': 964,\n",
       " 'early': 965,\n",
       " 'years': 966,\n",
       " 'upminster': 967,\n",
       " 'bucks': 968,\n",
       " 'laundry': 969,\n",
       " 'weekends': 970,\n",
       " 'wolverhampton': 971,\n",
       " 'leaving': 972,\n",
       " 'neuro': 973,\n",
       " 'stevenage': 974,\n",
       " 'urology': 975,\n",
       " 'nan': 976,\n",
       " 'young': 977,\n",
       " 'carlisle': 978,\n",
       " 'offshore': 979,\n",
       " 'oil': 980,\n",
       " 'gas': 981,\n",
       " 'toolroom': 982,\n",
       " 'machinist': 983,\n",
       " 'deep': 984,\n",
       " 'hole': 985,\n",
       " 'horizontal': 986,\n",
       " 'dursley': 987,\n",
       " 'bathgate': 988,\n",
       " 'level': 989,\n",
       " 'popular': 990,\n",
       " 'busy': 991,\n",
       " 'section': 992,\n",
       " 'fantastic': 993,\n",
       " 'kidlington': 994,\n",
       " 'glos': 995,\n",
       " 'intervention': 996,\n",
       " 'storage': 997,\n",
       " 'information': 998,\n",
       " 'security': 999,\n",
       " ...}"
      ]
     },
     "execution_count": 17,
     "metadata": {},
     "output_type": "execute_result"
    }
   ],
   "source": [
    "token_to_id"
   ]
  },
  {
   "cell_type": "code",
   "execution_count": 22,
   "metadata": {
    "colab": {
     "base_uri": "https://localhost:8080/"
    },
    "executionInfo": {
     "elapsed": 1817,
     "status": "ok",
     "timestamp": 1615965849873,
     "user": {
      "displayName": "Aleksey Shimko",
      "photoUrl": "",
      "userId": "06639583344500545085"
     },
     "user_tz": -180
    },
    "id": "MrfWfH7MZe8z",
    "outputId": "c89a083a-6d4e-4996-8ff6-b8440f9fa31c"
   },
   "outputs": [
    {
     "name": "stdout",
     "output_type": "stream",
     "text": [
      "Correct!\n"
     ]
    }
   ],
   "source": [
    "assert isinstance(token_to_id, dict)\n",
    "assert len(token_to_id) == len(tokens)\n",
    "for tok in tokens:\n",
    "    assert tokens[token_to_id[tok]] == tok\n",
    "\n",
    "print(\"Correct!\")"
   ]
  },
  {
   "cell_type": "markdown",
   "metadata": {
    "id": "wYj9cyTXZe8z"
   },
   "source": [
    "And finally, let's use the vocabulary you've built to map text lines into neural network-digestible matrices."
   ]
  },
  {
   "cell_type": "code",
   "execution_count": 18,
   "metadata": {
    "executionInfo": {
     "elapsed": 578,
     "status": "ok",
     "timestamp": 1615965850840,
     "user": {
      "displayName": "Aleksey Shimko",
      "photoUrl": "",
      "userId": "06639583344500545085"
     },
     "user_tz": -180
    },
    "id": "ExQNSGMrZe8z"
   },
   "outputs": [],
   "source": [
    "UNK_IX, PAD_IX = map(token_to_id.get, [UNK, PAD])\n",
    "\n",
    "def as_matrix(sequences, max_len=None):\n",
    "    \"\"\" Convert a list of tokens into a matrix with padding \"\"\"\n",
    "    if isinstance(sequences[0], str):\n",
    "        sequences = list(map(str.split, sequences))\n",
    "        \n",
    "    max_len = min(max(map(len, sequences)), max_len or float('inf'))\n",
    "    \n",
    "    matrix = np.full((len(sequences), max_len), np.int32(PAD_IX))\n",
    "    for i,seq in enumerate(sequences):\n",
    "        row_ix = [token_to_id.get(word, UNK_IX) for word in seq[:max_len]]\n",
    "        matrix[i, :len(row_ix)] = row_ix\n",
    "    \n",
    "    return matrix"
   ]
  },
  {
   "cell_type": "code",
   "execution_count": 20,
   "metadata": {
    "colab": {
     "base_uri": "https://localhost:8080/"
    },
    "executionInfo": {
     "elapsed": 578,
     "status": "ok",
     "timestamp": 1615965853519,
     "user": {
      "displayName": "Aleksey Shimko",
      "photoUrl": "",
      "userId": "06639583344500545085"
     },
     "user_tz": -180
    },
    "id": "5bd1OxoyZe80",
    "outputId": "ee466c49-54a8-457d-ce2c-1c4214559283"
   },
   "outputs": [
    {
     "name": "stdout",
     "output_type": "stream",
     "text": [
      "Lines:\n",
      "engineering systems analyst\n",
      "hr assistant\n",
      "senior eci engineer\n",
      "\n",
      "Matrix:\n",
      "[[   2    3    4]\n",
      " [ 926  151    1]\n",
      " [  15 8232    6]]\n"
     ]
    }
   ],
   "source": [
    "print(\"Lines:\")\n",
    "print('\\n'.join(data[\"Title\"][::100000].values), end='\\n\\n')\n",
    "print(\"Matrix:\")\n",
    "print(as_matrix(data[\"Title\"][::100000].values))"
   ]
  },
  {
   "cell_type": "code",
   "execution_count": 29,
   "metadata": {},
   "outputs": [
    {
     "name": "stdout",
     "output_type": "stream",
     "text": [
      "Lines:\n",
      "engineering systems analyst dorking surrey salary k client located dorking surrey looking engineering systems analyst client provides specialist software development keywords mathematical modelling risk analysis system modelling optimisation miser pioneeer engineering systems analyst dorking surrey salary k\n",
      "looking hr advisor join team maternity cover role time monday friday successful candidate proven track record working hr preferably education sector responsible keeping college employee database date providing general hr support members hr team arranging meetings preparing paperwork etc candidates excellent communication skills written oral excellent oraganisational skills ability deal sensitively tactful manner staff external applicants cipd qualification knowledge recruitment staff development administration highly desirable role\n",
      "client leading power generation business based scotland seeking lead ec engineer join success growing business main duties role include  lead development design delivery projects leading/supporting technical aspects ec engineering works  perform duties strong emphasis health safety quality environment compliance continuous improvement  review engineering documentation feasibility compliance client requirements support preparation accurate budgets including bills quantities new projects  lead development construction installation sequence outage programmes required relation ec engineering works  responsible preparing basic detailed ec engineering specifications designs accordance british european standards  responsible providing technical assessment tender submissions reporting recommendations client  preparing specifications coordinating preparation drawings control correspondence drawings issued  ensure ec engineering designs construction practices accordance current legislation policies operational requirements  lead technical resolution site construction ec engineering issues  tender assessment ec engineering works including suppliers support project management assessment bids  provide technical support clients consultants contractors matters concerning design construction maintenance ec works  preparation project quality documentation following iec client quality processes provide meet deliverables pqp’s  maintain awareness technological advances industry best practice evaluate apply new ideas technical developments new equipment alternativeworking methods provide cost savings efficiencies improved safety  contribute training needs assessment new products/standards development delivery technical safety training packages  liase multi disciplinary engineering teams provide end end integrated solutions ideal candidates  degree electrical engineering relevant ec discipline  member professional institution  proven experience responsible position knowledge ec engineering works required generation projects  good interpersonal communication skills ability form effective working relationships individuals departments businesses  knowledge health safety requirements particular cdm regulation compliance want considered fantastic opportunity apply sending cv job originally posted wwwtotaljobscom/jobseeking/senioreciengineerjob\n",
      "\n",
      "Matrix:\n",
      "[[    2     3     4  1275    59  1415    71  1224  3049  1275    59   875\n",
      "      2     3     4  1224 11754   578   129    88 11755    10     8  1277\n",
      "   1012  1459     8  3062     0     0     2     3     4  1275    59  1415\n",
      "     71     1     1     1     1     1     1     1     1     1     1     1\n",
      "      1     1     1     1     1     1     1     1     1     1     1     1\n",
      "      1     1     1     1     1     1     1     1     1     1     1     1\n",
      "      1     1     1     1     1     1     1     1     1     1     1     1\n",
      "      1     1     1     1     1     1     1     1     1     1     1     1\n",
      "      1     1     1     1     1     1     1     1     1     1     1     1\n",
      "      1     1     1     1     1     1     1     1     1     1     1     1\n",
      "      1     1     1     1     1     1     1     1     1     1     1     1\n",
      "      1     1     1     1     1     1     1     1     1     1     1     1\n",
      "      1     1     1     1     1     1     1     1     1     1     1     1\n",
      "      1     1     1     1     1     1     1     1     1     1     1     1\n",
      "      1     1     1     1     1     1     1     1     1     1     1     1\n",
      "      1     1     1     1     1     1     1     1     1     1     1     1\n",
      "      1     1     1     1     1     1     1     1     1     1     1     1\n",
      "      1     1     1     1     1     1     1     1     1     1     1     1\n",
      "      1     1     1     1     1     1     1     1     1     1     1     1\n",
      "      1     1     1     1     1     1     1     1     1     1     1     1\n",
      "      1     1     1     1     1     1     1     1     1     1     1     1\n",
      "      1     1     1]\n",
      " [  875   926    30  2500   567   956   957   902   430  2253  4146  5966\n",
      "   2736  4436  1568  8016  1791   926  5902  2147  1259   179  3704  1745\n",
      "   2452  1158  2315 11790    74   926   250  5210   926   567 12210  6923\n",
      "  12234 12889  1389  4797    46  4455   277  7874  7945    46     0   277\n",
      "   5151  4189 13442 17043 11956   118  2797  7712  7325  4781  3915    19\n",
      "    118    88  1420  1185  8000   902     1     1     1     1     1     1\n",
      "      1     1     1     1     1     1     1     1     1     1     1     1\n",
      "      1     1     1     1     1     1     1     1     1     1     1     1\n",
      "      1     1     1     1     1     1     1     1     1     1     1     1\n",
      "      1     1     1     1     1     1     1     1     1     1     1     1\n",
      "      1     1     1     1     1     1     1     1     1     1     1     1\n",
      "      1     1     1     1     1     1     1     1     1     1     1     1\n",
      "      1     1     1     1     1     1     1     1     1     1     1     1\n",
      "      1     1     1     1     1     1     1     1     1     1     1     1\n",
      "      1     1     1     1     1     1     1     1     1     1     1     1\n",
      "      1     1     1     1     1     1     1     1     1     1     1     1\n",
      "      1     1     1     1     1     1     1     1     1     1     1     1\n",
      "      1     1     1     1     1     1     1     1     1     1     1     1\n",
      "      1     1     1     1     1     1     1     1     1     1     1     1\n",
      "      1     1     1     1     1     1     1     1     1     1     1     1\n",
      "      1     1     1     1     1     1     1     1     1     1     1     1\n",
      "      1     1     1]\n",
      " [ 1224  1468   242  1084    87   651   528   510    55  3240     6  2500\n",
      "   3222  2154    87  3134   851   902  9968    55    88    54  1380  1436\n",
      "      0    24 11959  3240     2  2967 12059   851   198  5311   356  1350\n",
      "     48  1271   249  3465  2290  1852     2    96  9425   249  1224  1572\n",
      "    250  7681 11894 11978  2298  9734 17345   152  1436    55    88    23\n",
      "   1598 11658  6556  5067   187 12960  3240     2  2967   179 12234  1340\n",
      "   9212  3240     2  3483  2979 11860  1522  1483  1208   179 11790    24\n",
      "    847  2402  3273  1433 13094  1224 12234  3483 10201  7681 11197    60\n",
      "   6956 11197 13171 11892  3240     2  2979    23  8103 11860  4214  1873\n",
      "  11932  1269  1572    55    24  6357  1160    23  3240     2  3892  2402\n",
      "    847  3240     2  2967  2298  8823   250    33  1021   847  3861 11758\n",
      "     24   250  1818  1000  2183  4367 13783    54    23   279  3240  2967\n",
      "   7681    33    48    96  5879 17021  1224    48  5811 11758  6023 11858\n",
      "      0  5221  6228 10428 15552    14  3333   817 11850  2376   152 11457\n",
      "     24  2648   152  1485 33603  8098 11758  1805  6758 10186 13585  1350\n",
      "  11863  1154  2091   847   152     0    88  1380    24  1350  1154  5002\n",
      "  14509  1159  4639     2  5351 11758   262   262  3358   945  7744  4797\n",
      "   2883    62     2 11764  3240  1637  2853  1858 10255  4436   134   179\n",
      "     70  3915  3240     2  2967   187  1084  1436   238 11843  4455   277\n",
      "   5151  4090  9388  1791  7403  5851  9997  4410  3915   356  1350  1572\n",
      "  12211  2419  5028   249  5408  3331   993  1495  2376 12488  6903   315\n",
      "  11886 11887     0]]\n"
     ]
    }
   ],
   "source": [
    "print(\"Lines:\")\n",
    "print('\\n'.join(data[\"FullDescription\"][::100000].values), end='\\n\\n')\n",
    "print(\"Matrix:\")\n",
    "print(as_matrix(data[\"FullDescription\"][::100000].values))"
   ]
  },
  {
   "cell_type": "markdown",
   "metadata": {
    "id": "DsXCKzrUZe80"
   },
   "source": [
    "Now let's  encode the categorical data we have.\n",
    "\n",
    "As usual, we shall use one-hot encoding for simplicity. Kudos if you implement more advanced encodings: tf-idf, pseudo-time-series, etc."
   ]
  },
  {
   "cell_type": "code",
   "execution_count": 117,
   "metadata": {},
   "outputs": [
    {
     "data": {
      "text/plain": [
       "Title                 131024\n",
       "FullDescription       240941\n",
       "LocationRaw            20986\n",
       "LocationNormalized      2732\n",
       "ContractType               3\n",
       "ContractTime               3\n",
       "Company                20813\n",
       "Category                  29\n",
       "SalaryRaw              97286\n",
       "SalaryNormalized        8454\n",
       "SourceName               167\n",
       "Log1pSalary             8454\n",
       "dtype: int64"
      ]
     },
     "execution_count": 117,
     "metadata": {},
     "output_type": "execute_result"
    }
   ],
   "source": [
    "data.nunique()"
   ]
  },
  {
   "cell_type": "code",
   "execution_count": 118,
   "metadata": {},
   "outputs": [
    {
     "data": {
      "text/plain": [
       "permanent    151521\n",
       "NaN           63905\n",
       "contract      29342\n",
       "Name: ContractTime, dtype: int64"
      ]
     },
     "execution_count": 118,
     "metadata": {},
     "output_type": "execute_result"
    }
   ],
   "source": [
    "data['ContractTime'].value_counts()"
   ]
  },
  {
   "cell_type": "code",
   "execution_count": 19,
   "metadata": {
    "colab": {
     "base_uri": "https://localhost:8080/"
    },
    "executionInfo": {
     "elapsed": 6680,
     "status": "ok",
     "timestamp": 1615965862274,
     "user": {
      "displayName": "Aleksey Shimko",
      "photoUrl": "",
      "userId": "06639583344500545085"
     },
     "user_tz": -180
    },
    "id": "cr-qdrh3Ze81",
    "outputId": "63fe9989-f02e-4108-81a2-8927bc3637ed"
   },
   "outputs": [
    {
     "data": {
      "text/plain": [
       "DictVectorizer(dtype=<class 'numpy.float32'>, separator='=', sort=True,\n",
       "               sparse=False)"
      ]
     },
     "execution_count": 19,
     "metadata": {},
     "output_type": "execute_result"
    }
   ],
   "source": [
    "from sklearn.feature_extraction import DictVectorizer\n",
    "from sklearn.feature_extraction.text import TfidfVectorizer\n",
    "\n",
    "# we only consider top-1k most frequent companies to minimize memory usage\n",
    "top_companies, top_counts = zip(*Counter(data['Company']).most_common(1000))\n",
    "recognized_companies = set(top_companies)\n",
    "data[\"Company\"] = data[\"Company\"].apply(lambda comp: comp if comp in recognized_companies else \"Other\")\n",
    "\n",
    "\n",
    "top_locations, top_counts = zip(*Counter(data['LocationNormalized']).most_common(100))\n",
    "recognized_locations = set(top_locations)\n",
    "data[\"LocationNormalized\"] = data[\"LocationNormalized\"].apply(lambda loc: loc if loc in recognized_locations else \"Other\")\n",
    "\n",
    "categorical_vectorizer = DictVectorizer(dtype=np.float32, sparse=False)\n",
    "categorical_vectorizer.fit(data[categorical_columns].apply(dict, axis=1))"
   ]
  },
  {
   "cell_type": "code",
   "execution_count": 22,
   "metadata": {},
   "outputs": [
    {
     "data": {
      "text/html": [
       "<div>\n",
       "<style scoped>\n",
       "    .dataframe tbody tr th:only-of-type {\n",
       "        vertical-align: middle;\n",
       "    }\n",
       "\n",
       "    .dataframe tbody tr th {\n",
       "        vertical-align: top;\n",
       "    }\n",
       "\n",
       "    .dataframe thead th {\n",
       "        text-align: right;\n",
       "    }\n",
       "</style>\n",
       "<table border=\"1\" class=\"dataframe\">\n",
       "  <thead>\n",
       "    <tr style=\"text-align: right;\">\n",
       "      <th></th>\n",
       "      <th>Category</th>\n",
       "      <th>Company</th>\n",
       "      <th>LocationNormalized</th>\n",
       "      <th>ContractType</th>\n",
       "      <th>ContractTime</th>\n",
       "    </tr>\n",
       "    <tr>\n",
       "      <th>Id</th>\n",
       "      <th></th>\n",
       "      <th></th>\n",
       "      <th></th>\n",
       "      <th></th>\n",
       "      <th></th>\n",
       "    </tr>\n",
       "  </thead>\n",
       "  <tbody>\n",
       "    <tr>\n",
       "      <td>12612628</td>\n",
       "      <td>Engineering Jobs</td>\n",
       "      <td>Gregory Martin International</td>\n",
       "      <td>Other</td>\n",
       "      <td>NaN</td>\n",
       "      <td>permanent</td>\n",
       "    </tr>\n",
       "    <tr>\n",
       "      <td>12612830</td>\n",
       "      <td>Engineering Jobs</td>\n",
       "      <td>Gregory Martin International</td>\n",
       "      <td>Glasgow</td>\n",
       "      <td>NaN</td>\n",
       "      <td>permanent</td>\n",
       "    </tr>\n",
       "    <tr>\n",
       "      <td>12612844</td>\n",
       "      <td>Engineering Jobs</td>\n",
       "      <td>Gregory Martin International</td>\n",
       "      <td>Hampshire</td>\n",
       "      <td>NaN</td>\n",
       "      <td>permanent</td>\n",
       "    </tr>\n",
       "    <tr>\n",
       "      <td>12613049</td>\n",
       "      <td>Engineering Jobs</td>\n",
       "      <td>Gregory Martin International</td>\n",
       "      <td>Surrey</td>\n",
       "      <td>NaN</td>\n",
       "      <td>permanent</td>\n",
       "    </tr>\n",
       "    <tr>\n",
       "      <td>12613647</td>\n",
       "      <td>Engineering Jobs</td>\n",
       "      <td>Gregory Martin International</td>\n",
       "      <td>Surrey</td>\n",
       "      <td>NaN</td>\n",
       "      <td>permanent</td>\n",
       "    </tr>\n",
       "  </tbody>\n",
       "</table>\n",
       "</div>"
      ],
      "text/plain": [
       "                  Category                       Company LocationNormalized  \\\n",
       "Id                                                                            \n",
       "12612628  Engineering Jobs  Gregory Martin International              Other   \n",
       "12612830  Engineering Jobs  Gregory Martin International            Glasgow   \n",
       "12612844  Engineering Jobs  Gregory Martin International          Hampshire   \n",
       "12613049  Engineering Jobs  Gregory Martin International             Surrey   \n",
       "12613647  Engineering Jobs  Gregory Martin International             Surrey   \n",
       "\n",
       "         ContractType ContractTime  \n",
       "Id                                  \n",
       "12612628          NaN    permanent  \n",
       "12612830          NaN    permanent  \n",
       "12612844          NaN    permanent  \n",
       "12613049          NaN    permanent  \n",
       "12613647          NaN    permanent  "
      ]
     },
     "execution_count": 22,
     "metadata": {},
     "output_type": "execute_result"
    }
   ],
   "source": [
    "data[categorical_columns].head()"
   ]
  },
  {
   "cell_type": "code",
   "execution_count": 23,
   "metadata": {},
   "outputs": [
    {
     "data": {
      "text/plain": [
       "array([[0., 0., 0., ..., 0., 0., 0.],\n",
       "       [0., 0., 0., ..., 0., 0., 0.],\n",
       "       [0., 0., 0., ..., 0., 0., 0.],\n",
       "       [0., 0., 0., ..., 0., 0., 0.],\n",
       "       [0., 0., 0., ..., 0., 0., 0.]], dtype=float32)"
      ]
     },
     "execution_count": 23,
     "metadata": {},
     "output_type": "execute_result"
    }
   ],
   "source": [
    "categorical_vectorizer.transform(data[categorical_columns].head(5).apply(dict, axis=1))"
   ]
  },
  {
   "cell_type": "code",
   "execution_count": 29,
   "metadata": {},
   "outputs": [
    {
     "data": {
      "text/plain": [
       "['Category=Accounting & Finance Jobs',\n",
       " 'Category=HR & Recruitment Jobs',\n",
       " 'Category=Part time Jobs',\n",
       " 'Company=1st Place',\n",
       " 'Company=ACADEMICS LTD',\n",
       " 'Company=ARM',\n",
       " 'Company=Aaron Wallis Sales Recruitment',\n",
       " 'Company=Additional Resources',\n",
       " 'Company=Advantage Technical Resourcing',\n",
       " 'Company=Ambis resourcing Partnership']"
      ]
     },
     "execution_count": 29,
     "metadata": {},
     "output_type": "execute_result"
    }
   ],
   "source": [
    "categorical_vectorizer.get_feature_names()[:100 :10]"
   ]
  },
  {
   "cell_type": "markdown",
   "metadata": {
    "id": "mJDgbkHZZe81"
   },
   "source": [
    "### The deep learning part\n",
    "\n",
    "Once we've learned to tokenize the data, let's design a machine learning experiment.\n",
    "\n",
    "As before, we won't focus too much on validation, opting for a simple train-test split.\n",
    "\n",
    "__To be completely rigorous,__ we've comitted a small crime here: we used the whole data for tokenization and vocabulary building. A more strict way would be to do that part on training set only. You may want to do that and measure the magnitude of changes."
   ]
  },
  {
   "cell_type": "code",
   "execution_count": 20,
   "metadata": {
    "colab": {
     "base_uri": "https://localhost:8080/"
    },
    "executionInfo": {
     "elapsed": 576,
     "status": "ok",
     "timestamp": 1615972591804,
     "user": {
      "displayName": "Aleksey Shimko",
      "photoUrl": "",
      "userId": "06639583344500545085"
     },
     "user_tz": -180
    },
    "id": "3sURw9HXZe81",
    "outputId": "8c3272ea-0333-4a83-9f5d-f991e827365b"
   },
   "outputs": [
    {
     "name": "stdout",
     "output_type": "stream",
     "text": [
      "Train size =  220291\n",
      "Validation size =  24477\n"
     ]
    }
   ],
   "source": [
    "from sklearn.model_selection import train_test_split\n",
    "\n",
    "data_train, data_val = train_test_split(data, test_size=0.1, random_state=77)\n",
    "data_train.index = range(len(data_train))\n",
    "data_val.index = range(len(data_val))\n",
    "\n",
    "print(\"Train size = \", len(data_train))\n",
    "print(\"Validation size = \", len(data_val))"
   ]
  },
  {
   "cell_type": "code",
   "execution_count": 21,
   "metadata": {
    "executionInfo": {
     "elapsed": 1114,
     "status": "ok",
     "timestamp": 1615972592359,
     "user": {
      "displayName": "Aleksey Shimko",
      "photoUrl": "",
      "userId": "06639583344500545085"
     },
     "user_tz": -180
    },
    "id": "Il8wpyN1Ze81"
   },
   "outputs": [],
   "source": [
    "import torch\n",
    "\n",
    "def to_tensors(batch, device):\n",
    "    batch_tensors = dict()\n",
    "    for key, arr in batch.items():\n",
    "        if key in [\"FullDescription\", \"Title\"]:\n",
    "            batch_tensors[key] = torch.tensor(arr, device=device, dtype=torch.int64)\n",
    "        else:\n",
    "            batch_tensors[key] = torch.tensor(arr, device=device)\n",
    "    return batch_tensors\n",
    "\n",
    "def make_batch(data, max_len=None, word_dropout=0, device=torch.device('cpu')):\n",
    "    \"\"\"\n",
    "    Creates a keras-friendly dict from the batch data.\n",
    "    :param word_dropout: replaces token index with UNK_IX with this probability\n",
    "    :returns: a dict with {'title' : int64[batch, title_max_len]\n",
    "    \"\"\"\n",
    "    batch = {}\n",
    "    batch[\"Title\"] = as_matrix(data[\"Title\"].values, max_len)\n",
    "    batch[\"FullDescription\"] = as_matrix(data[\"FullDescription\"].values, max_len)\n",
    "    batch['Categorical'] = categorical_vectorizer.transform(data[categorical_columns].apply(dict, axis=1))\n",
    "    \n",
    "    if word_dropout != 0:\n",
    "        batch[\"FullDescription\"] = apply_word_dropout(batch[\"FullDescription\"], 1. - word_dropout)\n",
    "    \n",
    "    if TARGET_COLUMN in data.columns:\n",
    "        batch[TARGET_COLUMN] = data[TARGET_COLUMN].values\n",
    "    \n",
    "    return to_tensors(batch, device)\n",
    "\n",
    "#TODO: Look at it\n",
    "def apply_word_dropout(matrix, keep_prop, replace_with=UNK_IX, pad_ix=PAD_IX):\n",
    "    dropout_mask = np.random.choice(2, np.shape(matrix), p=[keep_prop, 1 - keep_prop])\n",
    "    dropout_mask &= matrix != pad_ix\n",
    "    return np.choose(dropout_mask, [matrix, np.full_like(matrix, replace_with)])"
   ]
  },
  {
   "cell_type": "code",
   "execution_count": 32,
   "metadata": {},
   "outputs": [
    {
     "data": {
      "text/plain": [
       "{'Title': tensor([[  15,   81,   30,    0,  922, 1072],\n",
       "         [1621,  206, 1601,  151,    1,    1],\n",
       "         [  87,   88,   75,    1,    1,    1],\n",
       "         [  24,   20,    1,    1,    1,    1],\n",
       "         [1575,    0,  443,    1,    1,    1]]),\n",
       " 'FullDescription': tensor([[ 5408,   398,  1468,   922,   472, 29872,   261,    46,  1495,   922],\n",
       "         [  206,     0,  1621,   651,  2883,   198,  3645,  8016,  8326,  2520],\n",
       "         [14448, 12198,  1048,  1511,   906, 14704,    87,  4515,   187,  1118],\n",
       "         [   24,    20,   329,  4906,  4906,   856,  2211,  5873,  1858,  5547],\n",
       "         [ 1224,  2963,  1575,  4476,  3441,    22,   624,  3195, 12819,  2162]]),\n",
       " 'Categorical': tensor([[0., 0., 0.,  ..., 0., 0., 0.],\n",
       "         [0., 0., 0.,  ..., 0., 0., 0.],\n",
       "         [0., 0., 0.,  ..., 0., 0., 0.],\n",
       "         [0., 0., 0.,  ..., 0., 0., 0.],\n",
       "         [0., 0., 0.,  ..., 0., 0., 0.]]),\n",
       " 'Log1pSalary': tensor([10.5967,  9.5325, 10.4631, 10.1659,  9.7982])}"
      ]
     },
     "execution_count": 32,
     "metadata": {},
     "output_type": "execute_result"
    }
   ],
   "source": [
    "make_batch(data_train[:5], max_len=10)"
   ]
  },
  {
   "cell_type": "markdown",
   "metadata": {
    "id": "J8f9-Y01Ze82"
   },
   "source": [
    "#### Architecture\n",
    "\n",
    "Our basic model consists of three branches:\n",
    "* Title encoder\n",
    "* Description encoder\n",
    "* Categorical features encoder\n",
    "\n",
    "We will then feed all 3 branches into one common network that predicts salary.\n",
    "\n",
    "![scheme](https://github.com/yandexdataschool/nlp_course/raw/master/resources/w2_conv_arch.png)"
   ]
  },
  {
   "cell_type": "markdown",
   "metadata": {
    "id": "x-zT-Hu_Ze82"
   },
   "source": [
    "This clearly doesn't fit into keras' __Sequential__ interface. To build such a network, one will have to use PyTorch."
   ]
  },
  {
   "cell_type": "code",
   "execution_count": 22,
   "metadata": {
    "executionInfo": {
     "elapsed": 558,
     "status": "ok",
     "timestamp": 1615972951518,
     "user": {
      "displayName": "Aleksey Shimko",
      "photoUrl": "",
      "userId": "06639583344500545085"
     },
     "user_tz": -180
    },
    "id": "obkMJ46pZe83"
   },
   "outputs": [],
   "source": [
    "import torch\n",
    "import torch.nn as nn\n",
    "import torch.functional as F"
   ]
  },
  {
   "cell_type": "code",
   "execution_count": 22,
   "metadata": {},
   "outputs": [
    {
     "data": {
      "text/plain": [
       "34207"
      ]
     },
     "execution_count": 22,
     "metadata": {},
     "output_type": "execute_result"
    }
   ],
   "source": [
    "len(tokens)"
   ]
  },
  {
   "cell_type": "code",
   "execution_count": 36,
   "metadata": {
    "executionInfo": {
     "elapsed": 591,
     "status": "ok",
     "timestamp": 1615973185381,
     "user": {
      "displayName": "Aleksey Shimko",
      "photoUrl": "",
      "userId": "06639583344500545085"
     },
     "user_tz": -180
    },
    "id": "F4LgLJtEZe83"
   },
   "outputs": [],
   "source": [
    "class SalaryPredictor(nn.Module):\n",
    "    def __init__(self, n_tokens=len(tokens), n_cat_features=len(categorical_vectorizer.vocabulary_), hid_size=8):\n",
    "        super().__init__()\n",
    "        self.embedder = nn.Embedding(n_tokens, hid_size)\n",
    "        self.title_encoder = nn.Sequential(\n",
    "            nn.Conv1d(hid_size, hid_size, kernel_size=2),\n",
    "            nn.Dropout(p=0.25),\n",
    "            nn.ReLU(),\n",
    "            nn.AdaptiveMaxPool1d(output_size=1)\n",
    "        )\n",
    "        self.description_encoder = nn.Sequential(\n",
    "            nn.Conv1d(hid_size, hid_size, kernel_size=2),\n",
    "            nn.Dropout(p=0.25),\n",
    "            nn.ReLU(),\n",
    "            nn.AdaptiveMaxPool1d(output_size=1)\n",
    "        )\n",
    "        self.categorical_encoder = nn.Sequential(\n",
    "            nn.Linear(n_cat_features, hid_size * 2),\n",
    "            nn.ReLU(),\n",
    "            nn.Linear(hid_size * 2, hid_size * 2),\n",
    "            nn.ReLU()\n",
    "        )\n",
    "        self.final_predictor = nn.Sequential(\n",
    "            nn.Linear(hid_size * 4, hid_size),\n",
    "            nn.ReLU(),\n",
    "            nn.Linear(hid_size, 1)\n",
    "        )\n",
    "        \n",
    "\n",
    "        \n",
    "    def forward(self, batch):\n",
    "        \n",
    "        title_embeddings = self.embedder(batch['Title']).permute(0, 2, 1)\n",
    "        title_features = self.title_encoder(title_embeddings).squeeze()\n",
    "#         print(title_features.shape)\n",
    "\n",
    "        description_embeddings = self.embedder(batch['FullDescription']).permute(0, 2, 1)\n",
    "        description_features = self.description_encoder(description_embeddings).squeeze()\n",
    "#         print(description_features.shape)\n",
    "        \n",
    "        categorical_features = self.categorical_encoder(batch['Categorical'])\n",
    "#         print(categorical_features.shape)\n",
    "\n",
    "        features = torch.cat(\n",
    "            [title_features, description_features, categorical_features], dim=1)\n",
    "        \n",
    "        return self.final_predictor(features).squeeze()"
   ]
  },
  {
   "cell_type": "code",
   "execution_count": 37,
   "metadata": {
    "executionInfo": {
     "elapsed": 1263,
     "status": "ok",
     "timestamp": 1615972952237,
     "user": {
      "displayName": "Aleksey Shimko",
      "photoUrl": "",
      "userId": "06639583344500545085"
     },
     "user_tz": -180
    },
    "id": "JBS7PlCrZe83"
   },
   "outputs": [],
   "source": [
    "model = SalaryPredictor()\n",
    "batch = make_batch(data_train[:100])\n",
    "criterion = nn.MSELoss()\n",
    "\n",
    "dummy_pred = model(batch)\n",
    "dummy_loss = criterion(dummy_pred, batch[TARGET_COLUMN])\n",
    "assert dummy_pred.shape == torch.Size([100])\n",
    "assert len(np.unique(dummy_pred.detach().numpy())) > 20, \"model returns suspiciously few unique outputs. Check your initialization\"\n",
    "assert dummy_loss.ndim == 0 and 0. <= dummy_loss <= 250., \"make sure you minimize MSE\""
   ]
  },
  {
   "cell_type": "markdown",
   "metadata": {
    "id": "WmImJv70Ze83"
   },
   "source": [
    "#### Training and evaluation\n",
    "\n",
    "As usual, we gonna feed our monster with random minibatches of data. \n",
    "\n",
    "As we train, we want to monitor not only loss function, which is computed in log-space, but also the actual error measured in dollars."
   ]
  },
  {
   "cell_type": "code",
   "execution_count": 23,
   "metadata": {
    "executionInfo": {
     "elapsed": 1260,
     "status": "ok",
     "timestamp": 1615972952238,
     "user": {
      "displayName": "Aleksey Shimko",
      "photoUrl": "",
      "userId": "06639583344500545085"
     },
     "user_tz": -180
    },
    "id": "lBwOV5duZe84"
   },
   "outputs": [],
   "source": [
    "def iterate_minibatches(data, batch_size=256, shuffle=True, cycle=False, **kwargs):\n",
    "    \"\"\" iterates minibatches of data in random order \"\"\"\n",
    "    while True:\n",
    "        indices = np.arange(len(data))\n",
    "        if shuffle:\n",
    "            indices = np.random.permutation(indices)\n",
    "\n",
    "        for start in range(0, len(indices), batch_size):\n",
    "            batch = make_batch(data.iloc[indices[start : start + batch_size]], **kwargs)\n",
    "            yield batch\n",
    "        \n",
    "        if not cycle: break"
   ]
  },
  {
   "cell_type": "markdown",
   "metadata": {
    "id": "H7ExfuFkZe84"
   },
   "source": [
    "### Model training\n",
    "\n",
    "We can now fit our model the usual minibatch way. The interesting part is that we train on an infinite stream of minibatches, produced by `iterate_minibatches` function."
   ]
  },
  {
   "cell_type": "code",
   "execution_count": 24,
   "metadata": {
    "executionInfo": {
     "elapsed": 588,
     "status": "ok",
     "timestamp": 1615973219541,
     "user": {
      "displayName": "Aleksey Shimko",
      "photoUrl": "",
      "userId": "06639583344500545085"
     },
     "user_tz": -180
    },
    "id": "qNW1PL0mZe84"
   },
   "outputs": [],
   "source": [
    "import tqdm\n",
    "\n",
    "BATCH_SIZE = 128\n",
    "EPOCHS = 1\n",
    "DEVICE = torch.device('cpu')#cuda - "
   ]
  },
  {
   "cell_type": "code",
   "execution_count": 25,
   "metadata": {
    "executionInfo": {
     "elapsed": 581,
     "status": "ok",
     "timestamp": 1615973702871,
     "user": {
      "displayName": "Aleksey Shimko",
      "photoUrl": "",
      "userId": "06639583344500545085"
     },
     "user_tz": -180
    },
    "id": "Bsu0gequZe84"
   },
   "outputs": [],
   "source": [
    "def print_metrics(model, data, batch_size=BATCH_SIZE, name=\"\", **kw):\n",
    "    squared_error = abs_error = num_samples = 0.0\n",
    "    model.eval()\n",
    "    with torch.no_grad():\n",
    "        for batch in iterate_minibatches(data, batch_size=batch_size, shuffle=False, **kw):\n",
    "            batch_pred = model(batch)\n",
    "            squared_error += torch.mean(torch.square(batch_pred - batch[TARGET_COLUMN]))\n",
    "            abs_error += torch.mean(torch.abs(batch_pred - batch[TARGET_COLUMN]))\n",
    "            num_samples += len(batch)\n",
    "    mse = squared_error.detach().cpu().numpy() / num_samples\n",
    "    mae = abs_error.detach().cpu().numpy() / num_samples\n",
    "    print(\"%s results:\" % (name or \"\"))\n",
    "    print(\"Mean square error: %.5f\" % mse)\n",
    "    print(\"Mean absolute error: %.5f\" % mae)\n",
    "    return mse, mae"
   ]
  },
  {
   "cell_type": "code",
   "execution_count": 26,
   "metadata": {},
   "outputs": [],
   "source": [
    "def train(model, criterion, optimizer):\n",
    "    mse_l = []\n",
    "    mae_l = []\n",
    "    tr_loss = []\n",
    "    for epoch in range(EPOCHS):\n",
    "        print(f\"epoch: {epoch}\")\n",
    "        for i, batch in tqdm.notebook.tqdm(enumerate(\n",
    "                iterate_minibatches(\n",
    "                        data_train, \n",
    "                        batch_size=BATCH_SIZE, \n",
    "                        device=DEVICE)), \n",
    "                    total=len(data_train) // BATCH_SIZE\n",
    "            ):\n",
    "            model.train()\n",
    "            pred = model(batch)\n",
    "            optimizer.zero_grad()\n",
    "            loss = criterion(pred, batch[TARGET_COLUMN])\n",
    "            loss.backward()\n",
    "            optimizer.step()\n",
    "\n",
    "            if i % 80 == 79:\n",
    "                l_i = loss.item()\n",
    "                print('train_loss', l_i)\n",
    "                mse, mae = print_metrics(model, data_val, name='val', batch_size=BATCH_SIZE, device=DEVICE)\n",
    "                mse_l.append(mse)\n",
    "                mae_l.append(mae)\n",
    "                tr_loss.append(l_i)\n",
    "    return mse_l, mae_l, tr_loss"
   ]
  },
  {
   "cell_type": "code",
   "execution_count": 27,
   "metadata": {},
   "outputs": [],
   "source": [
    "def plot_learning(mse_l, mae_l, tr_loss):\n",
    "\n",
    "    plt.figure(figsize=(5, 5))\n",
    "    plt.plot(list(range(len(mse_l))), mse_l, 'r', label='MSE')\n",
    "    plt.plot(list(range(len(mae_l))), mae_l, 'b', label='MAE')\n",
    "    plt.plot(list(range(len(tr_loss))), tr_loss, 'g', label='Train loss')\n",
    "    plt.title('Loss and error metrics')\n",
    "    plt.xlabel('Every fiftieth')\n",
    "    plt.ylabel('Metrics  value')\n",
    "    plt.legend()\n",
    "\n",
    "    plt.show()"
   ]
  },
  {
   "cell_type": "code",
   "execution_count": 80,
   "metadata": {},
   "outputs": [
    {
     "name": "stdout",
     "output_type": "stream",
     "text": [
      "epoch: 0\n"
     ]
    },
    {
     "data": {
      "application/vnd.jupyter.widget-view+json": {
       "model_id": "39a8593201684339a5e069b9500d67bc",
       "version_major": 2,
       "version_minor": 0
      },
      "text/plain": [
       "  0%|          | 0/1721 [00:00<?, ?it/s]"
      ]
     },
     "metadata": {},
     "output_type": "display_data"
    },
    {
     "name": "stdout",
     "output_type": "stream",
     "text": [
      "train_loss 47.04088592529297\n",
      "val results:\n",
      "Mean square error: 13.69581\n",
      "Mean absolute error: 1.84583\n",
      "train_loss 0.7017671465873718\n",
      "val results:\n",
      "Mean square error: 0.71363\n",
      "Mean absolute error: 0.38736\n",
      "train_loss 0.598950207233429\n",
      "val results:\n",
      "Mean square error: 0.76394\n",
      "Mean absolute error: 0.40699\n",
      "train_loss 0.49481678009033203\n",
      "val results:\n",
      "Mean square error: 0.75806\n",
      "Mean absolute error: 0.40840\n",
      "train_loss 0.5294305682182312\n",
      "val results:\n",
      "Mean square error: 0.70690\n",
      "Mean absolute error: 0.39511\n",
      "train_loss 0.41052210330963135\n",
      "val results:\n",
      "Mean square error: 0.68915\n",
      "Mean absolute error: 0.39150\n",
      "train_loss 0.35014471411705017\n",
      "val results:\n",
      "Mean square error: 0.64635\n",
      "Mean absolute error: 0.37942\n",
      "train_loss 0.3118925988674164\n",
      "val results:\n",
      "Mean square error: 0.62622\n",
      "Mean absolute error: 0.37421\n",
      "train_loss 0.34160318970680237\n",
      "val results:\n",
      "Mean square error: 0.61580\n",
      "Mean absolute error: 0.37199\n",
      "train_loss 0.3743414282798767\n",
      "val results:\n",
      "Mean square error: 0.62461\n",
      "Mean absolute error: 0.37603\n",
      "train_loss 0.3490027189254761\n",
      "val results:\n",
      "Mean square error: 0.57458\n",
      "Mean absolute error: 0.36005\n",
      "train_loss 0.2886463403701782\n",
      "val results:\n",
      "Mean square error: 0.55034\n",
      "Mean absolute error: 0.35236\n",
      "train_loss 0.41375893354415894\n",
      "val results:\n",
      "Mean square error: 0.51820\n",
      "Mean absolute error: 0.34148\n",
      "train_loss 0.24748164415359497\n",
      "val results:\n",
      "Mean square error: 0.50808\n",
      "Mean absolute error: 0.33850\n",
      "train_loss 0.2523447275161743\n",
      "val results:\n",
      "Mean square error: 0.49222\n",
      "Mean absolute error: 0.33318\n",
      "train_loss 0.21106785535812378\n",
      "val results:\n",
      "Mean square error: 0.48638\n",
      "Mean absolute error: 0.33148\n",
      "train_loss 0.20224303007125854\n",
      "val results:\n",
      "Mean square error: 0.45961\n",
      "Mean absolute error: 0.32169\n",
      "train_loss 0.24169442057609558\n",
      "val results:\n",
      "Mean square error: 0.45699\n",
      "Mean absolute error: 0.32131\n",
      "train_loss 0.27878618240356445\n",
      "val results:\n",
      "Mean square error: 0.40826\n",
      "Mean absolute error: 0.30225\n",
      "train_loss 0.25265657901763916\n",
      "val results:\n",
      "Mean square error: 0.41578\n",
      "Mean absolute error: 0.30569\n",
      "train_loss 0.28798797726631165\n",
      "val results:\n",
      "Mean square error: 0.42103\n",
      "Mean absolute error: 0.30814\n",
      "epoch: 1\n"
     ]
    },
    {
     "data": {
      "application/vnd.jupyter.widget-view+json": {
       "model_id": "5f02f69e1b1142428a58ceabad89430f",
       "version_major": 2,
       "version_minor": 0
      },
      "text/plain": [
       "  0%|          | 0/1721 [00:00<?, ?it/s]"
      ]
     },
     "metadata": {},
     "output_type": "display_data"
    },
    {
     "name": "stdout",
     "output_type": "stream",
     "text": [
      "train_loss 0.14954036474227905\n",
      "val results:\n",
      "Mean square error: 0.37521\n",
      "Mean absolute error: 0.28944\n",
      "train_loss 0.14746178686618805\n",
      "val results:\n",
      "Mean square error: 0.36764\n",
      "Mean absolute error: 0.28657\n",
      "train_loss 0.17568062245845795\n",
      "val results:\n",
      "Mean square error: 0.36620\n",
      "Mean absolute error: 0.28623\n",
      "train_loss 0.24592842161655426\n",
      "val results:\n",
      "Mean square error: 0.33383\n",
      "Mean absolute error: 0.27209\n",
      "train_loss 0.17850232124328613\n",
      "val results:\n",
      "Mean square error: 0.33450\n",
      "Mean absolute error: 0.27277\n",
      "train_loss 0.17402048408985138\n",
      "val results:\n",
      "Mean square error: 0.33341\n",
      "Mean absolute error: 0.27245\n",
      "train_loss 0.1349119246006012\n",
      "val results:\n",
      "Mean square error: 0.30527\n",
      "Mean absolute error: 0.25950\n",
      "train_loss 0.20151546597480774\n",
      "val results:\n",
      "Mean square error: 0.31974\n",
      "Mean absolute error: 0.26668\n",
      "train_loss 0.142055481672287\n",
      "val results:\n",
      "Mean square error: 0.28217\n",
      "Mean absolute error: 0.24892\n",
      "train_loss 0.17497627437114716\n",
      "val results:\n",
      "Mean square error: 0.27416\n",
      "Mean absolute error: 0.24513\n",
      "train_loss 0.13166356086730957\n",
      "val results:\n",
      "Mean square error: 0.27859\n",
      "Mean absolute error: 0.24770\n",
      "train_loss 0.164989173412323\n",
      "val results:\n",
      "Mean square error: 0.27308\n",
      "Mean absolute error: 0.24507\n",
      "train_loss 0.17355643212795258\n",
      "val results:\n",
      "Mean square error: 0.23109\n",
      "Mean absolute error: 0.22316\n",
      "train_loss 0.19325508177280426\n",
      "val results:\n",
      "Mean square error: 0.25252\n",
      "Mean absolute error: 0.23492\n",
      "train_loss 0.13051271438598633\n",
      "val results:\n",
      "Mean square error: 0.24718\n",
      "Mean absolute error: 0.23231\n",
      "train_loss 0.162576362490654\n",
      "val results:\n",
      "Mean square error: 0.23652\n",
      "Mean absolute error: 0.22677\n",
      "train_loss 0.1456630378961563\n",
      "val results:\n",
      "Mean square error: 0.23510\n",
      "Mean absolute error: 0.22619\n",
      "train_loss 0.12615956366062164\n",
      "val results:\n",
      "Mean square error: 0.21348\n",
      "Mean absolute error: 0.21414\n",
      "train_loss 0.11386726796627045\n",
      "val results:\n",
      "Mean square error: 0.20042\n",
      "Mean absolute error: 0.20671\n",
      "train_loss 0.12197519093751907\n",
      "val results:\n",
      "Mean square error: 0.20458\n",
      "Mean absolute error: 0.20935\n",
      "train_loss 0.12017877399921417\n",
      "val results:\n",
      "Mean square error: 0.19333\n",
      "Mean absolute error: 0.20283\n"
     ]
    }
   ],
   "source": [
    "model = SalaryPredictor().to(DEVICE)\n",
    "criterion = nn.MSELoss(reduction='mean')\n",
    "optimizer = torch.optim.Adam(model.parameters(), lr=1e-3)\n",
    "\n",
    "mse_l, mae_l, tr_loss = train(model, criterion, optimizer)"
   ]
  },
  {
   "cell_type": "code",
   "execution_count": 43,
   "metadata": {},
   "outputs": [
    {
     "name": "stdout",
     "output_type": "stream",
     "text": [
      "Best metrics values\n",
      "min mse 0.18827434380849203, idx in list 41\n",
      "min mae 0.19919860363006592, idx in list 41\n"
     ]
    },
    {
     "data": {
      "image/png": "[encoded data removed]",
      "text/plain": [
       "<Figure size 360x360 with 1 Axes>"
      ]
     },
     "metadata": {
      "needs_background": "light"
     },
     "output_type": "display_data"
    }
   ],
   "source": [
    "print('Best metrics values')\n",
    "print(f'min mse {min(mse_l)}, idx in list {np.argmin(mse_l)}')\n",
    "print(f'min mae {min(mae_l)}, idx in list {np.argmin(mse_l)}')\n",
    "plot_learning(mse_l, mae_l, tr_loss)"
   ]
  },
  {
   "cell_type": "code",
   "execution_count": 42,
   "metadata": {},
   "outputs": [
    {
     "name": "stdout",
     "output_type": "stream",
     "text": [
      "Результаты на тестовой выборке\n",
      " results:\n",
      "Mean square error: 0.15349\n",
      "Mean absolute error: 0.17673\n"
     ]
    }
   ],
   "source": [
    "print('Результаты на тестовой выборке')\n",
    "mse_test, mae_test = print_metrics(model, data_val)"
   ]
  },
  {
   "cell_type": "markdown",
   "metadata": {},
   "source": [
    "## Выполнение заданий ЛР"
   ]
  },
  {
   "cell_type": "markdown",
   "metadata": {},
   "source": [
    "### 1. Развитие СNN архитектуры"
   ]
  },
  {
   "cell_type": "code",
   "execution_count": 150,
   "metadata": {},
   "outputs": [],
   "source": [
    "class SalaryPredictor_1(nn.Module):\n",
    "    def __init__(self, n_tokens=len(tokens), n_cat_features=len(categorical_vectorizer.vocabulary_), hid_size=8):\n",
    "        super().__init__()\n",
    "        self.embedder = nn.Embedding(n_tokens, hid_size)\n",
    "        self.title_encoder = nn.Sequential(\n",
    "            nn.Conv1d(hid_size, hid_size, kernel_size=2),\n",
    "            nn.BatchNorm1d(hid_size),\n",
    "            nn.Dropout(p=0.25),\n",
    "            nn.ReLU(),\n",
    "            nn.Conv1d(hid_size, hid_size, kernel_size=2, stride=2),\n",
    "            nn.ReLU(),\n",
    "            nn.AdaptiveMaxPool1d(output_size=1)\n",
    "        )\n",
    "        self.description_encoder = nn.Sequential(\n",
    "            nn.Conv1d(hid_size, hid_size, kernel_size=2),\n",
    "            nn.BatchNorm1d(hid_size),\n",
    "            nn.Dropout(p=0.25),\n",
    "            nn.ReLU(),\n",
    "            nn.Conv1d(hid_size, hid_size, kernel_size=2, stride=2),\n",
    "            nn.ReLU(),\n",
    "            nn.AdaptiveMaxPool1d(output_size=1)\n",
    "        )\n",
    "        self.categorical_encoder = nn.Sequential(\n",
    "            nn.Linear(n_cat_features, hid_size * 2),\n",
    "            nn.ReLU(),\n",
    "            nn.Linear(hid_size * 2, hid_size * 2),\n",
    "            nn.ReLU()\n",
    "        )\n",
    "        self.final_predictor = nn.Sequential(\n",
    "            nn.Linear(hid_size * 4, hid_size * 2),\n",
    "            nn.ReLU(),\n",
    "            nn.Linear(hid_size * 2, hid_size),\n",
    "            nn.ReLU(),\n",
    "            nn.Linear(hid_size, 1)\n",
    "        )\n",
    "        \n",
    "\n",
    "        \n",
    "    def forward(self, batch):\n",
    "        \n",
    "        title_embeddings = self.embedder(batch['Title']).permute(0, 2, 1)\n",
    "        title_features = self.title_encoder(title_embeddings).squeeze()\n",
    "\n",
    "        description_embeddings = self.embedder(batch['FullDescription']).permute(0, 2, 1)\n",
    "        description_features = self.description_encoder(description_embeddings).squeeze()\n",
    "\n",
    "        categorical_features = self.categorical_encoder(batch['Categorical'])\n",
    "\n",
    "        features = torch.cat(\n",
    "            [title_features, description_features, categorical_features], dim=1)\n",
    "        \n",
    "        return self.final_predictor(features).squeeze()"
   ]
  },
  {
   "cell_type": "code",
   "execution_count": 145,
   "metadata": {},
   "outputs": [
    {
     "name": "stdout",
     "output_type": "stream",
     "text": [
      "epoch: 0\n"
     ]
    },
    {
     "data": {
      "application/vnd.jupyter.widget-view+json": {
       "model_id": "58c96f47c83c4973be2094407daab98d",
       "version_major": 2,
       "version_minor": 0
      },
      "text/plain": [
       "  0%|          | 0/1721 [00:00<?, ?it/s]"
      ]
     },
     "metadata": {},
     "output_type": "display_data"
    },
    {
     "name": "stdout",
     "output_type": "stream",
     "text": [
      "train_loss 4.672912120819092\n",
      "val results:\n",
      "Mean square error: 3.48256\n",
      "Mean absolute error: 0.91062\n",
      "train_loss 1.0592565536499023\n",
      "val results:\n",
      "Mean square error: 1.02425\n",
      "Mean absolute error: 0.46494\n",
      "train_loss 1.3324483633041382\n",
      "val results:\n",
      "Mean square error: 0.71848\n",
      "Mean absolute error: 0.38481\n",
      "train_loss 1.1849149465560913\n",
      "val results:\n",
      "Mean square error: 0.84666\n",
      "Mean absolute error: 0.43118\n",
      "train_loss 0.593030571937561\n",
      "val results:\n",
      "Mean square error: 0.68036\n",
      "Mean absolute error: 0.38550\n",
      "train_loss 0.4638247489929199\n",
      "val results:\n",
      "Mean square error: 0.55314\n",
      "Mean absolute error: 0.34539\n",
      "train_loss 0.5561172962188721\n",
      "val results:\n",
      "Mean square error: 0.53931\n",
      "Mean absolute error: 0.34348\n",
      "train_loss 0.34703877568244934\n",
      "val results:\n",
      "Mean square error: 0.43238\n",
      "Mean absolute error: 0.30495\n",
      "train_loss 0.3814627230167389\n",
      "val results:\n",
      "Mean square error: 0.41621\n",
      "Mean absolute error: 0.30053\n",
      "train_loss 0.29423826932907104\n",
      "val results:\n",
      "Mean square error: 0.40227\n",
      "Mean absolute error: 0.29625\n",
      "train_loss 0.2639516592025757\n",
      "val results:\n",
      "Mean square error: 0.36970\n",
      "Mean absolute error: 0.28382\n",
      "train_loss 0.23664319515228271\n",
      "val results:\n",
      "Mean square error: 0.30949\n",
      "Mean absolute error: 0.25736\n",
      "train_loss 0.6093488931655884\n",
      "val results:\n",
      "Mean square error: 0.41974\n",
      "Mean absolute error: 0.30690\n",
      "train_loss 0.1683293730020523\n",
      "val results:\n",
      "Mean square error: 0.24554\n",
      "Mean absolute error: 0.22675\n",
      "train_loss 0.31252723932266235\n",
      "val results:\n",
      "Mean square error: 0.26227\n",
      "Mean absolute error: 0.23632\n",
      "train_loss 0.19492849707603455\n",
      "val results:\n",
      "Mean square error: 0.21398\n",
      "Mean absolute error: 0.21044\n",
      "train_loss 0.18989679217338562\n",
      "val results:\n",
      "Mean square error: 0.18196\n",
      "Mean absolute error: 0.19160\n",
      "epoch: 1\n"
     ]
    },
    {
     "data": {
      "application/vnd.jupyter.widget-view+json": {
       "model_id": "f0820cab856342009efa01c069f8e1f5",
       "version_major": 2,
       "version_minor": 0
      },
      "text/plain": [
       "  0%|          | 0/1721 [00:00<?, ?it/s]"
      ]
     },
     "metadata": {},
     "output_type": "display_data"
    },
    {
     "name": "stdout",
     "output_type": "stream",
     "text": [
      "train_loss 1.1700465679168701\n",
      "val results:\n",
      "Mean square error: 0.19973\n",
      "Mean absolute error: 0.20299\n",
      "train_loss 0.17744316160678864\n",
      "val results:\n",
      "Mean square error: 0.18828\n",
      "Mean absolute error: 0.19653\n",
      "train_loss 0.19276072084903717\n",
      "val results:\n",
      "Mean square error: 0.16452\n",
      "Mean absolute error: 0.18170\n",
      "train_loss 0.17098984122276306\n",
      "val results:\n",
      "Mean square error: 0.20951\n",
      "Mean absolute error: 0.20993\n",
      "train_loss 0.15005485713481903\n",
      "val results:\n",
      "Mean square error: 0.15990\n",
      "Mean absolute error: 0.17930\n",
      "train_loss 0.16587325930595398\n",
      "val results:\n",
      "Mean square error: 0.15896\n",
      "Mean absolute error: 0.17891\n",
      "train_loss 0.17143559455871582\n",
      "val results:\n",
      "Mean square error: 0.17422\n",
      "Mean absolute error: 0.18915\n",
      "train_loss 0.5708870887756348\n",
      "val results:\n",
      "Mean square error: 0.12607\n",
      "Mean absolute error: 0.15590\n",
      "train_loss 0.19824448227882385\n",
      "val results:\n",
      "Mean square error: 0.12626\n",
      "Mean absolute error: 0.15619\n",
      "train_loss 0.15490780770778656\n",
      "val results:\n",
      "Mean square error: 0.11371\n",
      "Mean absolute error: 0.14653\n",
      "train_loss 0.12010365724563599\n",
      "val results:\n",
      "Mean square error: 0.08484\n",
      "Mean absolute error: 0.12255\n",
      "train_loss 0.2569410800933838\n",
      "val results:\n",
      "Mean square error: 0.14234\n",
      "Mean absolute error: 0.16851\n",
      "train_loss 0.17842264473438263\n",
      "val results:\n",
      "Mean square error: 0.11510\n",
      "Mean absolute error: 0.14819\n",
      "train_loss 0.15320147573947906\n",
      "val results:\n",
      "Mean square error: 0.11216\n",
      "Mean absolute error: 0.14601\n",
      "train_loss 0.15110963582992554\n",
      "val results:\n",
      "Mean square error: 0.08433\n",
      "Mean absolute error: 0.12257\n",
      "train_loss 0.2913251221179962\n",
      "val results:\n",
      "Mean square error: 0.08513\n",
      "Mean absolute error: 0.12321\n",
      "train_loss 0.13579730689525604\n",
      "val results:\n",
      "Mean square error: 0.08124\n",
      "Mean absolute error: 0.11992\n",
      "epoch: 2\n"
     ]
    },
    {
     "data": {
      "application/vnd.jupyter.widget-view+json": {
       "model_id": "88517465d9794012a401bd2d06209c28",
       "version_major": 2,
       "version_minor": 0
      },
      "text/plain": [
       "  0%|          | 0/1721 [00:00<?, ?it/s]"
      ]
     },
     "metadata": {},
     "output_type": "display_data"
    },
    {
     "name": "stdout",
     "output_type": "stream",
     "text": [
      "train_loss 0.17871038615703583\n",
      "val results:\n",
      "Mean square error: 0.07662\n",
      "Mean absolute error: 0.11566\n",
      "train_loss 0.13073444366455078\n",
      "val results:\n",
      "Mean square error: 0.06507\n",
      "Mean absolute error: 0.10456\n",
      "train_loss 0.11918623745441437\n",
      "val results:\n",
      "Mean square error: 0.08278\n",
      "Mean absolute error: 0.12151\n",
      "train_loss 0.22324232757091522\n",
      "val results:\n",
      "Mean square error: 0.06311\n",
      "Mean absolute error: 0.10295\n",
      "train_loss 0.17414234578609467\n",
      "val results:\n",
      "Mean square error: 0.05891\n",
      "Mean absolute error: 0.09861\n",
      "train_loss 0.1517324149608612\n",
      "val results:\n",
      "Mean square error: 0.06712\n",
      "Mean absolute error: 0.10697\n",
      "train_loss 0.1024019718170166\n",
      "val results:\n",
      "Mean square error: 0.08314\n",
      "Mean absolute error: 0.12233\n",
      "train_loss 0.16740666329860687\n",
      "val results:\n",
      "Mean square error: 0.05707\n",
      "Mean absolute error: 0.09694\n",
      "train_loss 0.11809185147285461\n",
      "val results:\n",
      "Mean square error: 0.06072\n",
      "Mean absolute error: 0.10090\n",
      "train_loss 0.12863099575042725\n",
      "val results:\n",
      "Mean square error: 0.05829\n",
      "Mean absolute error: 0.09835\n",
      "train_loss 0.12195684015750885\n",
      "val results:\n",
      "Mean square error: 0.05304\n",
      "Mean absolute error: 0.09289\n",
      "train_loss 0.09811009466648102\n",
      "val results:\n",
      "Mean square error: 0.05858\n",
      "Mean absolute error: 0.09900\n",
      "train_loss 0.15807662904262543\n",
      "val results:\n",
      "Mean square error: 0.04919\n",
      "Mean absolute error: 0.08879\n",
      "train_loss 0.16177219152450562\n",
      "val results:\n",
      "Mean square error: 0.05281\n",
      "Mean absolute error: 0.09297\n",
      "train_loss 0.11355726420879364\n",
      "val results:\n",
      "Mean square error: 0.04972\n",
      "Mean absolute error: 0.08966\n",
      "train_loss 0.12991464138031006\n",
      "val results:\n",
      "Mean square error: 0.04079\n",
      "Mean absolute error: 0.07933\n",
      "train_loss 0.137160986661911\n",
      "val results:\n",
      "Mean square error: 0.04967\n",
      "Mean absolute error: 0.08980\n"
     ]
    }
   ],
   "source": [
    "model = SalaryPredictor_1().to(DEVICE)\n",
    "criterion = nn.MSELoss(reduction='mean')\n",
    "optimizer = torch.optim.Adam(model.parameters(), lr=1e-3)\n",
    "\n",
    "train(model, criterion, optimizer)"
   ]
  },
  {
   "cell_type": "code",
   "execution_count": null,
   "metadata": {},
   "outputs": [],
   "source": [
    "print('Результаты на тестовой выборке')\n",
    "mse_test, mae_test = print_metrics(model, data_val)"
   ]
  },
  {
   "cell_type": "markdown",
   "metadata": {},
   "source": [
    "### SalaryPredictor_2\n",
    "* ***В исходную модель добавлены: Batch Norm (nn.BatchNorm), параллельные сверточные слои для текстовых полей и добавлен ещё один слой в final_predictor***"
   ]
  },
  {
   "cell_type": "code",
   "execution_count": 35,
   "metadata": {},
   "outputs": [],
   "source": [
    "# !pip install pytorchtools"
   ]
  },
  {
   "cell_type": "code",
   "execution_count": 66,
   "metadata": {},
   "outputs": [],
   "source": [
    "# from pytorchtools import EarlyStopping\n",
    "# from torchsample.callbacks import EarlyStopping"
   ]
  },
  {
   "cell_type": "code",
   "execution_count": 67,
   "metadata": {},
   "outputs": [],
   "source": [
    "class SalaryPredictor_2(nn.Module):\n",
    "    def __init__(self, n_tokens=len(tokens), n_cat_features=len(categorical_vectorizer.vocabulary_), hid_size=8):\n",
    "        super().__init__()\n",
    "        self.embedder = nn.Embedding(n_tokens, hid_size)\n",
    "        self.title_encoder_1 = nn.Sequential(\n",
    "            nn.BatchNorm1d(hid_size),\n",
    "            nn.Conv1d(hid_size, hid_size, kernel_size=2),\n",
    "            nn.Dropout(p=0.25),\n",
    "            nn.ReLU(),\n",
    "            nn.AdaptiveMaxPool1d(output_size=1)\n",
    "        )\n",
    "        self.title_encoder_2 = nn.Sequential(\n",
    "            nn.BatchNorm1d(hid_size),\n",
    "            nn.Conv1d(hid_size, hid_size, kernel_size=2, stride=2),\n",
    "            nn.Dropout(p=0.25),\n",
    "            nn.ReLU(),\n",
    "            nn.AdaptiveMaxPool1d(output_size=1)\n",
    "        )\n",
    "        self.description_encoder_1 = nn.Sequential(\n",
    "            nn.BatchNorm1d(hid_size),\n",
    "            nn.Conv1d(hid_size, hid_size, kernel_size=2),\n",
    "            nn.Dropout(p=0.25),\n",
    "            nn.ReLU(),\n",
    "            nn.AdaptiveMaxPool1d(output_size=1)\n",
    "        )\n",
    "        self.description_encoder_2 = nn.Sequential(\n",
    "            nn.BatchNorm1d(hid_size),\n",
    "            nn.Conv1d(hid_size, hid_size, kernel_size=2, stride=2),\n",
    "            nn.Dropout(p=0.25),\n",
    "            nn.ReLU(),\n",
    "            nn.AdaptiveMaxPool1d(output_size=1)\n",
    "        )\n",
    "        self.categorical_encoder = nn.Sequential(\n",
    "            nn.BatchNorm1d(n_cat_features),\n",
    "            nn.Linear(n_cat_features, hid_size * 2),\n",
    "            nn.ReLU(),\n",
    "            nn.BatchNorm1d(hid_size * 2),\n",
    "            nn.Linear(hid_size * 2, hid_size * 2),\n",
    "            nn.ReLU()\n",
    "        )\n",
    "        self.final_predictor = nn.Sequential(\n",
    "            nn.BatchNorm1d(hid_size * 6),\n",
    "            nn.Linear(hid_size * 6, hid_size * 2),\n",
    "            nn.ReLU(),\n",
    "            nn.BatchNorm1d(hid_size * 2),\n",
    "            nn.Linear(hid_size * 2, hid_size),\n",
    "            nn.ReLU(),\n",
    "            nn.BatchNorm1d(hid_size),\n",
    "            nn.Linear(hid_size, 1)\n",
    "        )\n",
    "        \n",
    "\n",
    "        \n",
    "    def forward(self, batch):\n",
    "        \n",
    "        title_embeddings = self.embedder(batch['Title']).permute(0, 2, 1)\n",
    "        title_features_1 = self.title_encoder_1(title_embeddings)\n",
    "        title_features_2 = self.title_encoder_2(title_embeddings)\n",
    "        title_features = torch.cat([title_features_1, title_features_2], dim=1).squeeze()\n",
    "        \n",
    "\n",
    "        description_embeddings = self.embedder(batch['FullDescription']).permute(0, 2, 1)\n",
    "        description_features_1 = self.description_encoder_1(description_embeddings)\n",
    "        description_features_2 = self.description_encoder_2(description_embeddings)\n",
    "        description_features = torch.cat([description_features_1, description_features_2], dim=1).squeeze()\n",
    "\n",
    "        categorical_features = self.categorical_encoder(batch['Categorical'])\n",
    "\n",
    "        features = torch.cat(\n",
    "            [title_features, description_features, categorical_features], dim=1)\n",
    "        \n",
    "#         early_stopping(valid_loss, model)\n",
    "        \n",
    "#         if early_stopping.early_stop:\n",
    "#             print(\"Early stopping\")\n",
    "#             break\n",
    "\n",
    "        \n",
    "        return self.final_predictor(features).squeeze()"
   ]
  },
  {
   "cell_type": "code",
   "execution_count": 75,
   "metadata": {},
   "outputs": [
    {
     "name": "stdout",
     "output_type": "stream",
     "text": [
      "epoch: 0\n"
     ]
    },
    {
     "data": {
      "application/vnd.jupyter.widget-view+json": {
       "model_id": "b59cd04d70f545679f218ad93ac8fa21",
       "version_major": 2,
       "version_minor": 0
      },
      "text/plain": [
       "  0%|          | 0/1721 [00:00<?, ?it/s]"
      ]
     },
     "metadata": {},
     "output_type": "display_data"
    },
    {
     "name": "stdout",
     "output_type": "stream",
     "text": [
      "train_loss 105.50826263427734\n",
      "val results:\n",
      "Mean square error: 25.94155\n",
      "Mean absolute error: 2.54314\n",
      "train_loss 94.57686614990234\n",
      "val results:\n",
      "Mean square error: 23.14727\n",
      "Mean absolute error: 2.39137\n",
      "train_loss 80.54220581054688\n",
      "val results:\n",
      "Mean square error: 20.30803\n",
      "Mean absolute error: 2.24359\n",
      "train_loss 66.31034851074219\n",
      "val results:\n",
      "Mean square error: 15.96721\n",
      "Mean absolute error: 1.98248\n",
      "train_loss 49.76600646972656\n",
      "val results:\n",
      "Mean square error: 11.99013\n",
      "Mean absolute error: 1.71191\n",
      "train_loss 34.37070083618164\n",
      "val results:\n",
      "Mean square error: 8.16801\n",
      "Mean absolute error: 1.40767\n",
      "train_loss 21.505844116210938\n",
      "val results:\n",
      "Mean square error: 5.30721\n",
      "Mean absolute error: 1.13667\n",
      "train_loss 12.980210304260254\n",
      "val results:\n",
      "Mean square error: 3.08506\n",
      "Mean absolute error: 0.85165\n",
      "train_loss 6.441723346710205\n",
      "val results:\n",
      "Mean square error: 1.70342\n",
      "Mean absolute error: 0.62484\n",
      "train_loss 3.077230453491211\n",
      "val results:\n",
      "Mean square error: 1.00513\n",
      "Mean absolute error: 0.43921\n",
      "train_loss 1.2509647607803345\n",
      "val results:\n",
      "Mean square error: 0.63275\n",
      "Mean absolute error: 0.29806\n",
      "train_loss 0.5355817079544067\n",
      "val results:\n",
      "Mean square error: 0.41409\n",
      "Mean absolute error: 0.20907\n",
      "train_loss 0.2364409863948822\n",
      "val results:\n",
      "Mean square error: 0.36137\n",
      "Mean absolute error: 0.16522\n",
      "train_loss 0.17048189043998718\n",
      "val results:\n",
      "Mean square error: 0.29663\n",
      "Mean absolute error: 0.13159\n",
      "train_loss 0.12840114533901215\n",
      "val results:\n",
      "Mean square error: 0.39869\n",
      "Mean absolute error: 0.14126\n",
      "train_loss 0.1403999924659729\n",
      "val results:\n",
      "Mean square error: 0.39837\n",
      "Mean absolute error: 0.13567\n",
      "train_loss 0.11154040694236755\n",
      "val results:\n",
      "Mean square error: 0.48136\n",
      "Mean absolute error: 0.15275\n",
      "train_loss 0.1507304310798645\n",
      "val results:\n",
      "Mean square error: 0.36526\n",
      "Mean absolute error: 0.13351\n",
      "train_loss 0.15942658483982086\n",
      "val results:\n",
      "Mean square error: 0.45527\n",
      "Mean absolute error: 0.14776\n",
      "train_loss 0.13812130689620972\n",
      "val results:\n",
      "Mean square error: 0.38262\n",
      "Mean absolute error: 0.13262\n",
      "train_loss 0.14311836659908295\n",
      "val results:\n",
      "Mean square error: 0.54597\n",
      "Mean absolute error: 0.14407\n",
      "epoch: 1\n"
     ]
    },
    {
     "data": {
      "application/vnd.jupyter.widget-view+json": {
       "model_id": "f75ead7b48d34ca2bab139e15a1fe861",
       "version_major": 2,
       "version_minor": 0
      },
      "text/plain": [
       "  0%|          | 0/1721 [00:00<?, ?it/s]"
      ]
     },
     "metadata": {},
     "output_type": "display_data"
    },
    {
     "name": "stdout",
     "output_type": "stream",
     "text": [
      "train_loss 0.11953689157962799\n",
      "val results:\n",
      "Mean square error: 0.68406\n",
      "Mean absolute error: 0.15896\n",
      "train_loss 0.10310657322406769\n",
      "val results:\n",
      "Mean square error: 0.48138\n",
      "Mean absolute error: 0.13650\n",
      "train_loss 0.10780567675828934\n",
      "val results:\n",
      "Mean square error: 0.33408\n",
      "Mean absolute error: 0.12912\n",
      "train_loss 0.11474774032831192\n",
      "val results:\n",
      "Mean square error: 0.39048\n",
      "Mean absolute error: 0.13847\n",
      "train_loss 0.10702946782112122\n",
      "val results:\n",
      "Mean square error: 0.28787\n",
      "Mean absolute error: 0.12301\n",
      "train_loss 0.1224045529961586\n",
      "val results:\n",
      "Mean square error: 0.31832\n",
      "Mean absolute error: 0.12715\n",
      "train_loss 0.10256949067115784\n",
      "val results:\n",
      "Mean square error: 0.30528\n",
      "Mean absolute error: 0.12142\n",
      "train_loss 0.11719207465648651\n",
      "val results:\n",
      "Mean square error: 0.39464\n",
      "Mean absolute error: 0.12953\n",
      "train_loss 0.09810160845518112\n",
      "val results:\n",
      "Mean square error: 0.28434\n",
      "Mean absolute error: 0.12225\n",
      "train_loss 0.12908653914928436\n",
      "val results:\n",
      "Mean square error: 0.38654\n",
      "Mean absolute error: 0.13670\n",
      "train_loss 0.12622088193893433\n",
      "val results:\n",
      "Mean square error: 0.32785\n",
      "Mean absolute error: 0.12032\n",
      "train_loss 0.09652730822563171\n",
      "val results:\n",
      "Mean square error: 0.50331\n",
      "Mean absolute error: 0.13772\n",
      "train_loss 0.10609845072031021\n",
      "val results:\n",
      "Mean square error: 0.33928\n",
      "Mean absolute error: 0.12086\n",
      "train_loss 0.0995153859257698\n",
      "val results:\n",
      "Mean square error: 0.46191\n",
      "Mean absolute error: 0.12714\n",
      "train_loss 0.10012786835432053\n",
      "val results:\n",
      "Mean square error: 0.38448\n",
      "Mean absolute error: 0.12785\n",
      "train_loss 0.0950501561164856\n",
      "val results:\n",
      "Mean square error: 0.32787\n",
      "Mean absolute error: 0.11829\n",
      "train_loss 0.07158448547124863\n",
      "val results:\n",
      "Mean square error: 0.29307\n",
      "Mean absolute error: 0.11525\n",
      "train_loss 0.11564046144485474\n",
      "val results:\n",
      "Mean square error: 0.28945\n",
      "Mean absolute error: 0.11461\n",
      "train_loss 0.1040065586566925\n",
      "val results:\n",
      "Mean square error: 0.32302\n",
      "Mean absolute error: 0.11473\n",
      "train_loss 0.08361027389764786\n",
      "val results:\n",
      "Mean square error: 0.39891\n",
      "Mean absolute error: 0.12954\n",
      "train_loss 0.09482572972774506\n",
      "val results:\n",
      "Mean square error: 0.35019\n",
      "Mean absolute error: 0.11864\n"
     ]
    }
   ],
   "source": [
    "model = SalaryPredictor_2().to(DEVICE)\n",
    "criterion = nn.MSELoss(reduction='mean')\n",
    "optimizer = torch.optim.Adam(model.parameters(), lr=1e-3)\n",
    "\n",
    "mse_l, mae_l, tr_loss = train(model, criterion, optimizer)"
   ]
  },
  {
   "cell_type": "code",
   "execution_count": 79,
   "metadata": {},
   "outputs": [
    {
     "name": "stdout",
     "output_type": "stream",
     "text": [
      "Best metrics values\n",
      "min mse 0.2843441168467204, idx in list 29\n",
      "min mae 0.11461298664410909, idx in list 29\n"
     ]
    },
    {
     "data": {
      "image/png": "[encoded data removed]",
      "text/plain": [
       "<Figure size 360x360 with 1 Axes>"
      ]
     },
     "metadata": {
      "needs_background": "light"
     },
     "output_type": "display_data"
    }
   ],
   "source": [
    "print('Best metrics values')\n",
    "print(f'min mse {min(mse_l)}, idx in list {np.argmin(mse_l)}')\n",
    "print(f'min mae {min(mae_l)}, idx in list {np.argmin(mse_l)}')\n",
    "plot_learning(mse_l, mae_l, tr_loss)"
   ]
  },
  {
   "cell_type": "code",
   "execution_count": null,
   "metadata": {},
   "outputs": [],
   "source": [
    "print('Результаты на тестовой выборке')\n",
    "mse_test, mae_test = print_metrics(model, data_val)"
   ]
  },
  {
   "cell_type": "markdown",
   "metadata": {},
   "source": [
    "Очевидно, при увеличении количества слоёв в модели, скорость обучения сильно снижается, но при этом сразу видно низкие потери на обучающей выборке"
   ]
  },
  {
   "cell_type": "markdown",
   "metadata": {},
   "source": [
    "### 2. Стандартные рooling слои"
   ]
  },
  {
   "cell_type": "markdown",
   "metadata": {},
   "source": [
    "* Pooling слой понижает размерность карты признаков: из группы элементов слоя к дальнейшим преобразованиям переходит только имеющий макимальное значение\n",
    "* В NLP каждая строка матрицы соотносится с набором токенов, поэтому сверточные слои применяются к строкам целиком (имеют те же размеры); наибольшее число из каждой карты признаков, образованной сверточным слоем;\n",
    "* Если свёрточным слоем была найдена информация о наличии какого-либо признака (словосочетания) в предложении, Pooling слой отбрасывает информацию, в каком именно месте предложения признак встретился, оставляя в качестве информации только факт его появления\n",
    "\n",
    "* [ref] http://www.wildml.com/2015/11/understanding-convolutional-neural-networks-for-nlp/"
   ]
  },
  {
   "cell_type": "code",
   "execution_count": 130,
   "metadata": {},
   "outputs": [],
   "source": [
    "class SalaryPredictor_pool_avg(nn.Module):\n",
    "    def __init__(self, n_tokens=len(tokens), n_cat_features=len(categorical_vectorizer.vocabulary_), hid_size=8):\n",
    "        super().__init__()\n",
    "        self.embedder = nn.Embedding(n_tokens, hid_size)\n",
    "        self.title_encoder = nn.Sequential(\n",
    "            nn.BatchNorm1d(hid_size),\n",
    "            nn.Conv1d(hid_size, hid_size, kernel_size=2),\n",
    "            nn.Dropout(p=0.25),\n",
    "            nn.ReLU(),\n",
    "            nn.AdaptiveAvgPool1d(output_size=1)\n",
    "#             nn.AvgPool1d(kernel_size=hid_size, count_include_pad=False)\n",
    "        )\n",
    "        \n",
    "        self.description_encoder = nn.Sequential(\n",
    "            nn.BatchNorm1d(hid_size),\n",
    "            nn.Conv1d(hid_size, hid_size, kernel_size=2),\n",
    "            nn.Dropout(p=0.25),\n",
    "            nn.ReLU(),\n",
    "            nn.AdaptiveAvgPool1d(output_size=1)\n",
    "#             nn.AvgPool2d(kernel_size=hid_size*32, count_include_pad=False)\n",
    "        )\n",
    "\n",
    "        self.categorical_encoder = nn.Sequential(\n",
    "            nn.BatchNorm1d(n_cat_features),\n",
    "            nn.Linear(n_cat_features, hid_size * 2),\n",
    "            nn.ReLU(),\n",
    "            nn.BatchNorm1d(hid_size * 2),\n",
    "            nn.Linear(hid_size * 2, hid_size * 2),\n",
    "            nn.ReLU()\n",
    "        )\n",
    "        self.final_predictor = nn.Sequential(\n",
    "            nn.BatchNorm1d(hid_size * 4),\n",
    "            nn.Linear(hid_size * 4, hid_size * 2),\n",
    "            nn.ReLU(),\n",
    "            nn.BatchNorm1d(hid_size * 2),\n",
    "            nn.Linear(hid_size * 2, hid_size),\n",
    "            nn.ReLU(),\n",
    "            nn.BatchNorm1d(hid_size),\n",
    "            nn.Linear(hid_size, 1)\n",
    "        )\n",
    "        \n",
    "\n",
    "        \n",
    "    def forward(self, batch):\n",
    "        title_embeddings = self.embedder(batch['Title']).permute(0, 2, 1)\n",
    "#         print(title_embeddings.shape)\n",
    "        title_features = self.title_encoder(title_embeddings).squeeze()\n",
    "#         print(title_features.shape)\n",
    "\n",
    "        description_embeddings = self.embedder(batch['FullDescription']).permute(0, 2, 1)\n",
    "#         print(description_embeddings.shape)\n",
    "        description_features = self.description_encoder(description_embeddings).squeeze()\n",
    "#         print(description_features.shape)\n",
    "\n",
    "        categorical_features = self.categorical_encoder(batch['Categorical'])\n",
    "#         print(categorical_features.shape)\n",
    "\n",
    "        features = torch.cat(\n",
    "            [title_features, description_features, categorical_features], dim=1)\n",
    "        \n",
    "#         early_stopping(valid_loss, model)\n",
    "        \n",
    "#         if early_stopping.early_stop:\n",
    "#             print(\"Early stopping\")\n",
    "#             break\n",
    "\n",
    "        \n",
    "        return self.final_predictor(features).squeeze()"
   ]
  },
  {
   "cell_type": "code",
   "execution_count": 131,
   "metadata": {},
   "outputs": [
    {
     "name": "stdout",
     "output_type": "stream",
     "text": [
      "epoch: 0\n"
     ]
    },
    {
     "data": {
      "application/vnd.jupyter.widget-view+json": {
       "model_id": "1fa46cadb4f743e68de9884f507a8ab1",
       "version_major": 2,
       "version_minor": 0
      },
      "text/plain": [
       "  0%|          | 0/1721 [00:00<?, ?it/s]"
      ]
     },
     "metadata": {},
     "output_type": "display_data"
    },
    {
     "name": "stdout",
     "output_type": "stream",
     "text": [
      "train_loss 95.6103744506836\n",
      "val results:\n",
      "Mean square error: 24.32463\n",
      "Mean absolute error: 2.46136\n",
      "train_loss 88.93708038330078\n",
      "val results:\n",
      "Mean square error: 22.96778\n",
      "Mean absolute error: 2.37550\n",
      "train_loss 75.02558898925781\n",
      "val results:\n",
      "Mean square error: 19.67413\n",
      "Mean absolute error: 2.20057\n",
      "train_loss 61.57421875\n",
      "val results:\n",
      "Mean square error: 15.59475\n",
      "Mean absolute error: 1.95382\n",
      "train_loss 44.61495590209961\n",
      "val results:\n",
      "Mean square error: 11.61383\n",
      "Mean absolute error: 1.68444\n",
      "train_loss 31.167226791381836\n",
      "val results:\n",
      "Mean square error: 7.74964\n",
      "Mean absolute error: 1.37709\n",
      "train_loss 19.162080764770508\n",
      "val results:\n",
      "Mean square error: 4.91676\n",
      "Mean absolute error: 1.08767\n",
      "train_loss 10.725753784179688\n",
      "val results:\n",
      "Mean square error: 2.71998\n",
      "Mean absolute error: 0.80273\n",
      "train_loss 5.138499736785889\n",
      "val results:\n",
      "Mean square error: 1.45913\n",
      "Mean absolute error: 0.57840\n",
      "train_loss 2.326596260070801\n",
      "val results:\n",
      "Mean square error: 0.61622\n",
      "Mean absolute error: 0.36222\n",
      "train_loss 0.9184987545013428\n",
      "val results:\n",
      "Mean square error: 0.30937\n",
      "Mean absolute error: 0.23740\n",
      "train_loss 0.41754642128944397\n",
      "val results:\n",
      "Mean square error: 0.18055\n",
      "Mean absolute error: 0.15095\n",
      "train_loss 0.23487050831317902\n",
      "val results:\n",
      "Mean square error: 0.11516\n",
      "Mean absolute error: 0.10882\n",
      "train_loss 0.17703518271446228\n",
      "val results:\n",
      "Mean square error: 0.13423\n",
      "Mean absolute error: 0.10835\n",
      "train_loss 0.10754022002220154\n",
      "val results:\n",
      "Mean square error: 0.15789\n",
      "Mean absolute error: 0.10874\n",
      "train_loss 0.10316953808069229\n",
      "val results:\n",
      "Mean square error: 0.27012\n",
      "Mean absolute error: 0.11817\n",
      "train_loss 0.1436757743358612\n",
      "val results:\n",
      "Mean square error: 0.26540\n",
      "Mean absolute error: 0.11868\n",
      "train_loss 0.09485618770122528\n",
      "val results:\n",
      "Mean square error: 0.19319\n",
      "Mean absolute error: 0.10835\n",
      "train_loss 0.10476140677928925\n",
      "val results:\n",
      "Mean square error: 0.24157\n",
      "Mean absolute error: 0.11373\n",
      "train_loss 0.10842740535736084\n",
      "val results:\n",
      "Mean square error: 3.07366\n",
      "Mean absolute error: 0.21114\n",
      "train_loss 0.10754017531871796\n",
      "val results:\n",
      "Mean square error: 0.46970\n",
      "Mean absolute error: 0.13307\n",
      "epoch: 1\n"
     ]
    },
    {
     "data": {
      "application/vnd.jupyter.widget-view+json": {
       "model_id": "e28ba6c4ec9344d3bc1ca6f62624cea1",
       "version_major": 2,
       "version_minor": 0
      },
      "text/plain": [
       "  0%|          | 0/1721 [00:00<?, ?it/s]"
      ]
     },
     "metadata": {},
     "output_type": "display_data"
    },
    {
     "name": "stdout",
     "output_type": "stream",
     "text": [
      "train_loss 0.12065598368644714\n",
      "val results:\n",
      "Mean square error: 1.16983\n",
      "Mean absolute error: 0.15647\n",
      "train_loss 0.08209091424942017\n",
      "val results:\n",
      "Mean square error: 1.97066\n",
      "Mean absolute error: 0.19708\n",
      "train_loss 0.09513585269451141\n",
      "val results:\n",
      "Mean square error: 0.13214\n",
      "Mean absolute error: 0.09802\n",
      "train_loss 0.14831985533237457\n",
      "val results:\n",
      "Mean square error: 0.12824\n",
      "Mean absolute error: 0.09704\n",
      "train_loss 0.11779406666755676\n",
      "val results:\n",
      "Mean square error: 0.10068\n",
      "Mean absolute error: 0.09088\n",
      "train_loss 0.09845906496047974\n",
      "val results:\n",
      "Mean square error: 0.12951\n",
      "Mean absolute error: 0.09805\n",
      "train_loss 0.10465186834335327\n",
      "val results:\n",
      "Mean square error: 0.09782\n",
      "Mean absolute error: 0.08893\n",
      "train_loss 0.11999824643135071\n",
      "val results:\n",
      "Mean square error: 0.12473\n",
      "Mean absolute error: 0.09390\n",
      "train_loss 0.09450045228004456\n",
      "val results:\n",
      "Mean square error: 0.12631\n",
      "Mean absolute error: 0.09669\n",
      "train_loss 0.08979228883981705\n",
      "val results:\n",
      "Mean square error: 0.13959\n",
      "Mean absolute error: 0.09993\n",
      "train_loss 0.09326989948749542\n",
      "val results:\n",
      "Mean square error: 0.12941\n",
      "Mean absolute error: 0.09769\n",
      "train_loss 0.07095493376255035\n",
      "val results:\n",
      "Mean square error: 0.11100\n",
      "Mean absolute error: 0.09146\n",
      "train_loss 0.07907865941524506\n",
      "val results:\n",
      "Mean square error: 0.12879\n",
      "Mean absolute error: 0.09124\n",
      "train_loss 0.0828925371170044\n",
      "val results:\n",
      "Mean square error: 0.13692\n",
      "Mean absolute error: 0.09504\n",
      "train_loss 0.08258727192878723\n",
      "val results:\n",
      "Mean square error: 0.11427\n",
      "Mean absolute error: 0.08871\n",
      "train_loss 0.1411549597978592\n",
      "val results:\n",
      "Mean square error: 0.17734\n",
      "Mean absolute error: 0.10207\n",
      "train_loss 0.09200873225927353\n",
      "val results:\n",
      "Mean square error: 0.13080\n",
      "Mean absolute error: 0.09226\n",
      "train_loss 0.08171980828046799\n",
      "val results:\n",
      "Mean square error: 0.15562\n",
      "Mean absolute error: 0.09623\n",
      "train_loss 0.1020737886428833\n",
      "val results:\n",
      "Mean square error: 0.13397\n",
      "Mean absolute error: 0.09156\n",
      "train_loss 0.09968063980340958\n",
      "val results:\n",
      "Mean square error: 0.29215\n",
      "Mean absolute error: 0.10850\n",
      "train_loss 0.09536974132061005\n",
      "val results:\n",
      "Mean square error: 0.23653\n",
      "Mean absolute error: 0.10246\n"
     ]
    }
   ],
   "source": [
    "model = SalaryPredictor_pool_avg().to(DEVICE)\n",
    "criterion = nn.MSELoss(reduction='mean')\n",
    "optimizer = torch.optim.Adam(model.parameters(), lr=1e-3)\n",
    "\n",
    "mse_l, mae_l, tr_loss = train(model, criterion, optimizer)"
   ]
  },
  {
   "cell_type": "code",
   "execution_count": 132,
   "metadata": {},
   "outputs": [
    {
     "name": "stdout",
     "output_type": "stream",
     "text": [
      "Best metrics values\n",
      "min mse 0.09781777858734131, idx in list 27\n",
      "min mae 0.08871457974116008, idx in list 27\n"
     ]
    },
    {
     "data": {
      "image/png": "[encoded data removed]",
      "text/plain": [
       "<Figure size 360x360 with 1 Axes>"
      ]
     },
     "metadata": {
      "needs_background": "light"
     },
     "output_type": "display_data"
    }
   ],
   "source": [
    "print('Best metrics values')\n",
    "print(f'min mse {min(mse_l)}, idx in list {np.argmin(mse_l)}')\n",
    "print(f'min mae {min(mae_l)}, idx in list {np.argmin(mse_l)}')\n",
    "plot_learning(mse_l, mae_l, tr_loss)"
   ]
  },
  {
   "cell_type": "code",
   "execution_count": 133,
   "metadata": {},
   "outputs": [
    {
     "name": "stdout",
     "output_type": "stream",
     "text": [
      "Результаты на тестовой выборке\n",
      " results:\n",
      "Mean square error: 0.25860\n",
      "Mean absolute error: 0.11024\n"
     ]
    }
   ],
   "source": [
    "print('Результаты на тестовой выборке')\n",
    "mse_test, mae_test = print_metrics(model, data_val)"
   ]
  },
  {
   "cell_type": "markdown",
   "metadata": {},
   "source": [
    "### 3. Предобученные эмбеддинги"
   ]
  },
  {
   "cell_type": "markdown",
   "metadata": {},
   "source": [
    "[ref] https://pytorch.org/docs/stable/generated/torch.nn.Embedding.html\n",
    "\n",
    "[ref] https://radimrehurek.com/gensim/models/word2vec.html\n",
    "\n",
    "* classmethod from_pretrained(embeddings, freeze=True), True - по умолчанию (необучаемые)\n",
    "        freeze - параметр, идентифицирующий, будут ли веса в embedding обучаться в процессе\n",
    "        \n",
    "[ref] https://colab.research.google.com/github/dpressel/dlss-tutorial/blob/master/1_pretrained_vectors.ipynb#scrollTo=u_ZR8A0x6XQh"
   ]
  },
  {
   "cell_type": "code",
   "execution_count": 96,
   "metadata": {},
   "outputs": [],
   "source": [
    "# conda update numpy\n",
    "# import numpy\n",
    "# numpy.__version__\n",
    "# !pip install python-Levenshtein\n",
    "# from gensim.test.utils import common_texts"
   ]
  },
  {
   "cell_type": "code",
   "execution_count": 43,
   "metadata": {},
   "outputs": [],
   "source": [
    "# m = Word2Vec(sentences=common_texts, vector_size=8, window=5, min_count=1, workers=4)\n",
    "# m.train([[\"hello\", \"world\"]], total_examples=1, epochs=1)"
   ]
  },
  {
   "cell_type": "code",
   "execution_count": 134,
   "metadata": {},
   "outputs": [
    {
     "name": "stderr",
     "output_type": "stream",
     "text": [
      "C:\\Anaconda\\lib\\site-packages\\gensim\\similarities\\__init__.py:15: UserWarning: The gensim.similarities.levenshtein submodule is disabled, because the optional Levenshtein package <https://pypi.org/project/python-Levenshtein/> is unavailable. Install Levenhstein (e.g. `pip install python-Levenshtein`) to suppress this warning.\n",
      "  warnings.warn(msg)\n"
     ]
    }
   ],
   "source": [
    "import gensim\n",
    "from gensim.models import Word2Vec\n",
    "import gensim.downloader as api\n",
    "from gensim.models.keyedvectors import KeyedVectors"
   ]
  },
  {
   "cell_type": "markdown",
   "metadata": {},
   "source": [
    "***Gensim Downloader Load 'glove-twitter-25'***\n",
    "\n",
    "**Модель с необучаемыми (замороженными) весами  freeze=True**"
   ]
  },
  {
   "cell_type": "code",
   "execution_count": 135,
   "metadata": {},
   "outputs": [],
   "source": [
    "# api.info()\n",
    "glove_vectors = gensim.downloader.load('glove-twitter-25')"
   ]
  },
  {
   "cell_type": "code",
   "execution_count": 54,
   "metadata": {},
   "outputs": [
    {
     "data": {
      "text/plain": [
       "torch.Size([1193514, 25])"
      ]
     },
     "execution_count": 54,
     "metadata": {},
     "output_type": "execute_result"
    }
   ],
   "source": [
    "# это если все вектора загружать - лишнее\n",
    "# weights = torch.FloatTensor(glove_vectors.vectors) # длина вектора - 25, надо изменить в классе нейросети hid_size=25\n",
    "# weights.shape"
   ]
  },
  {
   "cell_type": "code",
   "execution_count": 137,
   "metadata": {},
   "outputs": [
    {
     "name": "stderr",
     "output_type": "stream",
     "text": [
      "C:\\Anaconda\\lib\\site-packages\\ipykernel_launcher.py:7: UserWarning: The given NumPy array is not writeable, and PyTorch does not support non-writeable tensors. This means you can write to the underlying (supposedly non-writeable) NumPy array using the tensor. You may want to copy the array to protect its data or make it writeable before converting it to a tensor. This type of warning will be suppressed for the rest of this program. (Triggered internally at  ..\\torch\\csrc\\utils\\tensor_numpy.cpp:141.)\n",
      "  import sys\n"
     ]
    }
   ],
   "source": [
    "id_to_tocken = {value:key for key, value in token_to_id.items()}\n",
    "\n",
    "weights = torch.zeros(len(token_to_id)+1, glove_vectors.vector_size)\n",
    "\n",
    "for i in range(len(token_to_id)+1):\n",
    "    try:\n",
    "        weights[i, :] = torch.from_numpy(glove_vectors.get_vector(id_to_tocken[i]))\n",
    "    except:\n",
    "        continue"
   ]
  },
  {
   "cell_type": "code",
   "execution_count": 138,
   "metadata": {},
   "outputs": [],
   "source": [
    "class SalaryPredictor_pretrained_vecs(nn.Module):\n",
    "    def __init__(self, n_tokens=len(tokens), n_cat_features=len(categorical_vectorizer.vocabulary_), hid_size=25):\n",
    "        super().__init__()\n",
    "        self.embedder = nn.Embedding(n_tokens, hid_size).from_pretrained(weights)\n",
    "        self.title_encoder = nn.Sequential(\n",
    "            nn.Conv1d(hid_size, hid_size, kernel_size=2),\n",
    "            nn.Dropout(p=0.25),\n",
    "            nn.ReLU(),\n",
    "            nn.AdaptiveMaxPool1d(output_size=1)\n",
    "        )\n",
    "        self.description_encoder = nn.Sequential(\n",
    "            nn.Conv1d(hid_size, hid_size, kernel_size=2),\n",
    "            nn.Dropout(p=0.25),\n",
    "            nn.ReLU(),\n",
    "            nn.AdaptiveMaxPool1d(output_size=1)\n",
    "        )\n",
    "        self.categorical_encoder = nn.Sequential(\n",
    "            nn.Linear(n_cat_features, hid_size * 2),\n",
    "            nn.ReLU(),\n",
    "            nn.Linear(hid_size * 2, hid_size * 2),\n",
    "            nn.ReLU()\n",
    "        )\n",
    "        self.final_predictor = nn.Sequential(\n",
    "            nn.Linear(hid_size * 4, hid_size),\n",
    "            nn.ReLU(),\n",
    "            nn.Linear(hid_size, 1)\n",
    "        )\n",
    "        \n",
    "\n",
    "        \n",
    "    def forward(self, batch):\n",
    "        \n",
    "        title_embeddings = self.embedder(batch['Title']).permute(0, 2, 1)\n",
    "        title_features = self.title_encoder(title_embeddings).squeeze()\n",
    "#         print(title_features.shape)\n",
    "\n",
    "        description_embeddings = self.embedder(batch['FullDescription']).permute(0, 2, 1)\n",
    "        description_features = self.description_encoder(description_embeddings).squeeze()\n",
    "#         print(description_features.shape)\n",
    "        \n",
    "        categorical_features = self.categorical_encoder(batch['Categorical'])\n",
    "#         print(categorical_features.shape)\n",
    "\n",
    "        features = torch.cat(\n",
    "            [title_features, description_features, categorical_features], dim=1)\n",
    "        \n",
    "        return self.final_predictor(features).squeeze()"
   ]
  },
  {
   "cell_type": "code",
   "execution_count": 139,
   "metadata": {},
   "outputs": [
    {
     "name": "stdout",
     "output_type": "stream",
     "text": [
      "epoch: 0\n"
     ]
    },
    {
     "data": {
      "application/vnd.jupyter.widget-view+json": {
       "model_id": "abeb7b28ab544dbb94d2e43b0cbf83e6",
       "version_major": 2,
       "version_minor": 0
      },
      "text/plain": [
       "  0%|          | 0/1721 [00:00<?, ?it/s]"
      ]
     },
     "metadata": {},
     "output_type": "display_data"
    },
    {
     "name": "stdout",
     "output_type": "stream",
     "text": [
      "train_loss 0.8799697160720825\n",
      "val results:\n",
      "Mean square error: 1.41329\n",
      "Mean absolute error: 0.57054\n",
      "train_loss 0.5823937058448792\n",
      "val results:\n",
      "Mean square error: 0.86770\n",
      "Mean absolute error: 0.44160\n",
      "train_loss 0.38219955563545227\n",
      "val results:\n",
      "Mean square error: 0.82784\n",
      "Mean absolute error: 0.43565\n",
      "train_loss 0.36006659269332886\n",
      "val results:\n",
      "Mean square error: 0.76750\n",
      "Mean absolute error: 0.42108\n",
      "train_loss 0.255688339471817\n",
      "val results:\n",
      "Mean square error: 0.68115\n",
      "Mean absolute error: 0.39651\n",
      "train_loss 0.20450495183467865\n",
      "val results:\n",
      "Mean square error: 0.68110\n",
      "Mean absolute error: 0.39787\n",
      "train_loss 0.23901495337486267\n",
      "val results:\n",
      "Mean square error: 0.63538\n",
      "Mean absolute error: 0.38394\n",
      "train_loss 0.22963464260101318\n",
      "val results:\n",
      "Mean square error: 0.62795\n",
      "Mean absolute error: 0.38229\n",
      "train_loss 0.1511235237121582\n",
      "val results:\n",
      "Mean square error: 0.59918\n",
      "Mean absolute error: 0.37326\n",
      "train_loss 0.1598302572965622\n",
      "val results:\n",
      "Mean square error: 0.57277\n",
      "Mean absolute error: 0.36472\n",
      "train_loss 0.15422505140304565\n",
      "val results:\n",
      "Mean square error: 0.56969\n",
      "Mean absolute error: 0.36416\n",
      "train_loss 0.13460944592952728\n",
      "val results:\n",
      "Mean square error: 0.55742\n",
      "Mean absolute error: 0.36013\n",
      "train_loss 0.2236105501651764\n",
      "val results:\n",
      "Mean square error: 0.50620\n",
      "Mean absolute error: 0.34221\n",
      "train_loss 0.1456129103899002\n",
      "val results:\n",
      "Mean square error: 0.54412\n",
      "Mean absolute error: 0.35600\n",
      "train_loss 0.17052684724330902\n",
      "val results:\n",
      "Mean square error: 0.47258\n",
      "Mean absolute error: 0.33024\n",
      "train_loss 0.14033478498458862\n",
      "val results:\n",
      "Mean square error: 0.51533\n",
      "Mean absolute error: 0.34621\n",
      "train_loss 0.13739345967769623\n",
      "val results:\n",
      "Mean square error: 0.48713\n",
      "Mean absolute error: 0.33610\n",
      "train_loss 0.16478073596954346\n",
      "val results:\n",
      "Mean square error: 0.46780\n",
      "Mean absolute error: 0.32898\n",
      "train_loss 0.1244836300611496\n",
      "val results:\n",
      "Mean square error: 0.43848\n",
      "Mean absolute error: 0.31772\n",
      "train_loss 0.12983466684818268\n",
      "val results:\n",
      "Mean square error: 0.43311\n",
      "Mean absolute error: 0.31581\n",
      "train_loss 0.16505815088748932\n",
      "val results:\n",
      "Mean square error: 0.41040\n",
      "Mean absolute error: 0.30688\n",
      "epoch: 1\n"
     ]
    },
    {
     "data": {
      "application/vnd.jupyter.widget-view+json": {
       "model_id": "ab9c90cb0d2c4f9c897a8a00f448537f",
       "version_major": 2,
       "version_minor": 0
      },
      "text/plain": [
       "  0%|          | 0/1721 [00:00<?, ?it/s]"
      ]
     },
     "metadata": {},
     "output_type": "display_data"
    },
    {
     "name": "stdout",
     "output_type": "stream",
     "text": [
      "train_loss 0.1628635972738266\n",
      "val results:\n",
      "Mean square error: 0.38380\n",
      "Mean absolute error: 0.29597\n",
      "train_loss 0.144778773188591\n",
      "val results:\n",
      "Mean square error: 0.40911\n",
      "Mean absolute error: 0.30669\n",
      "train_loss 0.11484824866056442\n",
      "val results:\n",
      "Mean square error: 0.40848\n",
      "Mean absolute error: 0.30646\n",
      "train_loss 0.19192537665367126\n",
      "val results:\n",
      "Mean square error: 0.39701\n",
      "Mean absolute error: 0.30190\n",
      "train_loss 0.13114726543426514\n",
      "val results:\n",
      "Mean square error: 0.39669\n",
      "Mean absolute error: 0.30195\n",
      "train_loss 0.15284767746925354\n",
      "val results:\n",
      "Mean square error: 0.38900\n",
      "Mean absolute error: 0.29882\n",
      "train_loss 0.1510242521762848\n",
      "val results:\n",
      "Mean square error: 0.35498\n",
      "Mean absolute error: 0.28446\n",
      "train_loss 0.2179630547761917\n",
      "val results:\n",
      "Mean square error: 0.34108\n",
      "Mean absolute error: 0.27834\n",
      "train_loss 0.17483305931091309\n",
      "val results:\n",
      "Mean square error: 0.36195\n",
      "Mean absolute error: 0.28758\n",
      "train_loss 0.12959612905979156\n",
      "val results:\n",
      "Mean square error: 0.35440\n",
      "Mean absolute error: 0.28432\n",
      "train_loss 0.10461962223052979\n",
      "val results:\n",
      "Mean square error: 0.30844\n",
      "Mean absolute error: 0.26369\n",
      "train_loss 0.11638281494379044\n",
      "val results:\n",
      "Mean square error: 0.28596\n",
      "Mean absolute error: 0.25302\n",
      "train_loss 0.1315436214208603\n",
      "val results:\n",
      "Mean square error: 0.29043\n",
      "Mean absolute error: 0.25546\n",
      "train_loss 0.14901450276374817\n",
      "val results:\n",
      "Mean square error: 0.28779\n",
      "Mean absolute error: 0.25416\n",
      "train_loss 0.09745001047849655\n",
      "val results:\n",
      "Mean square error: 0.29728\n",
      "Mean absolute error: 0.25890\n",
      "train_loss 0.1689090132713318\n",
      "val results:\n",
      "Mean square error: 0.30841\n",
      "Mean absolute error: 0.26431\n",
      "train_loss 0.11913375556468964\n",
      "val results:\n",
      "Mean square error: 0.28691\n",
      "Mean absolute error: 0.25427\n",
      "train_loss 0.12243124097585678\n",
      "val results:\n",
      "Mean square error: 0.24684\n",
      "Mean absolute error: 0.23411\n",
      "train_loss 0.16337363421916962\n",
      "val results:\n",
      "Mean square error: 0.28271\n",
      "Mean absolute error: 0.25248\n",
      "train_loss 0.12326184660196304\n",
      "val results:\n",
      "Mean square error: 0.25247\n",
      "Mean absolute error: 0.23732\n",
      "train_loss 0.11368291079998016\n",
      "val results:\n",
      "Mean square error: 0.26061\n",
      "Mean absolute error: 0.24171\n"
     ]
    }
   ],
   "source": [
    "model = SalaryPredictor_pretrained_vecs().to(DEVICE)\n",
    "criterion = nn.MSELoss(reduction='mean')\n",
    "optimizer = torch.optim.Adam(model.parameters(), lr=1e-3)\n",
    "\n",
    "mse_l, mae_l, tr_loss = train(model, criterion, optimizer)"
   ]
  },
  {
   "cell_type": "code",
   "execution_count": 140,
   "metadata": {},
   "outputs": [
    {
     "name": "stdout",
     "output_type": "stream",
     "text": [
      "Best metrics values\n",
      "min mse 0.24684385458628336, idx in list 38\n",
      "min mae 0.23410656054814658, idx in list 38\n"
     ]
    },
    {
     "data": {
      "image/png": "[encoded data removed]",
      "text/plain": [
       "<Figure size 360x360 with 1 Axes>"
      ]
     },
     "metadata": {
      "needs_background": "light"
     },
     "output_type": "display_data"
    }
   ],
   "source": [
    "print('Best metrics values')\n",
    "print(f'min mse {min(mse_l)}, idx in list {np.argmin(mse_l)}')\n",
    "print(f'min mae {min(mae_l)}, idx in list {np.argmin(mse_l)}')\n",
    "plot_learning(mse_l, mae_l, tr_loss)"
   ]
  },
  {
   "cell_type": "code",
   "execution_count": 141,
   "metadata": {},
   "outputs": [
    {
     "name": "stdout",
     "output_type": "stream",
     "text": [
      "Результаты на тестовой выборке\n",
      " results:\n",
      "Mean square error: 0.40826\n",
      "Mean absolute error: 0.30825\n"
     ]
    }
   ],
   "source": [
    "print('Результаты на тестовой выборке')\n",
    "mse_test, mae_test = print_metrics(model, data_val)"
   ]
  },
  {
   "cell_type": "markdown",
   "metadata": {},
   "source": [
    "* ***со всеми загруженными векторами из glove***"
   ]
  },
  {
   "cell_type": "code",
   "execution_count": 120,
   "metadata": {},
   "outputs": [
    {
     "name": "stdout",
     "output_type": "stream",
     "text": [
      "epoch: 0\n"
     ]
    },
    {
     "data": {
      "application/vnd.jupyter.widget-view+json": {
       "model_id": "472f2e87d82149bb80d805211f804072",
       "version_major": 2,
       "version_minor": 0
      },
      "text/plain": [
       "  0%|          | 0/1721 [00:00<?, ?it/s]"
      ]
     },
     "metadata": {},
     "output_type": "display_data"
    },
    {
     "name": "stderr",
     "output_type": "stream",
     "text": [
      "C:\\Anaconda\\lib\\site-packages\\torch\\autograd\\__init__.py:132: UserWarning: CUDA initialization: Found no NVIDIA driver on your system. Please check that you have an NVIDIA GPU and installed a driver from http://www.nvidia.com/Download/index.aspx (Triggered internally at  ..\\c10\\cuda\\CUDAFunctions.cpp:100.)\n",
      "  allow_unreachable=True)  # allow_unreachable flag\n"
     ]
    },
    {
     "name": "stdout",
     "output_type": "stream",
     "text": [
      "train_loss 0.6567522287368774\n",
      "val results:\n",
      "Mean square error: 1.63472\n",
      "Mean absolute error: 0.62359\n",
      "train_loss 0.33479177951812744\n",
      "val results:\n",
      "Mean square error: 1.21896\n",
      "Mean absolute error: 0.53644\n",
      "train_loss 0.36017754673957825\n",
      "val results:\n",
      "Mean square error: 1.23677\n",
      "Mean absolute error: 0.54284\n",
      "train_loss 0.31368085741996765\n",
      "val results:\n",
      "Mean square error: 1.15765\n",
      "Mean absolute error: 0.52572\n",
      "train_loss 0.22106435894966125\n",
      "val results:\n",
      "Mean square error: 1.16724\n",
      "Mean absolute error: 0.52891\n",
      "train_loss 0.15722021460533142\n",
      "val results:\n",
      "Mean square error: 1.13739\n",
      "Mean absolute error: 0.52243\n",
      "train_loss 0.27861788868904114\n",
      "val results:\n",
      "Mean square error: 1.16803\n",
      "Mean absolute error: 0.53020\n",
      "train_loss 0.17112141847610474\n",
      "val results:\n",
      "Mean square error: 1.10314\n",
      "Mean absolute error: 0.51507\n",
      "train_loss 0.2578660547733307\n",
      "val results:\n",
      "Mean square error: 1.16573\n",
      "Mean absolute error: 0.53034\n",
      "train_loss 0.20264430344104767\n",
      "val results:\n",
      "Mean square error: 1.11351\n",
      "Mean absolute error: 0.51813\n",
      "train_loss 0.1825372576713562\n",
      "val results:\n",
      "Mean square error: 1.11197\n",
      "Mean absolute error: 0.51798\n",
      "train_loss 0.19497987627983093\n",
      "val results:\n",
      "Mean square error: 1.13863\n",
      "Mean absolute error: 0.52463\n",
      "train_loss 0.1447131633758545\n",
      "val results:\n",
      "Mean square error: 1.07078\n",
      "Mean absolute error: 0.50838\n",
      "train_loss 0.17166179418563843\n",
      "val results:\n",
      "Mean square error: 1.09602\n",
      "Mean absolute error: 0.51480\n",
      "train_loss 0.11334355920553207\n",
      "val results:\n",
      "Mean square error: 1.07330\n",
      "Mean absolute error: 0.50936\n",
      "train_loss 0.16652026772499084\n",
      "val results:\n",
      "Mean square error: 1.08007\n",
      "Mean absolute error: 0.51113\n",
      "train_loss 0.16511088609695435\n",
      "val results:\n",
      "Mean square error: 1.08089\n",
      "Mean absolute error: 0.51148\n",
      "train_loss 0.1965446174144745\n",
      "val results:\n",
      "Mean square error: 1.02055\n",
      "Mean absolute error: 0.49666\n",
      "train_loss 0.1240096315741539\n",
      "val results:\n",
      "Mean square error: 0.99664\n",
      "Mean absolute error: 0.49070\n",
      "train_loss 0.12377680838108063\n",
      "val results:\n",
      "Mean square error: 1.02575\n",
      "Mean absolute error: 0.49813\n",
      "train_loss 0.14497444033622742\n",
      "val results:\n",
      "Mean square error: 1.00322\n",
      "Mean absolute error: 0.49260\n",
      "epoch: 1\n"
     ]
    },
    {
     "data": {
      "application/vnd.jupyter.widget-view+json": {
       "model_id": "11a7ac3b28044ba987eb64daff7c5a4d",
       "version_major": 2,
       "version_minor": 0
      },
      "text/plain": [
       "  0%|          | 0/1721 [00:00<?, ?it/s]"
      ]
     },
     "metadata": {},
     "output_type": "display_data"
    },
    {
     "name": "stdout",
     "output_type": "stream",
     "text": [
      "train_loss 0.10738411545753479\n",
      "val results:\n",
      "Mean square error: 1.03621\n",
      "Mean absolute error: 0.50096\n",
      "train_loss 0.11549309641122818\n",
      "val results:\n",
      "Mean square error: 1.03666\n",
      "Mean absolute error: 0.50112\n",
      "train_loss 0.1363697648048401\n",
      "val results:\n",
      "Mean square error: 1.05648\n",
      "Mean absolute error: 0.50617\n",
      "train_loss 0.1534334272146225\n",
      "val results:\n",
      "Mean square error: 0.96890\n",
      "Mean absolute error: 0.48410\n",
      "train_loss 0.1252449005842209\n",
      "val results:\n",
      "Mean square error: 0.98621\n",
      "Mean absolute error: 0.48862\n",
      "train_loss 0.12381668388843536\n",
      "val results:\n",
      "Mean square error: 1.01242\n",
      "Mean absolute error: 0.49528\n",
      "train_loss 0.13789017498493195\n",
      "val results:\n",
      "Mean square error: 1.01910\n",
      "Mean absolute error: 0.49707\n",
      "train_loss 0.14095261693000793\n",
      "val results:\n",
      "Mean square error: 1.00514\n",
      "Mean absolute error: 0.49359\n",
      "train_loss 0.1052226647734642\n",
      "val results:\n",
      "Mean square error: 0.98462\n",
      "Mean absolute error: 0.48846\n",
      "train_loss 0.1283365935087204\n",
      "val results:\n",
      "Mean square error: 1.05611\n",
      "Mean absolute error: 0.50644\n",
      "train_loss 0.11077457666397095\n",
      "val results:\n",
      "Mean square error: 1.01110\n",
      "Mean absolute error: 0.49526\n",
      "train_loss 0.1334848701953888\n",
      "val results:\n",
      "Mean square error: 0.99902\n",
      "Mean absolute error: 0.49222\n",
      "train_loss 0.2003098577260971\n",
      "val results:\n",
      "Mean square error: 0.97808\n",
      "Mean absolute error: 0.48693\n",
      "train_loss 0.1494692862033844\n",
      "val results:\n",
      "Mean square error: 1.02172\n",
      "Mean absolute error: 0.49806\n",
      "train_loss 0.1654035598039627\n",
      "val results:\n",
      "Mean square error: 0.98853\n",
      "Mean absolute error: 0.48969\n",
      "train_loss 0.15516453981399536\n",
      "val results:\n",
      "Mean square error: 1.01800\n",
      "Mean absolute error: 0.49719\n",
      "train_loss 0.11716652661561966\n",
      "val results:\n",
      "Mean square error: 0.96832\n",
      "Mean absolute error: 0.48457\n",
      "train_loss 0.1355583220720291\n",
      "val results:\n",
      "Mean square error: 0.99608\n",
      "Mean absolute error: 0.49170\n",
      "train_loss 0.1314147561788559\n",
      "val results:\n",
      "Mean square error: 1.05214\n",
      "Mean absolute error: 0.50578\n",
      "train_loss 0.1264761984348297\n",
      "val results:\n",
      "Mean square error: 1.05687\n",
      "Mean absolute error: 0.50702\n",
      "train_loss 0.12754391133785248\n",
      "val results:\n",
      "Mean square error: 1.00248\n",
      "Mean absolute error: 0.49347\n"
     ]
    }
   ],
   "source": [
    "model = SalaryPredictor_pretrained_vecs().to(DEVICE)\n",
    "criterion = nn.MSELoss(reduction='mean')\n",
    "optimizer = torch.optim.Adam(model.parameters(), lr=1e-3)\n",
    "\n",
    "mse_l, mae_l, tr_loss = train(model, criterion, optimizer)"
   ]
  },
  {
   "cell_type": "code",
   "execution_count": 121,
   "metadata": {},
   "outputs": [
    {
     "name": "stdout",
     "output_type": "stream",
     "text": [
      "Best metrics values\n",
      "min mse 0.9683196544647217, idx in list 37\n",
      "min mae 0.4840981165568034, idx in list 37\n"
     ]
    },
    {
     "data": {
      "image/png": "[encoded data removed]",
      "text/plain": [
       "<Figure size 360x360 with 1 Axes>"
      ]
     },
     "metadata": {
      "needs_background": "light"
     },
     "output_type": "display_data"
    }
   ],
   "source": [
    "print('Best metrics values')\n",
    "print(f'min mse {min(mse_l)}, idx in list {np.argmin(mse_l)}')\n",
    "print(f'min mae {min(mae_l)}, idx in list {np.argmin(mse_l)}')\n",
    "plot_learning(mse_l, mae_l, tr_loss)"
   ]
  },
  {
   "cell_type": "code",
   "execution_count": 122,
   "metadata": {},
   "outputs": [
    {
     "name": "stdout",
     "output_type": "stream",
     "text": [
      "Результаты на тестовой выборке\n",
      " results:\n",
      "Mean square error: 0.85582\n",
      "Mean absolute error: 0.45481\n"
     ]
    }
   ],
   "source": [
    "print('Результаты на тестовой выборке')\n",
    "mse_test, mae_test = print_metrics(model, data_val)"
   ]
  },
  {
   "cell_type": "markdown",
   "metadata": {},
   "source": [
    "**Модель с обучаемыми весами  freeze=False и другой моделью gensim - word2vec-google-news-300**"
   ]
  },
  {
   "cell_type": "code",
   "execution_count": 49,
   "metadata": {},
   "outputs": [
    {
     "name": "stdout",
     "output_type": "stream",
     "text": [
      "[==================================================] 100.0% 1662.8/1662.8MB downloaded\n"
     ]
    }
   ],
   "source": [
    "# word_vectors =api.load('word2vec-google-news-300') # недостаточно памяти - невозможно работать с такой размерностью векторов\n",
    "# weights = torch.FloatTensor(word_vectors.vectors)"
   ]
  },
  {
   "cell_type": "code",
   "execution_count": 142,
   "metadata": {},
   "outputs": [],
   "source": [
    "class SalaryPredictor_pretrained_ft(nn.Module):\n",
    "    def __init__(self, n_tokens=len(tokens), n_cat_features=len(categorical_vectorizer.vocabulary_), hid_size=25):\n",
    "        super().__init__()\n",
    "        self.embedder = nn.Embedding(n_tokens, hid_size).from_pretrained(weights, freeze=False)\n",
    "        self.title_encoder = nn.Sequential(\n",
    "            nn.Conv1d(hid_size, hid_size, kernel_size=2),\n",
    "            nn.Dropout(p=0.25),\n",
    "            nn.ReLU(),\n",
    "            nn.AdaptiveMaxPool1d(output_size=1)\n",
    "        )\n",
    "        self.description_encoder = nn.Sequential(\n",
    "            nn.Conv1d(hid_size, hid_size, kernel_size=2),\n",
    "            nn.Dropout(p=0.25),\n",
    "            nn.ReLU(),\n",
    "            nn.AdaptiveMaxPool1d(output_size=1)\n",
    "        )\n",
    "        self.categorical_encoder = nn.Sequential(\n",
    "            nn.Linear(n_cat_features, hid_size * 2),\n",
    "            nn.ReLU(),\n",
    "            nn.Linear(hid_size * 2, hid_size * 2),\n",
    "            nn.ReLU()\n",
    "        )\n",
    "        self.final_predictor = nn.Sequential(\n",
    "            nn.Linear(hid_size * 4, hid_size),\n",
    "            nn.ReLU(),\n",
    "            nn.Linear(hid_size, 1)\n",
    "        )\n",
    "        \n",
    "\n",
    "        \n",
    "    def forward(self, batch):\n",
    "        \n",
    "        title_embeddings = self.embedder(batch['Title']).permute(0, 2, 1)\n",
    "        title_features = self.title_encoder(title_embeddings).squeeze()\n",
    "#         print(title_features.shape)\n",
    "\n",
    "        description_embeddings = self.embedder(batch['FullDescription']).permute(0, 2, 1)\n",
    "        description_features = self.description_encoder(description_embeddings).squeeze()\n",
    "#         print(description_features.shape)\n",
    "        \n",
    "        categorical_features = self.categorical_encoder(batch['Categorical'])\n",
    "#         print(categorical_features.shape)\n",
    "\n",
    "        features = torch.cat(\n",
    "            [title_features, description_features, categorical_features], dim=1)\n",
    "        \n",
    "        return self.final_predictor(features).squeeze()"
   ]
  },
  {
   "cell_type": "code",
   "execution_count": 143,
   "metadata": {},
   "outputs": [
    {
     "name": "stdout",
     "output_type": "stream",
     "text": [
      "epoch: 0\n"
     ]
    },
    {
     "data": {
      "application/vnd.jupyter.widget-view+json": {
       "model_id": "98f23f472aab4c0bbba0487b64c7faab",
       "version_major": 2,
       "version_minor": 0
      },
      "text/plain": [
       "  0%|          | 0/1721 [00:00<?, ?it/s]"
      ]
     },
     "metadata": {},
     "output_type": "display_data"
    },
    {
     "name": "stdout",
     "output_type": "stream",
     "text": [
      "train_loss 0.9921307563781738\n",
      "val results:\n",
      "Mean square error: 1.24798\n",
      "Mean absolute error: 0.52945\n",
      "train_loss 0.7329913377761841\n",
      "val results:\n",
      "Mean square error: 0.90128\n",
      "Mean absolute error: 0.44967\n",
      "train_loss 0.49062463641166687\n",
      "val results:\n",
      "Mean square error: 0.82647\n",
      "Mean absolute error: 0.43463\n",
      "train_loss 0.2793479561805725\n",
      "val results:\n",
      "Mean square error: 0.77111\n",
      "Mean absolute error: 0.42209\n",
      "train_loss 0.28608816862106323\n",
      "val results:\n",
      "Mean square error: 0.75218\n",
      "Mean absolute error: 0.41871\n",
      "train_loss 0.2881559729576111\n",
      "val results:\n",
      "Mean square error: 0.70939\n",
      "Mean absolute error: 0.40743\n",
      "train_loss 0.2494046539068222\n",
      "val results:\n",
      "Mean square error: 0.69633\n",
      "Mean absolute error: 0.40459\n",
      "train_loss 0.1689712554216385\n",
      "val results:\n",
      "Mean square error: 0.67845\n",
      "Mean absolute error: 0.39976\n",
      "train_loss 0.18317237496376038\n",
      "val results:\n",
      "Mean square error: 0.64511\n",
      "Mean absolute error: 0.38983\n",
      "train_loss 0.20590165257453918\n",
      "val results:\n",
      "Mean square error: 0.63120\n",
      "Mean absolute error: 0.38601\n",
      "train_loss 0.16394267976284027\n",
      "val results:\n",
      "Mean square error: 0.60959\n",
      "Mean absolute error: 0.37933\n",
      "train_loss 0.12075474113225937\n",
      "val results:\n",
      "Mean square error: 0.59686\n",
      "Mean absolute error: 0.37544\n",
      "train_loss 0.12847289443016052\n",
      "val results:\n",
      "Mean square error: 0.61642\n",
      "Mean absolute error: 0.38213\n",
      "train_loss 0.16202521324157715\n",
      "val results:\n",
      "Mean square error: 0.55398\n",
      "Mean absolute error: 0.36159\n",
      "train_loss 0.11483552306890488\n",
      "val results:\n",
      "Mean square error: 0.61195\n",
      "Mean absolute error: 0.38123\n",
      "train_loss 0.11988639086484909\n",
      "val results:\n",
      "Mean square error: 0.52875\n",
      "Mean absolute error: 0.35325\n",
      "train_loss 0.12306885421276093\n",
      "val results:\n",
      "Mean square error: 0.57270\n",
      "Mean absolute error: 0.36860\n",
      "train_loss 0.1055479496717453\n",
      "val results:\n",
      "Mean square error: 0.55727\n",
      "Mean absolute error: 0.36358\n",
      "train_loss 0.090061716735363\n",
      "val results:\n",
      "Mean square error: 0.54130\n",
      "Mean absolute error: 0.35831\n",
      "train_loss 0.13167522847652435\n",
      "val results:\n",
      "Mean square error: 0.53949\n",
      "Mean absolute error: 0.35770\n",
      "train_loss 0.14490154385566711\n",
      "val results:\n",
      "Mean square error: 0.53279\n",
      "Mean absolute error: 0.35552\n",
      "epoch: 1\n"
     ]
    },
    {
     "data": {
      "application/vnd.jupyter.widget-view+json": {
       "model_id": "a66e61772ef24770802dfa62ac25089e",
       "version_major": 2,
       "version_minor": 0
      },
      "text/plain": [
       "  0%|          | 0/1721 [00:00<?, ?it/s]"
      ]
     },
     "metadata": {},
     "output_type": "display_data"
    },
    {
     "name": "stdout",
     "output_type": "stream",
     "text": [
      "train_loss 0.07829739153385162\n",
      "val results:\n",
      "Mean square error: 0.46950\n",
      "Mean absolute error: 0.33285\n",
      "train_loss 0.09728322923183441\n",
      "val results:\n",
      "Mean square error: 0.56364\n",
      "Mean absolute error: 0.36653\n",
      "train_loss 0.1375056505203247\n",
      "val results:\n",
      "Mean square error: 0.50513\n",
      "Mean absolute error: 0.34621\n",
      "train_loss 0.11926211416721344\n",
      "val results:\n",
      "Mean square error: 0.51905\n",
      "Mean absolute error: 0.35113\n",
      "train_loss 0.0964614599943161\n",
      "val results:\n",
      "Mean square error: 0.51288\n",
      "Mean absolute error: 0.34920\n",
      "train_loss 0.0996670052409172\n",
      "val results:\n",
      "Mean square error: 0.49992\n",
      "Mean absolute error: 0.34458\n",
      "train_loss 0.11372106522321701\n",
      "val results:\n",
      "Mean square error: 0.51871\n",
      "Mean absolute error: 0.35140\n",
      "train_loss 0.10094043612480164\n",
      "val results:\n",
      "Mean square error: 0.55568\n",
      "Mean absolute error: 0.36440\n",
      "train_loss 0.0778433233499527\n",
      "val results:\n",
      "Mean square error: 0.52717\n",
      "Mean absolute error: 0.35452\n",
      "train_loss 0.07405208051204681\n",
      "val results:\n",
      "Mean square error: 0.53186\n",
      "Mean absolute error: 0.35630\n",
      "train_loss 0.12873438000679016\n",
      "val results:\n",
      "Mean square error: 0.49450\n",
      "Mean absolute error: 0.34298\n",
      "train_loss 0.11260218173265457\n",
      "val results:\n",
      "Mean square error: 0.51728\n",
      "Mean absolute error: 0.35108\n",
      "train_loss 0.08092617243528366\n",
      "val results:\n",
      "Mean square error: 0.50385\n",
      "Mean absolute error: 0.34650\n",
      "train_loss 0.087092325091362\n",
      "val results:\n",
      "Mean square error: 0.51277\n",
      "Mean absolute error: 0.34969\n",
      "train_loss 0.09507320076227188\n",
      "val results:\n",
      "Mean square error: 0.50332\n",
      "Mean absolute error: 0.34652\n",
      "train_loss 0.09097619354724884\n",
      "val results:\n",
      "Mean square error: 0.49313\n",
      "Mean absolute error: 0.34271\n",
      "train_loss 0.10583783686161041\n",
      "val results:\n",
      "Mean square error: 0.51568\n",
      "Mean absolute error: 0.35095\n",
      "train_loss 0.10704782605171204\n",
      "val results:\n",
      "Mean square error: 0.53072\n",
      "Mean absolute error: 0.35637\n",
      "train_loss 0.0758625790476799\n",
      "val results:\n",
      "Mean square error: 0.51285\n",
      "Mean absolute error: 0.35003\n",
      "train_loss 0.07777798175811768\n",
      "val results:\n",
      "Mean square error: 0.49392\n",
      "Mean absolute error: 0.34320\n",
      "train_loss 0.09271791577339172\n",
      "val results:\n",
      "Mean square error: 0.50874\n",
      "Mean absolute error: 0.34856\n"
     ]
    }
   ],
   "source": [
    "model = SalaryPredictor_pretrained_ft().to(DEVICE)\n",
    "criterion = nn.MSELoss(reduction='mean')\n",
    "optimizer = torch.optim.Adam(model.parameters(), lr=1e-3)\n",
    "\n",
    "mse_l, mae_l, tr_loss = train(model, criterion, optimizer)"
   ]
  },
  {
   "cell_type": "code",
   "execution_count": 144,
   "metadata": {},
   "outputs": [
    {
     "name": "stdout",
     "output_type": "stream",
     "text": [
      "Best metrics values\n",
      "min mse 0.4694970448811849, idx in list 21\n",
      "min mae 0.33284588654836017, idx in list 21\n"
     ]
    },
    {
     "data": {
      "image/png": "[encoded data removed]",
      "text/plain": [
       "<Figure size 360x360 with 1 Axes>"
      ]
     },
     "metadata": {
      "needs_background": "light"
     },
     "output_type": "display_data"
    }
   ],
   "source": [
    "print('Best metrics values')\n",
    "print(f'min mse {min(mse_l)}, idx in list {np.argmin(mse_l)}')\n",
    "print(f'min mae {min(mae_l)}, idx in list {np.argmin(mse_l)}')\n",
    "plot_learning(mse_l, mae_l, tr_loss)"
   ]
  },
  {
   "cell_type": "code",
   "execution_count": 145,
   "metadata": {},
   "outputs": [
    {
     "name": "stdout",
     "output_type": "stream",
     "text": [
      "Результаты на тестовой выборке\n",
      " results:\n",
      "Mean square error: 0.45461\n",
      "Mean absolute error: 0.32872\n"
     ]
    }
   ],
   "source": [
    "print('Результаты на тестовой выборке')\n",
    "mse_test, mae_test = print_metrics(model, data_val)"
   ]
  },
  {
   "cell_type": "markdown",
   "metadata": {},
   "source": [
    "* ***со всеми загруженными векторами из glove***"
   ]
  },
  {
   "cell_type": "code",
   "execution_count": 56,
   "metadata": {},
   "outputs": [
    {
     "name": "stdout",
     "output_type": "stream",
     "text": [
      "epoch: 0\n"
     ]
    },
    {
     "data": {
      "application/vnd.jupyter.widget-view+json": {
       "model_id": "e4cb0c86cc8f4b01823c7902954b9e73",
       "version_major": 2,
       "version_minor": 0
      },
      "text/plain": [
       "  0%|          | 0/1721 [00:00<?, ?it/s]"
      ]
     },
     "metadata": {},
     "output_type": "display_data"
    },
    {
     "name": "stdout",
     "output_type": "stream",
     "text": [
      "train_loss 0.4614516496658325\n",
      "val results:\n",
      "Mean square error: 1.20714\n",
      "Mean absolute error: 0.53046\n",
      "train_loss 0.29187119007110596\n",
      "val results:\n",
      "Mean square error: 1.18609\n",
      "Mean absolute error: 0.52878\n",
      "train_loss 0.2855818569660187\n",
      "val results:\n",
      "Mean square error: 1.13192\n",
      "Mean absolute error: 0.51848\n",
      "train_loss 0.23786310851573944\n",
      "val results:\n",
      "Mean square error: 1.09264\n",
      "Mean absolute error: 0.51072\n",
      "train_loss 0.19473466277122498\n",
      "val results:\n",
      "Mean square error: 1.12419\n",
      "Mean absolute error: 0.51947\n",
      "train_loss 0.16382618248462677\n",
      "val results:\n",
      "Mean square error: 1.14135\n",
      "Mean absolute error: 0.52433\n",
      "train_loss 0.19951792061328888\n",
      "val results:\n",
      "Mean square error: 1.07001\n",
      "Mean absolute error: 0.50766\n",
      "train_loss 0.17806072533130646\n",
      "val results:\n",
      "Mean square error: 1.07820\n",
      "Mean absolute error: 0.51009\n",
      "train_loss 0.1528538018465042\n",
      "val results:\n",
      "Mean square error: 1.13551\n",
      "Mean absolute error: 0.52426\n",
      "train_loss 0.13439184427261353\n",
      "val results:\n",
      "Mean square error: 1.10572\n",
      "Mean absolute error: 0.51734\n",
      "train_loss 0.1557813435792923\n",
      "val results:\n",
      "Mean square error: 1.13222\n",
      "Mean absolute error: 0.52394\n",
      "train_loss 0.12544402480125427\n",
      "val results:\n",
      "Mean square error: 1.09934\n",
      "Mean absolute error: 0.51629\n",
      "train_loss 0.12546271085739136\n",
      "val results:\n",
      "Mean square error: 1.05152\n",
      "Mean absolute error: 0.50481\n",
      "train_loss 0.14452984929084778\n",
      "val results:\n",
      "Mean square error: 1.08337\n",
      "Mean absolute error: 0.51280\n",
      "train_loss 0.16855859756469727\n",
      "val results:\n",
      "Mean square error: 1.09128\n",
      "Mean absolute error: 0.51492\n",
      "train_loss 0.12848784029483795\n",
      "val results:\n",
      "Mean square error: 1.04273\n",
      "Mean absolute error: 0.50317\n",
      "train_loss 0.14149706065654755\n",
      "val results:\n",
      "Mean square error: 1.04798\n",
      "Mean absolute error: 0.50460\n",
      "train_loss 0.09594309329986572\n",
      "val results:\n",
      "Mean square error: 1.05519\n",
      "Mean absolute error: 0.50654\n",
      "train_loss 0.08619804680347443\n",
      "val results:\n",
      "Mean square error: 1.02378\n",
      "Mean absolute error: 0.49882\n",
      "train_loss 0.11785964667797089\n",
      "val results:\n",
      "Mean square error: 1.12787\n",
      "Mean absolute error: 0.52437\n",
      "train_loss 0.1362236738204956\n",
      "val results:\n",
      "Mean square error: 1.04158\n",
      "Mean absolute error: 0.50346\n",
      "epoch: 1\n"
     ]
    },
    {
     "data": {
      "application/vnd.jupyter.widget-view+json": {
       "model_id": "2b3fa74cdeb04933a92be21de92e5df1",
       "version_major": 2,
       "version_minor": 0
      },
      "text/plain": [
       "  0%|          | 0/1721 [00:00<?, ?it/s]"
      ]
     },
     "metadata": {},
     "output_type": "display_data"
    },
    {
     "name": "stdout",
     "output_type": "stream",
     "text": [
      "train_loss 0.0898490622639656\n",
      "val results:\n",
      "Mean square error: 1.06281\n",
      "Mean absolute error: 0.50880\n",
      "train_loss 0.08896838873624802\n",
      "val results:\n",
      "Mean square error: 1.02205\n",
      "Mean absolute error: 0.49881\n",
      "train_loss 0.14861729741096497\n",
      "val results:\n",
      "Mean square error: 1.03231\n",
      "Mean absolute error: 0.50153\n",
      "train_loss 0.10540711879730225\n",
      "val results:\n",
      "Mean square error: 1.03319\n",
      "Mean absolute error: 0.50181\n",
      "train_loss 0.08063102513551712\n",
      "val results:\n",
      "Mean square error: 1.08111\n",
      "Mean absolute error: 0.51364\n",
      "train_loss 0.13233673572540283\n",
      "val results:\n",
      "Mean square error: 1.07008\n",
      "Mean absolute error: 0.51110\n",
      "train_loss 0.1313650906085968\n",
      "val results:\n",
      "Mean square error: 0.98737\n",
      "Mean absolute error: 0.49051\n",
      "train_loss 0.09457176923751831\n",
      "val results:\n",
      "Mean square error: 1.08092\n",
      "Mean absolute error: 0.51390\n",
      "train_loss 0.10229436308145523\n",
      "val results:\n",
      "Mean square error: 1.01557\n",
      "Mean absolute error: 0.49779\n",
      "train_loss 0.0913301482796669\n",
      "val results:\n",
      "Mean square error: 1.09227\n",
      "Mean absolute error: 0.51675\n",
      "train_loss 0.09256336838006973\n",
      "val results:\n",
      "Mean square error: 1.04389\n",
      "Mean absolute error: 0.50501\n",
      "train_loss 0.08721606433391571\n",
      "val results:\n",
      "Mean square error: 1.07630\n",
      "Mean absolute error: 0.51298\n",
      "train_loss 0.06473144888877869\n",
      "val results:\n",
      "Mean square error: 1.08171\n",
      "Mean absolute error: 0.51435\n",
      "train_loss 0.08023858815431595\n",
      "val results:\n",
      "Mean square error: 1.02344\n",
      "Mean absolute error: 0.50006\n",
      "train_loss 0.06709413975477219\n",
      "val results:\n",
      "Mean square error: 1.02603\n",
      "Mean absolute error: 0.50073\n",
      "train_loss 0.08273644000291824\n",
      "val results:\n",
      "Mean square error: 1.06316\n",
      "Mean absolute error: 0.50996\n",
      "train_loss 0.06591137498617172\n",
      "val results:\n",
      "Mean square error: 1.08095\n",
      "Mean absolute error: 0.51441\n",
      "train_loss 0.11452476680278778\n",
      "val results:\n",
      "Mean square error: 1.11303\n",
      "Mean absolute error: 0.52217\n",
      "train_loss 0.09174522012472153\n",
      "val results:\n",
      "Mean square error: 1.03055\n",
      "Mean absolute error: 0.50204\n",
      "train_loss 0.08841065317392349\n",
      "val results:\n",
      "Mean square error: 1.13612\n",
      "Mean absolute error: 0.52771\n",
      "train_loss 0.07776527106761932\n",
      "val results:\n",
      "Mean square error: 1.10522\n",
      "Mean absolute error: 0.52036\n"
     ]
    }
   ],
   "source": [
    "model = SalaryPredictor_pretrained_ft().to(DEVICE)\n",
    "criterion = nn.MSELoss(reduction='mean')\n",
    "optimizer = torch.optim.Adam(model.parameters(), lr=1e-3)\n",
    "\n",
    "mse_l, mae_l, tr_loss = train(model, criterion, optimizer)"
   ]
  },
  {
   "cell_type": "code",
   "execution_count": 57,
   "metadata": {},
   "outputs": [
    {
     "name": "stdout",
     "output_type": "stream",
     "text": [
      "Best metrics values\n",
      "min mse 0.9873695373535156, idx in list 27\n",
      "min mae 0.4905109802881877, idx in list 27\n"
     ]
    },
    {
     "data": {
      "image/png": "[encoded data removed]",
      "text/plain": [
       "<Figure size 360x360 with 1 Axes>"
      ]
     },
     "metadata": {
      "needs_background": "light"
     },
     "output_type": "display_data"
    }
   ],
   "source": [
    "print('Best metrics values')\n",
    "print(f'min mse {min(mse_l)}, idx in list {np.argmin(mse_l)}')\n",
    "print(f'min mae {min(mae_l)}, idx in list {np.argmin(mse_l)}')\n",
    "plot_learning(mse_l, mae_l, tr_loss)"
   ]
  },
  {
   "cell_type": "code",
   "execution_count": 58,
   "metadata": {},
   "outputs": [
    {
     "name": "stdout",
     "output_type": "stream",
     "text": [
      "Результаты на тестовой выборке\n",
      " results:\n",
      "Mean square error: 0.95573\n",
      "Mean absolute error: 0.48317\n"
     ]
    }
   ],
   "source": [
    "print('Результаты на тестовой выборке')\n",
    "mse_test, mae_test = print_metrics(model, data_val)"
   ]
  },
  {
   "cell_type": "markdown",
   "metadata": {},
   "source": [
    "***Вывод: модель с предобученными векторами и обучаемыми весами достигает своего лучшего результата намного быстрее (на ~400 итераций), но значения ошибок при этом на 0.1 выше.***\n",
    "* ***Относительно всех остальных моделей (с рандомными, полученными из нормального распределения, весами), можно увидеть насколько отличаются графики обучения, здесь значения ошибок постоянно колеблются (увеличиваясь и уменьшаясь), но значения ошибок изначально очень малы, когда для рандомной инициализации, независимо от других параметров и слоев нейросети, значения ошибок изначально могут быть достаточно высокими, затем очень резко падают и далее только очень незначительно уменьшаются***"
   ]
  },
  {
   "cell_type": "markdown",
   "metadata": {},
   "source": [
    "### 4. Модели с рекуррентными слоями"
   ]
  },
  {
   "cell_type": "markdown",
   "metadata": {},
   "source": [
    "[ref] https://towardsdatascience.com/lstm-text-classification-using-pytorch-2c6c657f8fc0\n",
    "\n",
    "[ref] https://towardsdatascience.com/multiclass-text-classification-using-lstm-in-pytorch-eac56baed8df"
   ]
  },
  {
   "cell_type": "markdown",
   "metadata": {},
   "source": [
    "### GRU - замена сверточных слоев рекуррентными"
   ]
  },
  {
   "cell_type": "code",
   "execution_count": 182,
   "metadata": {},
   "outputs": [],
   "source": [
    "class SalaryPredictor_gru(nn.Module):\n",
    "    def __init__(self, n_tokens=len(tokens), n_cat_features=len(categorical_vectorizer.vocabulary_), hid_size=8):\n",
    "        super().__init__()\n",
    "        \n",
    "        self.embedder = nn.Embedding(n_tokens, hid_size)\n",
    "        \n",
    "        self.gru = nn.GRU(input_size=hid_size,\n",
    "                            hidden_size=hid_size,\n",
    "                            num_layers=1,\n",
    "                            batch_first=True,\n",
    "                            dropout=0.25)\n",
    "        \n",
    "        self.linear = nn.Linear(hid_size, hid_size)\n",
    "        \n",
    "       \n",
    "        self.categorical_encoder = nn.Sequential(\n",
    "            nn.Linear(n_cat_features, hid_size * 2),\n",
    "            nn.ReLU(),\n",
    "            nn.Linear(hid_size * 2, hid_size * 2),\n",
    "            nn.ReLU()\n",
    "        )\n",
    "        self.final_predictor = nn.Sequential(\n",
    "            nn.Linear(hid_size * 4, hid_size),\n",
    "            nn.ReLU(),\n",
    "            nn.Linear(hid_size, 1)\n",
    "        )\n",
    "        \n",
    "\n",
    "        \n",
    "    def forward(self, batch):\n",
    "        \n",
    "        title_embeddings = self.embedder(batch['Title'])\n",
    "#         title_features = self.title_encoder(title_embeddings).squeeze()\n",
    "#         print(title_embeddings.shape)\n",
    "        gru_out_t, ht_t = self.gru(title_embeddings)\n",
    "#         print(ht_t[-1].shape)\n",
    "        title_features = self.linear(ht_t[-1])\n",
    "#         print(title_features.shape)\n",
    "\n",
    "        description_embeddings = self.embedder(batch['FullDescription'])\n",
    "#         description_features = self.description_encoder(description_embeddings).squeeze()\n",
    "        gru_out_d, ht_d = self.gru(description_embeddings)\n",
    "        description_features = self.linear(ht_d[-1])\n",
    "#         print(description_features.shape)\n",
    "\n",
    "        categorical_features = self.categorical_encoder(batch['Categorical'])\n",
    "#         print(categorical_features.shape)\n",
    "\n",
    "        features = torch.cat(\n",
    "            [title_features, description_features, categorical_features], dim=1)\n",
    "        \n",
    "        return self.final_predictor(features).squeeze()"
   ]
  },
  {
   "cell_type": "code",
   "execution_count": 183,
   "metadata": {},
   "outputs": [
    {
     "name": "stdout",
     "output_type": "stream",
     "text": [
      "epoch: 0\n"
     ]
    },
    {
     "data": {
      "application/vnd.jupyter.widget-view+json": {
       "model_id": "f57be41dda434d7c91ea5e3e62f4c29c",
       "version_major": 2,
       "version_minor": 0
      },
      "text/plain": [
       "  0%|          | 0/1721 [00:00<?, ?it/s]"
      ]
     },
     "metadata": {},
     "output_type": "display_data"
    },
    {
     "name": "stdout",
     "output_type": "stream",
     "text": [
      "train_loss 77.31399536132812\n",
      "val results:\n",
      "Mean square error: 19.04096\n",
      "Mean absolute error: 2.17820\n",
      "train_loss 0.39884719252586365\n",
      "val results:\n",
      "Mean square error: 0.10184\n",
      "Mean absolute error: 0.12658\n",
      "train_loss 0.33006271719932556\n",
      "val results:\n",
      "Mean square error: 0.07362\n",
      "Mean absolute error: 0.10636\n",
      "train_loss 0.19440768659114838\n",
      "val results:\n",
      "Mean square error: 0.05479\n",
      "Mean absolute error: 0.09090\n",
      "train_loss 0.21598735451698303\n",
      "val results:\n",
      "Mean square error: 0.04741\n",
      "Mean absolute error: 0.08409\n",
      "train_loss 0.21827393770217896\n",
      "val results:\n",
      "Mean square error: 0.04443\n",
      "Mean absolute error: 0.08149\n",
      "train_loss 0.20830048620700836\n",
      "val results:\n",
      "Mean square error: 0.04309\n",
      "Mean absolute error: 0.08021\n",
      "train_loss 0.16549627482891083\n",
      "val results:\n",
      "Mean square error: 0.04178\n",
      "Mean absolute error: 0.07926\n",
      "train_loss 0.18639852106571198\n",
      "val results:\n",
      "Mean square error: 0.04109\n",
      "Mean absolute error: 0.07869\n",
      "train_loss 0.15739502012729645\n",
      "val results:\n",
      "Mean square error: 0.04043\n",
      "Mean absolute error: 0.07830\n",
      "train_loss 0.14462067186832428\n",
      "val results:\n",
      "Mean square error: 0.04026\n",
      "Mean absolute error: 0.07792\n",
      "train_loss 0.133179172873497\n",
      "val results:\n",
      "Mean square error: 0.04005\n",
      "Mean absolute error: 0.07763\n",
      "train_loss 0.18297423422336578\n",
      "val results:\n",
      "Mean square error: 0.03934\n",
      "Mean absolute error: 0.07716\n",
      "train_loss 0.1783997118473053\n",
      "val results:\n",
      "Mean square error: 0.03896\n",
      "Mean absolute error: 0.07680\n",
      "train_loss 0.13474300503730774\n",
      "val results:\n",
      "Mean square error: 0.03860\n",
      "Mean absolute error: 0.07648\n",
      "train_loss 0.1596812903881073\n",
      "val results:\n",
      "Mean square error: 0.03861\n",
      "Mean absolute error: 0.07629\n",
      "train_loss 0.16082529723644257\n",
      "val results:\n",
      "Mean square error: 0.03801\n",
      "Mean absolute error: 0.07570\n",
      "train_loss 0.1464594304561615\n",
      "val results:\n",
      "Mean square error: 0.03813\n",
      "Mean absolute error: 0.07596\n",
      "train_loss 0.1513848602771759\n",
      "val results:\n",
      "Mean square error: 0.03760\n",
      "Mean absolute error: 0.07530\n",
      "train_loss 0.12159609794616699\n",
      "val results:\n",
      "Mean square error: 0.03735\n",
      "Mean absolute error: 0.07523\n",
      "train_loss 0.15134917199611664\n",
      "val results:\n",
      "Mean square error: 0.03714\n",
      "Mean absolute error: 0.07470\n",
      "epoch: 1\n"
     ]
    },
    {
     "data": {
      "application/vnd.jupyter.widget-view+json": {
       "model_id": "bec1b1f21aa24069b19dbbea4e11ac80",
       "version_major": 2,
       "version_minor": 0
      },
      "text/plain": [
       "  0%|          | 0/1721 [00:00<?, ?it/s]"
      ]
     },
     "metadata": {},
     "output_type": "display_data"
    },
    {
     "name": "stdout",
     "output_type": "stream",
     "text": [
      "train_loss 0.10945385694503784\n",
      "val results:\n",
      "Mean square error: 0.03676\n",
      "Mean absolute error: 0.07448\n",
      "train_loss 0.13664588332176208\n",
      "val results:\n",
      "Mean square error: 0.03691\n",
      "Mean absolute error: 0.07469\n",
      "train_loss 0.1490127295255661\n",
      "val results:\n",
      "Mean square error: 0.03681\n",
      "Mean absolute error: 0.07456\n",
      "train_loss 0.14942121505737305\n",
      "val results:\n",
      "Mean square error: 0.03656\n",
      "Mean absolute error: 0.07421\n",
      "train_loss 0.15219512581825256\n",
      "val results:\n",
      "Mean square error: 0.03637\n",
      "Mean absolute error: 0.07400\n",
      "train_loss 0.11841058731079102\n",
      "val results:\n",
      "Mean square error: 0.03677\n",
      "Mean absolute error: 0.07460\n",
      "train_loss 0.15284450352191925\n",
      "val results:\n",
      "Mean square error: 0.03635\n",
      "Mean absolute error: 0.07400\n",
      "train_loss 0.1672486513853073\n",
      "val results:\n",
      "Mean square error: 0.03661\n",
      "Mean absolute error: 0.07388\n",
      "train_loss 0.15462061762809753\n",
      "val results:\n",
      "Mean square error: 0.03630\n",
      "Mean absolute error: 0.07375\n",
      "train_loss 0.15052743256092072\n",
      "val results:\n",
      "Mean square error: 0.03620\n",
      "Mean absolute error: 0.07360\n",
      "train_loss 0.13279767334461212\n",
      "val results:\n",
      "Mean square error: 0.03593\n",
      "Mean absolute error: 0.07345\n",
      "train_loss 0.16796043515205383\n",
      "val results:\n",
      "Mean square error: 0.03606\n",
      "Mean absolute error: 0.07338\n",
      "train_loss 0.1305866837501526\n",
      "val results:\n",
      "Mean square error: 0.03609\n",
      "Mean absolute error: 0.07373\n",
      "train_loss 0.16606390476226807\n",
      "val results:\n",
      "Mean square error: 0.03598\n",
      "Mean absolute error: 0.07342\n",
      "train_loss 0.1495087742805481\n",
      "val results:\n",
      "Mean square error: 0.03585\n",
      "Mean absolute error: 0.07324\n",
      "train_loss 0.1633899062871933\n",
      "val results:\n",
      "Mean square error: 0.03589\n",
      "Mean absolute error: 0.07327\n",
      "train_loss 0.12502606213092804\n",
      "val results:\n",
      "Mean square error: 0.03713\n",
      "Mean absolute error: 0.07444\n",
      "train_loss 0.133400559425354\n",
      "val results:\n",
      "Mean square error: 0.03576\n",
      "Mean absolute error: 0.07311\n",
      "train_loss 0.10602180659770966\n",
      "val results:\n",
      "Mean square error: 0.03581\n",
      "Mean absolute error: 0.07301\n",
      "train_loss 0.14708656072616577\n",
      "val results:\n",
      "Mean square error: 0.03566\n",
      "Mean absolute error: 0.07290\n",
      "train_loss 0.12183591723442078\n",
      "val results:\n",
      "Mean square error: 0.03577\n",
      "Mean absolute error: 0.07305\n"
     ]
    }
   ],
   "source": [
    "model = SalaryPredictor_gru().to(DEVICE)\n",
    "criterion = nn.MSELoss(reduction='mean')\n",
    "optimizer = torch.optim.Adam(model.parameters(), lr=1e-3)\n",
    "\n",
    "mse_l, mae_l, tr_loss = train(model, criterion, optimizer)"
   ]
  },
  {
   "cell_type": "code",
   "execution_count": 184,
   "metadata": {},
   "outputs": [
    {
     "name": "stdout",
     "output_type": "stream",
     "text": [
      "Best metrics values\n",
      "min mse 0.03566203514734904, idx in list 40\n",
      "min mae 0.07289805014928182, idx in list 40\n"
     ]
    },
    {
     "data": {
      "image/png": "[encoded data removed]",
      "text/plain": [
       "<Figure size 360x360 with 1 Axes>"
      ]
     },
     "metadata": {
      "needs_background": "light"
     },
     "output_type": "display_data"
    }
   ],
   "source": [
    "print('Best metrics values')\n",
    "print(f'min mse {min(mse_l)}, idx in list {np.argmin(mse_l)}')\n",
    "print(f'min mae {min(mae_l)}, idx in list {np.argmin(mse_l)}')\n",
    "plot_learning(mse_l, mae_l, tr_loss)"
   ]
  },
  {
   "cell_type": "markdown",
   "metadata": {},
   "source": [
    "### Сочетание рекуррентных и сверточных слоев c LSTM\n",
    "#### Сначала - сверточный слой, затем рекуррентный\n",
    "**однонаправленная сеть bidirectional=False**"
   ]
  },
  {
   "cell_type": "code",
   "execution_count": 145,
   "metadata": {},
   "outputs": [],
   "source": [
    "class SalaryPredictor_rec_1(nn.Module):\n",
    "    def __init__(self, n_tokens=len(tokens), n_cat_features=len(categorical_vectorizer.vocabulary_), hid_size=8):\n",
    "        super().__init__()\n",
    "        self.embedder = nn.Embedding(n_tokens, hid_size)\n",
    "        self.lstm = nn.LSTM(input_size=hid_size,\n",
    "                            hidden_size=hid_size,\n",
    "                            num_layers=1,\n",
    "                            batch_first=True,\n",
    "                            bidirectional=False)\n",
    "        \n",
    "        self.linear = nn.Linear(hid_size, hid_size)\n",
    "        \n",
    "        self.title_encoder = nn.Sequential(\n",
    "            nn.Conv1d(hid_size, hid_size, kernel_size=2),\n",
    "            nn.Dropout(p=0.25),\n",
    "            nn.ReLU(),\n",
    "            nn.AdaptiveMaxPool1d(output_size=hid_size)\n",
    "        )\n",
    " \n",
    "        self.description_encoder = nn.Sequential(\n",
    "            nn.Conv1d(hid_size, hid_size, kernel_size=2),\n",
    "            nn.Dropout(p=0.25),\n",
    "            nn.ReLU(),\n",
    "            nn.AdaptiveMaxPool1d(output_size=hid_size)\n",
    "        )\n",
    "\n",
    "        self.categorical_encoder = nn.Sequential(\n",
    "            nn.Linear(n_cat_features, hid_size * 2),\n",
    "            nn.ReLU(),\n",
    "            nn.Linear(hid_size * 2, hid_size * 2),\n",
    "            nn.ReLU()\n",
    "        )\n",
    "        \n",
    "        self.final_predictor = nn.Sequential(\n",
    "            nn.Linear(hid_size * 4, hid_size),\n",
    "            nn.ReLU(),\n",
    "            nn.Linear(hid_size, 1)\n",
    "        )\n",
    "        \n",
    "\n",
    "        \n",
    "    def forward(self, batch):\n",
    "        \n",
    "        title_embeddings = self.embedder(batch['Title']).permute(0, 2, 1)   \n",
    "        title_features = self.title_encoder(title_embeddings).squeeze()\n",
    "        lstm_out_t, (ht_t, ct_t) = self.lstm(title_features)\n",
    "        title_features = self.linear(ht_t[-1])\n",
    "#         print(title_features.shape)\n",
    "\n",
    "        description_embeddings = self.embedder(batch['FullDescription']).permute(0, 2, 1)\n",
    "        description_features = self.description_encoder(description_embeddings).squeeze()\n",
    "        lstm_out_d, (ht_d, ct_d) = self.lstm(description_features)\n",
    "        description_features = self.linear(ht_d[-1])\n",
    "#         print(description_features.shape)\n",
    "\n",
    "        categorical_features = self.categorical_encoder(batch['Categorical'])\n",
    "#         print(categorical_features.shape)\n",
    "\n",
    "        features = torch.cat(\n",
    "            [title_features, description_features, categorical_features], dim=1)\n",
    "        \n",
    "        return self.final_predictor(features).squeeze()"
   ]
  },
  {
   "cell_type": "code",
   "execution_count": 146,
   "metadata": {},
   "outputs": [
    {
     "name": "stdout",
     "output_type": "stream",
     "text": [
      "epoch: 0\n"
     ]
    },
    {
     "data": {
      "application/vnd.jupyter.widget-view+json": {
       "model_id": "ef7ba8ef511749e899965fd12c24b672",
       "version_major": 2,
       "version_minor": 0
      },
      "text/plain": [
       "  0%|          | 0/1721 [00:00<?, ?it/s]"
      ]
     },
     "metadata": {},
     "output_type": "display_data"
    },
    {
     "name": "stdout",
     "output_type": "stream",
     "text": [
      "train_loss 68.56779479980469\n",
      "val results:\n",
      "Mean square error: 16.73634\n",
      "Mean absolute error: 2.04183\n",
      "train_loss 0.30979692935943604\n",
      "val results:\n",
      "Mean square error: 0.07579\n",
      "Mean absolute error: 0.11075\n",
      "train_loss 0.2494683414697647\n",
      "val results:\n",
      "Mean square error: 0.06683\n",
      "Mean absolute error: 0.10311\n",
      "train_loss 0.19126299023628235\n",
      "val results:\n",
      "Mean square error: 0.05858\n",
      "Mean absolute error: 0.09614\n",
      "train_loss 0.18975533545017242\n",
      "val results:\n",
      "Mean square error: 0.04880\n",
      "Mean absolute error: 0.08682\n",
      "train_loss 0.15019994974136353\n",
      "val results:\n",
      "Mean square error: 0.04462\n",
      "Mean absolute error: 0.08230\n",
      "train_loss 0.17532645165920258\n",
      "val results:\n",
      "Mean square error: 0.04451\n",
      "Mean absolute error: 0.08201\n",
      "train_loss 0.18800483644008636\n",
      "val results:\n",
      "Mean square error: 0.04118\n",
      "Mean absolute error: 0.07884\n",
      "train_loss 0.14572708308696747\n",
      "val results:\n",
      "Mean square error: 0.04068\n",
      "Mean absolute error: 0.07821\n",
      "train_loss 0.14524845778942108\n",
      "val results:\n",
      "Mean square error: 0.03918\n",
      "Mean absolute error: 0.07697\n",
      "train_loss 0.17152497172355652\n",
      "val results:\n",
      "Mean square error: 0.03956\n",
      "Mean absolute error: 0.07713\n",
      "train_loss 0.18226903676986694\n",
      "val results:\n",
      "Mean square error: 0.03856\n",
      "Mean absolute error: 0.07617\n",
      "train_loss 0.1344834417104721\n",
      "val results:\n",
      "Mean square error: 0.03903\n",
      "Mean absolute error: 0.07659\n",
      "train_loss 0.16996780037879944\n",
      "val results:\n",
      "Mean square error: 0.03858\n",
      "Mean absolute error: 0.07613\n",
      "train_loss 0.13208244740962982\n",
      "val results:\n",
      "Mean square error: 0.03928\n",
      "Mean absolute error: 0.07680\n",
      "train_loss 0.2041100263595581\n",
      "val results:\n",
      "Mean square error: 0.03794\n",
      "Mean absolute error: 0.07547\n",
      "train_loss 0.11990690231323242\n",
      "val results:\n",
      "Mean square error: 0.03708\n",
      "Mean absolute error: 0.07464\n",
      "train_loss 0.16106396913528442\n",
      "val results:\n",
      "Mean square error: 0.03627\n",
      "Mean absolute error: 0.07375\n",
      "train_loss 0.13827018439769745\n",
      "val results:\n",
      "Mean square error: 0.03641\n",
      "Mean absolute error: 0.07385\n",
      "train_loss 0.14508898556232452\n",
      "val results:\n",
      "Mean square error: 0.03609\n",
      "Mean absolute error: 0.07347\n",
      "train_loss 0.14141984283924103\n",
      "val results:\n",
      "Mean square error: 0.03532\n",
      "Mean absolute error: 0.07268\n",
      "epoch: 1\n"
     ]
    },
    {
     "data": {
      "application/vnd.jupyter.widget-view+json": {
       "model_id": "39c1e19d705348a3bb9e68525104050d",
       "version_major": 2,
       "version_minor": 0
      },
      "text/plain": [
       "  0%|          | 0/1721 [00:00<?, ?it/s]"
      ]
     },
     "metadata": {},
     "output_type": "display_data"
    },
    {
     "name": "stdout",
     "output_type": "stream",
     "text": [
      "train_loss 0.1326788365840912\n",
      "val results:\n",
      "Mean square error: 0.03593\n",
      "Mean absolute error: 0.07312\n",
      "train_loss 0.12037694454193115\n",
      "val results:\n",
      "Mean square error: 0.03441\n",
      "Mean absolute error: 0.07160\n",
      "train_loss 0.12934130430221558\n",
      "val results:\n",
      "Mean square error: 0.03416\n",
      "Mean absolute error: 0.07125\n",
      "train_loss 0.15667693316936493\n",
      "val results:\n",
      "Mean square error: 0.03573\n",
      "Mean absolute error: 0.07272\n",
      "train_loss 0.12701410055160522\n",
      "val results:\n",
      "Mean square error: 0.03534\n",
      "Mean absolute error: 0.07225\n",
      "train_loss 0.14414457976818085\n",
      "val results:\n",
      "Mean square error: 0.03419\n",
      "Mean absolute error: 0.07105\n",
      "train_loss 0.1299380660057068\n",
      "val results:\n",
      "Mean square error: 0.03432\n",
      "Mean absolute error: 0.07124\n",
      "train_loss 0.12265636771917343\n",
      "val results:\n",
      "Mean square error: 0.03344\n",
      "Mean absolute error: 0.07036\n",
      "train_loss 0.1709141582250595\n",
      "val results:\n",
      "Mean square error: 0.03251\n",
      "Mean absolute error: 0.06933\n",
      "train_loss 0.17222914099693298\n",
      "val results:\n",
      "Mean square error: 0.03422\n",
      "Mean absolute error: 0.07103\n",
      "train_loss 0.12900178134441376\n",
      "val results:\n",
      "Mean square error: 0.03405\n",
      "Mean absolute error: 0.07089\n",
      "train_loss 0.1484585404396057\n",
      "val results:\n",
      "Mean square error: 0.03190\n",
      "Mean absolute error: 0.06838\n",
      "train_loss 0.12873613834381104\n",
      "val results:\n",
      "Mean square error: 0.03322\n",
      "Mean absolute error: 0.06976\n",
      "train_loss 0.1312291920185089\n",
      "val results:\n",
      "Mean square error: 0.03359\n",
      "Mean absolute error: 0.07033\n",
      "train_loss 0.11932672560214996\n",
      "val results:\n",
      "Mean square error: 0.03105\n",
      "Mean absolute error: 0.06740\n",
      "train_loss 0.0954749807715416\n",
      "val results:\n",
      "Mean square error: 0.03152\n",
      "Mean absolute error: 0.06782\n",
      "train_loss 0.15570710599422455\n",
      "val results:\n",
      "Mean square error: 0.03066\n",
      "Mean absolute error: 0.06683\n",
      "train_loss 0.1311541050672531\n",
      "val results:\n",
      "Mean square error: 0.03028\n",
      "Mean absolute error: 0.06661\n",
      "train_loss 0.1420287787914276\n",
      "val results:\n",
      "Mean square error: 0.03115\n",
      "Mean absolute error: 0.06739\n",
      "train_loss 0.11740905046463013\n",
      "val results:\n",
      "Mean square error: 0.03000\n",
      "Mean absolute error: 0.06608\n",
      "train_loss 0.08438318967819214\n",
      "val results:\n",
      "Mean square error: 0.03001\n",
      "Mean absolute error: 0.06590\n"
     ]
    }
   ],
   "source": [
    "model = SalaryPredictor_rec_1().to(DEVICE)\n",
    "criterion = nn.MSELoss(reduction='mean')\n",
    "optimizer = torch.optim.Adam(model.parameters(), lr=1e-3)\n",
    "\n",
    "mse_l, mae_l, tr_loss = train(model, criterion, optimizer)"
   ]
  },
  {
   "cell_type": "code",
   "execution_count": 148,
   "metadata": {},
   "outputs": [
    {
     "name": "stdout",
     "output_type": "stream",
     "text": [
      "Best metrics values\n",
      "min mse 0.029996231198310852, idx in list 40\n",
      "min mae 0.06589590013027191, idx in list 40\n"
     ]
    },
    {
     "data": {
      "image/png": "[encoded data removed]",
      "text/plain": [
       "<Figure size 360x360 with 1 Axes>"
      ]
     },
     "metadata": {
      "needs_background": "light"
     },
     "output_type": "display_data"
    }
   ],
   "source": [
    "print('Best metrics values')\n",
    "print(f'min mse {min(mse_l)}, idx in list {np.argmin(mse_l)}')\n",
    "print(f'min mae {min(mae_l)}, idx in list {np.argmin(mse_l)}')\n",
    "plot_learning(mse_l, mae_l, tr_loss)"
   ]
  },
  {
   "cell_type": "markdown",
   "metadata": {},
   "source": [
    "**двунаправленная сеть bidirectional=True**"
   ]
  },
  {
   "cell_type": "code",
   "execution_count": 27,
   "metadata": {},
   "outputs": [],
   "source": [
    "class SalaryPredictor_rec_2(nn.Module):\n",
    "    def __init__(self, n_tokens=len(tokens), n_cat_features=len(categorical_vectorizer.vocabulary_), hid_size=8):\n",
    "        super().__init__()\n",
    "        self.embedder = nn.Embedding(n_tokens, hid_size)\n",
    "        self.lstm = nn.LSTM(input_size=hid_size,\n",
    "                            hidden_size=hid_size,\n",
    "                            num_layers=1,\n",
    "                            batch_first=True,\n",
    "                            bidirectional=True)\n",
    "        \n",
    "        self.linear = nn.Linear(hid_size, hid_size)\n",
    "        \n",
    "        self.title_encoder = nn.Sequential(\n",
    "            nn.Conv1d(hid_size, hid_size, kernel_size=2),\n",
    "            nn.Dropout(p=0.25),\n",
    "            nn.ReLU(),\n",
    "            nn.AdaptiveMaxPool1d(output_size=hid_size)\n",
    "        )\n",
    "\n",
    "        self.description_encoder = nn.Sequential(\n",
    "            nn.Conv1d(hid_size, hid_size, kernel_size=2),\n",
    "            nn.Dropout(p=0.25),\n",
    "            nn.ReLU(),\n",
    "            nn.AdaptiveMaxPool1d(output_size=hid_size)\n",
    "        )\n",
    "\n",
    "        self.categorical_encoder = nn.Sequential(\n",
    "            nn.Linear(n_cat_features, hid_size * 2),\n",
    "            nn.ReLU(),\n",
    "            nn.Linear(hid_size * 2, hid_size * 2),\n",
    "            nn.ReLU()\n",
    "        )\n",
    "        self.final_predictor = nn.Sequential(\n",
    "            nn.Linear(hid_size * 4, hid_size),\n",
    "            nn.ReLU(),\n",
    "            nn.Linear(hid_size, 1)\n",
    "        )\n",
    "        \n",
    "\n",
    "        \n",
    "    def forward(self, batch):\n",
    "        \n",
    "        title_embeddings = self.embedder(batch['Title']).permute(0, 2, 1)   \n",
    "        title_features = self.title_encoder(title_embeddings).squeeze()\n",
    "        lstm_out_t, (ht_t, ct_t) = self.lstm(title_features)\n",
    "        title_features = self.linear(ht_t[-1])\n",
    "#         print(title_features.shape)\n",
    "\n",
    "        description_embeddings = self.embedder(batch['FullDescription']).permute(0, 2, 1)\n",
    "        description_features = self.description_encoder(description_embeddings).squeeze()\n",
    "        lstm_out_d, (ht_d, ct_d) = self.lstm(description_features)\n",
    "        description_features = self.linear(ht_d[-1])\n",
    "#         print(description_features.shape)\n",
    "\n",
    "        categorical_features = self.categorical_encoder(batch['Categorical'])\n",
    "#         print(categorical_features.shape)\n",
    "\n",
    "        features = torch.cat(\n",
    "            [title_features, description_features, categorical_features], dim=1)\n",
    "        \n",
    "        return self.final_predictor(features).squeeze()"
   ]
  },
  {
   "cell_type": "code",
   "execution_count": 150,
   "metadata": {},
   "outputs": [
    {
     "name": "stdout",
     "output_type": "stream",
     "text": [
      "epoch: 0\n"
     ]
    },
    {
     "data": {
      "application/vnd.jupyter.widget-view+json": {
       "model_id": "70ce56c2c044412786dc8cbfa778c5d8",
       "version_major": 2,
       "version_minor": 0
      },
      "text/plain": [
       "  0%|          | 0/1721 [00:00<?, ?it/s]"
      ]
     },
     "metadata": {},
     "output_type": "display_data"
    },
    {
     "name": "stdout",
     "output_type": "stream",
     "text": [
      "train_loss 90.65847778320312\n",
      "val results:\n",
      "Mean square error: 22.43072\n",
      "Mean absolute error: 2.36486\n",
      "train_loss 0.7761229276657104\n",
      "val results:\n",
      "Mean square error: 0.18063\n",
      "Mean absolute error: 0.17390\n",
      "train_loss 0.3555082678794861\n",
      "val results:\n",
      "Mean square error: 0.08238\n",
      "Mean absolute error: 0.11581\n",
      "train_loss 0.21824166178703308\n",
      "val results:\n",
      "Mean square error: 0.06734\n",
      "Mean absolute error: 0.10409\n",
      "train_loss 0.28667664527893066\n",
      "val results:\n",
      "Mean square error: 0.05794\n",
      "Mean absolute error: 0.09594\n",
      "train_loss 0.20045994222164154\n",
      "val results:\n",
      "Mean square error: 0.05164\n",
      "Mean absolute error: 0.09000\n",
      "train_loss 0.2010931372642517\n",
      "val results:\n",
      "Mean square error: 0.04835\n",
      "Mean absolute error: 0.08648\n",
      "train_loss 0.17366750538349152\n",
      "val results:\n",
      "Mean square error: 0.04512\n",
      "Mean absolute error: 0.08329\n",
      "train_loss 0.2022511512041092\n",
      "val results:\n",
      "Mean square error: 0.04286\n",
      "Mean absolute error: 0.08111\n",
      "train_loss 0.1667047142982483\n",
      "val results:\n",
      "Mean square error: 0.04155\n",
      "Mean absolute error: 0.07970\n",
      "train_loss 0.18400974571704865\n",
      "val results:\n",
      "Mean square error: 0.04089\n",
      "Mean absolute error: 0.07891\n",
      "train_loss 0.1485569328069687\n",
      "val results:\n",
      "Mean square error: 0.04039\n",
      "Mean absolute error: 0.07827\n",
      "train_loss 0.1659829020500183\n",
      "val results:\n",
      "Mean square error: 0.03981\n",
      "Mean absolute error: 0.07758\n",
      "train_loss 0.19195690751075745\n",
      "val results:\n",
      "Mean square error: 0.03939\n",
      "Mean absolute error: 0.07713\n",
      "train_loss 0.14122527837753296\n",
      "val results:\n",
      "Mean square error: 0.03891\n",
      "Mean absolute error: 0.07678\n",
      "train_loss 0.12433663755655289\n",
      "val results:\n",
      "Mean square error: 0.03894\n",
      "Mean absolute error: 0.07665\n",
      "train_loss 0.1574457436800003\n",
      "val results:\n",
      "Mean square error: 0.03886\n",
      "Mean absolute error: 0.07648\n",
      "train_loss 0.12106269598007202\n",
      "val results:\n",
      "Mean square error: 0.03863\n",
      "Mean absolute error: 0.07621\n",
      "train_loss 0.11737436056137085\n",
      "val results:\n",
      "Mean square error: 0.03863\n",
      "Mean absolute error: 0.07622\n",
      "train_loss 0.12922103703022003\n",
      "val results:\n",
      "Mean square error: 0.03821\n",
      "Mean absolute error: 0.07584\n",
      "train_loss 0.16125299036502838\n",
      "val results:\n",
      "Mean square error: 0.03812\n",
      "Mean absolute error: 0.07594\n",
      "epoch: 1\n"
     ]
    },
    {
     "data": {
      "application/vnd.jupyter.widget-view+json": {
       "model_id": "4220024c05d34588b5cc718641a72633",
       "version_major": 2,
       "version_minor": 0
      },
      "text/plain": [
       "  0%|          | 0/1721 [00:00<?, ?it/s]"
      ]
     },
     "metadata": {},
     "output_type": "display_data"
    },
    {
     "name": "stdout",
     "output_type": "stream",
     "text": [
      "train_loss 0.11005741357803345\n",
      "val results:\n",
      "Mean square error: 0.03797\n",
      "Mean absolute error: 0.07558\n",
      "train_loss 0.1925058662891388\n",
      "val results:\n",
      "Mean square error: 0.03777\n",
      "Mean absolute error: 0.07541\n",
      "train_loss 0.1308709681034088\n",
      "val results:\n",
      "Mean square error: 0.03771\n",
      "Mean absolute error: 0.07533\n",
      "train_loss 0.16275376081466675\n",
      "val results:\n",
      "Mean square error: 0.03760\n",
      "Mean absolute error: 0.07523\n",
      "train_loss 0.15917614102363586\n",
      "val results:\n",
      "Mean square error: 0.03734\n",
      "Mean absolute error: 0.07490\n",
      "train_loss 0.14847463369369507\n",
      "val results:\n",
      "Mean square error: 0.03733\n",
      "Mean absolute error: 0.07470\n",
      "train_loss 0.12929686903953552\n",
      "val results:\n",
      "Mean square error: 0.03710\n",
      "Mean absolute error: 0.07446\n",
      "train_loss 0.17199307680130005\n",
      "val results:\n",
      "Mean square error: 0.03637\n",
      "Mean absolute error: 0.07380\n",
      "train_loss 0.1770157814025879\n",
      "val results:\n",
      "Mean square error: 0.03586\n",
      "Mean absolute error: 0.07331\n",
      "train_loss 0.16188764572143555\n",
      "val results:\n",
      "Mean square error: 0.03504\n",
      "Mean absolute error: 0.07218\n",
      "train_loss 0.14640820026397705\n",
      "val results:\n",
      "Mean square error: 0.03422\n",
      "Mean absolute error: 0.07109\n",
      "train_loss 0.10484135150909424\n",
      "val results:\n",
      "Mean square error: 0.03340\n",
      "Mean absolute error: 0.07035\n",
      "train_loss 0.11623407900333405\n",
      "val results:\n",
      "Mean square error: 0.03280\n",
      "Mean absolute error: 0.06942\n",
      "train_loss 0.14319972693920135\n",
      "val results:\n",
      "Mean square error: 0.03246\n",
      "Mean absolute error: 0.06880\n",
      "train_loss 0.14933237433433533\n",
      "val results:\n",
      "Mean square error: 0.03181\n",
      "Mean absolute error: 0.06811\n",
      "train_loss 0.15909166634082794\n",
      "val results:\n",
      "Mean square error: 0.03120\n",
      "Mean absolute error: 0.06730\n",
      "train_loss 0.16555286943912506\n",
      "val results:\n",
      "Mean square error: 0.03074\n",
      "Mean absolute error: 0.06685\n",
      "train_loss 0.1117309108376503\n",
      "val results:\n",
      "Mean square error: 0.03065\n",
      "Mean absolute error: 0.06677\n",
      "train_loss 0.16031768918037415\n",
      "val results:\n",
      "Mean square error: 0.02974\n",
      "Mean absolute error: 0.06571\n",
      "train_loss 0.12120919674634933\n",
      "val results:\n",
      "Mean square error: 0.03049\n",
      "Mean absolute error: 0.06620\n",
      "train_loss 0.19140924513339996\n",
      "val results:\n",
      "Mean square error: 0.03089\n",
      "Mean absolute error: 0.06769\n"
     ]
    }
   ],
   "source": [
    "model = SalaryPredictor_rec_2().to(DEVICE)\n",
    "criterion = nn.MSELoss(reduction='mean')\n",
    "optimizer = torch.optim.Adam(model.parameters(), lr=1e-3)\n",
    "\n",
    "mse_l, mae_l, tr_loss = train(model, criterion, optimizer)"
   ]
  },
  {
   "cell_type": "code",
   "execution_count": 151,
   "metadata": {},
   "outputs": [
    {
     "name": "stdout",
     "output_type": "stream",
     "text": [
      "Best metrics values\n",
      "min mse 0.029739253222942352, idx in list 39\n",
      "min mae 0.06570772329966228, idx in list 39\n"
     ]
    },
    {
     "data": {
      "image/png": "[encoded data removed]",
      "text/plain": [
       "<Figure size 360x360 with 1 Axes>"
      ]
     },
     "metadata": {
      "needs_background": "light"
     },
     "output_type": "display_data"
    }
   ],
   "source": [
    "print('Best metrics values')\n",
    "print(f'min mse {min(mse_l)}, idx in list {np.argmin(mse_l)}')\n",
    "print(f'min mae {min(mae_l)}, idx in list {np.argmin(mse_l)}')\n",
    "plot_learning(mse_l, mae_l, tr_loss)"
   ]
  },
  {
   "cell_type": "markdown",
   "metadata": {},
   "source": [
    "**Другой способ совмещения рукуррентных и сверточных слоев (сначала рекуррентный, затем сверточный)**"
   ]
  },
  {
   "cell_type": "code",
   "execution_count": null,
   "metadata": {},
   "outputs": [],
   "source": [
    "print('Best metrics values')\n",
    "print(f'min mse {min(mse_l)}, idx in list {np.argmin(mse_l)}')\n",
    "print(f'min mae {min(mae_l)}, idx in list {np.argmin(mse_l)}')\n",
    "plot_learning(mse_l, mae_l, tr_loss)"
   ]
  },
  {
   "cell_type": "markdown",
   "metadata": {},
   "source": [
    "### 5. Использование признаков последнего слоя нейросети в ансамбле деревьев"
   ]
  },
  {
   "cell_type": "markdown",
   "metadata": {},
   "source": [
    "можно вытаскивать признаки из рекуррентных сетей, первая компонента выхода\n",
    "\n",
    "[ref] https://pytorch.org/docs/stable/generated/torch.nn.GRU.html\n",
    "\n",
    "[ref] https://pytorch.org/docs/stable/generated/torch.nn.LSTM.html"
   ]
  },
  {
   "cell_type": "code",
   "execution_count": 71,
   "metadata": {},
   "outputs": [],
   "source": [
    "from sklearn.ensemble import RandomForestRegressor, AdaBoostRegressor\n",
    "from sklearn.model_selection import cross_val_score, cross_validate\n",
    "from sklearn.tree import plot_tree, DecisionTreeRegressor\n",
    "# from IPython.display import Image\n",
    "# from graphviz import Source\n",
    "# from sklearn import tree"
   ]
  },
  {
   "cell_type": "markdown",
   "metadata": {},
   "source": [
    "***Попытка изменить логику обучения, для изъятия признаков предпоследнего слоя***"
   ]
  },
  {
   "cell_type": "code",
   "execution_count": 30,
   "metadata": {},
   "outputs": [],
   "source": [
    "def print_metrics_1(model, data, batch_size=BATCH_SIZE, name=\"\", **kw):\n",
    "    squared_error = abs_error = num_samples = 0.0\n",
    "    model.eval()\n",
    "    with torch.no_grad():\n",
    "        for batch in iterate_minibatches(data, batch_size=batch_size, shuffle=False, **kw):\n",
    "            batch_pred = model(batch)[0]\n",
    "            squared_error += torch.mean(torch.square(batch_pred - batch[TARGET_COLUMN]))\n",
    "            abs_error += torch.mean(torch.abs(batch_pred - batch[TARGET_COLUMN]))\n",
    "            num_samples += len(batch)\n",
    "    mse = squared_error.detach().cpu().numpy() / num_samples\n",
    "    mae = abs_error.detach().cpu().numpy() / num_samples\n",
    "    print(\"%s results:\" % (name or \"\"))\n",
    "    print(\"Mean square error: %.5f\" % mse)\n",
    "    print(\"Mean absolute error: %.5f\" % mae)\n",
    "    return mse, mae"
   ]
  },
  {
   "cell_type": "code",
   "execution_count": 29,
   "metadata": {},
   "outputs": [],
   "source": [
    "def train_1(model, criterion, optimizer):\n",
    "    mse_l = []\n",
    "    mae_l = []\n",
    "    tr_loss = []\n",
    "    for epoch in range(EPOCHS):\n",
    "        print(f\"epoch: {epoch}\")\n",
    "        for i, batch in tqdm.notebook.tqdm(enumerate(\n",
    "                iterate_minibatches(\n",
    "                        data_train, \n",
    "                        batch_size=BATCH_SIZE, \n",
    "                        device=DEVICE)), \n",
    "                    total=len(data_train) // BATCH_SIZE\n",
    "            ):\n",
    "            model.train()\n",
    "            pred = model(batch)[0]\n",
    "            optimizer.zero_grad()\n",
    "            loss = criterion(pred, batch[TARGET_COLUMN])\n",
    "            loss.backward()\n",
    "            optimizer.step()\n",
    "\n",
    "            if i % 100 == 99:\n",
    "                l_i = loss.item()\n",
    "                print('train_loss', l_i)\n",
    "                mse, mae = print_metrics_1(model, data_val, name='val', batch_size=BATCH_SIZE, device=DEVICE)\n",
    "                mse_l.append(mse)\n",
    "                mae_l.append(mae)\n",
    "                tr_loss.append(l_i)\n",
    "    return mse_l, mae_l, tr_loss"
   ]
  },
  {
   "cell_type": "code",
   "execution_count": 33,
   "metadata": {},
   "outputs": [],
   "source": [
    "class SalaryPredictor_rec_2(nn.Module):\n",
    "    def __init__(self, n_tokens=len(tokens), n_cat_features=len(categorical_vectorizer.vocabulary_), hid_size=8):\n",
    "        super().__init__()\n",
    "        self.embedder = nn.Embedding(n_tokens, hid_size)\n",
    "        self.lstm = nn.LSTM(input_size=hid_size,\n",
    "                            hidden_size=hid_size,\n",
    "                            num_layers=1,\n",
    "                            batch_first=True,\n",
    "                            bidirectional=True)\n",
    "        \n",
    "        self.linear = nn.Linear(hid_size, hid_size)\n",
    "        \n",
    "        self.title_encoder = nn.Sequential(\n",
    "            nn.Conv1d(hid_size, hid_size, kernel_size=2),\n",
    "            nn.Dropout(p=0.25),\n",
    "            nn.ReLU(),\n",
    "            nn.AdaptiveMaxPool1d(output_size=hid_size)\n",
    "        )\n",
    "\n",
    "        self.description_encoder = nn.Sequential(\n",
    "            nn.Conv1d(hid_size, hid_size, kernel_size=2),\n",
    "            nn.Dropout(p=0.25),\n",
    "            nn.ReLU(),\n",
    "            nn.AdaptiveMaxPool1d(output_size=hid_size)\n",
    "        )\n",
    "\n",
    "        self.categorical_encoder = nn.Sequential(\n",
    "            nn.Linear(n_cat_features, hid_size * 2),\n",
    "            nn.ReLU(),\n",
    "            nn.Linear(hid_size * 2, hid_size * 2),\n",
    "            nn.ReLU()\n",
    "        )\n",
    "        self.final_predictor = nn.Sequential(\n",
    "            nn.Linear(hid_size * 4, hid_size),\n",
    "            nn.ReLU(),\n",
    "            nn.Linear(hid_size, 1)\n",
    "        )\n",
    "        self.final_vectors = nn.Sequential(\n",
    "            nn.Linear(hid_size * 4, hid_size),\n",
    "            nn.ReLU())\n",
    "\n",
    "\n",
    "    def forward(self, batch):\n",
    "        \n",
    "        title_embeddings = self.embedder(batch['Title']).permute(0, 2, 1)   \n",
    "        title_features = self.title_encoder(title_embeddings).squeeze()\n",
    "        lstm_out_t, (ht_t, ct_t) = self.lstm(title_features)\n",
    "        title_features = self.linear(ht_t[-1])\n",
    "#         print(title_features.shape)\n",
    "\n",
    "        description_embeddings = self.embedder(batch['FullDescription']).permute(0, 2, 1)\n",
    "        description_features = self.description_encoder(description_embeddings).squeeze()\n",
    "        lstm_out_d, (ht_d, ct_d) = self.lstm(description_features)\n",
    "        description_features = self.linear(ht_d[-1])\n",
    "#         print(description_features.shape)\n",
    "\n",
    "        categorical_features = self.categorical_encoder(batch['Categorical'])\n",
    "#         print(categorical_features.shape)\n",
    "\n",
    "        features = torch.cat(\n",
    "            [title_features, description_features, categorical_features], dim=1)\n",
    "        \n",
    "        return self.final_predictor(features).squeeze(), self.final_vectors(features).squeeze()"
   ]
  },
  {
   "cell_type": "code",
   "execution_count": 28,
   "metadata": {},
   "outputs": [],
   "source": [
    "# best_model = SalaryPredictor_rec_2().to(DEVICE)\n",
    "# criterion = nn.MSELoss(reduction='mean')\n",
    "# optimizer = torch.optim.Adam(best_model.parameters(), lr=1e-3)\n",
    "\n",
    "# mse_l, mae_l, tr_loss = train_1(best_model, criterion, optimizer)"
   ]
  },
  {
   "cell_type": "code",
   "execution_count": 34,
   "metadata": {},
   "outputs": [],
   "source": [
    "# torch.save(best_model, 'best_model')\n",
    "best_model = torch.load('best_model')"
   ]
  },
  {
   "cell_type": "code",
   "execution_count": 102,
   "metadata": {},
   "outputs": [
    {
     "data": {
      "text/plain": [
       "154203"
      ]
     },
     "execution_count": 102,
     "metadata": {},
     "output_type": "execute_result"
    }
   ],
   "source": [
    "# best_model\n",
    "train, test = train_test_split(data_train, test_size=0.3, random_state=77)\n",
    "len(train)"
   ]
  },
  {
   "cell_type": "code",
   "execution_count": 48,
   "metadata": {},
   "outputs": [
    {
     "name": "stdout",
     "output_type": "stream",
     "text": [
      "Wall time: 1min 31s\n"
     ]
    }
   ],
   "source": [
    "%%time\n",
    "example = list(iterate_minibatches(\n",
    "                    data_train, \n",
    "                    batch_size=BATCH_SIZE,\n",
    "                    shuffle=False,\n",
    "                    device=DEVICE))[0]"
   ]
  },
  {
   "cell_type": "code",
   "execution_count": 35,
   "metadata": {},
   "outputs": [],
   "source": [
    "def train_2(model):\n",
    "    preds = []\n",
    "    for batch in list(iterate_minibatches(\n",
    "                    data_train, \n",
    "                    batch_size=BATCH_SIZE,\n",
    "                    shuffle=False,\n",
    "                    device=DEVICE)):\n",
    "        pred = model(batch)[1]\n",
    "        preds += pred\n",
    "    return preds"
   ]
  },
  {
   "cell_type": "code",
   "execution_count": 94,
   "metadata": {},
   "outputs": [
    {
     "data": {
      "text/plain": [
       "tensor([[0.8127, 0.7169, 0.1312,  ..., 0.0000, 0.6493, 1.0654],\n",
       "        [0.7383, 0.7562, 0.1063,  ..., 0.0000, 0.6334, 1.0505],\n",
       "        [0.8365, 0.6012, 0.1853,  ..., 0.0000, 0.5749, 1.1331],\n",
       "        ...,\n",
       "        [0.8705, 0.4590, 0.2378,  ..., 0.0000, 0.5118, 1.1894],\n",
       "        [0.8234, 0.6080, 0.1521,  ..., 0.0000, 0.5928, 1.1018],\n",
       "        [0.7872, 0.6863, 0.1370,  ..., 0.0000, 0.6074, 1.0805]],\n",
       "       grad_fn=<SqueezeBackward0>)"
      ]
     },
     "execution_count": 94,
     "metadata": {},
     "output_type": "execute_result"
    }
   ],
   "source": [
    "# example\n",
    "best_model(example)[1]"
   ]
  },
  {
   "cell_type": "code",
   "execution_count": 36,
   "metadata": {},
   "outputs": [
    {
     "name": "stdout",
     "output_type": "stream",
     "text": [
      "Wall time: 6min 19s\n"
     ]
    }
   ],
   "source": [
    "%%time\n",
    "\n",
    "pred_vectors = train_2(best_model)"
   ]
  },
  {
   "cell_type": "code",
   "execution_count": 43,
   "metadata": {},
   "outputs": [],
   "source": [
    "pred_vectors = [i.tolist() for i in pred_vectors]\n",
    "# pred_vectors"
   ]
  },
  {
   "cell_type": "code",
   "execution_count": 51,
   "metadata": {},
   "outputs": [],
   "source": [
    "y=data_train['Log1pSalary'].to_list()"
   ]
  },
  {
   "cell_type": "code",
   "execution_count": 66,
   "metadata": {},
   "outputs": [
    {
     "name": "stderr",
     "output_type": "stream",
     "text": [
      "C:\\Users\\Tania\\Anaconda3\\lib\\site-packages\\sklearn\\ensemble\\forest.py:245: FutureWarning: The default value of n_estimators will change from 10 in version 0.20 to 100 in 0.22.\n",
      "  \"10 in version 0.20 to 100 in 0.22.\", FutureWarning)\n",
      "C:\\Users\\Tania\\Anaconda3\\lib\\site-packages\\sklearn\\ensemble\\forest.py:245: FutureWarning: The default value of n_estimators will change from 10 in version 0.20 to 100 in 0.22.\n",
      "  \"10 in version 0.20 to 100 in 0.22.\", FutureWarning)\n",
      "C:\\Users\\Tania\\Anaconda3\\lib\\site-packages\\sklearn\\ensemble\\forest.py:245: FutureWarning: The default value of n_estimators will change from 10 in version 0.20 to 100 in 0.22.\n",
      "  \"10 in version 0.20 to 100 in 0.22.\", FutureWarning)\n",
      "C:\\Users\\Tania\\Anaconda3\\lib\\site-packages\\sklearn\\ensemble\\forest.py:245: FutureWarning: The default value of n_estimators will change from 10 in version 0.20 to 100 in 0.22.\n",
      "  \"10 in version 0.20 to 100 in 0.22.\", FutureWarning)\n",
      "C:\\Users\\Tania\\Anaconda3\\lib\\site-packages\\sklearn\\ensemble\\forest.py:245: FutureWarning: The default value of n_estimators will change from 10 in version 0.20 to 100 in 0.22.\n",
      "  \"10 in version 0.20 to 100 in 0.22.\", FutureWarning)\n"
     ]
    },
    {
     "name": "stdout",
     "output_type": "stream",
     "text": [
      "[0.45581419 0.4562155  0.45824714 0.46165461 0.45837957]\n",
      "\n",
      "\n",
      " 0.45806220322772867\n"
     ]
    }
   ],
   "source": [
    "cvs = cross_val_score(RandomForestRegressor(max_depth=7, random_state=17), pred_vectors, y, cv=5)\n",
    "print(cvs)\n",
    "print(\"\\n\\n\", np.mean(cvs))"
   ]
  },
  {
   "cell_type": "markdown",
   "metadata": {},
   "source": [
    "**`Проверка на тестовой выборке`**"
   ]
  },
  {
   "cell_type": "code",
   "execution_count": 77,
   "metadata": {},
   "outputs": [],
   "source": [
    "from sklearn.metrics import mean_squared_error, mean_absolute_error"
   ]
  },
  {
   "cell_type": "code",
   "execution_count": 67,
   "metadata": {},
   "outputs": [],
   "source": [
    "def test(model):\n",
    "    preds = []\n",
    "    for batch in list(iterate_minibatches(\n",
    "                    data_val, \n",
    "                    batch_size=BATCH_SIZE,\n",
    "                    shuffle=False,\n",
    "                    device=DEVICE)):\n",
    "        pred = model(batch)[1]\n",
    "        preds += pred\n",
    "    return preds"
   ]
  },
  {
   "cell_type": "code",
   "execution_count": 79,
   "metadata": {},
   "outputs": [
    {
     "name": "stderr",
     "output_type": "stream",
     "text": [
      "C:\\Users\\Tania\\Anaconda3\\lib\\site-packages\\sklearn\\ensemble\\forest.py:245: FutureWarning: The default value of n_estimators will change from 10 in version 0.20 to 100 in 0.22.\n",
      "  \"10 in version 0.20 to 100 in 0.22.\", FutureWarning)\n",
      "C:\\Users\\Tania\\Anaconda3\\lib\\site-packages\\sklearn\\ensemble\\forest.py:245: FutureWarning: The default value of n_estimators will change from 10 in version 0.20 to 100 in 0.22.\n",
      "  \"10 in version 0.20 to 100 in 0.22.\", FutureWarning)\n",
      "C:\\Users\\Tania\\Anaconda3\\lib\\site-packages\\sklearn\\ensemble\\forest.py:245: FutureWarning: The default value of n_estimators will change from 10 in version 0.20 to 100 in 0.22.\n",
      "  \"10 in version 0.20 to 100 in 0.22.\", FutureWarning)\n",
      "C:\\Users\\Tania\\Anaconda3\\lib\\site-packages\\sklearn\\ensemble\\forest.py:245: FutureWarning: The default value of n_estimators will change from 10 in version 0.20 to 100 in 0.22.\n",
      "  \"10 in version 0.20 to 100 in 0.22.\", FutureWarning)\n",
      "C:\\Users\\Tania\\Anaconda3\\lib\\site-packages\\sklearn\\ensemble\\forest.py:245: FutureWarning: The default value of n_estimators will change from 10 in version 0.20 to 100 in 0.22.\n",
      "  \"10 in version 0.20 to 100 in 0.22.\", FutureWarning)\n"
     ]
    },
    {
     "name": "stdout",
     "output_type": "stream",
     "text": [
      "[0.44934054 0.43323746 0.4493463  0.46558223 0.44438053]\n",
      "\n",
      "\n",
      " 0.4483774124575562\n",
      "Wall time: 26.3 s\n"
     ]
    }
   ],
   "source": [
    "%%time\n",
    "\n",
    "test_vectors = test(best_model)\n",
    "test_vectors = [i.tolist() for i in test_vectors]\n",
    "y = data_val['Log1pSalary'].to_list()\n",
    "cvs = cross_val_score(RandomForestRegressor(max_depth=7, random_state=17), test_vectors, y, cv=5)\n",
    "print(cvs)\n",
    "print(\"\\n\\n\", np.mean(cvs))"
   ]
  },
  {
   "cell_type": "code",
   "execution_count": 80,
   "metadata": {},
   "outputs": [
    {
     "name": "stderr",
     "output_type": "stream",
     "text": [
      "C:\\Users\\Tania\\Anaconda3\\lib\\site-packages\\sklearn\\ensemble\\forest.py:245: FutureWarning: The default value of n_estimators will change from 10 in version 0.20 to 100 in 0.22.\n",
      "  \"10 in version 0.20 to 100 in 0.22.\", FutureWarning)\n"
     ]
    }
   ],
   "source": [
    "model = RandomForestRegressor(max_depth=7, random_state=17).fit(pred_vectors, y)"
   ]
  },
  {
   "cell_type": "code",
   "execution_count": 81,
   "metadata": {},
   "outputs": [
    {
     "name": "stdout",
     "output_type": "stream",
     "text": [
      "MSE: 0.13117037708447657\n",
      "MAE: 0.27876764200810755\n"
     ]
    }
   ],
   "source": [
    "preds = model.predict(test_vectors)\n",
    "print(f'MSE: {mean_squared_error(y, preds)}')\n",
    "print(f'MAE: {mean_absolute_error(y, preds)}')"
   ]
  },
  {
   "cell_type": "code",
   "execution_count": 82,
   "metadata": {},
   "outputs": [
    {
     "name": "stdout",
     "output_type": "stream",
     "text": [
      "MSE: 0.1364807018447505\n",
      "MAE: 0.28698690596767734\n"
     ]
    }
   ],
   "source": [
    "reg = AdaBoostRegressor(DecisionTreeRegressor(max_depth=7, random_state=17)).fit(pred_vectors, y)\n",
    "preds = reg.predict(test_vectors)\n",
    "print(f'MSE: {mean_squared_error(y, preds)}')\n",
    "print(f'MAE: {mean_absolute_error(y, preds)}')"
   ]
  },
  {
   "cell_type": "markdown",
   "metadata": {},
   "source": [
    "***Вывод: Применение Ансамбля деревьев вместо последнего линейного слоя нейронной сети не улучшает значение ошибки лучшей модели регрессии, в среднем, ее значение становится на 0.1 больше (хуже)***"
   ]
  },
  {
   "cell_type": "markdown",
   "metadata": {},
   "source": [
    "### 6. Pooling слои продвинутые\n",
    "\n",
    "Пример реализации Softmax-weighted Avg Pooling [ref]: \n",
    "\n",
    "https://colab.research.google.com/drive/1zUjtUF9nuMH-tHolXemPBturYX10LdxX#scrollTo=r7u9xW7naK9l"
   ]
  }
 ],
 "metadata": {
  "accelerator": "GPU",
  "colab": {
   "collapsed_sections": [],
   "name": "seminar_torch.ipynb",
   "provenance": []
  },
  "kernelspec": {
   "display_name": "Python 3",
   "language": "python",
   "name": "python3"
  },
  "language_info": {
   "codemirror_mode": {
    "name": "ipython",
    "version": 3
   },
   "file_extension": ".py",
   "mimetype": "text/x-python",
   "name": "python",
   "nbconvert_exporter": "python",
   "pygments_lexer": "ipython3",
   "version": "3.7.4"
  },
  "widgets": {
   "application/vnd.jupyter.widget-state+json": {
    "03f11c5e7e00439cb3d2b2d2b7686cb5": {
     "model_module": "@jupyter-widgets/controls",
     "model_name": "FloatProgressModel",
     "state": {
      "_dom_classes": [],
      "_model_module": "@jupyter-widgets/controls",
      "_model_module_version": "1.5.0",
      "_model_name": "FloatProgressModel",
      "_view_count": null,
      "_view_module": "@jupyter-widgets/controls",
      "_view_module_version": "1.5.0",
      "_view_name": "ProgressView",
      "bar_style": "success",
      "description": "",
      "description_tooltip": null,
      "layout": "IPY_MODEL_16d2b792e6cf49cc8380a223a64495dd",
      "max": 1721,
      "min": 0,
      "orientation": "horizontal",
      "style": "IPY_MODEL_f1a3091f5ff0491a84e95ed35dfe81e4",
      "value": 1721
     }
    },
    "16d2b792e6cf49cc8380a223a64495dd": {
     "model_module": "@jupyter-widgets/base",
     "model_name": "LayoutModel",
     "state": {
      "_model_module": "@jupyter-widgets/base",
      "_model_module_version": "1.2.0",
      "_model_name": "LayoutModel",
      "_view_count": null,
      "_view_module": "@jupyter-widgets/base",
      "_view_module_version": "1.2.0",
      "_view_name": "LayoutView",
      "align_content": null,
      "align_items": null,
      "align_self": null,
      "border": null,
      "bottom": null,
      "display": null,
      "flex": null,
      "flex_flow": null,
      "grid_area": null,
      "grid_auto_columns": null,
      "grid_auto_flow": null,
      "grid_auto_rows": null,
      "grid_column": null,
      "grid_gap": null,
      "grid_row": null,
      "grid_template_areas": null,
      "grid_template_columns": null,
      "grid_template_rows": null,
      "height": null,
      "justify_content": null,
      "justify_items": null,
      "left": null,
      "margin": null,
      "max_height": null,
      "max_width": null,
      "min_height": null,
      "min_width": null,
      "object_fit": null,
      "object_position": null,
      "order": null,
      "overflow": null,
      "overflow_x": null,
      "overflow_y": null,
      "padding": null,
      "right": null,
      "top": null,
      "visibility": null,
      "width": null
     }
    },
    "20a09116eab6463baefb4d477c1e410c": {
     "model_module": "@jupyter-widgets/controls",
     "model_name": "HTMLModel",
     "state": {
      "_dom_classes": [],
      "_model_module": "@jupyter-widgets/controls",
      "_model_module_version": "1.5.0",
      "_model_name": "HTMLModel",
      "_view_count": null,
      "_view_module": "@jupyter-widgets/controls",
      "_view_module_version": "1.5.0",
      "_view_name": "HTMLView",
      "description": "",
      "description_tooltip": null,
      "layout": "IPY_MODEL_c942b73284194cc39320af47794f185d",
      "placeholder": "​",
      "style": "IPY_MODEL_edd9456f344b44dab1ab189764d83a37",
      "value": " 1722/? [01:39&lt;00:00, 17.31it/s]"
     }
    },
    "2453cfecaf814b27986da75e45d9fe5e": {
     "model_module": "@jupyter-widgets/base",
     "model_name": "LayoutModel",
     "state": {
      "_model_module": "@jupyter-widgets/base",
      "_model_module_version": "1.2.0",
      "_model_name": "LayoutModel",
      "_view_count": null,
      "_view_module": "@jupyter-widgets/base",
      "_view_module_version": "1.2.0",
      "_view_name": "LayoutView",
      "align_content": null,
      "align_items": null,
      "align_self": null,
      "border": null,
      "bottom": null,
      "display": null,
      "flex": null,
      "flex_flow": null,
      "grid_area": null,
      "grid_auto_columns": null,
      "grid_auto_flow": null,
      "grid_auto_rows": null,
      "grid_column": null,
      "grid_gap": null,
      "grid_row": null,
      "grid_template_areas": null,
      "grid_template_columns": null,
      "grid_template_rows": null,
      "height": null,
      "justify_content": null,
      "justify_items": null,
      "left": null,
      "margin": null,
      "max_height": null,
      "max_width": null,
      "min_height": null,
      "min_width": null,
      "object_fit": null,
      "object_position": null,
      "order": null,
      "overflow": null,
      "overflow_x": null,
      "overflow_y": null,
      "padding": null,
      "right": null,
      "top": null,
      "visibility": null,
      "width": null
     }
    },
    "35e0b8011a3e4a09b549c91128e6efeb": {
     "model_module": "@jupyter-widgets/controls",
     "model_name": "HBoxModel",
     "state": {
      "_dom_classes": [],
      "_model_module": "@jupyter-widgets/controls",
      "_model_module_version": "1.5.0",
      "_model_name": "HBoxModel",
      "_view_count": null,
      "_view_module": "@jupyter-widgets/controls",
      "_view_module_version": "1.5.0",
      "_view_name": "HBoxView",
      "box_style": "",
      "children": [
       "IPY_MODEL_03f11c5e7e00439cb3d2b2d2b7686cb5",
       "IPY_MODEL_426f02a100ba4a50a4c428d2215fca1e"
      ],
      "layout": "IPY_MODEL_6d1a80fa13e9428fb3ef47552b39752b"
     }
    },
    "426f02a100ba4a50a4c428d2215fca1e": {
     "model_module": "@jupyter-widgets/controls",
     "model_name": "HTMLModel",
     "state": {
      "_dom_classes": [],
      "_model_module": "@jupyter-widgets/controls",
      "_model_module_version": "1.5.0",
      "_model_name": "HTMLModel",
      "_view_count": null,
      "_view_module": "@jupyter-widgets/controls",
      "_view_module_version": "1.5.0",
      "_view_name": "HTMLView",
      "description": "",
      "description_tooltip": null,
      "layout": "IPY_MODEL_9b37a2a98204452eab3455ddea0bee2e",
      "placeholder": "​",
      "style": "IPY_MODEL_810e2fcd62c749d898b9db1a2b5cc4e6",
      "value": " 1722/? [01:39&lt;00:00, 17.28it/s]"
     }
    },
    "4a1242a11d3649a685d745b195ac83fd": {
     "model_module": "@jupyter-widgets/base",
     "model_name": "LayoutModel",
     "state": {
      "_model_module": "@jupyter-widgets/base",
      "_model_module_version": "1.2.0",
      "_model_name": "LayoutModel",
      "_view_count": null,
      "_view_module": "@jupyter-widgets/base",
      "_view_module_version": "1.2.0",
      "_view_name": "LayoutView",
      "align_content": null,
      "align_items": null,
      "align_self": null,
      "border": null,
      "bottom": null,
      "display": null,
      "flex": null,
      "flex_flow": null,
      "grid_area": null,
      "grid_auto_columns": null,
      "grid_auto_flow": null,
      "grid_auto_rows": null,
      "grid_column": null,
      "grid_gap": null,
      "grid_row": null,
      "grid_template_areas": null,
      "grid_template_columns": null,
      "grid_template_rows": null,
      "height": null,
      "justify_content": null,
      "justify_items": null,
      "left": null,
      "margin": null,
      "max_height": null,
      "max_width": null,
      "min_height": null,
      "min_width": null,
      "object_fit": null,
      "object_position": null,
      "order": null,
      "overflow": null,
      "overflow_x": null,
      "overflow_y": null,
      "padding": null,
      "right": null,
      "top": null,
      "visibility": null,
      "width": null
     }
    },
    "600cec0f9a8a45c099c5d3a38c655deb": {
     "model_module": "@jupyter-widgets/controls",
     "model_name": "HBoxModel",
     "state": {
      "_dom_classes": [],
      "_model_module": "@jupyter-widgets/controls",
      "_model_module_version": "1.5.0",
      "_model_name": "HBoxModel",
      "_view_count": null,
      "_view_module": "@jupyter-widgets/controls",
      "_view_module_version": "1.5.0",
      "_view_name": "HBoxView",
      "box_style": "",
      "children": [
       "IPY_MODEL_d81052a8fcbd4b0d9c2f999e8819c676",
       "IPY_MODEL_20a09116eab6463baefb4d477c1e410c"
      ],
      "layout": "IPY_MODEL_2453cfecaf814b27986da75e45d9fe5e"
     }
    },
    "69ff883912e2485ead2772471a51e049": {
     "model_module": "@jupyter-widgets/controls",
     "model_name": "FloatProgressModel",
     "state": {
      "_dom_classes": [],
      "_model_module": "@jupyter-widgets/controls",
      "_model_module_version": "1.5.0",
      "_model_name": "FloatProgressModel",
      "_view_count": null,
      "_view_module": "@jupyter-widgets/controls",
      "_view_module_version": "1.5.0",
      "_view_name": "ProgressView",
      "bar_style": "success",
      "description": "",
      "description_tooltip": null,
      "layout": "IPY_MODEL_7baa68643da842baa7c8c57442c6ea56",
      "max": 1721,
      "min": 0,
      "orientation": "horizontal",
      "style": "IPY_MODEL_7df985e91b3246759786a6000119f3e4",
      "value": 1721
     }
    },
    "6d1a80fa13e9428fb3ef47552b39752b": {
     "model_module": "@jupyter-widgets/base",
     "model_name": "LayoutModel",
     "state": {
      "_model_module": "@jupyter-widgets/base",
      "_model_module_version": "1.2.0",
      "_model_name": "LayoutModel",
      "_view_count": null,
      "_view_module": "@jupyter-widgets/base",
      "_view_module_version": "1.2.0",
      "_view_name": "LayoutView",
      "align_content": null,
      "align_items": null,
      "align_self": null,
      "border": null,
      "bottom": null,
      "display": null,
      "flex": null,
      "flex_flow": null,
      "grid_area": null,
      "grid_auto_columns": null,
      "grid_auto_flow": null,
      "grid_auto_rows": null,
      "grid_column": null,
      "grid_gap": null,
      "grid_row": null,
      "grid_template_areas": null,
      "grid_template_columns": null,
      "grid_template_rows": null,
      "height": null,
      "justify_content": null,
      "justify_items": null,
      "left": null,
      "margin": null,
      "max_height": null,
      "max_width": null,
      "min_height": null,
      "min_width": null,
      "object_fit": null,
      "object_position": null,
      "order": null,
      "overflow": null,
      "overflow_x": null,
      "overflow_y": null,
      "padding": null,
      "right": null,
      "top": null,
      "visibility": null,
      "width": null
     }
    },
    "7baa68643da842baa7c8c57442c6ea56": {
     "model_module": "@jupyter-widgets/base",
     "model_name": "LayoutModel",
     "state": {
      "_model_module": "@jupyter-widgets/base",
      "_model_module_version": "1.2.0",
      "_model_name": "LayoutModel",
      "_view_count": null,
      "_view_module": "@jupyter-widgets/base",
      "_view_module_version": "1.2.0",
      "_view_name": "LayoutView",
      "align_content": null,
      "align_items": null,
      "align_self": null,
      "border": null,
      "bottom": null,
      "display": null,
      "flex": null,
      "flex_flow": null,
      "grid_area": null,
      "grid_auto_columns": null,
      "grid_auto_flow": null,
      "grid_auto_rows": null,
      "grid_column": null,
      "grid_gap": null,
      "grid_row": null,
      "grid_template_areas": null,
      "grid_template_columns": null,
      "grid_template_rows": null,
      "height": null,
      "justify_content": null,
      "justify_items": null,
      "left": null,
      "margin": null,
      "max_height": null,
      "max_width": null,
      "min_height": null,
      "min_width": null,
      "object_fit": null,
      "object_position": null,
      "order": null,
      "overflow": null,
      "overflow_x": null,
      "overflow_y": null,
      "padding": null,
      "right": null,
      "top": null,
      "visibility": null,
      "width": null
     }
    },
    "7df985e91b3246759786a6000119f3e4": {
     "model_module": "@jupyter-widgets/controls",
     "model_name": "ProgressStyleModel",
     "state": {
      "_model_module": "@jupyter-widgets/controls",
      "_model_module_version": "1.5.0",
      "_model_name": "ProgressStyleModel",
      "_view_count": null,
      "_view_module": "@jupyter-widgets/base",
      "_view_module_version": "1.2.0",
      "_view_name": "StyleView",
      "bar_color": null,
      "description_width": "initial"
     }
    },
    "810e2fcd62c749d898b9db1a2b5cc4e6": {
     "model_module": "@jupyter-widgets/controls",
     "model_name": "DescriptionStyleModel",
     "state": {
      "_model_module": "@jupyter-widgets/controls",
      "_model_module_version": "1.5.0",
      "_model_name": "DescriptionStyleModel",
      "_view_count": null,
      "_view_module": "@jupyter-widgets/base",
      "_view_module_version": "1.2.0",
      "_view_name": "StyleView",
      "description_width": ""
     }
    },
    "95f2fd000f564836bbd92a23dd45dc4a": {
     "model_module": "@jupyter-widgets/base",
     "model_name": "LayoutModel",
     "state": {
      "_model_module": "@jupyter-widgets/base",
      "_model_module_version": "1.2.0",
      "_model_name": "LayoutModel",
      "_view_count": null,
      "_view_module": "@jupyter-widgets/base",
      "_view_module_version": "1.2.0",
      "_view_name": "LayoutView",
      "align_content": null,
      "align_items": null,
      "align_self": null,
      "border": null,
      "bottom": null,
      "display": null,
      "flex": null,
      "flex_flow": null,
      "grid_area": null,
      "grid_auto_columns": null,
      "grid_auto_flow": null,
      "grid_auto_rows": null,
      "grid_column": null,
      "grid_gap": null,
      "grid_row": null,
      "grid_template_areas": null,
      "grid_template_columns": null,
      "grid_template_rows": null,
      "height": null,
      "justify_content": null,
      "justify_items": null,
      "left": null,
      "margin": null,
      "max_height": null,
      "max_width": null,
      "min_height": null,
      "min_width": null,
      "object_fit": null,
      "object_position": null,
      "order": null,
      "overflow": null,
      "overflow_x": null,
      "overflow_y": null,
      "padding": null,
      "right": null,
      "top": null,
      "visibility": null,
      "width": null
     }
    },
    "9b37a2a98204452eab3455ddea0bee2e": {
     "model_module": "@jupyter-widgets/base",
     "model_name": "LayoutModel",
     "state": {
      "_model_module": "@jupyter-widgets/base",
      "_model_module_version": "1.2.0",
      "_model_name": "LayoutModel",
      "_view_count": null,
      "_view_module": "@jupyter-widgets/base",
      "_view_module_version": "1.2.0",
      "_view_name": "LayoutView",
      "align_content": null,
      "align_items": null,
      "align_self": null,
      "border": null,
      "bottom": null,
      "display": null,
      "flex": null,
      "flex_flow": null,
      "grid_area": null,
      "grid_auto_columns": null,
      "grid_auto_flow": null,
      "grid_auto_rows": null,
      "grid_column": null,
      "grid_gap": null,
      "grid_row": null,
      "grid_template_areas": null,
      "grid_template_columns": null,
      "grid_template_rows": null,
      "height": null,
      "justify_content": null,
      "justify_items": null,
      "left": null,
      "margin": null,
      "max_height": null,
      "max_width": null,
      "min_height": null,
      "min_width": null,
      "object_fit": null,
      "object_position": null,
      "order": null,
      "overflow": null,
      "overflow_x": null,
      "overflow_y": null,
      "padding": null,
      "right": null,
      "top": null,
      "visibility": null,
      "width": null
     }
    },
    "b42c005eed2448b59acaf8c8497f8049": {
     "model_module": "@jupyter-widgets/controls",
     "model_name": "HTMLModel",
     "state": {
      "_dom_classes": [],
      "_model_module": "@jupyter-widgets/controls",
      "_model_module_version": "1.5.0",
      "_model_name": "HTMLModel",
      "_view_count": null,
      "_view_module": "@jupyter-widgets/controls",
      "_view_module_version": "1.5.0",
      "_view_name": "HTMLView",
      "description": "",
      "description_tooltip": null,
      "layout": "IPY_MODEL_4a1242a11d3649a685d745b195ac83fd",
      "placeholder": "​",
      "style": "IPY_MODEL_e6848159df574f03bce01306607ae5cc",
      "value": " 1722/? [01:39&lt;00:00, 17.27it/s]"
     }
    },
    "b60f626f5af24cd2a5da08b69e5fa0a4": {
     "model_module": "@jupyter-widgets/controls",
     "model_name": "HBoxModel",
     "state": {
      "_dom_classes": [],
      "_model_module": "@jupyter-widgets/controls",
      "_model_module_version": "1.5.0",
      "_model_name": "HBoxModel",
      "_view_count": null,
      "_view_module": "@jupyter-widgets/controls",
      "_view_module_version": "1.5.0",
      "_view_name": "HBoxView",
      "box_style": "",
      "children": [
       "IPY_MODEL_69ff883912e2485ead2772471a51e049",
       "IPY_MODEL_b42c005eed2448b59acaf8c8497f8049"
      ],
      "layout": "IPY_MODEL_95f2fd000f564836bbd92a23dd45dc4a"
     }
    },
    "c720a880d9e24d31a8d7f3f8c326252a": {
     "model_module": "@jupyter-widgets/controls",
     "model_name": "ProgressStyleModel",
     "state": {
      "_model_module": "@jupyter-widgets/controls",
      "_model_module_version": "1.5.0",
      "_model_name": "ProgressStyleModel",
      "_view_count": null,
      "_view_module": "@jupyter-widgets/base",
      "_view_module_version": "1.2.0",
      "_view_name": "StyleView",
      "bar_color": null,
      "description_width": "initial"
     }
    },
    "c942b73284194cc39320af47794f185d": {
     "model_module": "@jupyter-widgets/base",
     "model_name": "LayoutModel",
     "state": {
      "_model_module": "@jupyter-widgets/base",
      "_model_module_version": "1.2.0",
      "_model_name": "LayoutModel",
      "_view_count": null,
      "_view_module": "@jupyter-widgets/base",
      "_view_module_version": "1.2.0",
      "_view_name": "LayoutView",
      "align_content": null,
      "align_items": null,
      "align_self": null,
      "border": null,
      "bottom": null,
      "display": null,
      "flex": null,
      "flex_flow": null,
      "grid_area": null,
      "grid_auto_columns": null,
      "grid_auto_flow": null,
      "grid_auto_rows": null,
      "grid_column": null,
      "grid_gap": null,
      "grid_row": null,
      "grid_template_areas": null,
      "grid_template_columns": null,
      "grid_template_rows": null,
      "height": null,
      "justify_content": null,
      "justify_items": null,
      "left": null,
      "margin": null,
      "max_height": null,
      "max_width": null,
      "min_height": null,
      "min_width": null,
      "object_fit": null,
      "object_position": null,
      "order": null,
      "overflow": null,
      "overflow_x": null,
      "overflow_y": null,
      "padding": null,
      "right": null,
      "top": null,
      "visibility": null,
      "width": null
     }
    },
    "d81052a8fcbd4b0d9c2f999e8819c676": {
     "model_module": "@jupyter-widgets/controls",
     "model_name": "FloatProgressModel",
     "state": {
      "_dom_classes": [],
      "_model_module": "@jupyter-widgets/controls",
      "_model_module_version": "1.5.0",
      "_model_name": "FloatProgressModel",
      "_view_count": null,
      "_view_module": "@jupyter-widgets/controls",
      "_view_module_version": "1.5.0",
      "_view_name": "ProgressView",
      "bar_style": "success",
      "description": "",
      "description_tooltip": null,
      "layout": "IPY_MODEL_e1fa412f3b83433e872e619cdaf2fc51",
      "max": 1721,
      "min": 0,
      "orientation": "horizontal",
      "style": "IPY_MODEL_c720a880d9e24d31a8d7f3f8c326252a",
      "value": 1721
     }
    },
    "e1fa412f3b83433e872e619cdaf2fc51": {
     "model_module": "@jupyter-widgets/base",
     "model_name": "LayoutModel",
     "state": {
      "_model_module": "@jupyter-widgets/base",
      "_model_module_version": "1.2.0",
      "_model_name": "LayoutModel",
      "_view_count": null,
      "_view_module": "@jupyter-widgets/base",
      "_view_module_version": "1.2.0",
      "_view_name": "LayoutView",
      "align_content": null,
      "align_items": null,
      "align_self": null,
      "border": null,
      "bottom": null,
      "display": null,
      "flex": null,
      "flex_flow": null,
      "grid_area": null,
      "grid_auto_columns": null,
      "grid_auto_flow": null,
      "grid_auto_rows": null,
      "grid_column": null,
      "grid_gap": null,
      "grid_row": null,
      "grid_template_areas": null,
      "grid_template_columns": null,
      "grid_template_rows": null,
      "height": null,
      "justify_content": null,
      "justify_items": null,
      "left": null,
      "margin": null,
      "max_height": null,
      "max_width": null,
      "min_height": null,
      "min_width": null,
      "object_fit": null,
      "object_position": null,
      "order": null,
      "overflow": null,
      "overflow_x": null,
      "overflow_y": null,
      "padding": null,
      "right": null,
      "top": null,
      "visibility": null,
      "width": null
     }
    },
    "e6848159df574f03bce01306607ae5cc": {
     "model_module": "@jupyter-widgets/controls",
     "model_name": "DescriptionStyleModel",
     "state": {
      "_model_module": "@jupyter-widgets/controls",
      "_model_module_version": "1.5.0",
      "_model_name": "DescriptionStyleModel",
      "_view_count": null,
      "_view_module": "@jupyter-widgets/base",
      "_view_module_version": "1.2.0",
      "_view_name": "StyleView",
      "description_width": ""
     }
    },
    "edd9456f344b44dab1ab189764d83a37": {
     "model_module": "@jupyter-widgets/controls",
     "model_name": "DescriptionStyleModel",
     "state": {
      "_model_module": "@jupyter-widgets/controls",
      "_model_module_version": "1.5.0",
      "_model_name": "DescriptionStyleModel",
      "_view_count": null,
      "_view_module": "@jupyter-widgets/base",
      "_view_module_version": "1.2.0",
      "_view_name": "StyleView",
      "description_width": ""
     }
    },
    "f1a3091f5ff0491a84e95ed35dfe81e4": {
     "model_module": "@jupyter-widgets/controls",
     "model_name": "ProgressStyleModel",
     "state": {
      "_model_module": "@jupyter-widgets/controls",
      "_model_module_version": "1.5.0",
      "_model_name": "ProgressStyleModel",
      "_view_count": null,
      "_view_module": "@jupyter-widgets/base",
      "_view_module_version": "1.2.0",
      "_view_name": "StyleView",
      "bar_color": null,
      "description_width": "initial"
     }
    }
   }
  }
 },
 "nbformat": 4,
 "nbformat_minor": 1
}
